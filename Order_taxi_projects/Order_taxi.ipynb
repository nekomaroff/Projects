{
 "cells": [
  {
   "cell_type": "markdown",
   "metadata": {},
   "source": [
    "Привет, меня зовут Люман Аблаев. Сегодня я проверю твой проект.\n",
    "<br> Дальнейшее общение будет происходить на \"ты\" если это не вызывает никаких проблем.\n",
    "<br> Желательно реагировать на каждый мой комментарий ('исправил', 'не понятно как исправить ошибку', ...)\n",
    "<br> Пожалуйста, не удаляй комментарии ревьюера, так как они повышают качество повторного ревью.\n",
    "\n",
    "Комментарии будут в <font color='green'>зеленой</font>, <font color='blue'>синей</font> или <font color='red'>красной</font> рамках:\n",
    "\n",
    "<div class=\"alert alert-block alert-success\">\n",
    "<b>Успех:</b> Если все сделано отлично\n",
    "</div>\n",
    "\n",
    "<div class=\"alert alert-block alert-info\">\n",
    "<b>Совет: </b> Если можно немного улучшить\n",
    "</div>\n",
    "\n",
    "<div class=\"alert alert-block alert-danger\">\n",
    "<b>Ошибка:</b> Если требуются исправления. Работа не может быть принята с красными комментариями.\n",
    "</div>\n",
    "\n",
    "-------------------\n",
    "\n",
    "Будет очень хорошо, если ты будешь помечать свои действия следующим образом:\n",
    "<div class=\"alert alert-block alert-warning\">\n",
    "<b>Комментарий студента:</b> ..\n",
    "</div>\n",
    "<div class=\"alert alert-block alert-warning\">\n",
    "<b>Изменения:</b> Были внесены следующие изменения ...\n",
    "</div>\n",
    "\n",
    "<font color='orange' style='font-size:24px; font-weight:bold'>Полезные ссылки:</font>\n",
    "* Полезная лекция про временные ряды: https://www.youtube.com/watch?v=u433nrxdf5k .\n",
    "\n",
    "<font color='orange' style='font-size:24px; font-weight:bold'>Общее впечатление</font>\n",
    "* Большое спасибо за проделанную работу. Видно, что приложено много усилий.\n",
    "- Приятное оформление выводов и структурированность кода в целом!  Приятно проверять такие работы.\n",
    "* Над этим проектом нужно будет еще немного поработать. Однако, изменения не должны занять много времени.\n",
    "* В работе я оставил несколько советов. Буду рад, если ты учтешь их.\n",
    "- Жду твой обновленный проект =)\n"
   ]
  },
  {
   "cell_type": "markdown",
   "metadata": {},
   "source": [
    "<font color='orange' style='font-size:24px; font-weight:bold'>Общее впечатление[2]</font>\n",
    "- Спасибо за твою оперативность!\n",
    "- Многие замечания учтены, теперь работа на должном уровне. (но есть важные моменты, которые желательно улучшить)\n",
    "- Было приятно проверять твою работу. Удачи в продолжении обучения!\n"
   ]
  },
  {
   "cell_type": "markdown",
   "metadata": {
    "toc": true
   },
   "source": [
    "<h1>Содержание<span class=\"tocSkip\"></span></h1>\n",
    "<div class=\"toc\"><ul class=\"toc-item\"><li><span><a href=\"#Подготовка\" data-toc-modified-id=\"Подготовка-1\"><span class=\"toc-item-num\">1&nbsp;&nbsp;</span>Подготовка</a></span></li><li><span><a href=\"#Анализ\" data-toc-modified-id=\"Анализ-2\"><span class=\"toc-item-num\">2&nbsp;&nbsp;</span>Анализ</a></span></li><li><span><a href=\"#Обучение\" data-toc-modified-id=\"Обучение-3\"><span class=\"toc-item-num\">3&nbsp;&nbsp;</span>Обучение</a></span></li><li><span><a href=\"#Тестирование\" data-toc-modified-id=\"Тестирование-4\"><span class=\"toc-item-num\">4&nbsp;&nbsp;</span>Тестирование</a></span></li><li><span><a href=\"#Вывод\" data-toc-modified-id=\"Вывод-5\"><span class=\"toc-item-num\">5&nbsp;&nbsp;</span>Вывод</a></span></li><li><span><a href=\"#Чек-лист-проверки\" data-toc-modified-id=\"Чек-лист-проверки-6\"><span class=\"toc-item-num\">6&nbsp;&nbsp;</span>Чек-лист проверки</a></span></li></ul></div>"
   ]
  },
  {
   "cell_type": "markdown",
   "metadata": {},
   "source": [
    "#  Прогнозирование заказов такси"
   ]
  },
  {
   "cell_type": "markdown",
   "metadata": {},
   "source": [
    "Компания «Чётенькое такси» собрала исторические данные о заказах такси в аэропортах. Чтобы привлекать больше водителей в период пиковой нагрузки, нужно спрогнозировать количество заказов такси на следующий час. Постройте модель для такого предсказания.\n",
    "\n",
    "Значение метрики *RMSE* на тестовой выборке должно быть не больше 48.\n",
    "\n",
    "Вам нужно:\n",
    "\n",
    "1. Загрузить данные и выполнить их ресемплирование по одному часу.\n",
    "2. Проанализировать данные.\n",
    "3. Обучить разные модели с различными гиперпараметрами. Сделать тестовую выборку размером 10% от исходных данных.\n",
    "4. Проверить данные на тестовой выборке и сделать выводы.\n",
    "\n",
    "\n",
    "Данные лежат в файле `taxi.csv`. Количество заказов находится в столбце `num_orders` (от англ. *number of orders*, «число заказов»)."
   ]
  },
  {
   "cell_type": "markdown",
   "metadata": {},
   "source": [
    "**План:**\n",
    "- загрузим данные\n",
    "- проанализируем их\n",
    "- обучим модели\n",
    "- подберем лучшие гиперпараметры\n",
    "- проверим результаты на тестовой выборке\n",
    "- сделаем вывод"
   ]
  },
  {
   "cell_type": "code",
   "execution_count": 1,
   "metadata": {},
   "outputs": [],
   "source": [
    "# импорт всех библиотек и метрик \n",
    "import pandas as pd\n",
    "import numpy as np\n",
    "import matplotlib.pyplot as plt\n",
    "import seaborn as sns\n",
    "from IPython.display import display\n",
    "from statsmodels.tsa.seasonal import seasonal_decompose\n",
    "from sklearn.model_selection import train_test_split, cross_val_score, GridSearchCV\n",
    "from sklearn.linear_model import LinearRegression, ElasticNet, Ridge, Lasso\n",
    "from sklearn.metrics import mean_squared_error\n",
    "import warnings"
   ]
  },
  {
   "cell_type": "markdown",
   "metadata": {},
   "source": [
    "\n",
    "<div class=\"alert alert-block alert-success\">\n",
    "<b>Успех:</b> Импорты  на месте\n",
    "</div>\n"
   ]
  },
  {
   "cell_type": "markdown",
   "metadata": {},
   "source": [
    "## Подготовка"
   ]
  },
  {
   "cell_type": "code",
   "execution_count": 2,
   "metadata": {},
   "outputs": [
    {
     "data": {
      "text/html": [
       "<div>\n",
       "<style scoped>\n",
       "    .dataframe tbody tr th:only-of-type {\n",
       "        vertical-align: middle;\n",
       "    }\n",
       "\n",
       "    .dataframe tbody tr th {\n",
       "        vertical-align: top;\n",
       "    }\n",
       "\n",
       "    .dataframe thead th {\n",
       "        text-align: right;\n",
       "    }\n",
       "</style>\n",
       "<table border=\"1\" class=\"dataframe\">\n",
       "  <thead>\n",
       "    <tr style=\"text-align: right;\">\n",
       "      <th></th>\n",
       "      <th>num_orders</th>\n",
       "    </tr>\n",
       "    <tr>\n",
       "      <th>datetime</th>\n",
       "      <th></th>\n",
       "    </tr>\n",
       "  </thead>\n",
       "  <tbody>\n",
       "    <tr>\n",
       "      <th>2018-03-01 00:00:00</th>\n",
       "      <td>9</td>\n",
       "    </tr>\n",
       "    <tr>\n",
       "      <th>2018-03-01 00:10:00</th>\n",
       "      <td>14</td>\n",
       "    </tr>\n",
       "    <tr>\n",
       "      <th>2018-03-01 00:20:00</th>\n",
       "      <td>28</td>\n",
       "    </tr>\n",
       "    <tr>\n",
       "      <th>2018-03-01 00:30:00</th>\n",
       "      <td>20</td>\n",
       "    </tr>\n",
       "    <tr>\n",
       "      <th>2018-03-01 00:40:00</th>\n",
       "      <td>32</td>\n",
       "    </tr>\n",
       "  </tbody>\n",
       "</table>\n",
       "</div>"
      ],
      "text/plain": [
       "                     num_orders\n",
       "datetime                       \n",
       "2018-03-01 00:00:00           9\n",
       "2018-03-01 00:10:00          14\n",
       "2018-03-01 00:20:00          28\n",
       "2018-03-01 00:30:00          20\n",
       "2018-03-01 00:40:00          32"
      ]
     },
     "metadata": {},
     "output_type": "display_data"
    },
    {
     "name": "stdout",
     "output_type": "stream",
     "text": [
      "<class 'pandas.core.frame.DataFrame'>\n",
      "DatetimeIndex: 26496 entries, 2018-03-01 00:00:00 to 2018-08-31 23:50:00\n",
      "Data columns (total 1 columns):\n",
      " #   Column      Non-Null Count  Dtype\n",
      "---  ------      --------------  -----\n",
      " 0   num_orders  26496 non-null  int64\n",
      "dtypes: int64(1)\n",
      "memory usage: 414.0 KB\n",
      "None\n",
      "(26496, 1)\n"
     ]
    }
   ],
   "source": [
    "taxi = pd.read_csv('/datasets/taxi.csv', parse_dates=[0], index_col = 'datetime')\n",
    "display(taxi.head())\n",
    "print(taxi.info())\n",
    "taxi_shape = taxi.shape\n",
    "print(taxi_shape)"
   ]
  },
  {
   "cell_type": "markdown",
   "metadata": {},
   "source": [
    "\n",
    "\n",
    "<div class=\"alert alert-block alert-success\">\n",
    "<b>Успех:</b> Отлично, что использолованы параметры index_col и parse_dates\n",
    "</div>\n"
   ]
  },
  {
   "cell_type": "markdown",
   "metadata": {},
   "source": [
    "*Данные просмотрели. Работа предстоит с датафреймом в 26496 строк, а данные как мы видим собраны в интервале с 1 марта по 31 августа 2018 года. Чуть позже мы в этом окончательно убедимся, а пока выполним ресемплирование данных по одному часу*"
   ]
  },
  {
   "cell_type": "code",
   "execution_count": 3,
   "metadata": {},
   "outputs": [],
   "source": [
    "taxi.sort_index(inplace=True)\n",
    "taxi = taxi.resample('1H').sum()"
   ]
  },
  {
   "cell_type": "code",
   "execution_count": 4,
   "metadata": {
    "scrolled": true
   },
   "outputs": [
    {
     "name": "stdout",
     "output_type": "stream",
     "text": [
      "183 days 23:00:00\n",
      "2018-08-31 23:00:00    2018-03-01 00:00:00\n"
     ]
    }
   ],
   "source": [
    "print(taxi.index.max() - taxi.index.min())\n",
    "print(taxi.index.max(), taxi.index.min(), sep='    ')"
   ]
  },
  {
   "cell_type": "markdown",
   "metadata": {},
   "source": [
    "*Как и было подмечено ранее, интервал с начала весны по конец лета, целых 184 часа!*"
   ]
  },
  {
   "cell_type": "markdown",
   "metadata": {},
   "source": [
    "\n",
    "<div class=\"alert alert-block alert-success\">\n",
    "<b>Успех:</b> Первичный осмотр проведен, ресемпилнг был сделан верно.\n",
    "</div>\n",
    "\n",
    "\n"
   ]
  },
  {
   "cell_type": "markdown",
   "metadata": {},
   "source": [
    "## Анализ"
   ]
  },
  {
   "cell_type": "code",
   "execution_count": 5,
   "metadata": {},
   "outputs": [
    {
     "data": {
      "image/png": "[encoded data removed]",
      "text/plain": [
       "<Figure size 720x1080 with 3 Axes>"
      ]
     },
     "metadata": {
      "needs_background": "light"
     },
     "output_type": "display_data"
    }
   ],
   "source": [
    "# посмотрим на графики тренда, сезонности и остатка\n",
    "decomposed = seasonal_decompose(taxi)\n",
    "\n",
    "plt.figure(figsize=(10, 15))\n",
    "\n",
    "plt.subplot(311)\n",
    "decomposed.trend.plot(ax=plt.gca())\n",
    "plt.title('Trend')\n",
    "\n",
    "plt.subplot(312)\n",
    "decomposed.seasonal.plot(ax=plt.gca()) \n",
    "plt.title('Seasonality')\n",
    "\n",
    "plt.subplot(313)\n",
    "decomposed.resid.plot(ax=plt.gca()) \n",
    "plt.title('Residuals')\n",
    "plt.tight_layout()"
   ]
  },
  {
   "cell_type": "markdown",
   "metadata": {},
   "source": [
    "*По первому графику наблюдаем увеличение тренда в сторону последних месяцев лета. Тренд с ускорением. Оно и логично, июль и август самые частые месяцы для отпуска, а следовательно и заказов такси в аэропорт возрастает. Для более детального анализа рассмотрим чуть позже тренд относительно другого промежутка времени*\n",
    "\n",
    "*По сезонности сказать из этого графика ничего нельзя, надо брать интервал поменьше*\n",
    "\n",
    "*По графику остатков наблюдаем шум в районе августа (объясняется как раз тем, о чем я сказал ранее, что август - один из самых частых месяцев для отпусков), а так же видим небольшой шум по другим месяцам - скорее всего праздники или выходные. В остальном значение держит планку среднего*"
   ]
  },
  {
   "cell_type": "code",
   "execution_count": 6,
   "metadata": {
    "scrolled": false
   },
   "outputs": [
    {
     "data": {
      "text/plain": [
       "Text(0.5, 1.0, 'Trend_of_august')"
      ]
     },
     "execution_count": 6,
     "metadata": {},
     "output_type": "execute_result"
    },
    {
     "data": {
      "image/png": "[encoded data removed]",
      "text/plain": [
       "<Figure size 720x1080 with 1 Axes>"
      ]
     },
     "metadata": {
      "needs_background": "light"
     },
     "output_type": "display_data"
    },
    {
     "data": {
      "image/png": "[encoded data removed]",
      "text/plain": [
       "<Figure size 720x1080 with 1 Axes>"
      ]
     },
     "metadata": {
      "needs_background": "light"
     },
     "output_type": "display_data"
    }
   ],
   "source": [
    "# посмотрим на тренд на протяжении всего лета, а так же в самом пиковом месяце - августе\n",
    "plt.figure(figsize=(10, 15))\n",
    "decomposed_june_august = seasonal_decompose(taxi['2018-06-01':'2018-08-31'])\n",
    "plt.subplot(312)\n",
    "decomposed_june_august.trend.plot(ax=plt.gca()) \n",
    "plt.title('Trend_june_august')\n",
    "\n",
    "plt.figure(figsize=(10, 15))\n",
    "decomposed_august_1 = seasonal_decompose(taxi['2018-08-01':'2018-08-31'])\n",
    "plt.subplot(312)\n",
    "decomposed_august_1.trend.plot(ax=plt.gca()) \n",
    "plt.title('Trend_of_august')"
   ]
  },
  {
   "cell_type": "markdown",
   "metadata": {},
   "source": [
    "*Как можно увидеть, число заказов с начала лета и до конца растет, что говорит об августе как о самом пиковом в заказах месяце. В сам август число заказов так же растет с каждым днем*"
   ]
  },
  {
   "cell_type": "code",
   "execution_count": 7,
   "metadata": {
    "scrolled": false
   },
   "outputs": [
    {
     "data": {
      "text/plain": [
       "Text(0.5, 1.0, 'Seasonality_week')"
      ]
     },
     "execution_count": 7,
     "metadata": {},
     "output_type": "execute_result"
    },
    {
     "data": {
      "image/png": "[encoded data removed]",
      "text/plain": [
       "<Figure size 720x1080 with 1 Axes>"
      ]
     },
     "metadata": {
      "needs_background": "light"
     },
     "output_type": "display_data"
    },
    {
     "data": {
      "image/png": "[encoded data removed]",
      "text/plain": [
       "<Figure size 720x1080 with 1 Axes>"
      ]
     },
     "metadata": {
      "needs_background": "light"
     },
     "output_type": "display_data"
    },
    {
     "data": {
      "image/png": "[encoded data removed]",
      "text/plain": [
       "<Figure size 1080x1440 with 1 Axes>"
      ]
     },
     "metadata": {
      "needs_background": "light"
     },
     "output_type": "display_data"
    }
   ],
   "source": [
    "# посмотрим на графики сезонности в марте и в августе \n",
    "\n",
    "plt.figure(figsize=(10, 15))\n",
    "decomposed_march = seasonal_decompose(taxi['2018-03-01':'2018-03-31'])\n",
    "plt.subplot(312)\n",
    "decomposed_march.seasonal.plot(ax=plt.gca()) \n",
    "plt.title('Seasonality_of_march')\n",
    "\n",
    "plt.figure(figsize=(10, 15))\n",
    "decomposed_august_2 = seasonal_decompose(taxi['2018-08-01':'2018-08-31'])\n",
    "plt.subplot(312)\n",
    "decomposed_august_2.seasonal.plot(ax=plt.gca()) \n",
    "plt.title('Seasonality_of_august')\n",
    "\n",
    "# посмотрим сезонность по неделям\n",
    "plt.figure(figsize=(15, 20))\n",
    "taxi_seasonal_week = taxi.resample('1D').mean()\n",
    "decomposed_all = seasonal_decompose(taxi_seasonal_week['2018-03-05':'2018-03-19'])\n",
    "plt.subplot(312)\n",
    "decomposed_all.seasonal.plot(ax=plt.gca()) \n",
    "plt.title('Seasonality_week')"
   ]
  },
  {
   "cell_type": "markdown",
   "metadata": {},
   "source": [
    "*Сезонность объясняется временем: ночью заказов меньше, днем и вечером - больше.*\n",
    "\n",
    "*Что касается недельной сезонности: я рассмотрел график с 5 по 19 марта (с 5, потому что это понедельник и так удобней рассматривать). Могу смело сказать, что в понедельник - самое большое число заказов. Далее оно падает и к среде доходит до минимума. После резкий рост приходится на четверг, а далее опять спад, достигающий своего минимума в субботу. В воскресенье опять скачок.*\n",
    "\n"
   ]
  },
  {
   "cell_type": "markdown",
   "metadata": {},
   "source": [
    "\n",
    "<div class=\"alert alert-block alert-danger\">\n",
    "  \n",
    "<b>Ошибка:</b>\n",
    "\n",
    "Здесь важно дополнить вывод по аналитике: тренд постоянный, с ускорением? Растет число заказов по август? а в августе как обстоят дела?\n",
    "    \n",
    "    \n",
    "Важно также изучить недельную сезонность. Удобнее всего ее увидеть, если сделать дополнительное ресемплирование (сохраняем в другую переменную, так как дальше в проекте будем работать с ресемплированием по часам и важно его не потерять) по дням. И также берем несколько недель.\n",
    "\n",
    "\n",
    "По «остаткам» или шуму. Нужно посмотреть, на всем ли протяжении доля остатков одинаковая? Если если «остатков» к концу графика больше, значит в тестовую выборку попадет чуть больше данных, которые сложно объяснить и на которых модели будет сложнее предсказывать. Поэтому относительно большая (по сравнению с другими задачами машинного обучения) разница между метриками при обучении и исследовании, и между тестовой выборкой, не обязательно будет объясняться только переобучением модели.\n",
    "\n",
    "       \n",
    "</div>\n",
    "\n",
    "<div class=\"alert alert-block alert-info\">\n",
    "    \n",
    "<b>Совет:</b> Дополнительно  полезно оценивать стационарность ряда с помощью теста Дики-Фуллера: в реальных задачах с временными рядами, в особенности - с финансовыми данными или биржевыми котировками, график не всегда поможет достоверно оценить стационарность ряда, поэтому для оценки стационарности ряда лучше использовать тест Дики — Фуллера (подробнее о нём можно глянуть тут: https://www.statsmodels.org/dev/generated/statsmodels.tsa.stattools.adfuller.html, а вот тут можно глянуть пример реализации: https://www.helenkapatsa.ru/tiest-diki-fulliera/) - он даст наиболее точный результат. Результат нужно проверить на уровнях значимости 1% и 5%, чтобы быть уверенным в выводах. Не забудь при применении теста сформулировать гипотезы - нулевая формулируется как гипотеза о нестацинарности ряда, а альтернативная - как гипотеза о стационарности ряда. Также при проведении теста не забывай, что мы сравниваем `p-value` с уровнем значимости `alpha`.\n",
    "</div>\n",
    "\n",
    "\n"
   ]
  },
  {
   "cell_type": "markdown",
   "metadata": {},
   "source": [
    "<div class=\"alert alert-block alert-warning\">\n",
    "<b>Изменения:</b> Добавил анализ по августу а так же сезонность по дням неделям. На счет шума не до конца понял, я же вроде выделил тот факт, что в августе их намного больше\n",
    "</div>"
   ]
  },
  {
   "cell_type": "markdown",
   "metadata": {},
   "source": [
    "\n",
    "<div class=\"alert alert-block alert-success\">\n",
    "<b>Успех[2]:</b> По шуму  есть информация, но что она может для нас значить - не сильно на этом акцентировал внимание, хотя наблюдение важное.\n",
    "</div>"
   ]
  },
  {
   "cell_type": "markdown",
   "metadata": {},
   "source": [
    "## Обучение"
   ]
  },
  {
   "cell_type": "code",
   "execution_count": 8,
   "metadata": {},
   "outputs": [
    {
     "name": "stdout",
     "output_type": "stream",
     "text": [
      "(3532, 1) (884, 1)\n"
     ]
    }
   ],
   "source": [
    "# разобьем данные на выборки: тренировочную и тестовую в отношении 4:1\n",
    "train, test = train_test_split(taxi, shuffle = False, test_size = 0.2)\n",
    "\n",
    "print(train.shape, test.shape)"
   ]
  },
  {
   "cell_type": "code",
   "execution_count": 9,
   "metadata": {},
   "outputs": [
    {
     "name": "stdout",
     "output_type": "stream",
     "text": [
      "53.36807644753937\n"
     ]
    }
   ],
   "source": [
    "pred_previous = test.shift()\n",
    "pred_previous.iloc[0] = train.iloc[-1]\n",
    "rmse = mean_squared_error(test, pred_previous, squared = False)\n",
    "print(rmse)"
   ]
  },
  {
   "cell_type": "markdown",
   "metadata": {},
   "source": [
    "*Для начала неплохо, но нужно привести к значению меньше 48*"
   ]
  },
  {
   "cell_type": "code",
   "execution_count": 10,
   "metadata": {},
   "outputs": [],
   "source": [
    "# теперь напишем функцию для создания обучающих признаков\n",
    "def make_features(data, max_lag, rolling_mean_size):\n",
    "    data['hour'] = data.index.hour\n",
    "    data['day_of_week'] = data.index.dayofweek\n",
    "    \n",
    "    for lag in range(1, max_lag + 1):\n",
    "        data['lag_{}'.format(lag)] = data['num_orders'].shift(lag)\n",
    "\n",
    "    data['rolling_mean'] = data['num_orders'].shift().rolling(rolling_mean_size).mean()\n",
    "    return data"
   ]
  },
  {
   "cell_type": "markdown",
   "metadata": {},
   "source": [
    "<div class=\"alert alert-block alert-danger\">\n",
    "<b>Ошибка:</b> Наши календарные признаки подчеркивают сезонность. Относительно сезонности признаки идут на один уровень ниже. Если у нас суточная сезонность, то логично создавать признак часа (час одного дня похож на тот же час другого), если недельная - день недели.\n",
    "    \n",
    "Поэтому фактор месяц нам не сильно подходит: у нас в истории всего один март, май.... Да и горизонт прогноза - часы. \n",
    "    \n",
    "\n",
    "А фактор час был бы уместен\n",
    "\n",
    "\n",
    "</div>      "
   ]
  },
  {
   "cell_type": "markdown",
   "metadata": {},
   "source": [
    "<div class=\"alert alert-block alert-warning\">\n",
    "<b>Изменения:</b> добавил столбец часа вместо месяца\n",
    "</div>"
   ]
  },
  {
   "cell_type": "markdown",
   "metadata": {},
   "source": [
    "\n",
    "<div class=\"alert alert-block alert-success\">\n",
    "<b>Успех[2]:</b> Есть\n",
    "</div>"
   ]
  },
  {
   "cell_type": "markdown",
   "metadata": {},
   "source": [
    "<div class=\"alert alert-info\">\n",
    "<b>Совет:</b>\n",
    "Организация работы функции таким образом, чтобы она работала с глобальной переменной - не самая хорошая практика: если что-то пойдёт не так, придётся заново запускать весь процесс предобработки данных. \n",
    "        \n",
    "Лучше организовывать функцию так, чтобы она принимала на вход набор данных и возвращала результат работы, чтобы его можно было сохранить в новой переменной. Концепт:\n",
    "        \n",
    "    def foo(df):\n",
    "        df.dropna(inplace=True)\n",
    "    \n",
    "    foo(df)\n",
    "        \n",
    "В этом случае изменения необратимы, так как мы модифицировали глобальную переменную `df` - эту переменную придётся загружать в память заново и заново её обрабатывать.\n",
    "        \n",
    "\n",
    "    def foo(df):\n",
    "        return df.dropna()\n",
    "    \n",
    "    foo(df)\n",
    "        \n",
    "        \n",
    "Изменения будут необратимы и в таком случае, даже несмотря на на наличие `return`: несмотря на то, что работаем мы с локальной переменной, функция всё равно работает с объектом в памяти, связанным с глобальной переменной, пусть и через алиас.\n",
    "        \n",
    "    def foo(df):\n",
    "        df_foo = df.copy()\n",
    "        return df_foo.dropna()\n",
    "    \n",
    "    df_new = foo(df)\n",
    "        \n",
    "Здесь внутри функции исходный объект копируется, и работа уже происходит с новым объектом. В этом случае результат работы функции с исходными данными мы складываем в новую переменную - таким образом исходная глобальная переменная не подвергается вмешательству и сохранятся на случай, если функция сработала неправильно.\n",
    "        \n",
    "</div>\n",
    "\n"
   ]
  },
  {
   "cell_type": "code",
   "execution_count": 11,
   "metadata": {},
   "outputs": [
    {
     "data": {
      "text/html": [
       "<div>\n",
       "<style scoped>\n",
       "    .dataframe tbody tr th:only-of-type {\n",
       "        vertical-align: middle;\n",
       "    }\n",
       "\n",
       "    .dataframe tbody tr th {\n",
       "        vertical-align: top;\n",
       "    }\n",
       "\n",
       "    .dataframe thead th {\n",
       "        text-align: right;\n",
       "    }\n",
       "</style>\n",
       "<table border=\"1\" class=\"dataframe\">\n",
       "  <thead>\n",
       "    <tr style=\"text-align: right;\">\n",
       "      <th></th>\n",
       "      <th>num_orders</th>\n",
       "      <th>hour</th>\n",
       "      <th>day_of_week</th>\n",
       "      <th>lag_1</th>\n",
       "      <th>lag_2</th>\n",
       "      <th>lag_3</th>\n",
       "      <th>lag_4</th>\n",
       "      <th>lag_5</th>\n",
       "      <th>lag_6</th>\n",
       "      <th>lag_7</th>\n",
       "      <th>...</th>\n",
       "      <th>lag_17</th>\n",
       "      <th>lag_18</th>\n",
       "      <th>lag_19</th>\n",
       "      <th>lag_20</th>\n",
       "      <th>lag_21</th>\n",
       "      <th>lag_22</th>\n",
       "      <th>lag_23</th>\n",
       "      <th>lag_24</th>\n",
       "      <th>lag_25</th>\n",
       "      <th>rolling_mean</th>\n",
       "    </tr>\n",
       "    <tr>\n",
       "      <th>datetime</th>\n",
       "      <th></th>\n",
       "      <th></th>\n",
       "      <th></th>\n",
       "      <th></th>\n",
       "      <th></th>\n",
       "      <th></th>\n",
       "      <th></th>\n",
       "      <th></th>\n",
       "      <th></th>\n",
       "      <th></th>\n",
       "      <th></th>\n",
       "      <th></th>\n",
       "      <th></th>\n",
       "      <th></th>\n",
       "      <th></th>\n",
       "      <th></th>\n",
       "      <th></th>\n",
       "      <th></th>\n",
       "      <th></th>\n",
       "      <th></th>\n",
       "      <th></th>\n",
       "    </tr>\n",
       "  </thead>\n",
       "  <tbody>\n",
       "    <tr>\n",
       "      <th>2018-03-01 00:00:00</th>\n",
       "      <td>124</td>\n",
       "      <td>0</td>\n",
       "      <td>3</td>\n",
       "      <td>NaN</td>\n",
       "      <td>NaN</td>\n",
       "      <td>NaN</td>\n",
       "      <td>NaN</td>\n",
       "      <td>NaN</td>\n",
       "      <td>NaN</td>\n",
       "      <td>NaN</td>\n",
       "      <td>...</td>\n",
       "      <td>NaN</td>\n",
       "      <td>NaN</td>\n",
       "      <td>NaN</td>\n",
       "      <td>NaN</td>\n",
       "      <td>NaN</td>\n",
       "      <td>NaN</td>\n",
       "      <td>NaN</td>\n",
       "      <td>NaN</td>\n",
       "      <td>NaN</td>\n",
       "      <td>NaN</td>\n",
       "    </tr>\n",
       "    <tr>\n",
       "      <th>2018-03-01 01:00:00</th>\n",
       "      <td>85</td>\n",
       "      <td>1</td>\n",
       "      <td>3</td>\n",
       "      <td>124.0</td>\n",
       "      <td>NaN</td>\n",
       "      <td>NaN</td>\n",
       "      <td>NaN</td>\n",
       "      <td>NaN</td>\n",
       "      <td>NaN</td>\n",
       "      <td>NaN</td>\n",
       "      <td>...</td>\n",
       "      <td>NaN</td>\n",
       "      <td>NaN</td>\n",
       "      <td>NaN</td>\n",
       "      <td>NaN</td>\n",
       "      <td>NaN</td>\n",
       "      <td>NaN</td>\n",
       "      <td>NaN</td>\n",
       "      <td>NaN</td>\n",
       "      <td>NaN</td>\n",
       "      <td>NaN</td>\n",
       "    </tr>\n",
       "    <tr>\n",
       "      <th>2018-03-01 02:00:00</th>\n",
       "      <td>71</td>\n",
       "      <td>2</td>\n",
       "      <td>3</td>\n",
       "      <td>85.0</td>\n",
       "      <td>124.0</td>\n",
       "      <td>NaN</td>\n",
       "      <td>NaN</td>\n",
       "      <td>NaN</td>\n",
       "      <td>NaN</td>\n",
       "      <td>NaN</td>\n",
       "      <td>...</td>\n",
       "      <td>NaN</td>\n",
       "      <td>NaN</td>\n",
       "      <td>NaN</td>\n",
       "      <td>NaN</td>\n",
       "      <td>NaN</td>\n",
       "      <td>NaN</td>\n",
       "      <td>NaN</td>\n",
       "      <td>NaN</td>\n",
       "      <td>NaN</td>\n",
       "      <td>NaN</td>\n",
       "    </tr>\n",
       "    <tr>\n",
       "      <th>2018-03-01 03:00:00</th>\n",
       "      <td>66</td>\n",
       "      <td>3</td>\n",
       "      <td>3</td>\n",
       "      <td>71.0</td>\n",
       "      <td>85.0</td>\n",
       "      <td>124.0</td>\n",
       "      <td>NaN</td>\n",
       "      <td>NaN</td>\n",
       "      <td>NaN</td>\n",
       "      <td>NaN</td>\n",
       "      <td>...</td>\n",
       "      <td>NaN</td>\n",
       "      <td>NaN</td>\n",
       "      <td>NaN</td>\n",
       "      <td>NaN</td>\n",
       "      <td>NaN</td>\n",
       "      <td>NaN</td>\n",
       "      <td>NaN</td>\n",
       "      <td>NaN</td>\n",
       "      <td>NaN</td>\n",
       "      <td>NaN</td>\n",
       "    </tr>\n",
       "    <tr>\n",
       "      <th>2018-03-01 04:00:00</th>\n",
       "      <td>43</td>\n",
       "      <td>4</td>\n",
       "      <td>3</td>\n",
       "      <td>66.0</td>\n",
       "      <td>71.0</td>\n",
       "      <td>85.0</td>\n",
       "      <td>124.0</td>\n",
       "      <td>NaN</td>\n",
       "      <td>NaN</td>\n",
       "      <td>NaN</td>\n",
       "      <td>...</td>\n",
       "      <td>NaN</td>\n",
       "      <td>NaN</td>\n",
       "      <td>NaN</td>\n",
       "      <td>NaN</td>\n",
       "      <td>NaN</td>\n",
       "      <td>NaN</td>\n",
       "      <td>NaN</td>\n",
       "      <td>NaN</td>\n",
       "      <td>NaN</td>\n",
       "      <td>NaN</td>\n",
       "    </tr>\n",
       "  </tbody>\n",
       "</table>\n",
       "<p>5 rows × 29 columns</p>\n",
       "</div>"
      ],
      "text/plain": [
       "                     num_orders  hour  day_of_week  lag_1  lag_2  lag_3  \\\n",
       "datetime                                                                  \n",
       "2018-03-01 00:00:00         124     0            3    NaN    NaN    NaN   \n",
       "2018-03-01 01:00:00          85     1            3  124.0    NaN    NaN   \n",
       "2018-03-01 02:00:00          71     2            3   85.0  124.0    NaN   \n",
       "2018-03-01 03:00:00          66     3            3   71.0   85.0  124.0   \n",
       "2018-03-01 04:00:00          43     4            3   66.0   71.0   85.0   \n",
       "\n",
       "                     lag_4  lag_5  lag_6  lag_7  ...  lag_17  lag_18  lag_19  \\\n",
       "datetime                                         ...                           \n",
       "2018-03-01 00:00:00    NaN    NaN    NaN    NaN  ...     NaN     NaN     NaN   \n",
       "2018-03-01 01:00:00    NaN    NaN    NaN    NaN  ...     NaN     NaN     NaN   \n",
       "2018-03-01 02:00:00    NaN    NaN    NaN    NaN  ...     NaN     NaN     NaN   \n",
       "2018-03-01 03:00:00    NaN    NaN    NaN    NaN  ...     NaN     NaN     NaN   \n",
       "2018-03-01 04:00:00  124.0    NaN    NaN    NaN  ...     NaN     NaN     NaN   \n",
       "\n",
       "                     lag_20  lag_21  lag_22  lag_23  lag_24  lag_25  \\\n",
       "datetime                                                              \n",
       "2018-03-01 00:00:00     NaN     NaN     NaN     NaN     NaN     NaN   \n",
       "2018-03-01 01:00:00     NaN     NaN     NaN     NaN     NaN     NaN   \n",
       "2018-03-01 02:00:00     NaN     NaN     NaN     NaN     NaN     NaN   \n",
       "2018-03-01 03:00:00     NaN     NaN     NaN     NaN     NaN     NaN   \n",
       "2018-03-01 04:00:00     NaN     NaN     NaN     NaN     NaN     NaN   \n",
       "\n",
       "                     rolling_mean  \n",
       "datetime                           \n",
       "2018-03-01 00:00:00           NaN  \n",
       "2018-03-01 01:00:00           NaN  \n",
       "2018-03-01 02:00:00           NaN  \n",
       "2018-03-01 03:00:00           NaN  \n",
       "2018-03-01 04:00:00           NaN  \n",
       "\n",
       "[5 rows x 29 columns]"
      ]
     },
     "metadata": {},
     "output_type": "display_data"
    }
   ],
   "source": [
    "taxi = make_features(taxi, 25, 50)\n",
    "display(taxi.head())"
   ]
  },
  {
   "cell_type": "code",
   "execution_count": 12,
   "metadata": {
    "scrolled": true
   },
   "outputs": [
    {
     "data": {
      "text/html": [
       "<div>\n",
       "<style scoped>\n",
       "    .dataframe tbody tr th:only-of-type {\n",
       "        vertical-align: middle;\n",
       "    }\n",
       "\n",
       "    .dataframe tbody tr th {\n",
       "        vertical-align: top;\n",
       "    }\n",
       "\n",
       "    .dataframe thead th {\n",
       "        text-align: right;\n",
       "    }\n",
       "</style>\n",
       "<table border=\"1\" class=\"dataframe\">\n",
       "  <thead>\n",
       "    <tr style=\"text-align: right;\">\n",
       "      <th></th>\n",
       "      <th>num_orders</th>\n",
       "      <th>hour</th>\n",
       "      <th>day_of_week</th>\n",
       "      <th>lag_1</th>\n",
       "      <th>lag_2</th>\n",
       "      <th>lag_3</th>\n",
       "      <th>lag_4</th>\n",
       "      <th>lag_5</th>\n",
       "      <th>lag_6</th>\n",
       "      <th>lag_7</th>\n",
       "      <th>...</th>\n",
       "      <th>lag_17</th>\n",
       "      <th>lag_18</th>\n",
       "      <th>lag_19</th>\n",
       "      <th>lag_20</th>\n",
       "      <th>lag_21</th>\n",
       "      <th>lag_22</th>\n",
       "      <th>lag_23</th>\n",
       "      <th>lag_24</th>\n",
       "      <th>lag_25</th>\n",
       "      <th>rolling_mean</th>\n",
       "    </tr>\n",
       "    <tr>\n",
       "      <th>datetime</th>\n",
       "      <th></th>\n",
       "      <th></th>\n",
       "      <th></th>\n",
       "      <th></th>\n",
       "      <th></th>\n",
       "      <th></th>\n",
       "      <th></th>\n",
       "      <th></th>\n",
       "      <th></th>\n",
       "      <th></th>\n",
       "      <th></th>\n",
       "      <th></th>\n",
       "      <th></th>\n",
       "      <th></th>\n",
       "      <th></th>\n",
       "      <th></th>\n",
       "      <th></th>\n",
       "      <th></th>\n",
       "      <th></th>\n",
       "      <th></th>\n",
       "      <th></th>\n",
       "    </tr>\n",
       "  </thead>\n",
       "  <tbody>\n",
       "    <tr>\n",
       "      <th>2018-03-03 02:00:00</th>\n",
       "      <td>25</td>\n",
       "      <td>2</td>\n",
       "      <td>5</td>\n",
       "      <td>108.0</td>\n",
       "      <td>163.0</td>\n",
       "      <td>72.0</td>\n",
       "      <td>119.0</td>\n",
       "      <td>101.0</td>\n",
       "      <td>93.0</td>\n",
       "      <td>49.0</td>\n",
       "      <td>...</td>\n",
       "      <td>45.0</td>\n",
       "      <td>46.0</td>\n",
       "      <td>7.0</td>\n",
       "      <td>11.0</td>\n",
       "      <td>11.0</td>\n",
       "      <td>20.0</td>\n",
       "      <td>64.0</td>\n",
       "      <td>75.0</td>\n",
       "      <td>120.0</td>\n",
       "      <td>62.82</td>\n",
       "    </tr>\n",
       "    <tr>\n",
       "      <th>2018-03-03 03:00:00</th>\n",
       "      <td>64</td>\n",
       "      <td>3</td>\n",
       "      <td>5</td>\n",
       "      <td>25.0</td>\n",
       "      <td>108.0</td>\n",
       "      <td>163.0</td>\n",
       "      <td>72.0</td>\n",
       "      <td>119.0</td>\n",
       "      <td>101.0</td>\n",
       "      <td>93.0</td>\n",
       "      <td>...</td>\n",
       "      <td>54.0</td>\n",
       "      <td>45.0</td>\n",
       "      <td>46.0</td>\n",
       "      <td>7.0</td>\n",
       "      <td>11.0</td>\n",
       "      <td>11.0</td>\n",
       "      <td>20.0</td>\n",
       "      <td>64.0</td>\n",
       "      <td>75.0</td>\n",
       "      <td>60.84</td>\n",
       "    </tr>\n",
       "    <tr>\n",
       "      <th>2018-03-03 04:00:00</th>\n",
       "      <td>44</td>\n",
       "      <td>4</td>\n",
       "      <td>5</td>\n",
       "      <td>64.0</td>\n",
       "      <td>25.0</td>\n",
       "      <td>108.0</td>\n",
       "      <td>163.0</td>\n",
       "      <td>72.0</td>\n",
       "      <td>119.0</td>\n",
       "      <td>101.0</td>\n",
       "      <td>...</td>\n",
       "      <td>91.0</td>\n",
       "      <td>54.0</td>\n",
       "      <td>45.0</td>\n",
       "      <td>46.0</td>\n",
       "      <td>7.0</td>\n",
       "      <td>11.0</td>\n",
       "      <td>11.0</td>\n",
       "      <td>20.0</td>\n",
       "      <td>64.0</td>\n",
       "      <td>60.42</td>\n",
       "    </tr>\n",
       "    <tr>\n",
       "      <th>2018-03-03 05:00:00</th>\n",
       "      <td>15</td>\n",
       "      <td>5</td>\n",
       "      <td>5</td>\n",
       "      <td>44.0</td>\n",
       "      <td>64.0</td>\n",
       "      <td>25.0</td>\n",
       "      <td>108.0</td>\n",
       "      <td>163.0</td>\n",
       "      <td>72.0</td>\n",
       "      <td>119.0</td>\n",
       "      <td>...</td>\n",
       "      <td>36.0</td>\n",
       "      <td>91.0</td>\n",
       "      <td>54.0</td>\n",
       "      <td>45.0</td>\n",
       "      <td>46.0</td>\n",
       "      <td>7.0</td>\n",
       "      <td>11.0</td>\n",
       "      <td>11.0</td>\n",
       "      <td>20.0</td>\n",
       "      <td>59.88</td>\n",
       "    </tr>\n",
       "    <tr>\n",
       "      <th>2018-03-03 06:00:00</th>\n",
       "      <td>9</td>\n",
       "      <td>6</td>\n",
       "      <td>5</td>\n",
       "      <td>15.0</td>\n",
       "      <td>44.0</td>\n",
       "      <td>64.0</td>\n",
       "      <td>25.0</td>\n",
       "      <td>108.0</td>\n",
       "      <td>163.0</td>\n",
       "      <td>72.0</td>\n",
       "      <td>...</td>\n",
       "      <td>45.0</td>\n",
       "      <td>36.0</td>\n",
       "      <td>91.0</td>\n",
       "      <td>54.0</td>\n",
       "      <td>45.0</td>\n",
       "      <td>46.0</td>\n",
       "      <td>7.0</td>\n",
       "      <td>11.0</td>\n",
       "      <td>11.0</td>\n",
       "      <td>58.86</td>\n",
       "    </tr>\n",
       "  </tbody>\n",
       "</table>\n",
       "<p>5 rows × 29 columns</p>\n",
       "</div>"
      ],
      "text/plain": [
       "                     num_orders  hour  day_of_week  lag_1  lag_2  lag_3  \\\n",
       "datetime                                                                  \n",
       "2018-03-03 02:00:00          25     2            5  108.0  163.0   72.0   \n",
       "2018-03-03 03:00:00          64     3            5   25.0  108.0  163.0   \n",
       "2018-03-03 04:00:00          44     4            5   64.0   25.0  108.0   \n",
       "2018-03-03 05:00:00          15     5            5   44.0   64.0   25.0   \n",
       "2018-03-03 06:00:00           9     6            5   15.0   44.0   64.0   \n",
       "\n",
       "                     lag_4  lag_5  lag_6  lag_7  ...  lag_17  lag_18  lag_19  \\\n",
       "datetime                                         ...                           \n",
       "2018-03-03 02:00:00  119.0  101.0   93.0   49.0  ...    45.0    46.0     7.0   \n",
       "2018-03-03 03:00:00   72.0  119.0  101.0   93.0  ...    54.0    45.0    46.0   \n",
       "2018-03-03 04:00:00  163.0   72.0  119.0  101.0  ...    91.0    54.0    45.0   \n",
       "2018-03-03 05:00:00  108.0  163.0   72.0  119.0  ...    36.0    91.0    54.0   \n",
       "2018-03-03 06:00:00   25.0  108.0  163.0   72.0  ...    45.0    36.0    91.0   \n",
       "\n",
       "                     lag_20  lag_21  lag_22  lag_23  lag_24  lag_25  \\\n",
       "datetime                                                              \n",
       "2018-03-03 02:00:00    11.0    11.0    20.0    64.0    75.0   120.0   \n",
       "2018-03-03 03:00:00     7.0    11.0    11.0    20.0    64.0    75.0   \n",
       "2018-03-03 04:00:00    46.0     7.0    11.0    11.0    20.0    64.0   \n",
       "2018-03-03 05:00:00    45.0    46.0     7.0    11.0    11.0    20.0   \n",
       "2018-03-03 06:00:00    54.0    45.0    46.0     7.0    11.0    11.0   \n",
       "\n",
       "                     rolling_mean  \n",
       "datetime                           \n",
       "2018-03-03 02:00:00         62.82  \n",
       "2018-03-03 03:00:00         60.84  \n",
       "2018-03-03 04:00:00         60.42  \n",
       "2018-03-03 05:00:00         59.88  \n",
       "2018-03-03 06:00:00         58.86  \n",
       "\n",
       "[5 rows x 29 columns]"
      ]
     },
     "execution_count": 12,
     "metadata": {},
     "output_type": "execute_result"
    }
   ],
   "source": [
    "# разобьем на тренировочную и тестовую в соотношении 9:1\n",
    "train, test = train_test_split(taxi, shuffle=False, test_size=0.1)\n",
    "train = train.dropna()\n",
    "train.head(5)"
   ]
  },
  {
   "cell_type": "code",
   "execution_count": 13,
   "metadata": {},
   "outputs": [],
   "source": [
    "X_train = train.drop(columns = 'num_orders')\n",
    "y_train = train['num_orders']\n",
    "X_test = test.drop(columns = 'num_orders')\n",
    "y_test = test['num_orders']"
   ]
  },
  {
   "cell_type": "code",
   "execution_count": 14,
   "metadata": {},
   "outputs": [
    {
     "name": "stdout",
     "output_type": "stream",
     "text": [
      "RMSE обучающей выборки: 25.805582252378898\n"
     ]
    }
   ],
   "source": [
    "model = LinearRegression()\n",
    "model.fit(X_train, y_train)\n",
    "predict_train = model.predict(X_train)\n",
    "predict_test = model.predict(X_test)\n",
    "print(\"RMSE обучающей выборки:\", (mean_squared_error(y_train, predict_train)) ** 0.5) \n",
    "#print(\"RMSE тестовой выборки:\", (mean_squared_error(y_test, predict_test)) ** 0.5)"
   ]
  },
  {
   "cell_type": "markdown",
   "metadata": {},
   "source": [
    "<div class=\"alert alert-block alert-danger\">\n",
    "\n",
    "<b>Ошибка:</b> Не нужно оценивать все модели на тестовой выборке. Во время исследования мы должны работать и считать оценки для всех моделей либо на валидационной выборке (если она есть) либо с помощью кросс-валидационных методов. Затем выбираем лучшую модель на основе полученных оценок, после этого лучшую модель - ее нужно будет использовать для получения оценки на тестовой выборке и только ее.\n",
    "</div>\n"
   ]
  },
  {
   "cell_type": "markdown",
   "metadata": {},
   "source": [
    "<div class=\"alert alert-block alert-warning\">\n",
    "<b>Изменения:</b> Понял, убрал оценку на тестовой выборке\n",
    "</div>"
   ]
  },
  {
   "cell_type": "markdown",
   "metadata": {},
   "source": [
    "\n",
    "<div class=\"alert alert-block alert-success\">\n",
    "    \n",
    "<b>Успех[2]:</b> `predict_test = model.predict(X_test)` - получается избыточной\n",
    "</div>"
   ]
  },
  {
   "cell_type": "markdown",
   "metadata": {},
   "source": [
    "*Значение RMSE на тестовой выборке равно 46, что уже удовлетворяет условию (RMSE < 48), но попробуем подобрать другие гиперпараметры, чтобы попытаться еще уменьшить это значение*"
   ]
  },
  {
   "cell_type": "code",
   "execution_count": 15,
   "metadata": {},
   "outputs": [
    {
     "data": {
      "text/html": [
       "<div>\n",
       "<style scoped>\n",
       "    .dataframe tbody tr th:only-of-type {\n",
       "        vertical-align: middle;\n",
       "    }\n",
       "\n",
       "    .dataframe tbody tr th {\n",
       "        vertical-align: top;\n",
       "    }\n",
       "\n",
       "    .dataframe thead th {\n",
       "        text-align: right;\n",
       "    }\n",
       "</style>\n",
       "<table border=\"1\" class=\"dataframe\">\n",
       "  <thead>\n",
       "    <tr style=\"text-align: right;\">\n",
       "      <th></th>\n",
       "      <th>count</th>\n",
       "      <th>mean</th>\n",
       "      <th>std</th>\n",
       "      <th>min</th>\n",
       "      <th>25%</th>\n",
       "      <th>50%</th>\n",
       "      <th>75%</th>\n",
       "      <th>max</th>\n",
       "    </tr>\n",
       "  </thead>\n",
       "  <tbody>\n",
       "    <tr>\n",
       "      <th>num_orders</th>\n",
       "      <td>4416.0</td>\n",
       "      <td>84.422781</td>\n",
       "      <td>45.023853</td>\n",
       "      <td>0.00</td>\n",
       "      <td>54.00</td>\n",
       "      <td>78.00</td>\n",
       "      <td>107.000</td>\n",
       "      <td>462.00</td>\n",
       "    </tr>\n",
       "    <tr>\n",
       "      <th>hour</th>\n",
       "      <td>4416.0</td>\n",
       "      <td>11.500000</td>\n",
       "      <td>6.922970</td>\n",
       "      <td>0.00</td>\n",
       "      <td>5.75</td>\n",
       "      <td>11.50</td>\n",
       "      <td>17.250</td>\n",
       "      <td>23.00</td>\n",
       "    </tr>\n",
       "    <tr>\n",
       "      <th>day_of_week</th>\n",
       "      <td>4416.0</td>\n",
       "      <td>3.005435</td>\n",
       "      <td>1.990684</td>\n",
       "      <td>0.00</td>\n",
       "      <td>1.00</td>\n",
       "      <td>3.00</td>\n",
       "      <td>5.000</td>\n",
       "      <td>6.00</td>\n",
       "    </tr>\n",
       "    <tr>\n",
       "      <th>lag_1</th>\n",
       "      <td>4415.0</td>\n",
       "      <td>84.395470</td>\n",
       "      <td>44.992356</td>\n",
       "      <td>0.00</td>\n",
       "      <td>54.00</td>\n",
       "      <td>78.00</td>\n",
       "      <td>107.000</td>\n",
       "      <td>462.00</td>\n",
       "    </tr>\n",
       "    <tr>\n",
       "      <th>lag_2</th>\n",
       "      <td>4414.0</td>\n",
       "      <td>84.364069</td>\n",
       "      <td>44.949043</td>\n",
       "      <td>0.00</td>\n",
       "      <td>54.00</td>\n",
       "      <td>78.00</td>\n",
       "      <td>107.000</td>\n",
       "      <td>462.00</td>\n",
       "    </tr>\n",
       "    <tr>\n",
       "      <th>lag_3</th>\n",
       "      <td>4413.0</td>\n",
       "      <td>84.347156</td>\n",
       "      <td>44.940088</td>\n",
       "      <td>0.00</td>\n",
       "      <td>54.00</td>\n",
       "      <td>78.00</td>\n",
       "      <td>107.000</td>\n",
       "      <td>462.00</td>\n",
       "    </tr>\n",
       "    <tr>\n",
       "      <th>lag_4</th>\n",
       "      <td>4412.0</td>\n",
       "      <td>84.331369</td>\n",
       "      <td>44.932942</td>\n",
       "      <td>0.00</td>\n",
       "      <td>54.00</td>\n",
       "      <td>78.00</td>\n",
       "      <td>107.000</td>\n",
       "      <td>462.00</td>\n",
       "    </tr>\n",
       "    <tr>\n",
       "      <th>lag_5</th>\n",
       "      <td>4411.0</td>\n",
       "      <td>84.319655</td>\n",
       "      <td>44.931299</td>\n",
       "      <td>0.00</td>\n",
       "      <td>54.00</td>\n",
       "      <td>78.00</td>\n",
       "      <td>107.000</td>\n",
       "      <td>462.00</td>\n",
       "    </tr>\n",
       "    <tr>\n",
       "      <th>lag_6</th>\n",
       "      <td>4410.0</td>\n",
       "      <td>84.291837</td>\n",
       "      <td>44.898387</td>\n",
       "      <td>0.00</td>\n",
       "      <td>54.00</td>\n",
       "      <td>78.00</td>\n",
       "      <td>107.000</td>\n",
       "      <td>462.00</td>\n",
       "    </tr>\n",
       "    <tr>\n",
       "      <th>lag_7</th>\n",
       "      <td>4409.0</td>\n",
       "      <td>84.261737</td>\n",
       "      <td>44.858959</td>\n",
       "      <td>0.00</td>\n",
       "      <td>54.00</td>\n",
       "      <td>78.00</td>\n",
       "      <td>107.000</td>\n",
       "      <td>462.00</td>\n",
       "    </tr>\n",
       "    <tr>\n",
       "      <th>lag_8</th>\n",
       "      <td>4408.0</td>\n",
       "      <td>84.236162</td>\n",
       "      <td>44.831888</td>\n",
       "      <td>0.00</td>\n",
       "      <td>54.00</td>\n",
       "      <td>78.00</td>\n",
       "      <td>107.000</td>\n",
       "      <td>462.00</td>\n",
       "    </tr>\n",
       "    <tr>\n",
       "      <th>lag_9</th>\n",
       "      <td>4407.0</td>\n",
       "      <td>84.228954</td>\n",
       "      <td>44.834421</td>\n",
       "      <td>0.00</td>\n",
       "      <td>54.00</td>\n",
       "      <td>78.00</td>\n",
       "      <td>107.000</td>\n",
       "      <td>462.00</td>\n",
       "    </tr>\n",
       "    <tr>\n",
       "      <th>lag_10</th>\n",
       "      <td>4406.0</td>\n",
       "      <td>84.217885</td>\n",
       "      <td>44.833486</td>\n",
       "      <td>0.00</td>\n",
       "      <td>54.00</td>\n",
       "      <td>78.00</td>\n",
       "      <td>107.000</td>\n",
       "      <td>462.00</td>\n",
       "    </tr>\n",
       "    <tr>\n",
       "      <th>lag_11</th>\n",
       "      <td>4405.0</td>\n",
       "      <td>84.199319</td>\n",
       "      <td>44.821634</td>\n",
       "      <td>0.00</td>\n",
       "      <td>54.00</td>\n",
       "      <td>78.00</td>\n",
       "      <td>107.000</td>\n",
       "      <td>462.00</td>\n",
       "    </tr>\n",
       "    <tr>\n",
       "      <th>lag_12</th>\n",
       "      <td>4404.0</td>\n",
       "      <td>84.187557</td>\n",
       "      <td>44.819924</td>\n",
       "      <td>0.00</td>\n",
       "      <td>54.00</td>\n",
       "      <td>78.00</td>\n",
       "      <td>107.000</td>\n",
       "      <td>462.00</td>\n",
       "    </tr>\n",
       "    <tr>\n",
       "      <th>lag_13</th>\n",
       "      <td>4403.0</td>\n",
       "      <td>84.168749</td>\n",
       "      <td>44.807630</td>\n",
       "      <td>0.00</td>\n",
       "      <td>54.00</td>\n",
       "      <td>78.00</td>\n",
       "      <td>107.000</td>\n",
       "      <td>462.00</td>\n",
       "    </tr>\n",
       "    <tr>\n",
       "      <th>lag_14</th>\n",
       "      <td>4402.0</td>\n",
       "      <td>84.144480</td>\n",
       "      <td>44.783770</td>\n",
       "      <td>0.00</td>\n",
       "      <td>54.00</td>\n",
       "      <td>78.00</td>\n",
       "      <td>107.000</td>\n",
       "      <td>462.00</td>\n",
       "    </tr>\n",
       "    <tr>\n",
       "      <th>lag_15</th>\n",
       "      <td>4401.0</td>\n",
       "      <td>84.117473</td>\n",
       "      <td>44.752994</td>\n",
       "      <td>0.00</td>\n",
       "      <td>54.00</td>\n",
       "      <td>78.00</td>\n",
       "      <td>107.000</td>\n",
       "      <td>462.00</td>\n",
       "    </tr>\n",
       "    <tr>\n",
       "      <th>lag_16</th>\n",
       "      <td>4400.0</td>\n",
       "      <td>84.095227</td>\n",
       "      <td>44.733738</td>\n",
       "      <td>0.00</td>\n",
       "      <td>54.00</td>\n",
       "      <td>78.00</td>\n",
       "      <td>107.000</td>\n",
       "      <td>462.00</td>\n",
       "    </tr>\n",
       "    <tr>\n",
       "      <th>lag_17</th>\n",
       "      <td>4399.0</td>\n",
       "      <td>84.103887</td>\n",
       "      <td>44.735135</td>\n",
       "      <td>0.00</td>\n",
       "      <td>54.00</td>\n",
       "      <td>78.00</td>\n",
       "      <td>107.000</td>\n",
       "      <td>462.00</td>\n",
       "    </tr>\n",
       "    <tr>\n",
       "      <th>lag_18</th>\n",
       "      <td>4398.0</td>\n",
       "      <td>84.115052</td>\n",
       "      <td>44.734091</td>\n",
       "      <td>0.00</td>\n",
       "      <td>54.00</td>\n",
       "      <td>78.00</td>\n",
       "      <td>107.000</td>\n",
       "      <td>462.00</td>\n",
       "    </tr>\n",
       "    <tr>\n",
       "      <th>lag_19</th>\n",
       "      <td>4397.0</td>\n",
       "      <td>84.116443</td>\n",
       "      <td>44.739084</td>\n",
       "      <td>0.00</td>\n",
       "      <td>54.00</td>\n",
       "      <td>78.00</td>\n",
       "      <td>107.000</td>\n",
       "      <td>462.00</td>\n",
       "    </tr>\n",
       "    <tr>\n",
       "      <th>lag_20</th>\n",
       "      <td>4396.0</td>\n",
       "      <td>84.074613</td>\n",
       "      <td>44.658098</td>\n",
       "      <td>0.00</td>\n",
       "      <td>54.00</td>\n",
       "      <td>78.00</td>\n",
       "      <td>107.000</td>\n",
       "      <td>462.00</td>\n",
       "    </tr>\n",
       "    <tr>\n",
       "      <th>lag_21</th>\n",
       "      <td>4395.0</td>\n",
       "      <td>84.071217</td>\n",
       "      <td>44.662612</td>\n",
       "      <td>0.00</td>\n",
       "      <td>54.00</td>\n",
       "      <td>78.00</td>\n",
       "      <td>107.000</td>\n",
       "      <td>462.00</td>\n",
       "    </tr>\n",
       "    <tr>\n",
       "      <th>lag_22</th>\n",
       "      <td>4394.0</td>\n",
       "      <td>84.038006</td>\n",
       "      <td>44.613388</td>\n",
       "      <td>0.00</td>\n",
       "      <td>54.00</td>\n",
       "      <td>78.00</td>\n",
       "      <td>107.000</td>\n",
       "      <td>462.00</td>\n",
       "    </tr>\n",
       "    <tr>\n",
       "      <th>lag_23</th>\n",
       "      <td>4393.0</td>\n",
       "      <td>84.012975</td>\n",
       "      <td>44.587597</td>\n",
       "      <td>0.00</td>\n",
       "      <td>54.00</td>\n",
       "      <td>78.00</td>\n",
       "      <td>107.000</td>\n",
       "      <td>462.00</td>\n",
       "    </tr>\n",
       "    <tr>\n",
       "      <th>lag_24</th>\n",
       "      <td>4392.0</td>\n",
       "      <td>83.969262</td>\n",
       "      <td>44.498432</td>\n",
       "      <td>0.00</td>\n",
       "      <td>54.00</td>\n",
       "      <td>78.00</td>\n",
       "      <td>107.000</td>\n",
       "      <td>462.00</td>\n",
       "    </tr>\n",
       "    <tr>\n",
       "      <th>lag_25</th>\n",
       "      <td>4391.0</td>\n",
       "      <td>83.932362</td>\n",
       "      <td>44.436243</td>\n",
       "      <td>0.00</td>\n",
       "      <td>54.00</td>\n",
       "      <td>78.00</td>\n",
       "      <td>107.000</td>\n",
       "      <td>462.00</td>\n",
       "    </tr>\n",
       "    <tr>\n",
       "      <th>rolling_mean</th>\n",
       "      <td>4366.0</td>\n",
       "      <td>84.079514</td>\n",
       "      <td>25.116456</td>\n",
       "      <td>46.86</td>\n",
       "      <td>64.04</td>\n",
       "      <td>79.39</td>\n",
       "      <td>99.855</td>\n",
       "      <td>171.06</td>\n",
       "    </tr>\n",
       "  </tbody>\n",
       "</table>\n",
       "</div>"
      ],
      "text/plain": [
       "               count       mean        std    min    25%    50%      75%  \\\n",
       "num_orders    4416.0  84.422781  45.023853   0.00  54.00  78.00  107.000   \n",
       "hour          4416.0  11.500000   6.922970   0.00   5.75  11.50   17.250   \n",
       "day_of_week   4416.0   3.005435   1.990684   0.00   1.00   3.00    5.000   \n",
       "lag_1         4415.0  84.395470  44.992356   0.00  54.00  78.00  107.000   \n",
       "lag_2         4414.0  84.364069  44.949043   0.00  54.00  78.00  107.000   \n",
       "lag_3         4413.0  84.347156  44.940088   0.00  54.00  78.00  107.000   \n",
       "lag_4         4412.0  84.331369  44.932942   0.00  54.00  78.00  107.000   \n",
       "lag_5         4411.0  84.319655  44.931299   0.00  54.00  78.00  107.000   \n",
       "lag_6         4410.0  84.291837  44.898387   0.00  54.00  78.00  107.000   \n",
       "lag_7         4409.0  84.261737  44.858959   0.00  54.00  78.00  107.000   \n",
       "lag_8         4408.0  84.236162  44.831888   0.00  54.00  78.00  107.000   \n",
       "lag_9         4407.0  84.228954  44.834421   0.00  54.00  78.00  107.000   \n",
       "lag_10        4406.0  84.217885  44.833486   0.00  54.00  78.00  107.000   \n",
       "lag_11        4405.0  84.199319  44.821634   0.00  54.00  78.00  107.000   \n",
       "lag_12        4404.0  84.187557  44.819924   0.00  54.00  78.00  107.000   \n",
       "lag_13        4403.0  84.168749  44.807630   0.00  54.00  78.00  107.000   \n",
       "lag_14        4402.0  84.144480  44.783770   0.00  54.00  78.00  107.000   \n",
       "lag_15        4401.0  84.117473  44.752994   0.00  54.00  78.00  107.000   \n",
       "lag_16        4400.0  84.095227  44.733738   0.00  54.00  78.00  107.000   \n",
       "lag_17        4399.0  84.103887  44.735135   0.00  54.00  78.00  107.000   \n",
       "lag_18        4398.0  84.115052  44.734091   0.00  54.00  78.00  107.000   \n",
       "lag_19        4397.0  84.116443  44.739084   0.00  54.00  78.00  107.000   \n",
       "lag_20        4396.0  84.074613  44.658098   0.00  54.00  78.00  107.000   \n",
       "lag_21        4395.0  84.071217  44.662612   0.00  54.00  78.00  107.000   \n",
       "lag_22        4394.0  84.038006  44.613388   0.00  54.00  78.00  107.000   \n",
       "lag_23        4393.0  84.012975  44.587597   0.00  54.00  78.00  107.000   \n",
       "lag_24        4392.0  83.969262  44.498432   0.00  54.00  78.00  107.000   \n",
       "lag_25        4391.0  83.932362  44.436243   0.00  54.00  78.00  107.000   \n",
       "rolling_mean  4366.0  84.079514  25.116456  46.86  64.04  79.39   99.855   \n",
       "\n",
       "                 max  \n",
       "num_orders    462.00  \n",
       "hour           23.00  \n",
       "day_of_week     6.00  \n",
       "lag_1         462.00  \n",
       "lag_2         462.00  \n",
       "lag_3         462.00  \n",
       "lag_4         462.00  \n",
       "lag_5         462.00  \n",
       "lag_6         462.00  \n",
       "lag_7         462.00  \n",
       "lag_8         462.00  \n",
       "lag_9         462.00  \n",
       "lag_10        462.00  \n",
       "lag_11        462.00  \n",
       "lag_12        462.00  \n",
       "lag_13        462.00  \n",
       "lag_14        462.00  \n",
       "lag_15        462.00  \n",
       "lag_16        462.00  \n",
       "lag_17        462.00  \n",
       "lag_18        462.00  \n",
       "lag_19        462.00  \n",
       "lag_20        462.00  \n",
       "lag_21        462.00  \n",
       "lag_22        462.00  \n",
       "lag_23        462.00  \n",
       "lag_24        462.00  \n",
       "lag_25        462.00  \n",
       "rolling_mean  171.06  "
      ]
     },
     "execution_count": 15,
     "metadata": {},
     "output_type": "execute_result"
    }
   ],
   "source": [
    "taxi.describe().T"
   ]
  },
  {
   "cell_type": "code",
   "execution_count": 16,
   "metadata": {},
   "outputs": [
    {
     "name": "stdout",
     "output_type": "stream",
     "text": [
      "RMSE на тренировочной выборке: 22.543742403373123 при лучшем lag: 91 и лучшем roll(rolling): 97\n"
     ]
    }
   ],
   "source": [
    "best_lag = 0\n",
    "best_roll = 0\n",
    "best_rmse = 48\n",
    "for lag in range(1, 101, 10):\n",
    "    for roll in range(47, 101, 10):\n",
    "        taxi = make_features(taxi, lag, roll)\n",
    "        \n",
    "        train, test = train_test_split(taxi, shuffle=False, test_size=0.1)\n",
    "        train = train.dropna()\n",
    "        \n",
    "        X_train = train.drop(columns = 'num_orders')\n",
    "        y_train = train['num_orders']\n",
    "        X_test = test.drop(columns = 'num_orders')\n",
    "        y_test = test['num_orders']\n",
    "\n",
    "        model = LinearRegression()\n",
    "        model.fit(X_train, y_train)\n",
    "\n",
    "        y_pred = model.predict(X_train)\n",
    "        rmse = mean_squared_error(y_train, y_pred, squared = False)\n",
    "        if rmse < best_rmse:\n",
    "            best_rmse = rmse\n",
    "            best_lag = lag\n",
    "            best_roll = roll\n",
    "            \n",
    "print(f\"RMSE на тренировочной выборке: {best_rmse} при лучшем lag: {best_lag} и лучшем roll(rolling): {best_roll}\")"
   ]
  },
  {
   "cell_type": "markdown",
   "metadata": {},
   "source": [
    "\n",
    "<div class=\"alert alert-block alert-danger\">\n",
    "   \n",
    "<b>Ошибка:</b> На тестовой выборке нельзя подбирать гиперпараметры - она выполняет другую роль.  Мы  ее должны отложить для тестирования, чтобы проверить, как хорошо настроенная модель будет работать на данных, под которые мы ее не подгоняли.\n",
    "</div>\n"
   ]
  },
  {
   "cell_type": "markdown",
   "metadata": {},
   "source": [
    "<div class=\"alert alert-block alert-warning\">\n",
    "<b>Изменения:</b> Понял, убрал тестовую выборку\n",
    "</div>"
   ]
  },
  {
   "cell_type": "markdown",
   "metadata": {},
   "source": [
    "\n",
    "<div class=\"alert alert-block alert-info\">\n",
    "   \n",
    "<b>Совет[2]:</b> На тренировочной модели тоже не имеет смысла подбирать гиперпараметры - так ты получишь модель, которая лучше всего 'запоминает' данные, а не обобщает. Можно только либо выделять валидационную, либо кросс-валидацию применять.\n",
    "    \n",
    "P.S. Если использовать кросс-валидацию - то обязательно нужно использовать <a href=\"https://scikit-learn.org/stable/modules/generated/sklearn.model_selection.TimeSeriesSplit.html\">TimeSeriesSplit</a>. Объект этого типа можно передать в параметр cv в метод основанный на кросс-валидации.\n",
    "    \n",
    "P.P.S Это должен быть красный коментарий, но учитывая, твой дедлайн я пойду на встречу, и надеюсь, что ты самостоятельно доработаешь данный раздел!\n",
    "</div>\n"
   ]
  },
  {
   "cell_type": "markdown",
   "metadata": {},
   "source": [
    "\n",
    "<div class=\"alert alert-block alert-info\">\n",
    "<b>Совет:</b> Данные параметры лучше подбирать логически\n",
    "    \n",
    "Lag: его называют ещё параметром авторегрессии.<br>Допустим lag=1 - учитывает (для удобства будем считать, что продажи собраны по дням) как вчерашние продажи - вчерашние события - влияют на сегодняшние.<br>Lag=2: учитывает как позавчерашние продажи влияютна сегодняшние.....<br><br><br>\n",
    "    \n",
    "По скользящему среднего:<br>\n",
    "Предположим rolling=10 - скользящее среднее. По сути, ищем среднее по 10 точкам, потом следующие 10 точек, и т.д. - это некое подобие тренда будет - средней линии. Т.е. - сглаживание колебаний/выбросов. Это легко увидеть на пределе: допустим длина ряда 100 дней. rolling(100) - это просто одно число - среднее всего ряда. <br><br><br>\n",
    "    \n",
    "    \n",
    "    \n",
    "**Обычно так происходит поиск параметров:**\n",
    "\n",
    "1) узнаём , какая у нас сезонность: в нашем случае их две - часовая и день недели (суточная и недельная)<br>\n",
    "2) Узнайм, какой у нас тренд. пусть будет пока rolling (24) - сутки<br>\n",
    "3) строим модель (без лагов).<br>\n",
    "4) строим график автокорреляции остатков (факт - прогноз). Если видим \"зубья\" на сезонных лагах: 24, 24*7 - то мы плохо жанной моделью учли сезонность.<br>\n",
    "Если высокий \"зуб\"(столбец на графике) на на первом лаге, то ндо вводить в модель фактор lag=1.\n",
    "и перестроить модель. И так по кругу.<br><br>   \n",
    "    \n",
    "Поэтому, если выставить сезонности - час и день недели, то дополнительные факторы желательно начинать с таких значений : лаг =1,2 а скользящее среднее = 24 (среднее за сутки).  В итоге модель будет приемлемая по точности и не много факторов.. а это значит и для бизнеса будет легче доносить решение). Но, если нужно улучшить качество, то в нашем же случае лаг в 24 (день) и 168 (неделя) - тоже имеют смысл.\n",
    "</div>\n"
   ]
  },
  {
   "cell_type": "markdown",
   "metadata": {},
   "source": [
    "*Для других моделей напишем функцию, так как у них еще будет гиперпараметр alpha*"
   ]
  },
  {
   "cell_type": "code",
   "execution_count": 17,
   "metadata": {},
   "outputs": [],
   "source": [
    "def created_model(model):\n",
    "    best_lag = 0\n",
    "    best_roll = 0\n",
    "    best_rmse = 48\n",
    "    best_alpha = 0\n",
    "    for lag in range(1, 101, 10):\n",
    "        for roll in range(47, 101, 10):\n",
    "            for alpha in np.arange(0.1, 1, 0.2):\n",
    "                \n",
    "                data = make_features(taxi, lag, roll)\n",
    "                \n",
    "                train, test = train_test_split(data, shuffle=False, test_size=0.1)\n",
    "                train = train.dropna()\n",
    "                \n",
    "                X_train = train.drop(columns = 'num_orders')\n",
    "                y_train = train['num_orders']\n",
    "                X_test = test.drop(columns = 'num_orders')\n",
    "                y_test = test['num_orders']\n",
    "                \n",
    "                if model == 'Lasso':\n",
    "                    model_ = Lasso(alpha=alpha)\n",
    "                elif model == 'Ridge':\n",
    "                    model_ = Ridge(alpha=alpha)\n",
    "                model_.fit(X_train, y_train)\n",
    "\n",
    "                y_pred = model_.predict(X_train)\n",
    "                rmse = mean_squared_error(y_train, y_pred) ** 0.5\n",
    "                if rmse < best_rmse :\n",
    "                    best_rmse = rmse\n",
    "                    best_lag = lag\n",
    "                    best_roll = roll\n",
    "                    best_alpha = alpha\n",
    "    return best_rmse, best_lag, best_roll, best_alpha"
   ]
  },
  {
   "cell_type": "code",
   "execution_count": 18,
   "metadata": {
    "scrolled": true
   },
   "outputs": [
    {
     "name": "stderr",
     "output_type": "stream",
     "text": [
      "/opt/conda/lib/python3.9/site-packages/sklearn/linear_model/_coordinate_descent.py:530: ConvergenceWarning: Objective did not converge. You might want to increase the number of iterations. Duality gap: 199492.46552621247, tolerance: 580.5374949187517\n",
      "  model = cd_fast.enet_coordinate_descent(\n",
      "/opt/conda/lib/python3.9/site-packages/sklearn/linear_model/_coordinate_descent.py:530: ConvergenceWarning: Objective did not converge. You might want to increase the number of iterations. Duality gap: 18073.368871190818, tolerance: 580.5374949187517\n",
      "  model = cd_fast.enet_coordinate_descent(\n",
      "/opt/conda/lib/python3.9/site-packages/sklearn/linear_model/_coordinate_descent.py:530: ConvergenceWarning: Objective did not converge. You might want to increase the number of iterations. Duality gap: 703.6389686076436, tolerance: 580.5374949187517\n",
      "  model = cd_fast.enet_coordinate_descent(\n",
      "/opt/conda/lib/python3.9/site-packages/sklearn/linear_model/_coordinate_descent.py:530: ConvergenceWarning: Objective did not converge. You might want to increase the number of iterations. Duality gap: 199492.46552621247, tolerance: 580.5374949187517\n",
      "  model = cd_fast.enet_coordinate_descent(\n",
      "/opt/conda/lib/python3.9/site-packages/sklearn/linear_model/_coordinate_descent.py:530: ConvergenceWarning: Objective did not converge. You might want to increase the number of iterations. Duality gap: 18073.368871190818, tolerance: 580.5374949187517\n",
      "  model = cd_fast.enet_coordinate_descent(\n",
      "/opt/conda/lib/python3.9/site-packages/sklearn/linear_model/_coordinate_descent.py:530: ConvergenceWarning: Objective did not converge. You might want to increase the number of iterations. Duality gap: 703.6389686076436, tolerance: 580.5374949187517\n",
      "  model = cd_fast.enet_coordinate_descent(\n",
      "/opt/conda/lib/python3.9/site-packages/sklearn/linear_model/_coordinate_descent.py:530: ConvergenceWarning: Objective did not converge. You might want to increase the number of iterations. Duality gap: 199492.46552621247, tolerance: 580.5374949187517\n",
      "  model = cd_fast.enet_coordinate_descent(\n",
      "/opt/conda/lib/python3.9/site-packages/sklearn/linear_model/_coordinate_descent.py:530: ConvergenceWarning: Objective did not converge. You might want to increase the number of iterations. Duality gap: 18073.368871190818, tolerance: 580.5374949187517\n",
      "  model = cd_fast.enet_coordinate_descent(\n",
      "/opt/conda/lib/python3.9/site-packages/sklearn/linear_model/_coordinate_descent.py:530: ConvergenceWarning: Objective did not converge. You might want to increase the number of iterations. Duality gap: 703.6389686076436, tolerance: 580.5374949187517\n",
      "  model = cd_fast.enet_coordinate_descent(\n",
      "/opt/conda/lib/python3.9/site-packages/sklearn/linear_model/_coordinate_descent.py:530: ConvergenceWarning: Objective did not converge. You might want to increase the number of iterations. Duality gap: 199492.46552621247, tolerance: 580.5374949187517\n",
      "  model = cd_fast.enet_coordinate_descent(\n",
      "/opt/conda/lib/python3.9/site-packages/sklearn/linear_model/_coordinate_descent.py:530: ConvergenceWarning: Objective did not converge. You might want to increase the number of iterations. Duality gap: 18073.368871190818, tolerance: 580.5374949187517\n",
      "  model = cd_fast.enet_coordinate_descent(\n",
      "/opt/conda/lib/python3.9/site-packages/sklearn/linear_model/_coordinate_descent.py:530: ConvergenceWarning: Objective did not converge. You might want to increase the number of iterations. Duality gap: 703.6389686076436, tolerance: 580.5374949187517\n",
      "  model = cd_fast.enet_coordinate_descent(\n",
      "/opt/conda/lib/python3.9/site-packages/sklearn/linear_model/_coordinate_descent.py:530: ConvergenceWarning: Objective did not converge. You might want to increase the number of iterations. Duality gap: 199492.46552621247, tolerance: 580.5374949187517\n",
      "  model = cd_fast.enet_coordinate_descent(\n",
      "/opt/conda/lib/python3.9/site-packages/sklearn/linear_model/_coordinate_descent.py:530: ConvergenceWarning: Objective did not converge. You might want to increase the number of iterations. Duality gap: 18073.368871190818, tolerance: 580.5374949187517\n",
      "  model = cd_fast.enet_coordinate_descent(\n",
      "/opt/conda/lib/python3.9/site-packages/sklearn/linear_model/_coordinate_descent.py:530: ConvergenceWarning: Objective did not converge. You might want to increase the number of iterations. Duality gap: 703.6389686076436, tolerance: 580.5374949187517\n",
      "  model = cd_fast.enet_coordinate_descent(\n",
      "/opt/conda/lib/python3.9/site-packages/sklearn/linear_model/_coordinate_descent.py:530: ConvergenceWarning: Objective did not converge. You might want to increase the number of iterations. Duality gap: 199492.46552621247, tolerance: 580.5374949187517\n",
      "  model = cd_fast.enet_coordinate_descent(\n",
      "/opt/conda/lib/python3.9/site-packages/sklearn/linear_model/_coordinate_descent.py:530: ConvergenceWarning: Objective did not converge. You might want to increase the number of iterations. Duality gap: 18073.368871190818, tolerance: 580.5374949187517\n",
      "  model = cd_fast.enet_coordinate_descent(\n",
      "/opt/conda/lib/python3.9/site-packages/sklearn/linear_model/_coordinate_descent.py:530: ConvergenceWarning: Objective did not converge. You might want to increase the number of iterations. Duality gap: 703.6389686076436, tolerance: 580.5374949187517\n",
      "  model = cd_fast.enet_coordinate_descent(\n",
      "/opt/conda/lib/python3.9/site-packages/sklearn/linear_model/_coordinate_descent.py:530: ConvergenceWarning: Objective did not converge. You might want to increase the number of iterations. Duality gap: 199492.46552621247, tolerance: 580.5374949187517\n",
      "  model = cd_fast.enet_coordinate_descent(\n",
      "/opt/conda/lib/python3.9/site-packages/sklearn/linear_model/_coordinate_descent.py:530: ConvergenceWarning: Objective did not converge. You might want to increase the number of iterations. Duality gap: 18073.368871190818, tolerance: 580.5374949187517\n",
      "  model = cd_fast.enet_coordinate_descent(\n",
      "/opt/conda/lib/python3.9/site-packages/sklearn/linear_model/_coordinate_descent.py:530: ConvergenceWarning: Objective did not converge. You might want to increase the number of iterations. Duality gap: 703.6389686076436, tolerance: 580.5374949187517\n",
      "  model = cd_fast.enet_coordinate_descent(\n",
      "/opt/conda/lib/python3.9/site-packages/sklearn/linear_model/_coordinate_descent.py:530: ConvergenceWarning: Objective did not converge. You might want to increase the number of iterations. Duality gap: 199492.46552621247, tolerance: 580.5374949187517\n",
      "  model = cd_fast.enet_coordinate_descent(\n",
      "/opt/conda/lib/python3.9/site-packages/sklearn/linear_model/_coordinate_descent.py:530: ConvergenceWarning: Objective did not converge. You might want to increase the number of iterations. Duality gap: 18073.368871190818, tolerance: 580.5374949187517\n",
      "  model = cd_fast.enet_coordinate_descent(\n",
      "/opt/conda/lib/python3.9/site-packages/sklearn/linear_model/_coordinate_descent.py:530: ConvergenceWarning: Objective did not converge. You might want to increase the number of iterations. Duality gap: 703.6389686076436, tolerance: 580.5374949187517\n",
      "  model = cd_fast.enet_coordinate_descent(\n",
      "/opt/conda/lib/python3.9/site-packages/sklearn/linear_model/_coordinate_descent.py:530: ConvergenceWarning: Objective did not converge. You might want to increase the number of iterations. Duality gap: 199492.46552621247, tolerance: 580.5374949187517\n",
      "  model = cd_fast.enet_coordinate_descent(\n",
      "/opt/conda/lib/python3.9/site-packages/sklearn/linear_model/_coordinate_descent.py:530: ConvergenceWarning: Objective did not converge. You might want to increase the number of iterations. Duality gap: 18073.368871190818, tolerance: 580.5374949187517\n",
      "  model = cd_fast.enet_coordinate_descent(\n",
      "/opt/conda/lib/python3.9/site-packages/sklearn/linear_model/_coordinate_descent.py:530: ConvergenceWarning: Objective did not converge. You might want to increase the number of iterations. Duality gap: 703.6389686076436, tolerance: 580.5374949187517\n",
      "  model = cd_fast.enet_coordinate_descent(\n",
      "/opt/conda/lib/python3.9/site-packages/sklearn/linear_model/_coordinate_descent.py:530: ConvergenceWarning: Objective did not converge. You might want to increase the number of iterations. Duality gap: 199492.46552621247, tolerance: 580.5374949187517\n",
      "  model = cd_fast.enet_coordinate_descent(\n",
      "/opt/conda/lib/python3.9/site-packages/sklearn/linear_model/_coordinate_descent.py:530: ConvergenceWarning: Objective did not converge. You might want to increase the number of iterations. Duality gap: 18073.368871190818, tolerance: 580.5374949187517\n",
      "  model = cd_fast.enet_coordinate_descent(\n",
      "/opt/conda/lib/python3.9/site-packages/sklearn/linear_model/_coordinate_descent.py:530: ConvergenceWarning: Objective did not converge. You might want to increase the number of iterations. Duality gap: 703.6389686076436, tolerance: 580.5374949187517\n",
      "  model = cd_fast.enet_coordinate_descent(\n"
     ]
    },
    {
     "name": "stdout",
     "output_type": "stream",
     "text": [
      "RMSE на тренировочной выборке для модели Lasso: 22.54616059036328 при лучшем lag: 1, лучшем roll(rolling): 97 и лучшем alpha: 0.1\n"
     ]
    }
   ],
   "source": [
    "best_rmse_lasso, best_lag_lasso, best_roll_lasso, best_alpha_lasso = created_model('Lasso')\n",
    "print(f'RMSE на тренировочной выборке для модели Lasso: {best_rmse_lasso} при лучшем lag: {best_lag_lasso}, лучшем roll(rolling): {best_roll_lasso} и лучшем alpha: {best_alpha_lasso}')"
   ]
  },
  {
   "cell_type": "code",
   "execution_count": 19,
   "metadata": {
    "scrolled": false
   },
   "outputs": [
    {
     "name": "stdout",
     "output_type": "stream",
     "text": [
      "RMSE на тренировочной выборке для модели Ridge: 22.543742403645602 при лучшем lag: 1, лучшем roll(rolling): 97 и лучшем alpha: 0.1\n"
     ]
    }
   ],
   "source": [
    "best_rmse_ridge, best_lag_ridge, best_roll_ridge, best_alpha_ridge = created_model('Ridge')\n",
    "print(f'RMSE на тренировочной выборке для модели Ridge: {best_rmse_ridge} при лучшем lag: {best_lag_ridge}, лучшем roll(rolling): {best_roll_ridge} и лучшем alpha: {best_alpha_ridge}')"
   ]
  },
  {
   "cell_type": "markdown",
   "metadata": {},
   "source": [
    "## Тестирование"
   ]
  },
  {
   "cell_type": "code",
   "execution_count": 20,
   "metadata": {},
   "outputs": [
    {
     "name": "stdout",
     "output_type": "stream",
     "text": [
      "40.65906740997092\n"
     ]
    }
   ],
   "source": [
    "y_pred = model.predict(X_test)\n",
    "rmse = mean_squared_error(y_test, y_pred) ** 0.5\n",
    "print(rmse)"
   ]
  },
  {
   "cell_type": "markdown",
   "metadata": {},
   "source": [
    "\n",
    "<div class=\"alert alert-block alert-danger\">\n",
    "<b>Ошибка:</b> После анализа и выбора одной наилучшей модели, должно идти  ее тестирование. Другие модели тестовую выборку использовать не должны.\n",
    "</div>"
   ]
  },
  {
   "cell_type": "markdown",
   "metadata": {},
   "source": [
    "<div class=\"alert alert-block alert-warning\">\n",
    "<b>Изменения:</b> Понял, оставил только тренировочную\n",
    "</div>"
   ]
  },
  {
   "cell_type": "markdown",
   "metadata": {},
   "source": [
    "\n",
    "<div class=\"alert alert-info\">\n",
    "<b>Совет:</b>\n",
    "\n",
    "Здесь также было бы очень полезно визуализировать предсказания твоей лучшей модели и сравнить их с правильными ответами в формате линейного графика - так мы сможем более наглядно понять, в каких местах твоя модель делает хорошие предсказания, а в каких ошибается.\n",
    "        \n",
    "По графику обязательно нужно сделать вывод: стоит отметить, в каких участках ряда модель сильнее ошибается, а какие участки ряда предсказывает хорошо.\n",
    "\n",
    "</div>"
   ]
  },
  {
   "cell_type": "markdown",
   "metadata": {},
   "source": [
    "<div class=\"alert alert-block alert-warning\">\n",
    "<b>Комментарий студента:</b> Спасибо за проверку проекта и полезные советы! К сожалению сейчас очень стараюсь успеть до дедлайна сдать этот последний проект, поэтому чисто физически не успеваю доработать твои советы, но обязательно изучу их и буду применять в будущем\n",
    "</div>"
   ]
  },
  {
   "cell_type": "markdown",
   "metadata": {},
   "source": [
    "<div class=\"alert alert-block alert-success\">\n",
    "    \n",
    "<b>Успех[2]:</b> Принял\n",
    "</div>"
   ]
  },
  {
   "cell_type": "markdown",
   "metadata": {},
   "source": [
    "## Вывод\n"
   ]
  },
  {
   "cell_type": "markdown",
   "metadata": {},
   "source": [
    "*Цель работы: **Постройте модель для того, чтобы спрогнозировать количество заказов такси на следующий час**.*\n",
    "\n",
    "*В ходе проекта была проведена:*\n",
    "- подготовка данных\n",
    "- анализ данных\n",
    "- обучение моделей\n",
    "- тестирование моделей\n",
    "\n",
    "*Для обучения и тестирования были подобраны **3 модели: Модель линейной регрессии, модель Lasso и модель Ridge**.*\n",
    "\n",
    "*После обучения, подбора гиперпараметров и тестирования на тренировочной выборке выявили лучшую метрику RMSE при лучших гиперпараметрах:*\n",
    "- LinearRegression\n",
    "    - **RMSE = 22.5**\n",
    "    - **lag = 91**\n",
    "    - **rolling = 97**\n",
    "- Lasso\n",
    "    - **RMSE = 22.5**\n",
    "    - **lag = 1**\n",
    "    - **rolling = 97** \n",
    "    - **alpha = 0.1**\n",
    "- Ridge\n",
    "    - **RMSE = 22.5**\n",
    "    - **lag = 1**\n",
    "    - **rolling = 97**\n",
    "    - **alpha = 0.1**\n",
    "\n",
    "*Метрика RMSE у всех моделей на тестовой выборке получилась одинаковой, как по мне в таком случае стоит выбрать самую простую модель - линейной регрессии*\n",
    "\n",
    "*Лучшая модель - **Модель линеейной регрессии, с метрикой RMSE = 40.7**!*"
   ]
  },
  {
   "cell_type": "markdown",
   "metadata": {},
   "source": [
    "## Чек-лист проверки"
   ]
  },
  {
   "cell_type": "markdown",
   "metadata": {},
   "source": [
    "- [x]  Jupyter Notebook открыт\n",
    "- [x]  Весь код выполняется без ошибок\n",
    "- [x]  Ячейки с кодом расположены в порядке исполнения\n",
    "- [x]  Данные загружены и подготовлены\n",
    "- [x]  Данные проанализированы\n",
    "- [x]  Модель обучена, гиперпараметры подобраны\n",
    "- [x]  Качество моделей проверено, выводы сделаны\n",
    "- [x]  Значение *RMSE* на тестовой выборке не больше 48"
   ]
  }
 ],
 "metadata": {
  "ExecuteTimeLog": [
   {
    "duration": 1800,
    "start_time": "2024-11-12T16:17:45.370Z"
   },
   {
    "duration": 114,
    "start_time": "2024-11-12T16:28:03.298Z"
   },
   {
    "duration": 75,
    "start_time": "2024-11-12T16:28:33.600Z"
   },
   {
    "duration": 174,
    "start_time": "2024-11-12T16:29:44.120Z"
   },
   {
    "duration": 60,
    "start_time": "2024-11-12T16:29:57.309Z"
   },
   {
    "duration": 12,
    "start_time": "2024-11-12T16:34:36.250Z"
   },
   {
    "duration": 10,
    "start_time": "2024-11-12T16:35:08.095Z"
   },
   {
    "duration": 13,
    "start_time": "2024-11-12T16:35:19.883Z"
   },
   {
    "duration": 5,
    "start_time": "2024-11-12T16:35:31.063Z"
   },
   {
    "duration": 5,
    "start_time": "2024-11-12T16:36:05.693Z"
   },
   {
    "duration": 4,
    "start_time": "2024-11-12T16:36:16.625Z"
   },
   {
    "duration": 4,
    "start_time": "2024-11-12T16:36:34.916Z"
   },
   {
    "duration": 4,
    "start_time": "2024-11-12T16:36:39.781Z"
   },
   {
    "duration": 12,
    "start_time": "2024-11-12T16:45:22.869Z"
   },
   {
    "duration": 742,
    "start_time": "2024-11-12T16:45:42.373Z"
   },
   {
    "duration": 768,
    "start_time": "2024-11-12T16:46:12.089Z"
   },
   {
    "duration": 892,
    "start_time": "2024-11-12T16:47:09.716Z"
   },
   {
    "duration": 185,
    "start_time": "2024-11-12T17:01:12.353Z"
   },
   {
    "duration": 217,
    "start_time": "2024-11-12T17:01:23.824Z"
   },
   {
    "duration": 529,
    "start_time": "2024-11-12T17:03:12.468Z"
   },
   {
    "duration": 18,
    "start_time": "2024-11-12T17:24:50.724Z"
   },
   {
    "duration": 7,
    "start_time": "2024-11-12T17:24:57.957Z"
   },
   {
    "duration": 7,
    "start_time": "2024-11-12T17:25:32.826Z"
   },
   {
    "duration": 6,
    "start_time": "2024-11-12T17:25:45.124Z"
   },
   {
    "duration": 8,
    "start_time": "2024-11-12T17:26:20.303Z"
   },
   {
    "duration": 6,
    "start_time": "2024-11-12T17:26:37.415Z"
   },
   {
    "duration": 7,
    "start_time": "2024-11-12T17:26:58.337Z"
   },
   {
    "duration": 8,
    "start_time": "2024-11-12T17:27:06.399Z"
   },
   {
    "duration": 4,
    "start_time": "2024-11-12T17:31:18.925Z"
   },
   {
    "duration": 1062,
    "start_time": "2024-11-12T17:32:59.439Z"
   },
   {
    "duration": 4,
    "start_time": "2024-11-12T17:33:33.133Z"
   },
   {
    "duration": 34,
    "start_time": "2024-11-12T17:33:33.745Z"
   },
   {
    "duration": 12,
    "start_time": "2024-11-12T17:33:41.445Z"
   },
   {
    "duration": 4,
    "start_time": "2024-11-12T17:34:47.116Z"
   },
   {
    "duration": 12,
    "start_time": "2024-11-12T17:34:47.682Z"
   },
   {
    "duration": 1471,
    "start_time": "2024-11-12T17:35:18.986Z"
   },
   {
    "duration": 67,
    "start_time": "2024-11-12T17:35:20.459Z"
   },
   {
    "duration": 9,
    "start_time": "2024-11-12T17:35:20.528Z"
   },
   {
    "duration": 4,
    "start_time": "2024-11-12T17:35:20.539Z"
   },
   {
    "duration": 959,
    "start_time": "2024-11-12T17:35:20.545Z"
   },
   {
    "duration": 554,
    "start_time": "2024-11-12T17:35:21.506Z"
   },
   {
    "duration": 6,
    "start_time": "2024-11-12T17:35:22.062Z"
   },
   {
    "duration": 9,
    "start_time": "2024-11-12T17:35:22.069Z"
   },
   {
    "duration": 11,
    "start_time": "2024-11-12T17:35:22.079Z"
   },
   {
    "duration": 22,
    "start_time": "2024-11-12T17:35:22.092Z"
   },
   {
    "duration": 4,
    "start_time": "2024-11-12T17:35:51.029Z"
   },
   {
    "duration": 112,
    "start_time": "2024-11-12T17:35:51.279Z"
   },
   {
    "duration": 1444,
    "start_time": "2024-11-12T17:35:57.808Z"
   },
   {
    "duration": 65,
    "start_time": "2024-11-12T17:35:59.254Z"
   },
   {
    "duration": 9,
    "start_time": "2024-11-12T17:35:59.321Z"
   },
   {
    "duration": 5,
    "start_time": "2024-11-12T17:35:59.332Z"
   },
   {
    "duration": 890,
    "start_time": "2024-11-12T17:35:59.338Z"
   },
   {
    "duration": 576,
    "start_time": "2024-11-12T17:36:00.230Z"
   },
   {
    "duration": 5,
    "start_time": "2024-11-12T17:36:00.807Z"
   },
   {
    "duration": 27,
    "start_time": "2024-11-12T17:36:00.813Z"
   },
   {
    "duration": 28,
    "start_time": "2024-11-12T17:36:00.841Z"
   },
   {
    "duration": 63,
    "start_time": "2024-11-12T17:36:00.871Z"
   },
   {
    "duration": 30,
    "start_time": "2024-11-12T17:36:10.080Z"
   },
   {
    "duration": 111,
    "start_time": "2024-11-12T17:36:57.349Z"
   },
   {
    "duration": 33,
    "start_time": "2024-11-12T17:37:08.543Z"
   },
   {
    "duration": 27,
    "start_time": "2024-11-12T17:37:29.614Z"
   },
   {
    "duration": 6,
    "start_time": "2024-11-12T17:39:36.157Z"
   },
   {
    "duration": 31,
    "start_time": "2024-11-12T17:42:48.509Z"
   },
   {
    "duration": 6,
    "start_time": "2024-11-12T17:42:51.868Z"
   },
   {
    "duration": 114,
    "start_time": "2024-11-12T17:47:46.059Z"
   },
   {
    "duration": 216,
    "start_time": "2024-11-12T17:48:05.452Z"
   },
   {
    "duration": 4,
    "start_time": "2024-11-12T17:49:11.576Z"
   },
   {
    "duration": 168,
    "start_time": "2024-11-12T17:49:16.699Z"
   },
   {
    "duration": 99,
    "start_time": "2024-11-12T17:57:17.506Z"
   },
   {
    "duration": 1000,
    "start_time": "2024-11-12T18:03:24.184Z"
   },
   {
    "duration": 81,
    "start_time": "2024-11-12T18:03:55.621Z"
   },
   {
    "duration": 69,
    "start_time": "2024-11-12T18:04:08.447Z"
   },
   {
    "duration": 92,
    "start_time": "2024-11-12T18:04:56.349Z"
   },
   {
    "duration": 83,
    "start_time": "2024-11-12T18:05:20.112Z"
   },
   {
    "duration": 16,
    "start_time": "2024-11-12T18:14:46.429Z"
   },
   {
    "duration": 1507,
    "start_time": "2024-11-12T18:22:08.940Z"
   },
   {
    "duration": 65,
    "start_time": "2024-11-12T18:22:10.449Z"
   },
   {
    "duration": 8,
    "start_time": "2024-11-12T18:22:10.516Z"
   },
   {
    "duration": 20,
    "start_time": "2024-11-12T18:22:10.526Z"
   },
   {
    "duration": 908,
    "start_time": "2024-11-12T18:22:10.548Z"
   },
   {
    "duration": 542,
    "start_time": "2024-11-12T18:22:11.458Z"
   },
   {
    "duration": 6,
    "start_time": "2024-11-12T18:22:12.002Z"
   },
   {
    "duration": 7,
    "start_time": "2024-11-12T18:22:12.010Z"
   },
   {
    "duration": 6,
    "start_time": "2024-11-12T18:22:12.019Z"
   },
   {
    "duration": 59,
    "start_time": "2024-11-12T18:22:12.027Z"
   },
   {
    "duration": 26,
    "start_time": "2024-11-12T18:22:12.088Z"
   },
   {
    "duration": 4,
    "start_time": "2024-11-12T18:22:12.116Z"
   },
   {
    "duration": 145,
    "start_time": "2024-11-12T18:22:12.122Z"
   },
   {
    "duration": 175,
    "start_time": "2024-11-12T18:22:12.269Z"
   },
   {
    "duration": 15918,
    "start_time": "2024-11-12T18:22:12.446Z"
   },
   {
    "duration": 6,
    "start_time": "2024-11-12T18:28:46.333Z"
   },
   {
    "duration": 117,
    "start_time": "2024-11-12T18:34:04.534Z"
   },
   {
    "duration": 7,
    "start_time": "2024-11-12T18:34:40.678Z"
   },
   {
    "duration": 17,
    "start_time": "2024-11-12T18:34:43.313Z"
   },
   {
    "duration": 6,
    "start_time": "2024-11-12T18:35:24.120Z"
   },
   {
    "duration": 179234,
    "start_time": "2024-11-12T18:35:25.832Z"
   },
   {
    "duration": 88145,
    "start_time": "2024-11-12T18:38:25.071Z"
   },
   {
    "duration": 1430,
    "start_time": "2024-11-12T18:57:10.411Z"
   },
   {
    "duration": 70,
    "start_time": "2024-11-12T18:57:11.842Z"
   },
   {
    "duration": 11,
    "start_time": "2024-11-12T18:57:11.913Z"
   },
   {
    "duration": 6,
    "start_time": "2024-11-12T18:57:11.925Z"
   },
   {
    "duration": 942,
    "start_time": "2024-11-12T18:57:11.934Z"
   },
   {
    "duration": 553,
    "start_time": "2024-11-12T18:57:12.877Z"
   },
   {
    "duration": 6,
    "start_time": "2024-11-12T18:57:13.432Z"
   },
   {
    "duration": 8,
    "start_time": "2024-11-12T18:57:13.440Z"
   },
   {
    "duration": 4,
    "start_time": "2024-11-12T18:57:13.465Z"
   },
   {
    "duration": 40,
    "start_time": "2024-11-12T18:57:13.471Z"
   },
   {
    "duration": 27,
    "start_time": "2024-11-12T18:57:13.513Z"
   },
   {
    "duration": 6,
    "start_time": "2024-11-12T18:57:13.564Z"
   },
   {
    "duration": 195,
    "start_time": "2024-11-12T18:57:13.572Z"
   },
   {
    "duration": 169,
    "start_time": "2024-11-12T18:57:13.770Z"
   },
   {
    "duration": 15935,
    "start_time": "2024-11-12T18:57:13.941Z"
   },
   {
    "duration": 10,
    "start_time": "2024-11-12T18:57:29.966Z"
   },
   {
    "duration": 198795,
    "start_time": "2024-11-12T18:57:29.978Z"
   },
   {
    "duration": 87391,
    "start_time": "2024-11-12T19:00:48.775Z"
   },
   {
    "duration": 1552,
    "start_time": "2024-11-12T21:18:11.225Z"
   },
   {
    "duration": 366,
    "start_time": "2024-11-12T21:18:13.615Z"
   },
   {
    "duration": 8,
    "start_time": "2024-11-12T21:18:16.967Z"
   },
   {
    "duration": 4,
    "start_time": "2024-11-12T21:18:17.711Z"
   },
   {
    "duration": 928,
    "start_time": "2024-11-12T21:18:21.981Z"
   },
   {
    "duration": 354,
    "start_time": "2024-11-12T21:18:22.912Z"
   },
   {
    "duration": 508,
    "start_time": "2024-11-12T21:18:23.898Z"
   },
   {
    "duration": 417,
    "start_time": "2024-11-12T21:20:44.333Z"
   },
   {
    "duration": 407,
    "start_time": "2024-11-12T21:21:14.502Z"
   },
   {
    "duration": 513,
    "start_time": "2024-11-12T21:21:21.229Z"
   },
   {
    "duration": 3,
    "start_time": "2024-11-12T21:23:12.409Z"
   },
   {
    "duration": 59,
    "start_time": "2024-11-12T21:23:15.641Z"
   },
   {
    "duration": 10,
    "start_time": "2024-11-12T21:23:16.966Z"
   },
   {
    "duration": 4,
    "start_time": "2024-11-12T21:23:17.381Z"
   },
   {
    "duration": 736,
    "start_time": "2024-11-12T21:23:18.961Z"
   },
   {
    "duration": 343,
    "start_time": "2024-11-12T21:23:19.891Z"
   },
   {
    "duration": 396,
    "start_time": "2024-11-12T21:23:20.356Z"
   },
   {
    "duration": 1120,
    "start_time": "2024-11-12T21:23:44.666Z"
   },
   {
    "duration": 510,
    "start_time": "2024-11-12T21:24:09.739Z"
   },
   {
    "duration": 410,
    "start_time": "2024-11-12T21:24:55.880Z"
   },
   {
    "duration": 402,
    "start_time": "2024-11-12T21:26:39.441Z"
   },
   {
    "duration": 408,
    "start_time": "2024-11-12T21:27:42.361Z"
   },
   {
    "duration": 412,
    "start_time": "2024-11-12T21:31:27.478Z"
   },
   {
    "duration": 650,
    "start_time": "2024-11-12T21:31:40.036Z"
   },
   {
    "duration": 403,
    "start_time": "2024-11-12T21:34:24.292Z"
   },
   {
    "duration": 552,
    "start_time": "2024-11-12T21:35:20.442Z"
   },
   {
    "duration": 577,
    "start_time": "2024-11-12T21:35:57.295Z"
   },
   {
    "duration": 17,
    "start_time": "2024-11-12T21:38:05.556Z"
   },
   {
    "duration": 16,
    "start_time": "2024-11-12T21:38:15.320Z"
   },
   {
    "duration": 198,
    "start_time": "2024-11-12T21:47:26.298Z"
   },
   {
    "duration": 688,
    "start_time": "2024-11-12T21:47:52.119Z"
   },
   {
    "duration": 593,
    "start_time": "2024-11-12T21:48:30.222Z"
   },
   {
    "duration": 591,
    "start_time": "2024-11-12T21:48:35.090Z"
   },
   {
    "duration": 605,
    "start_time": "2024-11-12T21:49:01.195Z"
   },
   {
    "duration": 644,
    "start_time": "2024-11-12T21:51:43.765Z"
   },
   {
    "duration": 394,
    "start_time": "2024-11-12T21:52:58.840Z"
   },
   {
    "duration": 569,
    "start_time": "2024-11-12T21:53:15.905Z"
   },
   {
    "duration": 5,
    "start_time": "2024-11-12T22:00:57.772Z"
   },
   {
    "duration": 8,
    "start_time": "2024-11-12T22:00:59.532Z"
   },
   {
    "duration": 3,
    "start_time": "2024-11-12T22:01:01.958Z"
   },
   {
    "duration": 35,
    "start_time": "2024-11-12T22:01:08.068Z"
   },
   {
    "duration": 24,
    "start_time": "2024-11-12T22:01:10.416Z"
   },
   {
    "duration": 5,
    "start_time": "2024-11-12T22:01:13.913Z"
   },
   {
    "duration": 19,
    "start_time": "2024-11-12T22:07:15.612Z"
   },
   {
    "duration": 74,
    "start_time": "2024-11-12T22:10:00.667Z"
   },
   {
    "duration": 71,
    "start_time": "2024-11-12T22:10:08.455Z"
   },
   {
    "duration": 15651,
    "start_time": "2024-11-12T22:12:58.077Z"
   },
   {
    "duration": 1304,
    "start_time": "2024-11-12T22:16:58.377Z"
   },
   {
    "duration": 64,
    "start_time": "2024-11-12T22:16:59.683Z"
   },
   {
    "duration": 8,
    "start_time": "2024-11-12T22:16:59.748Z"
   },
   {
    "duration": 29,
    "start_time": "2024-11-12T22:16:59.758Z"
   },
   {
    "duration": 772,
    "start_time": "2024-11-12T22:16:59.789Z"
   },
   {
    "duration": 415,
    "start_time": "2024-11-12T22:17:00.563Z"
   },
   {
    "duration": 589,
    "start_time": "2024-11-12T22:17:00.980Z"
   },
   {
    "duration": 4,
    "start_time": "2024-11-12T22:17:01.571Z"
   },
   {
    "duration": 19,
    "start_time": "2024-11-12T22:17:01.577Z"
   },
   {
    "duration": 61,
    "start_time": "2024-11-12T22:17:01.597Z"
   },
   {
    "duration": 57,
    "start_time": "2024-11-12T22:17:01.659Z"
   },
   {
    "duration": 24,
    "start_time": "2024-11-12T22:17:01.717Z"
   },
   {
    "duration": 14,
    "start_time": "2024-11-12T22:17:01.743Z"
   },
   {
    "duration": 163,
    "start_time": "2024-11-12T22:17:01.759Z"
   },
   {
    "duration": 161,
    "start_time": "2024-11-12T22:17:01.924Z"
   },
   {
    "duration": 14638,
    "start_time": "2024-11-12T22:17:02.086Z"
   },
   {
    "duration": 98,
    "start_time": "2024-11-12T22:17:16.727Z"
   },
   {
    "duration": 190994,
    "start_time": "2024-11-12T22:17:16.827Z"
   },
   {
    "duration": 85404,
    "start_time": "2024-11-12T22:20:27.822Z"
   },
   {
    "duration": 7,
    "start_time": "2024-11-12T22:25:24.075Z"
   },
   {
    "duration": 7,
    "start_time": "2024-11-12T22:25:34.656Z"
   },
   {
    "duration": 104,
    "start_time": "2024-11-12T22:25:43.058Z"
   },
   {
    "duration": 8,
    "start_time": "2024-11-12T22:27:55.830Z"
   },
   {
    "duration": 1448,
    "start_time": "2025-01-04T10:16:08.112Z"
   },
   {
    "duration": 130,
    "start_time": "2025-01-04T10:16:09.563Z"
   },
   {
    "duration": 9,
    "start_time": "2025-01-04T10:16:09.695Z"
   },
   {
    "duration": 55,
    "start_time": "2025-01-04T10:16:09.705Z"
   },
   {
    "duration": 1000,
    "start_time": "2025-01-04T10:16:09.763Z"
   },
   {
    "duration": 519,
    "start_time": "2025-01-04T10:16:10.765Z"
   },
   {
    "duration": 772,
    "start_time": "2025-01-04T10:16:11.286Z"
   },
   {
    "duration": 7,
    "start_time": "2025-01-04T10:16:12.062Z"
   },
   {
    "duration": 152,
    "start_time": "2025-01-04T10:16:12.072Z"
   },
   {
    "duration": 0,
    "start_time": "2025-01-04T10:16:12.226Z"
   },
   {
    "duration": 0,
    "start_time": "2025-01-04T10:16:12.228Z"
   },
   {
    "duration": 0,
    "start_time": "2025-01-04T10:16:12.231Z"
   },
   {
    "duration": 0,
    "start_time": "2025-01-04T10:16:12.234Z"
   },
   {
    "duration": 0,
    "start_time": "2025-01-04T10:16:12.236Z"
   },
   {
    "duration": 0,
    "start_time": "2025-01-04T10:16:12.237Z"
   },
   {
    "duration": 0,
    "start_time": "2025-01-04T10:16:12.238Z"
   },
   {
    "duration": 0,
    "start_time": "2025-01-04T10:16:12.239Z"
   },
   {
    "duration": 0,
    "start_time": "2025-01-04T10:16:12.240Z"
   },
   {
    "duration": 0,
    "start_time": "2025-01-04T10:16:12.242Z"
   },
   {
    "duration": 0,
    "start_time": "2025-01-04T10:16:12.243Z"
   },
   {
    "duration": 47,
    "start_time": "2025-02-18T11:13:45.581Z"
   },
   {
    "duration": 1716,
    "start_time": "2025-02-18T11:14:32.345Z"
   },
   {
    "duration": 65,
    "start_time": "2025-02-18T11:14:34.837Z"
   },
   {
    "duration": 9,
    "start_time": "2025-02-18T11:14:36.407Z"
   },
   {
    "duration": 4,
    "start_time": "2025-02-18T11:14:36.782Z"
   },
   {
    "duration": 904,
    "start_time": "2025-02-18T11:14:38.633Z"
   },
   {
    "duration": 474,
    "start_time": "2025-02-18T11:14:39.597Z"
   },
   {
    "duration": 632,
    "start_time": "2025-02-18T11:14:41.787Z"
   },
   {
    "duration": 4,
    "start_time": "2025-02-18T11:14:44.485Z"
   },
   {
    "duration": 7,
    "start_time": "2025-02-18T11:14:49.772Z"
   },
   {
    "duration": 4,
    "start_time": "2025-02-18T11:14:53.327Z"
   },
   {
    "duration": 40,
    "start_time": "2025-02-18T11:14:54.471Z"
   },
   {
    "duration": 31,
    "start_time": "2025-02-18T11:14:54.621Z"
   },
   {
    "duration": 5,
    "start_time": "2025-02-18T11:14:54.730Z"
   },
   {
    "duration": 208,
    "start_time": "2025-02-18T11:14:54.842Z"
   },
   {
    "duration": 84,
    "start_time": "2025-02-18T11:14:55.451Z"
   },
   {
    "duration": 14890,
    "start_time": "2025-02-18T11:14:55.558Z"
   },
   {
    "duration": 98,
    "start_time": "2025-02-18T11:15:10.451Z"
   },
   {
    "duration": 195905,
    "start_time": "2025-02-18T11:15:10.551Z"
   },
   {
    "duration": 88304,
    "start_time": "2025-02-18T11:18:26.549Z"
   },
   {
    "duration": 98,
    "start_time": "2025-02-18T11:19:54.856Z"
   }
  ],
  "kernelspec": {
   "display_name": "Python 3 (ipykernel)",
   "language": "python",
   "name": "python3"
  },
  "language_info": {
   "codemirror_mode": {
    "name": "ipython",
    "version": 3
   },
   "file_extension": ".py",
   "mimetype": "text/x-python",
   "name": "python",
   "nbconvert_exporter": "python",
   "pygments_lexer": "ipython3",
   "version": "3.9.5"
  },
  "toc": {
   "base_numbering": 1,
   "nav_menu": {},
   "number_sections": true,
   "sideBar": true,
   "skip_h1_title": true,
   "title_cell": "Содержание",
   "title_sidebar": "Contents",
   "toc_cell": true,
   "toc_position": {},
   "toc_section_display": true,
   "toc_window_display": true
  }
 },
 "nbformat": 4,
 "nbformat_minor": 2
}

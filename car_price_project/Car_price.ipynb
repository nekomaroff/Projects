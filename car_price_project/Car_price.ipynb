{
 "cells": [
  {
   "cell_type": "markdown",
   "metadata": {
    "toc": true
   },
   "source": [
    "<h1>Содержание<span class=\"tocSkip\"></span></h1>\n",
    "<div class=\"toc\"><ul class=\"toc-item\"><li><span><a href=\"#Подготовка-данных\" data-toc-modified-id=\"Подготовка-данных-1\"><span class=\"toc-item-num\">1&nbsp;&nbsp;</span>Подготовка данных</a></span><ul class=\"toc-item\"><li><span><a href=\"#Предосмотр-данных\" data-toc-modified-id=\"Предосмотр-данных-1.1\"><span class=\"toc-item-num\">1.1&nbsp;&nbsp;</span>Предосмотр данных</a></span></li><li><span><a href=\"#Предобработка-данных\" data-toc-modified-id=\"Предобработка-данных-1.2\"><span class=\"toc-item-num\">1.2&nbsp;&nbsp;</span>Предобработка данных</a></span></li><li><span><a href=\"#Исследовательский-анализ\" data-toc-modified-id=\"Исследовательский-анализ-1.3\"><span class=\"toc-item-num\">1.3&nbsp;&nbsp;</span>Исследовательский анализ</a></span></li><li><span><a href=\"#Подготовка-выборок-для-обучения-моделей\" data-toc-modified-id=\"Подготовка-выборок-для-обучения-моделей-1.4\"><span class=\"toc-item-num\">1.4&nbsp;&nbsp;</span>Подготовка выборок для обучения моделей</a></span></li></ul></li><li><span><a href=\"#Обучение-моделей\" data-toc-modified-id=\"Обучение-моделей-2\"><span class=\"toc-item-num\">2&nbsp;&nbsp;</span>Обучение моделей</a></span><ul class=\"toc-item\"><li><span><a href=\"#Модель-линейной-регрессии\" data-toc-modified-id=\"Модель-линейной-регрессии-2.1\"><span class=\"toc-item-num\">2.1&nbsp;&nbsp;</span>Модель линейной регрессии</a></span></li><li><span><a href=\"#Модель-дерева-решений\" data-toc-modified-id=\"Модель-дерева-решений-2.2\"><span class=\"toc-item-num\">2.2&nbsp;&nbsp;</span>Модель дерева решений</a></span></li><li><span><a href=\"#Модель-случайного-леса\" data-toc-modified-id=\"Модель-случайного-леса-2.3\"><span class=\"toc-item-num\">2.3&nbsp;&nbsp;</span>Модель случайного леса</a></span></li><li><span><a href=\"#Модель-CatBoost\" data-toc-modified-id=\"Модель-CatBoost-2.4\"><span class=\"toc-item-num\">2.4&nbsp;&nbsp;</span>Модель CatBoost</a></span></li><li><span><a href=\"#Модель-LightGBM\" data-toc-modified-id=\"Модель-LightGBM-2.5\"><span class=\"toc-item-num\">2.5&nbsp;&nbsp;</span>Модель LightGBM</a></span></li></ul></li><li><span><a href=\"#Анализ-моделей\" data-toc-modified-id=\"Анализ-моделей-3\"><span class=\"toc-item-num\">3&nbsp;&nbsp;</span>Анализ моделей</a></span><ul class=\"toc-item\"><li><span><a href=\"#Модель-линейной-регрессии\" data-toc-modified-id=\"Модель-линейной-регрессии-3.1\"><span class=\"toc-item-num\">3.1&nbsp;&nbsp;</span>Модель линейной регрессии</a></span></li><li><span><a href=\"#Модель-дерева-решений\" data-toc-modified-id=\"Модель-дерева-решений-3.2\"><span class=\"toc-item-num\">3.2&nbsp;&nbsp;</span>Модель дерева решений</a></span></li><li><span><a href=\"#Модель-случайного-леса\" data-toc-modified-id=\"Модель-случайного-леса-3.3\"><span class=\"toc-item-num\">3.3&nbsp;&nbsp;</span>Модель случайного леса</a></span></li><li><span><a href=\"#Модель-CatBoost\" data-toc-modified-id=\"Модель-CatBoost-3.4\"><span class=\"toc-item-num\">3.4&nbsp;&nbsp;</span>Модель CatBoost</a></span></li><li><span><a href=\"#Модель-LightGBM\" data-toc-modified-id=\"Модель-LightGBM-3.5\"><span class=\"toc-item-num\">3.5&nbsp;&nbsp;</span>Модель LightGBM</a></span></li></ul></li><li><span><a href=\"#Чек-лист-проверки\" data-toc-modified-id=\"Чек-лист-проверки-4\"><span class=\"toc-item-num\">4&nbsp;&nbsp;</span>Чек-лист проверки</a></span></li></ul></div>"
   ]
  },
  {
   "cell_type": "markdown",
   "metadata": {},
   "source": [
    "<div class=\"alert alert-info\">\n",
    "<font size=\"5\"><b>Комментарий ревьюера</b></font>\n",
    "\n",
    "Привет Вячеслав! Меня зовут Марат, и я буду твоим ревьюером.  По поводу обращения - в IT сфере принято общаться на «ты» :) Но, если привычней на «вы», дай знать. Как ревьюера моя задача помочь тебе в развитии, дав хорошие советы. Я внимательно посмотрю твой код, ознакомлюсь с твоими выводами и оставлю комментарии. Где то могу предложить небольшие исправление в коде, но ненавязчиво. Где потребуются уточнения, я оставлю много наводящих вопросов. Они помогут тебя с поиском верного решения.\n",
    "\n",
    "Все мои комментарии размечены по цветам, для лучшего восприятия. \n",
    "    \n",
    "<div class=\"alert alert-success\">Зеленым цветом и словом «Успех» отмечены особо удачные и элегантные решения, которыми ты можешь гордиться. </div>\n",
    "        \n",
    "<div class=\"alert alert-warning\">Желтым и значком словом «Совет», помечены решения у которых есть альтернативные решения, более оптимальные. Ты можешь найти их сразу и доработать проект, или отложить это на потом, для будущих проектах. Проект будет принят и без их доработки. </div>\n",
    "        \n",
    "<div class=\"alert alert-danger\"> Красным цветом и значком словом «Ошибка» помечу твои решения, на которые стоит обратить внимание прежде всего. После их доработки проект будет принят. </div>\n",
    "        \n",
    "Залог успеха - работа сообща, взаимное уважение и работа в диалоге. Поэтому, помечай свои ответные комментарии на мои реплики заметным цветом или курсивом, так мне будет легче их отслеживать. Пожалуйста, не изменяй и не удаляй мои комментарии. Все это поможет выполнить повторную проверку быстрей.\n",
    "\n",
    "</div>"
   ]
  },
  {
   "cell_type": "markdown",
   "metadata": {},
   "source": [
    "# Определение стоимости автомобилей"
   ]
  },
  {
   "cell_type": "markdown",
   "metadata": {},
   "source": [
    "Сервис по продаже автомобилей с пробегом «Не бит, не крашен» разрабатывает приложение для привлечения новых клиентов. В нём можно быстро узнать рыночную стоимость своего автомобиля. В вашем распоряжении исторические данные: технические характеристики, комплектации и цены автомобилей. Вам нужно построить модель для определения стоимости. \n",
    "\n",
    "Заказчику важны:\n",
    "\n",
    "- качество предсказания;\n",
    "- скорость предсказания;\n",
    "- время обучения."
   ]
  },
  {
   "cell_type": "markdown",
   "metadata": {},
   "source": [
    "**План проекта:**\n",
    "- подготовим данные (проведем предобработку, исследовательский анализ и подготовим выборки)\n",
    "- обучим модели\n",
    "- проанализируем характеристики и качество моделей и выберем лучшую\n",
    "- напишем вывод"
   ]
  },
  {
   "cell_type": "code",
   "execution_count": 1,
   "metadata": {},
   "outputs": [],
   "source": [
    "# импорт всех нужных библиотек и метрик\n",
    "import pandas as pd\n",
    "import re\n",
    "import numpy as np\n",
    "from matplotlib import pyplot as plt\n",
    "import seaborn as sns\n",
    "from sklearn.linear_model import LinearRegression\n",
    "from sklearn.ensemble import RandomForestRegressor\n",
    "from sklearn.dummy import DummyRegressor\n",
    "from sklearn.model_selection import train_test_split\n",
    "from sklearn.preprocessing import StandardScaler\n",
    "from sklearn.metrics import mean_squared_error\n",
    "from sklearn.preprocessing import OrdinalEncoder\n",
    "from sklearn.tree import DecisionTreeRegressor\n",
    "from sklearn.ensemble import RandomForestRegressor\n",
    "import lightgbm as lgb\n",
    "from sklearn.model_selection import GridSearchCV\n",
    "from catboost import CatBoostRegressor\n",
    "from sklearn.model_selection import cross_val_score\n",
    "!pip install lightgbm\n",
    "import lightgbm\n",
    "print(lightgbm.__version__)\n",
    "from sklearn.pipeline import Pipeline\n",
    "import time"
   ]
  },
  {
   "cell_type": "markdown",
   "metadata": {},
   "source": [
    "## Подготовка данных"
   ]
  },
  {
   "cell_type": "markdown",
   "metadata": {},
   "source": [
    "### Предосмотр данных"
   ]
  },
  {
   "cell_type": "code",
   "execution_count": 2,
   "metadata": {},
   "outputs": [],
   "source": [
    "auto = pd.read_csv('/datasets/autos.csv', parse_dates = ['DateCrawled', 'DateCreated', 'LastSeen'])"
   ]
  },
  {
   "cell_type": "markdown",
   "metadata": {},
   "source": [
    "     \n",
    "\n",
    "<div class=\"alert alert-warning\">\n",
    "<font size=\"5\"><b>Комментарий ревьюера</b></font>\n",
    "\n",
    "\n",
    "\n",
    "Совет 🤔:\n",
    "\n",
    "\n",
    " \n",
    "\n",
    "- Обрати внимание что ниже у cтолбцоы с датами тип данных определился некорректно (должен быть datetime64[ns]). Это легко поправить если использовать при чтении аргумент  parse_dates. Если у нас установлен верный тип данных, это значит что мы сможем легко вытаскивать информацию о годе, месяце, дня, времени, можем вычитать, прибавлять из столбца с датами другой столбец с датами, получая осмысленную информацию \n",
    "\n",
    "\n",
    "\n",
    "\n",
    "    \n",
    "    \n",
    "\n"
   ]
  },
  {
   "cell_type": "markdown",
   "metadata": {},
   "source": [
    "<div class=\"alert alert-info\">\n",
    "И правда, можно даже не исправлять после этого тип данных, а сразу все правильно вывести\n",
    "</div>"
   ]
  },
  {
   "cell_type": "markdown",
   "metadata": {},
   "source": [
    "<div class=\"alert alert-success\">\n",
    "<font size=\"5\"><b>Комментарий ревьюераV2</b></font>\n",
    "\n",
    "\n",
    "\n",
    "Успех 👍:\n",
    "\n",
    "\n",
    "\n",
    "👍\n",
    "\n",
    "\n",
    "(Там ещё есть такие аргументы как sep, desimal.  Если например в файле ошибочно вместо точки используется запятая для разделителя десятичных от целых,  то desimal = ',' числа прочтутся некорректно как текст...В общем всегда можно заглянуть в туториал любой функции посмотреть какие есть дополнительные аргументы) "
   ]
  },
  {
   "cell_type": "code",
   "execution_count": 3,
   "metadata": {
    "scrolled": false
   },
   "outputs": [
    {
     "data": {
      "text/html": [
       "<div>\n",
       "<style scoped>\n",
       "    .dataframe tbody tr th:only-of-type {\n",
       "        vertical-align: middle;\n",
       "    }\n",
       "\n",
       "    .dataframe tbody tr th {\n",
       "        vertical-align: top;\n",
       "    }\n",
       "\n",
       "    .dataframe thead th {\n",
       "        text-align: right;\n",
       "    }\n",
       "</style>\n",
       "<table border=\"1\" class=\"dataframe\">\n",
       "  <thead>\n",
       "    <tr style=\"text-align: right;\">\n",
       "      <th></th>\n",
       "      <th>DateCrawled</th>\n",
       "      <th>Price</th>\n",
       "      <th>VehicleType</th>\n",
       "      <th>RegistrationYear</th>\n",
       "      <th>Gearbox</th>\n",
       "      <th>Power</th>\n",
       "      <th>Model</th>\n",
       "      <th>Kilometer</th>\n",
       "      <th>RegistrationMonth</th>\n",
       "      <th>FuelType</th>\n",
       "      <th>Brand</th>\n",
       "      <th>Repaired</th>\n",
       "      <th>DateCreated</th>\n",
       "      <th>NumberOfPictures</th>\n",
       "      <th>PostalCode</th>\n",
       "      <th>LastSeen</th>\n",
       "    </tr>\n",
       "  </thead>\n",
       "  <tbody>\n",
       "    <tr>\n",
       "      <th>0</th>\n",
       "      <td>2016-03-24 11:52:17</td>\n",
       "      <td>480</td>\n",
       "      <td>NaN</td>\n",
       "      <td>1993</td>\n",
       "      <td>manual</td>\n",
       "      <td>0</td>\n",
       "      <td>golf</td>\n",
       "      <td>150000</td>\n",
       "      <td>0</td>\n",
       "      <td>petrol</td>\n",
       "      <td>volkswagen</td>\n",
       "      <td>NaN</td>\n",
       "      <td>2016-03-24</td>\n",
       "      <td>0</td>\n",
       "      <td>70435</td>\n",
       "      <td>2016-04-07 03:16:57</td>\n",
       "    </tr>\n",
       "    <tr>\n",
       "      <th>1</th>\n",
       "      <td>2016-03-24 10:58:45</td>\n",
       "      <td>18300</td>\n",
       "      <td>coupe</td>\n",
       "      <td>2011</td>\n",
       "      <td>manual</td>\n",
       "      <td>190</td>\n",
       "      <td>NaN</td>\n",
       "      <td>125000</td>\n",
       "      <td>5</td>\n",
       "      <td>gasoline</td>\n",
       "      <td>audi</td>\n",
       "      <td>yes</td>\n",
       "      <td>2016-03-24</td>\n",
       "      <td>0</td>\n",
       "      <td>66954</td>\n",
       "      <td>2016-04-07 01:46:50</td>\n",
       "    </tr>\n",
       "    <tr>\n",
       "      <th>2</th>\n",
       "      <td>2016-03-14 12:52:21</td>\n",
       "      <td>9800</td>\n",
       "      <td>suv</td>\n",
       "      <td>2004</td>\n",
       "      <td>auto</td>\n",
       "      <td>163</td>\n",
       "      <td>grand</td>\n",
       "      <td>125000</td>\n",
       "      <td>8</td>\n",
       "      <td>gasoline</td>\n",
       "      <td>jeep</td>\n",
       "      <td>NaN</td>\n",
       "      <td>2016-03-14</td>\n",
       "      <td>0</td>\n",
       "      <td>90480</td>\n",
       "      <td>2016-04-05 12:47:46</td>\n",
       "    </tr>\n",
       "    <tr>\n",
       "      <th>3</th>\n",
       "      <td>2016-03-17 16:54:04</td>\n",
       "      <td>1500</td>\n",
       "      <td>small</td>\n",
       "      <td>2001</td>\n",
       "      <td>manual</td>\n",
       "      <td>75</td>\n",
       "      <td>golf</td>\n",
       "      <td>150000</td>\n",
       "      <td>6</td>\n",
       "      <td>petrol</td>\n",
       "      <td>volkswagen</td>\n",
       "      <td>no</td>\n",
       "      <td>2016-03-17</td>\n",
       "      <td>0</td>\n",
       "      <td>91074</td>\n",
       "      <td>2016-03-17 17:40:17</td>\n",
       "    </tr>\n",
       "    <tr>\n",
       "      <th>4</th>\n",
       "      <td>2016-03-31 17:25:20</td>\n",
       "      <td>3600</td>\n",
       "      <td>small</td>\n",
       "      <td>2008</td>\n",
       "      <td>manual</td>\n",
       "      <td>69</td>\n",
       "      <td>fabia</td>\n",
       "      <td>90000</td>\n",
       "      <td>7</td>\n",
       "      <td>gasoline</td>\n",
       "      <td>skoda</td>\n",
       "      <td>no</td>\n",
       "      <td>2016-03-31</td>\n",
       "      <td>0</td>\n",
       "      <td>60437</td>\n",
       "      <td>2016-04-06 10:17:21</td>\n",
       "    </tr>\n",
       "    <tr>\n",
       "      <th>5</th>\n",
       "      <td>2016-04-04 17:36:23</td>\n",
       "      <td>650</td>\n",
       "      <td>sedan</td>\n",
       "      <td>1995</td>\n",
       "      <td>manual</td>\n",
       "      <td>102</td>\n",
       "      <td>3er</td>\n",
       "      <td>150000</td>\n",
       "      <td>10</td>\n",
       "      <td>petrol</td>\n",
       "      <td>bmw</td>\n",
       "      <td>yes</td>\n",
       "      <td>2016-04-04</td>\n",
       "      <td>0</td>\n",
       "      <td>33775</td>\n",
       "      <td>2016-04-06 19:17:07</td>\n",
       "    </tr>\n",
       "    <tr>\n",
       "      <th>6</th>\n",
       "      <td>2016-04-01 20:48:51</td>\n",
       "      <td>2200</td>\n",
       "      <td>convertible</td>\n",
       "      <td>2004</td>\n",
       "      <td>manual</td>\n",
       "      <td>109</td>\n",
       "      <td>2_reihe</td>\n",
       "      <td>150000</td>\n",
       "      <td>8</td>\n",
       "      <td>petrol</td>\n",
       "      <td>peugeot</td>\n",
       "      <td>no</td>\n",
       "      <td>2016-04-01</td>\n",
       "      <td>0</td>\n",
       "      <td>67112</td>\n",
       "      <td>2016-04-05 18:18:39</td>\n",
       "    </tr>\n",
       "    <tr>\n",
       "      <th>7</th>\n",
       "      <td>2016-03-21 18:54:38</td>\n",
       "      <td>0</td>\n",
       "      <td>sedan</td>\n",
       "      <td>1980</td>\n",
       "      <td>manual</td>\n",
       "      <td>50</td>\n",
       "      <td>other</td>\n",
       "      <td>40000</td>\n",
       "      <td>7</td>\n",
       "      <td>petrol</td>\n",
       "      <td>volkswagen</td>\n",
       "      <td>no</td>\n",
       "      <td>2016-03-21</td>\n",
       "      <td>0</td>\n",
       "      <td>19348</td>\n",
       "      <td>2016-03-25 16:47:58</td>\n",
       "    </tr>\n",
       "    <tr>\n",
       "      <th>8</th>\n",
       "      <td>2016-04-04 23:42:13</td>\n",
       "      <td>14500</td>\n",
       "      <td>bus</td>\n",
       "      <td>2014</td>\n",
       "      <td>manual</td>\n",
       "      <td>125</td>\n",
       "      <td>c_max</td>\n",
       "      <td>30000</td>\n",
       "      <td>8</td>\n",
       "      <td>petrol</td>\n",
       "      <td>ford</td>\n",
       "      <td>NaN</td>\n",
       "      <td>2016-04-04</td>\n",
       "      <td>0</td>\n",
       "      <td>94505</td>\n",
       "      <td>2016-04-04 23:42:13</td>\n",
       "    </tr>\n",
       "    <tr>\n",
       "      <th>9</th>\n",
       "      <td>2016-03-17 10:53:50</td>\n",
       "      <td>999</td>\n",
       "      <td>small</td>\n",
       "      <td>1998</td>\n",
       "      <td>manual</td>\n",
       "      <td>101</td>\n",
       "      <td>golf</td>\n",
       "      <td>150000</td>\n",
       "      <td>0</td>\n",
       "      <td>NaN</td>\n",
       "      <td>volkswagen</td>\n",
       "      <td>NaN</td>\n",
       "      <td>2016-03-17</td>\n",
       "      <td>0</td>\n",
       "      <td>27472</td>\n",
       "      <td>2016-03-31 17:17:06</td>\n",
       "    </tr>\n",
       "  </tbody>\n",
       "</table>\n",
       "</div>"
      ],
      "text/plain": [
       "          DateCrawled  Price  VehicleType  RegistrationYear Gearbox  Power  \\\n",
       "0 2016-03-24 11:52:17    480          NaN              1993  manual      0   \n",
       "1 2016-03-24 10:58:45  18300        coupe              2011  manual    190   \n",
       "2 2016-03-14 12:52:21   9800          suv              2004    auto    163   \n",
       "3 2016-03-17 16:54:04   1500        small              2001  manual     75   \n",
       "4 2016-03-31 17:25:20   3600        small              2008  manual     69   \n",
       "5 2016-04-04 17:36:23    650        sedan              1995  manual    102   \n",
       "6 2016-04-01 20:48:51   2200  convertible              2004  manual    109   \n",
       "7 2016-03-21 18:54:38      0        sedan              1980  manual     50   \n",
       "8 2016-04-04 23:42:13  14500          bus              2014  manual    125   \n",
       "9 2016-03-17 10:53:50    999        small              1998  manual    101   \n",
       "\n",
       "     Model  Kilometer  RegistrationMonth  FuelType       Brand Repaired  \\\n",
       "0     golf     150000                  0    petrol  volkswagen      NaN   \n",
       "1      NaN     125000                  5  gasoline        audi      yes   \n",
       "2    grand     125000                  8  gasoline        jeep      NaN   \n",
       "3     golf     150000                  6    petrol  volkswagen       no   \n",
       "4    fabia      90000                  7  gasoline       skoda       no   \n",
       "5      3er     150000                 10    petrol         bmw      yes   \n",
       "6  2_reihe     150000                  8    petrol     peugeot       no   \n",
       "7    other      40000                  7    petrol  volkswagen       no   \n",
       "8    c_max      30000                  8    petrol        ford      NaN   \n",
       "9     golf     150000                  0       NaN  volkswagen      NaN   \n",
       "\n",
       "  DateCreated  NumberOfPictures  PostalCode            LastSeen  \n",
       "0  2016-03-24                 0       70435 2016-04-07 03:16:57  \n",
       "1  2016-03-24                 0       66954 2016-04-07 01:46:50  \n",
       "2  2016-03-14                 0       90480 2016-04-05 12:47:46  \n",
       "3  2016-03-17                 0       91074 2016-03-17 17:40:17  \n",
       "4  2016-03-31                 0       60437 2016-04-06 10:17:21  \n",
       "5  2016-04-04                 0       33775 2016-04-06 19:17:07  \n",
       "6  2016-04-01                 0       67112 2016-04-05 18:18:39  \n",
       "7  2016-03-21                 0       19348 2016-03-25 16:47:58  \n",
       "8  2016-04-04                 0       94505 2016-04-04 23:42:13  \n",
       "9  2016-03-17                 0       27472 2016-03-31 17:17:06  "
      ]
     },
     "metadata": {},
     "output_type": "display_data"
    },
    {
     "name": "stdout",
     "output_type": "stream",
     "text": [
      "<class 'pandas.core.frame.DataFrame'>\n",
      "RangeIndex: 354369 entries, 0 to 354368\n",
      "Data columns (total 16 columns):\n",
      " #   Column             Non-Null Count   Dtype         \n",
      "---  ------             --------------   -----         \n",
      " 0   DateCrawled        354369 non-null  datetime64[ns]\n",
      " 1   Price              354369 non-null  int64         \n",
      " 2   VehicleType        316879 non-null  object        \n",
      " 3   RegistrationYear   354369 non-null  int64         \n",
      " 4   Gearbox            334536 non-null  object        \n",
      " 5   Power              354369 non-null  int64         \n",
      " 6   Model              334664 non-null  object        \n",
      " 7   Kilometer          354369 non-null  int64         \n",
      " 8   RegistrationMonth  354369 non-null  int64         \n",
      " 9   FuelType           321474 non-null  object        \n",
      " 10  Brand              354369 non-null  object        \n",
      " 11  Repaired           283215 non-null  object        \n",
      " 12  DateCreated        354369 non-null  datetime64[ns]\n",
      " 13  NumberOfPictures   354369 non-null  int64         \n",
      " 14  PostalCode         354369 non-null  int64         \n",
      " 15  LastSeen           354369 non-null  datetime64[ns]\n",
      "dtypes: datetime64[ns](3), int64(7), object(6)\n",
      "memory usage: 43.3+ MB\n",
      "None\n",
      "Размер датафрема: (354369, 16)\n"
     ]
    }
   ],
   "source": [
    "display(auto.head(10))\n",
    "print(auto.info())\n",
    "auto_shape = auto.shape\n",
    "print(f'Размер датафрема: {auto_shape}')"
   ]
  },
  {
   "cell_type": "markdown",
   "metadata": {},
   "source": [
    "**Вывод по предосмотру данных:**\n",
    "- нужно привести названия столбцов в норму\n",
    "- тип столбцов с датой и временем - object, возможно придется его поменять\n",
    "- в столбце NumberOfPictures на первый взгляд все значения - 0\n",
    "- наблюдаются значения NaN\n",
    "- наблюдаются пропуски"
   ]
  },
  {
   "cell_type": "markdown",
   "metadata": {},
   "source": [
    "*Перед предобработкой исправим названия столбцов а так же удалим неинформативные столбцы*"
   ]
  },
  {
   "cell_type": "code",
   "execution_count": 4,
   "metadata": {},
   "outputs": [
    {
     "name": "stdout",
     "output_type": "stream",
     "text": [
      "Index(['date_crawled', 'price', 'vehicle_type', 'registration_year', 'gearbox',\n",
      "       'power', 'model', 'kilometer', 'registration_month', 'fuel_type',\n",
      "       'brand', 'repaired', 'date_created', 'number_of_pictures',\n",
      "       'postal_code', 'last_seen'],\n",
      "      dtype='object')\n"
     ]
    }
   ],
   "source": [
    "# изменим названия столбцов \n",
    "auto = auto.rename(columns=lambda x: re.sub(r'(?<!^)([A-Z])', r'_\\1', x).lower())\n",
    "print(auto.columns)"
   ]
  },
  {
   "cell_type": "markdown",
   "metadata": {},
   "source": [
    "\n",
    "<div class=\"alert alert-warning\">\n",
    "<font size=\"5\"><b>Комментарий ревьюера</b></font>\n",
    "\n",
    "\n",
    "\n",
    "Совет 🤔:\n",
    "\n",
    "\n",
    " \n",
    "     \n",
    " можно сэкономить ручной труд воспользовавшись регуляризацией  \n",
    "    \n",
    "    \n",
    "    df.rename(columns=lambda x: re.sub(r'(?<!^)([A-Z])', r'_\\1', x).lower())     \n",
    "     \n",
    "     \n",
    "\n"
   ]
  },
  {
   "cell_type": "markdown",
   "metadata": {},
   "source": [
    "<div class=\"alert alert-info\">\n",
    "подправил\n",
    "</div>"
   ]
  },
  {
   "cell_type": "markdown",
   "metadata": {},
   "source": [
    "<div class=\"alert alert-success\">\n",
    "<font size=\"5\"><b>Комментарий ревьюераV2</b></font>\n",
    "\n",
    "\n",
    "\n",
    "Успех 👍:\n",
    "\n",
    "\n",
    "\n",
    "так будет проще\n",
    "\n",
    "\n",
    " "
   ]
  },
  {
   "cell_type": "markdown",
   "metadata": {},
   "source": [
    "*С названиями столбцов теперь все в порядке. Далее удалим неинформативные столбцы*"
   ]
  },
  {
   "cell_type": "code",
   "execution_count": 5,
   "metadata": {
    "scrolled": true
   },
   "outputs": [
    {
     "name": "stdout",
     "output_type": "stream",
     "text": [
      "0    354369\n",
      "Name: number_of_pictures, dtype: int64\n"
     ]
    }
   ],
   "source": [
    "# сначала удалим категориальные неинформативные столбцы\n",
    "auto = auto.drop(['postal_code', 'date_created', \n",
    "                  'last_seen', 'registration_month', 'date_crawled'], axis = 1)\n",
    "\n",
    "\n",
    "# так же рассмотрим количественный столбец number_of_pictires, \n",
    "# который казался подозрительным в предосмотре данных\n",
    "print(auto['number_of_pictures'].value_counts())"
   ]
  },
  {
   "cell_type": "markdown",
   "metadata": {},
   "source": [
    "*Видно столбец с количеством фотографий тут лишний, удалим его*"
   ]
  },
  {
   "cell_type": "code",
   "execution_count": 6,
   "metadata": {},
   "outputs": [],
   "source": [
    "auto = auto.drop(['number_of_pictures'], axis = 1)"
   ]
  },
  {
   "cell_type": "code",
   "execution_count": 7,
   "metadata": {},
   "outputs": [
    {
     "data": {
      "text/html": [
       "<div>\n",
       "<style scoped>\n",
       "    .dataframe tbody tr th:only-of-type {\n",
       "        vertical-align: middle;\n",
       "    }\n",
       "\n",
       "    .dataframe tbody tr th {\n",
       "        vertical-align: top;\n",
       "    }\n",
       "\n",
       "    .dataframe thead th {\n",
       "        text-align: right;\n",
       "    }\n",
       "</style>\n",
       "<table border=\"1\" class=\"dataframe\">\n",
       "  <thead>\n",
       "    <tr style=\"text-align: right;\">\n",
       "      <th></th>\n",
       "      <th>price</th>\n",
       "      <th>vehicle_type</th>\n",
       "      <th>registration_year</th>\n",
       "      <th>gearbox</th>\n",
       "      <th>power</th>\n",
       "      <th>model</th>\n",
       "      <th>kilometer</th>\n",
       "      <th>fuel_type</th>\n",
       "      <th>brand</th>\n",
       "      <th>repaired</th>\n",
       "    </tr>\n",
       "  </thead>\n",
       "  <tbody>\n",
       "    <tr>\n",
       "      <th>0</th>\n",
       "      <td>480</td>\n",
       "      <td>NaN</td>\n",
       "      <td>1993</td>\n",
       "      <td>manual</td>\n",
       "      <td>0</td>\n",
       "      <td>golf</td>\n",
       "      <td>150000</td>\n",
       "      <td>petrol</td>\n",
       "      <td>volkswagen</td>\n",
       "      <td>NaN</td>\n",
       "    </tr>\n",
       "  </tbody>\n",
       "</table>\n",
       "</div>"
      ],
      "text/plain": [
       "   price vehicle_type  registration_year gearbox  power model  kilometer  \\\n",
       "0    480          NaN               1993  manual      0  golf     150000   \n",
       "\n",
       "  fuel_type       brand repaired  \n",
       "0    petrol  volkswagen      NaN  "
      ]
     },
     "metadata": {},
     "output_type": "display_data"
    }
   ],
   "source": [
    "# проверим, что все неинформативные столбцы удалены\n",
    "display(auto.head(1))"
   ]
  },
  {
   "cell_type": "markdown",
   "metadata": {},
   "source": [
    "###  Предобработка данных"
   ]
  },
  {
   "cell_type": "markdown",
   "metadata": {},
   "source": [
    "*В предобработке стоит рассмотреть 3 момента:*"
   ]
  },
  {
   "cell_type": "markdown",
   "metadata": {},
   "source": [
    "**1) Наличие пропусков**"
   ]
  },
  {
   "cell_type": "code",
   "execution_count": 8,
   "metadata": {
    "scrolled": true
   },
   "outputs": [
    {
     "name": "stdout",
     "output_type": "stream",
     "text": [
      "price                    0\n",
      "vehicle_type         37490\n",
      "registration_year        0\n",
      "gearbox              19833\n",
      "power                    0\n",
      "model                19705\n",
      "kilometer                0\n",
      "fuel_type            32895\n",
      "brand                    0\n",
      "repaired             71154\n",
      "dtype: int64\n"
     ]
    }
   ],
   "source": [
    "print(auto.isna().sum())"
   ]
  },
  {
   "cell_type": "markdown",
   "metadata": {},
   "source": [
    "<div class=\"alert alert-warning\">\n",
    "<font size=\"5\"><b>Комментарий ревьюера</b></font>\n",
    "\n",
    "\n",
    "\n",
    "Совет 🤔:\n",
    "\n",
    "\n",
    " \n",
    "\n",
    "\n",
    "\n",
    "Можно визуализировать пропуски с помощью библиотеки [missingno](https://www.dmitrymakarov.ru/data-analysis/nan-06/), выглядит красиво\n",
    "\n",
    "\n",
    "Там кстати есть дополнительный функционал\n",
    "\n",
    "    msno.heatmap(df)\n",
    "\n",
    "Так можно посмотреть на корреляцию между пропусками в разных столбцах. В общем такой удобный инструмент для визуализации и анализа пропущенных значений\n",
    " "
   ]
  },
  {
   "cell_type": "markdown",
   "metadata": {},
   "source": [
    "*Только в repaired пропуски занимают 20%, мы не можем позволить себе удалить все строки с пропусками, ведь тогда потеряем огромный объем информации. Поступим так: удалим только те строки, которые насчитывают 3 из 5 пропусков* "
   ]
  },
  {
   "cell_type": "markdown",
   "metadata": {},
   "source": [
    "<div class=\"alert alert-success\">\n",
    "<font size=\"5\"><b>Комментарий ревьюер</b></font>\n",
    "\n",
    "\n",
    "\n",
    "Успех 👍:\n",
    "\n",
    "\n",
    "\n",
    "Плюс за контроль\n",
    "\n",
    "\n",
    " "
   ]
  },
  {
   "cell_type": "code",
   "execution_count": 9,
   "metadata": {
    "scrolled": false
   },
   "outputs": [
    {
     "name": "stdout",
     "output_type": "stream",
     "text": [
      "(336341, 10)\n"
     ]
    },
    {
     "data": {
      "text/html": [
       "<div>\n",
       "<style scoped>\n",
       "    .dataframe tbody tr th:only-of-type {\n",
       "        vertical-align: middle;\n",
       "    }\n",
       "\n",
       "    .dataframe tbody tr th {\n",
       "        vertical-align: top;\n",
       "    }\n",
       "\n",
       "    .dataframe thead th {\n",
       "        text-align: right;\n",
       "    }\n",
       "</style>\n",
       "<table border=\"1\" class=\"dataframe\">\n",
       "  <thead>\n",
       "    <tr style=\"text-align: right;\">\n",
       "      <th></th>\n",
       "      <th>price</th>\n",
       "      <th>vehicle_type</th>\n",
       "      <th>registration_year</th>\n",
       "      <th>gearbox</th>\n",
       "      <th>power</th>\n",
       "      <th>model</th>\n",
       "      <th>kilometer</th>\n",
       "      <th>fuel_type</th>\n",
       "      <th>brand</th>\n",
       "      <th>repaired</th>\n",
       "    </tr>\n",
       "  </thead>\n",
       "  <tbody>\n",
       "    <tr>\n",
       "      <th>0</th>\n",
       "      <td>480</td>\n",
       "      <td>NaN</td>\n",
       "      <td>1993</td>\n",
       "      <td>manual</td>\n",
       "      <td>0</td>\n",
       "      <td>golf</td>\n",
       "      <td>150000</td>\n",
       "      <td>petrol</td>\n",
       "      <td>volkswagen</td>\n",
       "      <td>NaN</td>\n",
       "    </tr>\n",
       "    <tr>\n",
       "      <th>1</th>\n",
       "      <td>18300</td>\n",
       "      <td>coupe</td>\n",
       "      <td>2011</td>\n",
       "      <td>manual</td>\n",
       "      <td>190</td>\n",
       "      <td>NaN</td>\n",
       "      <td>125000</td>\n",
       "      <td>gasoline</td>\n",
       "      <td>audi</td>\n",
       "      <td>yes</td>\n",
       "    </tr>\n",
       "    <tr>\n",
       "      <th>2</th>\n",
       "      <td>9800</td>\n",
       "      <td>suv</td>\n",
       "      <td>2004</td>\n",
       "      <td>auto</td>\n",
       "      <td>163</td>\n",
       "      <td>grand</td>\n",
       "      <td>125000</td>\n",
       "      <td>gasoline</td>\n",
       "      <td>jeep</td>\n",
       "      <td>NaN</td>\n",
       "    </tr>\n",
       "    <tr>\n",
       "      <th>3</th>\n",
       "      <td>1500</td>\n",
       "      <td>small</td>\n",
       "      <td>2001</td>\n",
       "      <td>manual</td>\n",
       "      <td>75</td>\n",
       "      <td>golf</td>\n",
       "      <td>150000</td>\n",
       "      <td>petrol</td>\n",
       "      <td>volkswagen</td>\n",
       "      <td>no</td>\n",
       "    </tr>\n",
       "    <tr>\n",
       "      <th>4</th>\n",
       "      <td>3600</td>\n",
       "      <td>small</td>\n",
       "      <td>2008</td>\n",
       "      <td>manual</td>\n",
       "      <td>69</td>\n",
       "      <td>fabia</td>\n",
       "      <td>90000</td>\n",
       "      <td>gasoline</td>\n",
       "      <td>skoda</td>\n",
       "      <td>no</td>\n",
       "    </tr>\n",
       "    <tr>\n",
       "      <th>5</th>\n",
       "      <td>650</td>\n",
       "      <td>sedan</td>\n",
       "      <td>1995</td>\n",
       "      <td>manual</td>\n",
       "      <td>102</td>\n",
       "      <td>3er</td>\n",
       "      <td>150000</td>\n",
       "      <td>petrol</td>\n",
       "      <td>bmw</td>\n",
       "      <td>yes</td>\n",
       "    </tr>\n",
       "    <tr>\n",
       "      <th>6</th>\n",
       "      <td>2200</td>\n",
       "      <td>convertible</td>\n",
       "      <td>2004</td>\n",
       "      <td>manual</td>\n",
       "      <td>109</td>\n",
       "      <td>2_reihe</td>\n",
       "      <td>150000</td>\n",
       "      <td>petrol</td>\n",
       "      <td>peugeot</td>\n",
       "      <td>no</td>\n",
       "    </tr>\n",
       "    <tr>\n",
       "      <th>7</th>\n",
       "      <td>0</td>\n",
       "      <td>sedan</td>\n",
       "      <td>1980</td>\n",
       "      <td>manual</td>\n",
       "      <td>50</td>\n",
       "      <td>other</td>\n",
       "      <td>40000</td>\n",
       "      <td>petrol</td>\n",
       "      <td>volkswagen</td>\n",
       "      <td>no</td>\n",
       "    </tr>\n",
       "    <tr>\n",
       "      <th>8</th>\n",
       "      <td>14500</td>\n",
       "      <td>bus</td>\n",
       "      <td>2014</td>\n",
       "      <td>manual</td>\n",
       "      <td>125</td>\n",
       "      <td>c_max</td>\n",
       "      <td>30000</td>\n",
       "      <td>petrol</td>\n",
       "      <td>ford</td>\n",
       "      <td>NaN</td>\n",
       "    </tr>\n",
       "    <tr>\n",
       "      <th>9</th>\n",
       "      <td>999</td>\n",
       "      <td>small</td>\n",
       "      <td>1998</td>\n",
       "      <td>manual</td>\n",
       "      <td>101</td>\n",
       "      <td>golf</td>\n",
       "      <td>150000</td>\n",
       "      <td>NaN</td>\n",
       "      <td>volkswagen</td>\n",
       "      <td>NaN</td>\n",
       "    </tr>\n",
       "  </tbody>\n",
       "</table>\n",
       "</div>"
      ],
      "text/plain": [
       "   price vehicle_type  registration_year gearbox  power    model  kilometer  \\\n",
       "0    480          NaN               1993  manual      0     golf     150000   \n",
       "1  18300        coupe               2011  manual    190      NaN     125000   \n",
       "2   9800          suv               2004    auto    163    grand     125000   \n",
       "3   1500        small               2001  manual     75     golf     150000   \n",
       "4   3600        small               2008  manual     69    fabia      90000   \n",
       "5    650        sedan               1995  manual    102      3er     150000   \n",
       "6   2200  convertible               2004  manual    109  2_reihe     150000   \n",
       "7      0        sedan               1980  manual     50    other      40000   \n",
       "8  14500          bus               2014  manual    125    c_max      30000   \n",
       "9    999        small               1998  manual    101     golf     150000   \n",
       "\n",
       "  fuel_type       brand repaired  \n",
       "0    petrol  volkswagen      NaN  \n",
       "1  gasoline        audi      yes  \n",
       "2  gasoline        jeep      NaN  \n",
       "3    petrol  volkswagen       no  \n",
       "4  gasoline       skoda       no  \n",
       "5    petrol         bmw      yes  \n",
       "6    petrol     peugeot       no  \n",
       "7    petrol  volkswagen       no  \n",
       "8    petrol        ford      NaN  \n",
       "9       NaN  volkswagen      NaN  "
      ]
     },
     "metadata": {},
     "output_type": "display_data"
    }
   ],
   "source": [
    "# удалим строки с пропусками\n",
    "auto = auto.dropna(subset=['vehicle_type', 'fuel_type', 'model', 'repaired', 'gearbox'], thresh = 3)\n",
    "print(auto.shape)\n",
    "display(auto.head(10))"
   ]
  },
  {
   "cell_type": "markdown",
   "metadata": {},
   "source": [
    "*Разобрались с пропусками, так еще и огромный объем информации не потеряли*"
   ]
  },
  {
   "cell_type": "markdown",
   "metadata": {},
   "source": [
    "**2) наличие явных дубликатов**"
   ]
  },
  {
   "cell_type": "code",
   "execution_count": 10,
   "metadata": {},
   "outputs": [
    {
     "name": "stdout",
     "output_type": "stream",
     "text": [
      "43440\n"
     ]
    }
   ],
   "source": [
    "print(auto.duplicated().sum())"
   ]
  },
  {
   "cell_type": "markdown",
   "metadata": {},
   "source": [
    "*Наверное можно было бы поверить в совпадение некоторых строк - одинаковые машины конечно же есть, но вот совпадение пробега... В общем удалим все явные дубликаты*"
   ]
  },
  {
   "cell_type": "code",
   "execution_count": 11,
   "metadata": {},
   "outputs": [
    {
     "name": "stdout",
     "output_type": "stream",
     "text": [
      "0\n"
     ]
    }
   ],
   "source": [
    "auto = auto.drop_duplicates()\n",
    "print(auto.duplicated().sum())"
   ]
  },
  {
   "cell_type": "markdown",
   "metadata": {},
   "source": [
    "**3) Наличие неявных дубликатов в категориальных данных**"
   ]
  },
  {
   "cell_type": "code",
   "execution_count": 12,
   "metadata": {},
   "outputs": [
    {
     "name": "stdout",
     "output_type": "stream",
     "text": [
      "[nan 'coupe' 'suv' 'small' 'sedan' 'convertible' 'bus' 'wagon' 'other']\n",
      "\n",
      "['manual' 'auto' nan]\n",
      "\n",
      "['golf' nan 'grand' 'fabia' '3er' '2_reihe' 'other' 'c_max' '3_reihe'\n",
      " 'passat' 'navara' 'ka' 'twingo' 'a_klasse' 'scirocco' '5er' 'meriva'\n",
      " 'arosa' 'c4' 'civic' 'transporter' 'punto' 'e_klasse' 'clio' 'kadett'\n",
      " 'kangoo' 'one' 'fortwo' '1er' 'b_klasse' 'signum' 'astra' 'a8' 'jetta'\n",
      " 'polo' 'fiesta' 'c_klasse' 'micra' 'vito' 'sprinter' '156' 'escort'\n",
      " 'forester' 'xc_reihe' 'scenic' 'a4' 'a1' 'combo' 'focus' 'tt' 'corsa'\n",
      " 'a6' 'jazz' 'omega' 'slk' '7er' '80' '147' 'z_reihe' 'sportage' 'sorento'\n",
      " 'v40' 'ibiza' 'mustang' 'eos' 'touran' 'getz' 'insignia' 'a3' 'almera'\n",
      " 'megane' 'lupo' 'r19' 'zafira' 'caddy' 'mondeo' 'cordoba' 'colt'\n",
      " 'impreza' 'vectra' 'berlingo' 'tiguan' 'i_reihe' 'sharan' '6_reihe'\n",
      " 'panda' 'up' 'seicento' 'ceed' '5_reihe' 'yeti' 'octavia' 'mii'\n",
      " 'rx_reihe' '6er' 'modus' 'fox' 'matiz' 'beetle' 'rio' 'touareg' 'logan'\n",
      " 'spider' 'cuore' 's_max' 'a2' 'galaxy' 'c3' 'viano' 's_klasse' '1_reihe'\n",
      " 'avensis' 'roomster' 'sl' 'kaefer' 'santa' 'cooper' 'leon' '4_reihe' 'a5'\n",
      " '500' 'laguna' 'ptcruiser' 'clk' 'primera' 'espace' 'x_reihe' 'exeo'\n",
      " '159' 'transit' 'juke' 'qashqai' 'carisma' 'accord' 'corolla' 'lanos'\n",
      " 'phaeton' 'verso' 'swift' 'rav' 'picanto' 'boxster' 'kalos' 'superb'\n",
      " 'stilo' 'alhambra' 'mx_reihe' 'roadster' 'ypsilon' 'cayenne' 'galant'\n",
      " 'justy' '90' 'sirion' 'crossfire' 'agila' 'duster' 'cr_reihe' 'v50'\n",
      " 'c_reihe' 'v_klasse' 'm_klasse' 'yaris' 'c5' 'aygo' 'cc' '911' 'bora'\n",
      " 'forfour' 'm_reihe' '100' 'cl' 'tigra' '300c' 'spark' 'kuga' 'x_type'\n",
      " 'ducato' 's_type' 'x_trail' 'toledo' 'altea' 'voyager' 'carnival' 'v70'\n",
      " 'bravo' 'antara' 'tucson' 'c1' 'citigo' 'jimny' 'wrangler' 'lybra' 'q7'\n",
      " 'lancer' 'captiva' 'fusion' 'c2' 'discovery' 'sandero' 'note' '900'\n",
      " 'cherokee' 'clubman' 'samara' 'defender' '601' 'cx_reihe' 'legacy'\n",
      " 'pajero' 'auris' 'niva' 's60' 'nubira' 'vivaro' 'g_klasse' 'freelander'\n",
      " 'lodgy' '850' 'range_rover' 'q3' 'serie_2' 'calibra' 'glk' 'charade'\n",
      " 'croma' 'outlander' 'doblo' 'musa' 'move' '9000' 'v60' '145' '200'\n",
      " 'b_max' 'range_rover_sport' 'aveo' 'terios' 'rangerover' 'q5'\n",
      " 'range_rover_evoque' 'materia' 'delta' 'gl' 'kalina' 'amarok'\n",
      " 'elefantino' 'i3' 'kappa' 'serie_3' 'serie_1']\n",
      "\n",
      "['petrol' 'gasoline' nan 'lpg' 'other' 'hybrid' 'cng' 'electric']\n",
      "\n",
      "['volkswagen' 'audi' 'jeep' 'skoda' 'bmw' 'peugeot' 'ford' 'mazda'\n",
      " 'nissan' 'renault' 'mercedes_benz' 'opel' 'seat' 'citroen' 'honda' 'fiat'\n",
      " 'mini' 'smart' 'alfa_romeo' 'subaru' 'volvo' 'mitsubishi' 'kia' 'hyundai'\n",
      " 'suzuki' 'lancia' 'toyota' 'chevrolet' 'dacia' 'sonstige_autos'\n",
      " 'daihatsu' 'saab' 'chrysler' 'jaguar' 'daewoo' 'rover' 'porsche'\n",
      " 'land_rover' 'trabant' 'lada']\n",
      "\n",
      "[nan 'yes' 'no']\n",
      "\n"
     ]
    }
   ],
   "source": [
    "list_columns = []\n",
    "auto_type = auto['vehicle_type'].dtype\n",
    "for i in auto.columns:\n",
    "    if auto[i].dtype == auto_type:\n",
    "        list_columns.append(i)\n",
    "for j in list_columns:\n",
    "    print(auto[j].unique())\n",
    "    print()\n",
    "auto = auto.query(\"model != '601' and model != 'kalina' and model != 'range_rover_evoque' and model != 'rangerover' and model != 'serie_2' and model != 'trabant'\")"
   ]
  },
  {
   "cell_type": "markdown",
   "metadata": {},
   "source": [
    "*По неявным дубликатам можно заметить в столбце тип топлива значения petrol и gasoline - они по факту одинаковые, так что перезапишем эти значения*"
   ]
  },
  {
   "cell_type": "code",
   "execution_count": 13,
   "metadata": {},
   "outputs": [
    {
     "name": "stdout",
     "output_type": "stream",
     "text": [
      "['petrol' nan 'lpg' 'other' 'hybrid' 'cng' 'electric']\n"
     ]
    }
   ],
   "source": [
    "auto['fuel_type'].replace({'gasoline' : 'petrol'}, inplace = True)\n",
    "print(auto['fuel_type'].unique())"
   ]
  },
  {
   "cell_type": "markdown",
   "metadata": {},
   "source": [
    "<div class=\"alert alert-success\">\n",
    "<font size=\"5\"><b>Комментарий ревьюера </b></font>\n",
    "\n",
    "\n",
    "\n",
    "Успех 👍:\n",
    "\n",
    "\n",
    "\n",
    "👍\n",
    "\n",
    "\n",
    " "
   ]
  },
  {
   "cell_type": "markdown",
   "metadata": {},
   "source": [
    "**1.1) Наличие пропусков**"
   ]
  },
  {
   "cell_type": "markdown",
   "metadata": {},
   "source": [
    "*Теперь заполним пропуски значениями other или unknow, в зависиимости от того, что больше подойдет по смыслу*"
   ]
  },
  {
   "cell_type": "code",
   "execution_count": 14,
   "metadata": {
    "scrolled": true
   },
   "outputs": [],
   "source": [
    "auto['vehicle_type'].fillna('other', inplace = True)\n",
    "\n",
    "auto['fuel_type'].fillna('other', inplace = True)\n",
    "\n",
    "auto['model'].fillna('other', inplace = True)\n",
    "\n",
    "auto['repaired'].fillna('unknow', inplace = True)\n",
    "\n",
    "auto['gearbox'].fillna('unknow', inplace = True)"
   ]
  },
  {
   "cell_type": "markdown",
   "metadata": {},
   "source": [
    " \n",
    "<div class=\"alert alert-success\">\n",
    "<font size=\"5\"><b>Комментарий ревьюера</b></font>\n",
    "\n",
    "\n",
    "\n",
    "Успех 👍:\n",
    "\n",
    "\n",
    " \n",
    "Вполне допустимый вариант заполнения пропусков. \n",
    "\n",
    "\n",
    " \n",
    "\n",
    "<div class=\"alert alert-warning\">\n",
    "\n",
    "\n",
    "\n",
    "Совет 🤔:\n",
    "\n",
    "\n",
    " \n",
    "- Вообще работа с пропусками тема очень тонкая, ведь в любом случае будет происходить искажение данных, каждый новый датасетом скорее всего надо будет требовать какой-то свой уникальный способ работы с пропусками, а как именно - это придёт с опытом. Тут можешь посмотреть какие вообще способы и подходы можно использовать  [первая часть](https://www.dmitrymakarov.ru/data-analysis/nan-06/) ,   [вторая часть](https://www.dmitrymakarov.ru/data-analysis/nan-06-2/) \n",
    " \n",
    " \n",
    "- Хотя это лучше было сделать в pipeline, используя SimpleImpute - удобство в том что при прогнозе на реальных данных нам не пришлось бы в них заполнять пропуски, мы бы сразу применили  pipeline, в котором уже всё есть\n",
    " "
   ]
  },
  {
   "cell_type": "code",
   "execution_count": 15,
   "metadata": {
    "scrolled": true
   },
   "outputs": [
    {
     "name": "stdout",
     "output_type": "stream",
     "text": [
      "(292576, 10)\n"
     ]
    }
   ],
   "source": [
    "print(auto.shape)"
   ]
  },
  {
   "cell_type": "markdown",
   "metadata": {},
   "source": [
    "**Вывод по предобработке данных:**\n",
    "- Названия столбцов были преведены в норму\n",
    "- Неиформативные столбцы были удалены\n",
    "- Были обработаны\n",
    "    - пропуски\n",
    "    - явные дубликаты\n",
    "    - неявные дубликаты\n",
    "- Размер таблицы теперь составляет 292901 строк на 10 столбцов  "
   ]
  },
  {
   "cell_type": "markdown",
   "metadata": {},
   "source": [
    "### Исследовательский анализ"
   ]
  },
  {
   "cell_type": "markdown",
   "metadata": {},
   "source": [
    "*Этот этап нужен нам для того, чтобы обработать аномальные значения в количественных данных*"
   ]
  },
  {
   "cell_type": "code",
   "execution_count": 16,
   "metadata": {
    "scrolled": false
   },
   "outputs": [
    {
     "name": "stdout",
     "output_type": "stream",
     "text": [
      "count    292576.000000\n",
      "mean       4631.409856\n",
      "std        4597.637684\n",
      "min           0.000000\n",
      "25%        1200.000000\n",
      "50%        2950.000000\n",
      "75%        6750.000000\n",
      "max       20000.000000\n",
      "Name: price, dtype: float64\n",
      "\n",
      "0       6847\n",
      "1500    4240\n",
      "500     4226\n",
      "1200    3541\n",
      "1000    3511\n",
      "        ... \n",
      "2965       1\n",
      "4758       1\n",
      "8080       1\n",
      "3730       1\n",
      "8188       1\n",
      "Name: price, Length: 3675, dtype: int64\n"
     ]
    },
    {
     "data": {
      "image/png": "[encoded data removed]",
      "text/plain": [
       "<Figure size 864x360 with 2 Axes>"
      ]
     },
     "metadata": {
      "needs_background": "light"
     },
     "output_type": "display_data"
    },
    {
     "name": "stdout",
     "output_type": "stream",
     "text": [
      "count    292576.000000\n",
      "mean       2003.186451\n",
      "std          25.660402\n",
      "min        1000.000000\n",
      "25%        1999.000000\n",
      "50%        2003.000000\n",
      "75%        2008.000000\n",
      "max        9000.000000\n",
      "Name: registration_year, dtype: float64\n",
      "\n",
      "1999    18602\n",
      "2000    18127\n",
      "2005    17985\n",
      "2001    17059\n",
      "2006    16952\n",
      "        ...  \n",
      "1944        1\n",
      "1946        1\n",
      "1947        1\n",
      "1949        1\n",
      "1000        1\n",
      "Name: registration_year, Length: 108, dtype: int64\n"
     ]
    },
    {
     "data": {
      "image/png": "[encoded data removed]",
      "text/plain": [
       "<Figure size 864x360 with 2 Axes>"
      ]
     },
     "metadata": {
      "needs_background": "light"
     },
     "output_type": "display_data"
    },
    {
     "name": "stdout",
     "output_type": "stream",
     "text": [
      "count    292576.000000\n",
      "mean        114.256053\n",
      "std         201.840695\n",
      "min           0.000000\n",
      "25%          75.000000\n",
      "50%         105.000000\n",
      "75%         143.000000\n",
      "max       20000.000000\n",
      "Name: power, dtype: float64\n",
      "\n",
      "0        26986\n",
      "75       18722\n",
      "150      12328\n",
      "60       12312\n",
      "90       10869\n",
      "         ...  \n",
      "3199         1\n",
      "1405         1\n",
      "1149         1\n",
      "11011        1\n",
      "2172         1\n",
      "Name: power, Length: 700, dtype: int64\n"
     ]
    },
    {
     "data": {
      "image/png": "[encoded data removed]",
      "text/plain": [
       "<Figure size 864x360 with 2 Axes>"
      ]
     },
     "metadata": {
      "needs_background": "light"
     },
     "output_type": "display_data"
    },
    {
     "name": "stdout",
     "output_type": "stream",
     "text": [
      "count    292576.000000\n",
      "mean     127717.481953\n",
      "std       37567.191750\n",
      "min        5000.000000\n",
      "25%      125000.000000\n",
      "50%      150000.000000\n",
      "75%      150000.000000\n",
      "max      150000.000000\n",
      "Name: kilometer, dtype: float64\n",
      "\n",
      "150000    192671\n",
      "125000     31718\n",
      "100000     12816\n",
      "90000      10237\n",
      "80000       8875\n",
      "70000       7732\n",
      "60000       6455\n",
      "50000       5496\n",
      "40000       4302\n",
      "5000        4062\n",
      "30000       3845\n",
      "20000       3399\n",
      "10000        968\n",
      "Name: kilometer, dtype: int64\n"
     ]
    },
    {
     "data": {
      "image/png": "[encoded data removed]",
      "text/plain": [
       "<Figure size 864x360 with 2 Axes>"
      ]
     },
     "metadata": {
      "needs_background": "light"
     },
     "output_type": "display_data"
    }
   ],
   "source": [
    "# построим графики распределения и ящики с усами \n",
    "int_columns = auto['price'].dtype\n",
    "for i in auto.columns:\n",
    "    if auto[i].dtype == int_columns:\n",
    "        fig, (ax1, ax2) = plt.subplots(1, 2, figsize=(12, 5))\n",
    "        \n",
    "        print(auto[i].describe())\n",
    "        print()\n",
    "        print(auto[i].value_counts())\n",
    "\n",
    "        # Ящик с усами\n",
    "        ax1.boxplot(auto[i], vert=False)\n",
    "        ax1.set_title(f'Ящик с усами для {i}')\n",
    "        ax1.set_xlabel(i)\n",
    "\n",
    "        # Гистограмма\n",
    "        ax2.hist(auto[i], bins=15, color='aquamarine', edgecolor='black')\n",
    "        ax2.set_xlim(auto[i].min(), auto[i].max() + 0.5)\n",
    "        ax2.set_title(f'График распределения {i}')\n",
    "        ax2.set_xlabel(i)\n",
    "        ax2.set_ylabel('Частота')\n",
    "\n",
    "        plt.tight_layout() \n",
    "        plt.show()\n",
    "        \n",
    "        "
   ]
  },
  {
   "cell_type": "markdown",
   "metadata": {},
   "source": [
    "*Теперь по порядку*"
   ]
  },
  {
   "cell_type": "markdown",
   "metadata": {},
   "source": [
    "\n",
    "<div class=\"alert alert-success\">\n",
    "<font size=\"5\">\n",
    "<b>Комментарий ревьюера</b></font>\n",
    "\n",
    "\n",
    "\n",
    "\n",
    "\n",
    "Успех:\n",
    "\n",
    "Верно что для количественных признаков использованы как гистограммы, так и ящика с усами, плюс за использование subplots -   стоит стремиться к лаконичному представлению графиков\n",
    "    \n",
    "    \n",
    "    \n",
    "<div class=\"alert alert-warning\">\n",
    "\n",
    "\n",
    "Совет 🤔:\n",
    "\n",
    " \n",
    " \n",
    "- я   бы тебе советовал использовать библиотеку    [seaborn](https://nagornyy.me/it/vizualizatsiia-dannykh-v-seaborn/), она строит  симпатичнее и проще matplotlib\n",
    "\n",
    " \n",
    "    "
   ]
  },
  {
   "cell_type": "markdown",
   "metadata": {},
   "source": [
    "<div class=\"alert alert-info\">\n",
    "Хорошо, в следующих проектах думуаю что прибегну к этому! Сейчас просто очень спешу, что успеть все к дедлайну, так что постараюсь делать только необходимые изменения\n",
    "</div>"
   ]
  },
  {
   "cell_type": "markdown",
   "metadata": {},
   "source": [
    "<div class=\"alert alert-success\">\n",
    "<font size=\"5\"><b>Комментарий ревьюераV2</b></font>\n",
    "\n",
    "\n",
    "\n",
    "Успех 👍:\n",
    "\n",
    "\n",
    "\n",
    "Всё что жёлтым это по желанию\n",
    "\n",
    "\n",
    " "
   ]
  },
  {
   "cell_type": "markdown",
   "metadata": {},
   "source": [
    "**1) price**"
   ]
  },
  {
   "cell_type": "code",
   "execution_count": 17,
   "metadata": {},
   "outputs": [
    {
     "name": "stdout",
     "output_type": "stream",
     "text": [
      "1500     4240\n",
      "500      4226\n",
      "1200     3541\n",
      "1000     3511\n",
      "2500     3490\n",
      "         ... \n",
      "10791       1\n",
      "4759        1\n",
      "2965        1\n",
      "4758        1\n",
      "8188        1\n",
      "Name: price, Length: 3674, dtype: int64\n"
     ]
    }
   ],
   "source": [
    "# удалим те строки, где цена равна 0\n",
    "auto = auto.query('price > 0')\n",
    "print(auto['price'].value_counts())"
   ]
  },
  {
   "cell_type": "markdown",
   "metadata": {},
   "source": [
    "**2) registration_year**"
   ]
  },
  {
   "cell_type": "code",
   "execution_count": 18,
   "metadata": {},
   "outputs": [
    {
     "name": "stdout",
     "output_type": "stream",
     "text": [
      "[1993 2011 2004 2001 2008 1995 2014 1998 2005 1910 2007 2009 2002 2018\n",
      " 1997 1990 2017 1981 2003 2016 1994 1991 1984 2006 1999 2012 2010 2000\n",
      " 1992 2013 1996 1989 2015 1985 1982 1976 1983 1973 1969 1971 1987 1986\n",
      " 1988 1980 1965 1970 1945 1974 1979 1955 1978 1972 1968 1977 1961 1966\n",
      " 1975 1963 1964 1958 1967 1959 1956 1941 1960 1962 1929 1957 1940 1949\n",
      " 1937 1951 1953 2019 1954 2900 6000 1400 1950 4000 1948 1952 1932 3700\n",
      " 5000 1942 1935 1933 1936 6500 1923 1930 1943 1934 1938 1000 1928 1931\n",
      " 1602 1927 1947 1946 1944 1600]\n"
     ]
    }
   ],
   "source": [
    "# здесь рассмотрим поподробней\n",
    "print(auto['registration_year'].unique())"
   ]
  },
  {
   "cell_type": "markdown",
   "metadata": {},
   "source": [
    "*Опираясь на информацию с интернета, первые современные автомобили стали появляться в 1900 году, так что временный интервал будет начинаться в 1900 году, а заканчиваться нынешним*"
   ]
  },
  {
   "cell_type": "code",
   "execution_count": 19,
   "metadata": {},
   "outputs": [
    {
     "name": "stdout",
     "output_type": "stream",
     "text": [
      "[1993 2011 2004 2001 2008 1995 2014 1998 2005 1910 2007 2009 2002 1997\n",
      " 1990 1981 2003 2016 1994 1991 1984 2006 1999 2012 2010 2000 1992 2013\n",
      " 1996 1989 2015 1985 1982 1976 1983 1973 1969 1971 1987 1986 1988 1980\n",
      " 1965 1970 1945 1974 1979 1955 1978 1972 1968 1977 1961 1966 1975 1963\n",
      " 1964 1958 1967 1959 1956 1941 1960 1962 1929 1957 1940 1949 1937 1951\n",
      " 1953 1954 1950 1948 1952 1932 1942 1935 1933 1936 1923 1930 1943 1934\n",
      " 1938 1928 1931 1927 1947 1946 1944]\n"
     ]
    }
   ],
   "source": [
    "auto = auto.query('1900 <= registration_year <= 2016')\n",
    "print(auto['registration_year'].unique())"
   ]
  },
  {
   "cell_type": "markdown",
   "metadata": {},
   "source": [
    "<div class=\"alert alert-danger\">\n",
    "<font size=\"5\"><b>Комментарий ревьюера</b></font>\n",
    "\n",
    "\n",
    "\n",
    "Ошибка ❌:\n",
    "\n",
    "\n",
    " \n",
    "\n",
    "- Тут есть небольшая хитрость.  Чтобы понять границу сверху, нужно было посмотреть на дату регистрации. А сверху он ограничен 2016 годом 3 месяца. Так что получается  2016 год граница сверху. Если есть строчка с больше 2016, то это   ошиибка заполнения клиента, такое лучше убрать. А снизу я бы взял эпоху массовых авто, всё что до него - это скорее всего раритетные автомобили, ценообразование на которых имеет совсем другую природу, поэтому их можно рассмотреть в качестве аномалий которые мы убираем из анализа    \n",
    "     "
   ]
  },
  {
   "cell_type": "markdown",
   "metadata": {},
   "source": [
    "<div class=\"alert alert-info\">\n",
    "Ах да, а я и не заметил\n",
    "</div>"
   ]
  },
  {
   "cell_type": "markdown",
   "metadata": {},
   "source": [
    "**3) power**"
   ]
  },
  {
   "cell_type": "markdown",
   "metadata": {},
   "source": [
    "*Опираясь на информацию с интернета, максимальная мощность для машин доходит до 2000 лошадиных сил, а минимальная - от 50, так что оставим значения в этом интервале*"
   ]
  },
  {
   "cell_type": "code",
   "execution_count": 20,
   "metadata": {},
   "outputs": [
    {
     "name": "stdout",
     "output_type": "stream",
     "text": [
      "50 2000\n"
     ]
    }
   ],
   "source": [
    "auto = auto.query('50 <= power <= 2000')\n",
    "print(auto['power'].min(), auto['power'].max())"
   ]
  },
  {
   "cell_type": "markdown",
   "metadata": {},
   "source": [
    "<div class=\"alert alert-success\">\n",
    "<font size=\"5\"><b>Комментарий ревьюера</b></font>\n",
    "\n",
    "\n",
    "\n",
    "Успех 👍:\n",
    "\n",
    "\n",
    "\n",
    "Есть работа с аномалиями в цене и мощности\n",
    "\n",
    "\n",
    " "
   ]
  },
  {
   "cell_type": "markdown",
   "metadata": {},
   "source": [
    "**4) kilometer**"
   ]
  },
  {
   "cell_type": "markdown",
   "metadata": {},
   "source": [
    "*В столбце пробег ничего исправлять не нужно. Максимальное расстояние доходит до 150 тыс км, что приемлимо*"
   ]
  },
  {
   "cell_type": "code",
   "execution_count": 21,
   "metadata": {
    "scrolled": false
   },
   "outputs": [
    {
     "data": {
      "text/html": [
       "<div>\n",
       "<style scoped>\n",
       "    .dataframe tbody tr th:only-of-type {\n",
       "        vertical-align: middle;\n",
       "    }\n",
       "\n",
       "    .dataframe tbody tr th {\n",
       "        vertical-align: top;\n",
       "    }\n",
       "\n",
       "    .dataframe thead th {\n",
       "        text-align: right;\n",
       "    }\n",
       "</style>\n",
       "<table border=\"1\" class=\"dataframe\">\n",
       "  <thead>\n",
       "    <tr style=\"text-align: right;\">\n",
       "      <th></th>\n",
       "      <th>price</th>\n",
       "      <th>vehicle_type</th>\n",
       "      <th>registration_year</th>\n",
       "      <th>gearbox</th>\n",
       "      <th>power</th>\n",
       "      <th>model</th>\n",
       "      <th>kilometer</th>\n",
       "      <th>fuel_type</th>\n",
       "      <th>brand</th>\n",
       "      <th>repaired</th>\n",
       "    </tr>\n",
       "  </thead>\n",
       "  <tbody>\n",
       "    <tr>\n",
       "      <th>1</th>\n",
       "      <td>18300</td>\n",
       "      <td>coupe</td>\n",
       "      <td>2011</td>\n",
       "      <td>manual</td>\n",
       "      <td>190</td>\n",
       "      <td>other</td>\n",
       "      <td>125000</td>\n",
       "      <td>petrol</td>\n",
       "      <td>audi</td>\n",
       "      <td>yes</td>\n",
       "    </tr>\n",
       "    <tr>\n",
       "      <th>2</th>\n",
       "      <td>9800</td>\n",
       "      <td>suv</td>\n",
       "      <td>2004</td>\n",
       "      <td>auto</td>\n",
       "      <td>163</td>\n",
       "      <td>grand</td>\n",
       "      <td>125000</td>\n",
       "      <td>petrol</td>\n",
       "      <td>jeep</td>\n",
       "      <td>unknow</td>\n",
       "    </tr>\n",
       "    <tr>\n",
       "      <th>3</th>\n",
       "      <td>1500</td>\n",
       "      <td>small</td>\n",
       "      <td>2001</td>\n",
       "      <td>manual</td>\n",
       "      <td>75</td>\n",
       "      <td>golf</td>\n",
       "      <td>150000</td>\n",
       "      <td>petrol</td>\n",
       "      <td>volkswagen</td>\n",
       "      <td>no</td>\n",
       "    </tr>\n",
       "    <tr>\n",
       "      <th>4</th>\n",
       "      <td>3600</td>\n",
       "      <td>small</td>\n",
       "      <td>2008</td>\n",
       "      <td>manual</td>\n",
       "      <td>69</td>\n",
       "      <td>fabia</td>\n",
       "      <td>90000</td>\n",
       "      <td>petrol</td>\n",
       "      <td>skoda</td>\n",
       "      <td>no</td>\n",
       "    </tr>\n",
       "    <tr>\n",
       "      <th>5</th>\n",
       "      <td>650</td>\n",
       "      <td>sedan</td>\n",
       "      <td>1995</td>\n",
       "      <td>manual</td>\n",
       "      <td>102</td>\n",
       "      <td>3er</td>\n",
       "      <td>150000</td>\n",
       "      <td>petrol</td>\n",
       "      <td>bmw</td>\n",
       "      <td>yes</td>\n",
       "    </tr>\n",
       "    <tr>\n",
       "      <th>6</th>\n",
       "      <td>2200</td>\n",
       "      <td>convertible</td>\n",
       "      <td>2004</td>\n",
       "      <td>manual</td>\n",
       "      <td>109</td>\n",
       "      <td>2_reihe</td>\n",
       "      <td>150000</td>\n",
       "      <td>petrol</td>\n",
       "      <td>peugeot</td>\n",
       "      <td>no</td>\n",
       "    </tr>\n",
       "    <tr>\n",
       "      <th>8</th>\n",
       "      <td>14500</td>\n",
       "      <td>bus</td>\n",
       "      <td>2014</td>\n",
       "      <td>manual</td>\n",
       "      <td>125</td>\n",
       "      <td>c_max</td>\n",
       "      <td>30000</td>\n",
       "      <td>petrol</td>\n",
       "      <td>ford</td>\n",
       "      <td>unknow</td>\n",
       "    </tr>\n",
       "    <tr>\n",
       "      <th>9</th>\n",
       "      <td>999</td>\n",
       "      <td>small</td>\n",
       "      <td>1998</td>\n",
       "      <td>manual</td>\n",
       "      <td>101</td>\n",
       "      <td>golf</td>\n",
       "      <td>150000</td>\n",
       "      <td>other</td>\n",
       "      <td>volkswagen</td>\n",
       "      <td>unknow</td>\n",
       "    </tr>\n",
       "    <tr>\n",
       "      <th>10</th>\n",
       "      <td>2000</td>\n",
       "      <td>sedan</td>\n",
       "      <td>2004</td>\n",
       "      <td>manual</td>\n",
       "      <td>105</td>\n",
       "      <td>3_reihe</td>\n",
       "      <td>150000</td>\n",
       "      <td>petrol</td>\n",
       "      <td>mazda</td>\n",
       "      <td>no</td>\n",
       "    </tr>\n",
       "    <tr>\n",
       "      <th>11</th>\n",
       "      <td>2799</td>\n",
       "      <td>wagon</td>\n",
       "      <td>2005</td>\n",
       "      <td>manual</td>\n",
       "      <td>140</td>\n",
       "      <td>passat</td>\n",
       "      <td>150000</td>\n",
       "      <td>petrol</td>\n",
       "      <td>volkswagen</td>\n",
       "      <td>yes</td>\n",
       "    </tr>\n",
       "  </tbody>\n",
       "</table>\n",
       "</div>"
      ],
      "text/plain": [
       "    price vehicle_type  registration_year gearbox  power    model  kilometer  \\\n",
       "1   18300        coupe               2011  manual    190    other     125000   \n",
       "2    9800          suv               2004    auto    163    grand     125000   \n",
       "3    1500        small               2001  manual     75     golf     150000   \n",
       "4    3600        small               2008  manual     69    fabia      90000   \n",
       "5     650        sedan               1995  manual    102      3er     150000   \n",
       "6    2200  convertible               2004  manual    109  2_reihe     150000   \n",
       "8   14500          bus               2014  manual    125    c_max      30000   \n",
       "9     999        small               1998  manual    101     golf     150000   \n",
       "10   2000        sedan               2004  manual    105  3_reihe     150000   \n",
       "11   2799        wagon               2005  manual    140   passat     150000   \n",
       "\n",
       "   fuel_type       brand repaired  \n",
       "1     petrol        audi      yes  \n",
       "2     petrol        jeep   unknow  \n",
       "3     petrol  volkswagen       no  \n",
       "4     petrol       skoda       no  \n",
       "5     petrol         bmw      yes  \n",
       "6     petrol     peugeot       no  \n",
       "8     petrol        ford   unknow  \n",
       "9      other  volkswagen   unknow  \n",
       "10    petrol       mazda       no  \n",
       "11    petrol  volkswagen      yes  "
      ]
     },
     "metadata": {},
     "output_type": "display_data"
    },
    {
     "name": "stdout",
     "output_type": "stream",
     "text": [
      "(248579, 10)\n"
     ]
    }
   ],
   "source": [
    "\n",
    "display(auto.head(10))\n",
    "print(auto.shape)"
   ]
  },
  {
   "cell_type": "markdown",
   "metadata": {},
   "source": [
    "*Заменим все категориальные данные на количественные (бинарные)*"
   ]
  },
  {
   "cell_type": "markdown",
   "metadata": {},
   "source": [
    " \n",
    "<div class=\"alert alert-danger\">\n",
    "<font size=\"5\"><b>Комментарий ревьюера</b></font>\n",
    "\n",
    "Ошибка:\n",
    "\n",
    "\n",
    " - .get_dummies  вполне рабочий инстурмент, но для машинного обучения стоит использовать к OHE.  Почему OHE лучше можно почитать [тут](\n",
    "https://albertum.medium.com/preprocessing-onehotencoder-vs-pandas-get-dummies-3de1f3d77dcc), а [с кодами тут](https://colab.research.google.com/drive/1_gAMXcQKoCShB_l8FNtYEejMnosm9mvt?usp=sharing#scrollTo=organized-pierce) \n",
    "\n",
    "\n",
    "Главная идея при использовании OHE -  кодирование до деления на выборки (test/train) приводит к утечке данных, поэтому используем OHE после train_test_split. Как в случаи с тем же  StandardScaler делаем .fit_transform на train,  .transform на test/valid    \n",
    "\n",
    "\n",
    " "
   ]
  },
  {
   "cell_type": "markdown",
   "metadata": {},
   "source": [
    "<div class=\"alert alert-info\">\n",
    "Понял\n",
    "</div>"
   ]
  },
  {
   "cell_type": "code",
   "execution_count": 22,
   "metadata": {},
   "outputs": [],
   "source": [
    "auto = auto.drop_duplicates().reset_index(drop=True)"
   ]
  },
  {
   "cell_type": "markdown",
   "metadata": {},
   "source": [
    "**Вывод по исследовательскому анализу:**\n",
    "- обработали аномальные значения, оставив строки с\n",
    "    - ценой, **не равной 0 евро**\n",
    "    - датой регистрации, в интервале **с 1900 по 2024 года** \n",
    "    - мощностью, в интервале **от 50 до 2000 лошадинах сил**\n",
    "- в конечном итоге получили датафрейм размером **255_717 строк на 307 столбцов**. Строк стало примерно **на 100_000 меньше**, что составляет чуть больше **25%** из изначального датафрейма, но не убирать все эти строки было нельзя. Столбцы увеличились за счет того, что мы преобразовали категориальные данные в количественные\n",
    "    \n",
    "    "
   ]
  },
  {
   "cell_type": "markdown",
   "metadata": {},
   "source": [
    "<div class=\"alert alert-danger\">\n",
    "<font size=\"5\"><b>Комментарий ревьюера</b></font>\n",
    "\n",
    "\n",
    "\n",
    "Ошибка ❌:\n",
    "\n",
    " \n",
    "\n",
    "\n",
    "- Ниже ты используешь линейную модель. В этом случае рекомендуется провести предварительную проверку на  мультиколлинеарность. А что бы порекомендовал использовать библиотеку phik,  чтобы оценить степень корреляции между категориальными признаками.  Ведь наш проект в том числе про скорость, а по phik  можно обнаружить высокую связь между двумя категориальными признаками, и без потери в качестве метрики убрать один\n",
    "\n",
    "\n",
    "\n",
    " \n",
    "\n",
    "\n",
    "<div class=\"alert alert-warning\">\n",
    "\n",
    "\n",
    "Совет 🤔:\n",
    "\n",
    "\n",
    " \n",
    "\n",
    " \n",
    "\n",
    "\n",
    "\n",
    "- в этом проекте стоит вопрос о выборе модели в том числе на основе затраченного времени, можно попробовать ускориться,  ссжав датасет, приведя его в более экономный тип, с помощью функции которая гуляет на просторах интернета\n",
    "\n",
    "    \n",
    "    # Оптимизация числовых типов данных\n",
    "    def optimize_memory_usage(df: pd.DataFrame, print_size: bool=True) -> pd.DataFrame:\n",
    "        '''\n",
    "        Function optimizes memory usage in dataframe\n",
    "        df: pd.DataFrame - data table\n",
    "        print_size: bool - display of optimization results\n",
    "        return pd.DataFrame - amount of optimized memory\n",
    "        '''\n",
    "        numerics = ['int16', 'int32', 'int64', 'float16', 'float32', 'float64'] # Типы, которые будем проверять на оптимизацию\n",
    "        # Размер занимаемой памяти до оптимизации (в Мб)\n",
    "        before_size = df.memory_usage().sum() / 1024**2    \n",
    "        for column in df.columns:\n",
    "            column_type = df[column].dtypes\n",
    "            if column_type in numerics:\n",
    "                column_min = df[column].min()\n",
    "                column_max = df[column].max()\n",
    "                if str(column_type).startswith('int'):\n",
    "                    if column_min > np.iinfo(np.int8).min and column_max < np.iinfo(np.int8).max:\n",
    "                        df[column] = df[column].astype(np.int8)\n",
    "                    elif column_min > np.iinfo(np.int16).min and column_max < np.iinfo(np.int16).max:\n",
    "                        df[column] = df[column].astype(np.int16)\n",
    "                    elif column_min > np.iinfo(np.int32).min and column_max < np.iinfo(np.int32).max:\n",
    "                        df[column] = df[column].astype(np.int32)\n",
    "                    elif column_min > np.iinfo(np.int64).min and column_max < np.iinfo(np.int64).max:\n",
    "                        df[column] = df[column].astype(np.int64)  \n",
    "                else:\n",
    "                    if column_min > np.finfo(np.float32).min and column_max < np.finfo(np.float32).max:\n",
    "                        df[column] = df[column].astype(np.float32)\n",
    "                    else:\n",
    "                        df[column] = df[column].astype(np.float64)    \n",
    "        # Размер занимаемой памяти после оптимизации (в Мб)\n",
    "        after_size = df.memory_usage().sum() / 1024**2\n",
    "        if print_size: print('Размер использования памяти: до {:5.2f} Mb - после {:5.2f} Mb ({:.1f}%)'\n",
    "                             .format(before_size, after_size, 100 * (before_size - after_size) / before_size))\n",
    "        return df\n",
    "                                                                                                   \n",
    "                                                                                                   \n",
    "Проверяет минимальное и максимальное значения в столбце. Если значения могут уместиться в типе данных меньшего размера (например, np.int8 вместо np.int16), столбец конвертируется в более компактный тип данных. И для оценки стоило всё это начинать, подсчитывается размер занимаемой памяти DataFrame до и после оптимизации и выводит разницу в процентах"
   ]
  },
  {
   "cell_type": "markdown",
   "metadata": {},
   "source": [
    "<div class=\"alert alert-info\">\n",
    "Доработал\n",
    "</div>"
   ]
  },
  {
   "cell_type": "code",
   "execution_count": 23,
   "metadata": {
    "scrolled": false
   },
   "outputs": [
    {
     "name": "stdout",
     "output_type": "stream",
     "text": [
      "Requirement already satisfied: phik in /opt/conda/lib/python3.9/site-packages (0.12.4)\n",
      "Requirement already satisfied: pandas>=0.25.1 in /opt/conda/lib/python3.9/site-packages (from phik) (1.2.4)\n",
      "Requirement already satisfied: matplotlib>=2.2.3 in /opt/conda/lib/python3.9/site-packages (from phik) (3.3.4)\n",
      "Requirement already satisfied: scipy>=1.5.2 in /opt/conda/lib/python3.9/site-packages (from phik) (1.9.1)\n",
      "Requirement already satisfied: numpy>=1.18.0 in /opt/conda/lib/python3.9/site-packages (from phik) (1.21.1)\n",
      "Requirement already satisfied: joblib>=0.14.1 in /opt/conda/lib/python3.9/site-packages (from phik) (1.1.0)\n",
      "Requirement already satisfied: cycler>=0.10 in /opt/conda/lib/python3.9/site-packages (from matplotlib>=2.2.3->phik) (0.11.0)\n",
      "Requirement already satisfied: python-dateutil>=2.1 in /opt/conda/lib/python3.9/site-packages (from matplotlib>=2.2.3->phik) (2.8.1)\n",
      "Requirement already satisfied: pillow>=6.2.0 in /opt/conda/lib/python3.9/site-packages (from matplotlib>=2.2.3->phik) (8.4.0)\n",
      "Requirement already satisfied: kiwisolver>=1.0.1 in /opt/conda/lib/python3.9/site-packages (from matplotlib>=2.2.3->phik) (1.4.4)\n",
      "Requirement already satisfied: pyparsing!=2.0.4,!=2.1.2,!=2.1.6,>=2.0.3 in /opt/conda/lib/python3.9/site-packages (from matplotlib>=2.2.3->phik) (2.4.7)\n",
      "Requirement already satisfied: pytz>=2017.3 in /opt/conda/lib/python3.9/site-packages (from pandas>=0.25.1->phik) (2021.1)\n",
      "Requirement already satisfied: six>=1.5 in /opt/conda/lib/python3.9/site-packages (from python-dateutil>=2.1->matplotlib>=2.2.3->phik) (1.16.0)\n",
      "interval columns not set, guessing: ['price', 'registration_year', 'power', 'kilometer']\n"
     ]
    },
    {
     "data": {
      "text/html": [
       "<style  type=\"text/css\" >\n",
       "#T_0611e_row0_col0,#T_0611e_row1_col1,#T_0611e_row2_col2,#T_0611e_row3_col3,#T_0611e_row4_col4,#T_0611e_row5_col5,#T_0611e_row5_col8,#T_0611e_row6_col6,#T_0611e_row7_col7,#T_0611e_row8_col5,#T_0611e_row8_col8,#T_0611e_row9_col9{\n",
       "            background-color:  #b40426;\n",
       "            color:  #f1f1f1;\n",
       "        }#T_0611e_row0_col1,#T_0611e_row4_col0{\n",
       "            background-color:  #6a8bef;\n",
       "            color:  #000000;\n",
       "        }#T_0611e_row0_col2,#T_0611e_row2_col5{\n",
       "            background-color:  #c7d7f0;\n",
       "            color:  #000000;\n",
       "        }#T_0611e_row0_col3,#T_0611e_row0_col4,#T_0611e_row9_col6{\n",
       "            background-color:  #82a6fb;\n",
       "            color:  #000000;\n",
       "        }#T_0611e_row0_col5{\n",
       "            background-color:  #cdd9ec;\n",
       "            color:  #000000;\n",
       "        }#T_0611e_row0_col6{\n",
       "            background-color:  #9dbdff;\n",
       "            color:  #000000;\n",
       "        }#T_0611e_row0_col7{\n",
       "            background-color:  #465ecf;\n",
       "            color:  #f1f1f1;\n",
       "        }#T_0611e_row0_col8,#T_0611e_row4_col5{\n",
       "            background-color:  #8fb1fe;\n",
       "            color:  #000000;\n",
       "        }#T_0611e_row0_col9{\n",
       "            background-color:  #a7c5fe;\n",
       "            color:  #000000;\n",
       "        }#T_0611e_row1_col0,#T_0611e_row1_col6{\n",
       "            background-color:  #7093f3;\n",
       "            color:  #000000;\n",
       "        }#T_0611e_row1_col2,#T_0611e_row1_col4,#T_0611e_row3_col9,#T_0611e_row8_col9{\n",
       "            background-color:  #5a78e4;\n",
       "            color:  #000000;\n",
       "        }#T_0611e_row1_col3{\n",
       "            background-color:  #7396f5;\n",
       "            color:  #000000;\n",
       "        }#T_0611e_row1_col5{\n",
       "            background-color:  #dc5d4a;\n",
       "            color:  #000000;\n",
       "        }#T_0611e_row1_col7{\n",
       "            background-color:  #5673e0;\n",
       "            color:  #000000;\n",
       "        }#T_0611e_row1_col8{\n",
       "            background-color:  #edd1c2;\n",
       "            color:  #000000;\n",
       "        }#T_0611e_row1_col9{\n",
       "            background-color:  #5f7fe8;\n",
       "            color:  #000000;\n",
       "        }#T_0611e_row2_col0{\n",
       "            background-color:  #c0d4f5;\n",
       "            color:  #000000;\n",
       "        }#T_0611e_row2_col1,#T_0611e_row3_col6,#T_0611e_row7_col4{\n",
       "            background-color:  #485fd1;\n",
       "            color:  #f1f1f1;\n",
       "        }#T_0611e_row2_col3{\n",
       "            background-color:  #3c4ec2;\n",
       "            color:  #f1f1f1;\n",
       "        }#T_0611e_row2_col4{\n",
       "            background-color:  #4a63d3;\n",
       "            color:  #f1f1f1;\n",
       "        }#T_0611e_row2_col6{\n",
       "            background-color:  #c6d6f1;\n",
       "            color:  #000000;\n",
       "        }#T_0611e_row2_col7,#T_0611e_row4_col1,#T_0611e_row4_col6,#T_0611e_row4_col7,#T_0611e_row4_col9,#T_0611e_row6_col3,#T_0611e_row6_col4,#T_0611e_row7_col0,#T_0611e_row7_col2,#T_0611e_row9_col5,#T_0611e_row9_col8{\n",
       "            background-color:  #3b4cc0;\n",
       "            color:  #f1f1f1;\n",
       "        }#T_0611e_row2_col8,#T_0611e_row3_col0{\n",
       "            background-color:  #779af7;\n",
       "            color:  #000000;\n",
       "        }#T_0611e_row2_col9{\n",
       "            background-color:  #8badfd;\n",
       "            color:  #000000;\n",
       "        }#T_0611e_row3_col1{\n",
       "            background-color:  #6180e9;\n",
       "            color:  #000000;\n",
       "        }#T_0611e_row3_col2,#T_0611e_row4_col2,#T_0611e_row9_col4{\n",
       "            background-color:  #3d50c3;\n",
       "            color:  #f1f1f1;\n",
       "        }#T_0611e_row3_col4,#T_0611e_row8_col4{\n",
       "            background-color:  #89acfd;\n",
       "            color:  #000000;\n",
       "        }#T_0611e_row3_col5{\n",
       "            background-color:  #dedcdb;\n",
       "            color:  #000000;\n",
       "        }#T_0611e_row3_col7,#T_0611e_row7_col3{\n",
       "            background-color:  #4f69d9;\n",
       "            color:  #000000;\n",
       "        }#T_0611e_row3_col8{\n",
       "            background-color:  #ccd9ed;\n",
       "            color:  #000000;\n",
       "        }#T_0611e_row4_col3{\n",
       "            background-color:  #7b9ff9;\n",
       "            color:  #000000;\n",
       "        }#T_0611e_row4_col8{\n",
       "            background-color:  #688aef;\n",
       "            color:  #000000;\n",
       "        }#T_0611e_row5_col0{\n",
       "            background-color:  #e1dad6;\n",
       "            color:  #000000;\n",
       "        }#T_0611e_row5_col1{\n",
       "            background-color:  #d75445;\n",
       "            color:  #000000;\n",
       "        }#T_0611e_row5_col2{\n",
       "            background-color:  #e2dad5;\n",
       "            color:  #000000;\n",
       "        }#T_0611e_row5_col3{\n",
       "            background-color:  #f0cdbb;\n",
       "            color:  #000000;\n",
       "        }#T_0611e_row5_col4{\n",
       "            background-color:  #c3d5f4;\n",
       "            color:  #000000;\n",
       "        }#T_0611e_row5_col6{\n",
       "            background-color:  #c9d7f0;\n",
       "            color:  #000000;\n",
       "        }#T_0611e_row5_col7{\n",
       "            background-color:  #96b7ff;\n",
       "            color:  #000000;\n",
       "        }#T_0611e_row5_col9{\n",
       "            background-color:  #7a9df8;\n",
       "            color:  #000000;\n",
       "        }#T_0611e_row6_col0{\n",
       "            background-color:  #86a9fc;\n",
       "            color:  #000000;\n",
       "        }#T_0611e_row6_col1,#T_0611e_row7_col8,#T_0611e_row9_col3{\n",
       "            background-color:  #506bda;\n",
       "            color:  #000000;\n",
       "        }#T_0611e_row6_col2{\n",
       "            background-color:  #bed2f6;\n",
       "            color:  #000000;\n",
       "        }#T_0611e_row6_col5{\n",
       "            background-color:  #97b8ff;\n",
       "            color:  #000000;\n",
       "        }#T_0611e_row6_col7{\n",
       "            background-color:  #3f53c6;\n",
       "            color:  #f1f1f1;\n",
       "        }#T_0611e_row6_col8{\n",
       "            background-color:  #6b8df0;\n",
       "            color:  #000000;\n",
       "        }#T_0611e_row6_col9{\n",
       "            background-color:  #80a3fa;\n",
       "            color:  #000000;\n",
       "        }#T_0611e_row7_col1{\n",
       "            background-color:  #4358cb;\n",
       "            color:  #f1f1f1;\n",
       "        }#T_0611e_row7_col5,#T_0611e_row7_col9{\n",
       "            background-color:  #6282ea;\n",
       "            color:  #000000;\n",
       "        }#T_0611e_row7_col6{\n",
       "            background-color:  #4c66d6;\n",
       "            color:  #000000;\n",
       "        }#T_0611e_row8_col0{\n",
       "            background-color:  #98b9ff;\n",
       "            color:  #000000;\n",
       "        }#T_0611e_row8_col1{\n",
       "            background-color:  #eed0c0;\n",
       "            color:  #000000;\n",
       "        }#T_0611e_row8_col2,#T_0611e_row8_col6{\n",
       "            background-color:  #8caffe;\n",
       "            color:  #000000;\n",
       "        }#T_0611e_row8_col3{\n",
       "            background-color:  #d7dce3;\n",
       "            color:  #000000;\n",
       "        }#T_0611e_row8_col7{\n",
       "            background-color:  #6687ed;\n",
       "            color:  #000000;\n",
       "        }#T_0611e_row9_col0{\n",
       "            background-color:  #94b6ff;\n",
       "            color:  #000000;\n",
       "        }#T_0611e_row9_col1{\n",
       "            background-color:  #4257c9;\n",
       "            color:  #f1f1f1;\n",
       "        }#T_0611e_row9_col2{\n",
       "            background-color:  #81a4fb;\n",
       "            color:  #000000;\n",
       "        }#T_0611e_row9_col7{\n",
       "            background-color:  #5875e1;\n",
       "            color:  #000000;\n",
       "        }</style><table id=\"T_0611e_\" ><thead>    <tr>        <th class=\"blank level0\" ></th>        <th class=\"col_heading level0 col0\" >price</th>        <th class=\"col_heading level0 col1\" >vehicle_type</th>        <th class=\"col_heading level0 col2\" >registration_year</th>        <th class=\"col_heading level0 col3\" >gearbox</th>        <th class=\"col_heading level0 col4\" >power</th>        <th class=\"col_heading level0 col5\" >model</th>        <th class=\"col_heading level0 col6\" >kilometer</th>        <th class=\"col_heading level0 col7\" >fuel_type</th>        <th class=\"col_heading level0 col8\" >brand</th>        <th class=\"col_heading level0 col9\" >repaired</th>    </tr></thead><tbody>\n",
       "                <tr>\n",
       "                        <th id=\"T_0611e_level0_row0\" class=\"row_heading level0 row0\" >price</th>\n",
       "                        <td id=\"T_0611e_row0_col0\" class=\"data row0 col0\" >1.000000</td>\n",
       "                        <td id=\"T_0611e_row0_col1\" class=\"data row0 col1\" >0.257857</td>\n",
       "                        <td id=\"T_0611e_row0_col2\" class=\"data row0 col2\" >0.464143</td>\n",
       "                        <td id=\"T_0611e_row0_col3\" class=\"data row0 col3\" >0.274539</td>\n",
       "                        <td id=\"T_0611e_row0_col4\" class=\"data row0 col4\" >0.239357</td>\n",
       "                        <td id=\"T_0611e_row0_col5\" class=\"data row0 col5\" >0.567391</td>\n",
       "                        <td id=\"T_0611e_row0_col6\" class=\"data row0 col6\" >0.312681</td>\n",
       "                        <td id=\"T_0611e_row0_col7\" class=\"data row0 col7\" >0.104903</td>\n",
       "                        <td id=\"T_0611e_row0_col8\" class=\"data row0 col8\" >0.356854</td>\n",
       "                        <td id=\"T_0611e_row0_col9\" class=\"data row0 col9\" >0.348696</td>\n",
       "            </tr>\n",
       "            <tr>\n",
       "                        <th id=\"T_0611e_level0_row1\" class=\"row_heading level0 row1\" >vehicle_type</th>\n",
       "                        <td id=\"T_0611e_row1_col0\" class=\"data row1 col0\" >0.257857</td>\n",
       "                        <td id=\"T_0611e_row1_col1\" class=\"data row1 col1\" >1.000000</td>\n",
       "                        <td id=\"T_0611e_row1_col2\" class=\"data row1 col2\" >0.165699</td>\n",
       "                        <td id=\"T_0611e_row1_col3\" class=\"data row1 col3\" >0.234940</td>\n",
       "                        <td id=\"T_0611e_row1_col4\" class=\"data row1 col4\" >0.127564</td>\n",
       "                        <td id=\"T_0611e_row1_col5\" class=\"data row1 col5\" >0.908420</td>\n",
       "                        <td id=\"T_0611e_row1_col6\" class=\"data row1 col6\" >0.189455</td>\n",
       "                        <td id=\"T_0611e_row1_col7\" class=\"data row1 col7\" >0.153182</td>\n",
       "                        <td id=\"T_0611e_row1_col8\" class=\"data row1 col8\" >0.630393</td>\n",
       "                        <td id=\"T_0611e_row1_col9\" class=\"data row1 col9\" >0.150930</td>\n",
       "            </tr>\n",
       "            <tr>\n",
       "                        <th id=\"T_0611e_level0_row2\" class=\"row_heading level0 row2\" >registration_year</th>\n",
       "                        <td id=\"T_0611e_row2_col0\" class=\"data row2 col0\" >0.464143</td>\n",
       "                        <td id=\"T_0611e_row2_col1\" class=\"data row2 col1\" >0.165699</td>\n",
       "                        <td id=\"T_0611e_row2_col2\" class=\"data row2 col2\" >1.000000</td>\n",
       "                        <td id=\"T_0611e_row2_col3\" class=\"data row2 col3\" >0.076703</td>\n",
       "                        <td id=\"T_0611e_row2_col4\" class=\"data row2 col4\" >0.077810</td>\n",
       "                        <td id=\"T_0611e_row2_col5\" class=\"data row2 col5\" >0.552858</td>\n",
       "                        <td id=\"T_0611e_row2_col6\" class=\"data row2 col6\" >0.435332</td>\n",
       "                        <td id=\"T_0611e_row2_col7\" class=\"data row2 col7\" >0.068479</td>\n",
       "                        <td id=\"T_0611e_row2_col8\" class=\"data row2 col8\" >0.298107</td>\n",
       "                        <td id=\"T_0611e_row2_col9\" class=\"data row2 col9\" >0.268893</td>\n",
       "            </tr>\n",
       "            <tr>\n",
       "                        <th id=\"T_0611e_level0_row3\" class=\"row_heading level0 row3\" >gearbox</th>\n",
       "                        <td id=\"T_0611e_row3_col0\" class=\"data row3 col0\" >0.274539</td>\n",
       "                        <td id=\"T_0611e_row3_col1\" class=\"data row3 col1\" >0.234940</td>\n",
       "                        <td id=\"T_0611e_row3_col2\" class=\"data row3 col2\" >0.076703</td>\n",
       "                        <td id=\"T_0611e_row3_col3\" class=\"data row3 col3\" >1.000000</td>\n",
       "                        <td id=\"T_0611e_row3_col4\" class=\"data row3 col4\" >0.258020</td>\n",
       "                        <td id=\"T_0611e_row3_col5\" class=\"data row3 col5\" >0.616854</td>\n",
       "                        <td id=\"T_0611e_row3_col6\" class=\"data row3 col6\" >0.070124</td>\n",
       "                        <td id=\"T_0611e_row3_col7\" class=\"data row3 col7\" >0.132776</td>\n",
       "                        <td id=\"T_0611e_row3_col8\" class=\"data row3 col8\" >0.515188</td>\n",
       "                        <td id=\"T_0611e_row3_col9\" class=\"data row3 col9\" >0.135616</td>\n",
       "            </tr>\n",
       "            <tr>\n",
       "                        <th id=\"T_0611e_level0_row4\" class=\"row_heading level0 row4\" >power</th>\n",
       "                        <td id=\"T_0611e_row4_col0\" class=\"data row4 col0\" >0.239357</td>\n",
       "                        <td id=\"T_0611e_row4_col1\" class=\"data row4 col1\" >0.127564</td>\n",
       "                        <td id=\"T_0611e_row4_col2\" class=\"data row4 col2\" >0.077810</td>\n",
       "                        <td id=\"T_0611e_row4_col3\" class=\"data row4 col3\" >0.258020</td>\n",
       "                        <td id=\"T_0611e_row4_col4\" class=\"data row4 col4\" >1.000000</td>\n",
       "                        <td id=\"T_0611e_row4_col5\" class=\"data row4 col5\" >0.423683</td>\n",
       "                        <td id=\"T_0611e_row4_col6\" class=\"data row4 col6\" >0.025004</td>\n",
       "                        <td id=\"T_0611e_row4_col7\" class=\"data row4 col7\" >0.068054</td>\n",
       "                        <td id=\"T_0611e_row4_col8\" class=\"data row4 col8\" >0.260024</td>\n",
       "                        <td id=\"T_0611e_row4_col9\" class=\"data row4 col9\" >0.035223</td>\n",
       "            </tr>\n",
       "            <tr>\n",
       "                        <th id=\"T_0611e_level0_row5\" class=\"row_heading level0 row5\" >model</th>\n",
       "                        <td id=\"T_0611e_row5_col0\" class=\"data row5 col0\" >0.567391</td>\n",
       "                        <td id=\"T_0611e_row5_col1\" class=\"data row5 col1\" >0.908420</td>\n",
       "                        <td id=\"T_0611e_row5_col2\" class=\"data row5 col2\" >0.552858</td>\n",
       "                        <td id=\"T_0611e_row5_col3\" class=\"data row5 col3\" >0.616854</td>\n",
       "                        <td id=\"T_0611e_row5_col4\" class=\"data row5 col4\" >0.423683</td>\n",
       "                        <td id=\"T_0611e_row5_col5\" class=\"data row5 col5\" >1.000000</td>\n",
       "                        <td id=\"T_0611e_row5_col6\" class=\"data row5 col6\" >0.442580</td>\n",
       "                        <td id=\"T_0611e_row5_col7\" class=\"data row5 col7\" >0.324710</td>\n",
       "                        <td id=\"T_0611e_row5_col8\" class=\"data row5 col8\" >0.997647</td>\n",
       "                        <td id=\"T_0611e_row5_col9\" class=\"data row5 col9\" >0.225329</td>\n",
       "            </tr>\n",
       "            <tr>\n",
       "                        <th id=\"T_0611e_level0_row6\" class=\"row_heading level0 row6\" >kilometer</th>\n",
       "                        <td id=\"T_0611e_row6_col0\" class=\"data row6 col0\" >0.312681</td>\n",
       "                        <td id=\"T_0611e_row6_col1\" class=\"data row6 col1\" >0.189455</td>\n",
       "                        <td id=\"T_0611e_row6_col2\" class=\"data row6 col2\" >0.435332</td>\n",
       "                        <td id=\"T_0611e_row6_col3\" class=\"data row6 col3\" >0.070124</td>\n",
       "                        <td id=\"T_0611e_row6_col4\" class=\"data row6 col4\" >0.025004</td>\n",
       "                        <td id=\"T_0611e_row6_col5\" class=\"data row6 col5\" >0.442580</td>\n",
       "                        <td id=\"T_0611e_row6_col6\" class=\"data row6 col6\" >1.000000</td>\n",
       "                        <td id=\"T_0611e_row6_col7\" class=\"data row6 col7\" >0.085290</td>\n",
       "                        <td id=\"T_0611e_row6_col8\" class=\"data row6 col8\" >0.268246</td>\n",
       "                        <td id=\"T_0611e_row6_col9\" class=\"data row6 col9\" >0.241035</td>\n",
       "            </tr>\n",
       "            <tr>\n",
       "                        <th id=\"T_0611e_level0_row7\" class=\"row_heading level0 row7\" >fuel_type</th>\n",
       "                        <td id=\"T_0611e_row7_col0\" class=\"data row7 col0\" >0.104903</td>\n",
       "                        <td id=\"T_0611e_row7_col1\" class=\"data row7 col1\" >0.153182</td>\n",
       "                        <td id=\"T_0611e_row7_col2\" class=\"data row7 col2\" >0.068479</td>\n",
       "                        <td id=\"T_0611e_row7_col3\" class=\"data row7 col3\" >0.132776</td>\n",
       "                        <td id=\"T_0611e_row7_col4\" class=\"data row7 col4\" >0.068054</td>\n",
       "                        <td id=\"T_0611e_row7_col5\" class=\"data row7 col5\" >0.324710</td>\n",
       "                        <td id=\"T_0611e_row7_col6\" class=\"data row7 col6\" >0.085290</td>\n",
       "                        <td id=\"T_0611e_row7_col7\" class=\"data row7 col7\" >1.000000</td>\n",
       "                        <td id=\"T_0611e_row7_col8\" class=\"data row7 col8\" >0.196530</td>\n",
       "                        <td id=\"T_0611e_row7_col9\" class=\"data row7 col9\" >0.156786</td>\n",
       "            </tr>\n",
       "            <tr>\n",
       "                        <th id=\"T_0611e_level0_row8\" class=\"row_heading level0 row8\" >brand</th>\n",
       "                        <td id=\"T_0611e_row8_col0\" class=\"data row8 col0\" >0.356854</td>\n",
       "                        <td id=\"T_0611e_row8_col1\" class=\"data row8 col1\" >0.630393</td>\n",
       "                        <td id=\"T_0611e_row8_col2\" class=\"data row8 col2\" >0.298107</td>\n",
       "                        <td id=\"T_0611e_row8_col3\" class=\"data row8 col3\" >0.515188</td>\n",
       "                        <td id=\"T_0611e_row8_col4\" class=\"data row8 col4\" >0.260024</td>\n",
       "                        <td id=\"T_0611e_row8_col5\" class=\"data row8 col5\" >0.997647</td>\n",
       "                        <td id=\"T_0611e_row8_col6\" class=\"data row8 col6\" >0.268246</td>\n",
       "                        <td id=\"T_0611e_row8_col7\" class=\"data row8 col7\" >0.196530</td>\n",
       "                        <td id=\"T_0611e_row8_col8\" class=\"data row8 col8\" >1.000000</td>\n",
       "                        <td id=\"T_0611e_row8_col9\" class=\"data row8 col9\" >0.134835</td>\n",
       "            </tr>\n",
       "            <tr>\n",
       "                        <th id=\"T_0611e_level0_row9\" class=\"row_heading level0 row9\" >repaired</th>\n",
       "                        <td id=\"T_0611e_row9_col0\" class=\"data row9 col0\" >0.348696</td>\n",
       "                        <td id=\"T_0611e_row9_col1\" class=\"data row9 col1\" >0.150930</td>\n",
       "                        <td id=\"T_0611e_row9_col2\" class=\"data row9 col2\" >0.268893</td>\n",
       "                        <td id=\"T_0611e_row9_col3\" class=\"data row9 col3\" >0.135616</td>\n",
       "                        <td id=\"T_0611e_row9_col4\" class=\"data row9 col4\" >0.035223</td>\n",
       "                        <td id=\"T_0611e_row9_col5\" class=\"data row9 col5\" >0.225329</td>\n",
       "                        <td id=\"T_0611e_row9_col6\" class=\"data row9 col6\" >0.241035</td>\n",
       "                        <td id=\"T_0611e_row9_col7\" class=\"data row9 col7\" >0.156786</td>\n",
       "                        <td id=\"T_0611e_row9_col8\" class=\"data row9 col8\" >0.134835</td>\n",
       "                        <td id=\"T_0611e_row9_col9\" class=\"data row9 col9\" >1.000000</td>\n",
       "            </tr>\n",
       "    </tbody></table>"
      ],
      "text/plain": [
       "<pandas.io.formats.style.Styler at 0x7faf6cd3c6d0>"
      ]
     },
     "execution_count": 23,
     "metadata": {},
     "output_type": "execute_result"
    }
   ],
   "source": [
    "! pip install phik\n",
    "import phik\n",
    "auto.phik_matrix().style.background_gradient(cmap ='coolwarm')"
   ]
  },
  {
   "cell_type": "markdown",
   "metadata": {},
   "source": [
    "*Наблюдается маленькая зависимость между price и fuel_type (0.1), но даже такую зависимость я бы не исключал*"
   ]
  },
  {
   "cell_type": "markdown",
   "metadata": {},
   "source": [
    "<div class=\"alert alert-warning\">\n",
    "<font size=\"5\"><b>Комментарий ревьюераV2</b></font>\n",
    "\n",
    "\n",
    "\n",
    "Совет 🤔:\n",
    "\n",
    "\n",
    "Действительно исключать не стоит, ведь сложно нелинейной модели могут учесть более сложные зависимости чем показывает матрица корреляции. К тому же Матрица корреляция показывает связь между признаком и таргетом.  А модель может учесть сложную связь сразу нескольких признаков и таргета.  то есть отдельно признаки могут быть не полезными,  а в комбинации очень даже\n",
    "    \n",
    "Ну вот на что стоило обратить внимание это на высокую корреляцию между брендом и моделью.  По сути они дублируют друг друга, поэтому для ускорения обучения прогнозирования можно было попробовать дропнуть один  из  "
   ]
  },
  {
   "cell_type": "code",
   "execution_count": 24,
   "metadata": {},
   "outputs": [],
   "source": [
    "def optimize_memory_usage(df: pd.DataFrame, print_size: bool=True) -> pd.DataFrame:\n",
    "    '''\n",
    "    Function optimizes memory usage in dataframe\n",
    "    df: pd.DataFrame - data table\n",
    "    print_size: bool - display of optimization results\n",
    "    return pd.DataFrame - amount of optimized memory\n",
    "    '''\n",
    "    numerics = ['int16', 'int32', 'int64', 'float16', 'float32', 'float64']\n",
    "    \n",
    "    before_size = df.memory_usage().sum() / 1024**2    \n",
    "    for column in df.columns:\n",
    "        column_type = df[column].dtypes\n",
    "        if column_type in numerics:\n",
    "            column_min = df[column].min()\n",
    "            column_max = df[column].max()\n",
    "            if str(column_type).startswith('int'):\n",
    "                if column_min > np.iinfo(np.int8).min and column_max < np.iinfo(np.int8).max:\n",
    "                    df[column] = df[column].astype(np.int8)\n",
    "                elif column_min > np.iinfo(np.int16).min and column_max < np.iinfo(np.int16).max:\n",
    "                    df[column] = df[column].astype(np.int16)\n",
    "                elif column_min > np.iinfo(np.int32).min and column_max < np.iinfo(np.int32).max:\n",
    "                    df[column] = df[column].astype(np.int32)\n",
    "                elif column_min > np.iinfo(np.int64).min and column_max < np.iinfo(np.int64).max:\n",
    "                    df[column] = df[column].astype(np.int64)  \n",
    "            else:\n",
    "                if column_min > np.finfo(np.float32).min and column_max < np.finfo(np.float32).max:\n",
    "                    df[column] = df[column].astype(np.float32)\n",
    "                else:\n",
    "                    df[column] = df[column].astype(np.float64)    \n",
    "    # Размер занимаемой памяти после оптимизации (в Мб)\n",
    "    after_size = df.memory_usage().sum() / 1024**2\n",
    "    if print_size: print('Размер использования памяти: до {:5.2f} Mb - после {:5.2f} Mb ({:.1f}%)'\n",
    "                         .format(before_size, after_size, 100 * (before_size - after_size) / before_size))\n",
    "    return df\n"
   ]
  },
  {
   "cell_type": "code",
   "execution_count": 25,
   "metadata": {
    "scrolled": true
   },
   "outputs": [
    {
     "name": "stdout",
     "output_type": "stream",
     "text": [
      "Размер использования памяти: до 18.90 Mb - после 13.71 Mb (27.5%)\n"
     ]
    },
    {
     "data": {
      "text/html": [
       "<div>\n",
       "<style scoped>\n",
       "    .dataframe tbody tr th:only-of-type {\n",
       "        vertical-align: middle;\n",
       "    }\n",
       "\n",
       "    .dataframe tbody tr th {\n",
       "        vertical-align: top;\n",
       "    }\n",
       "\n",
       "    .dataframe thead th {\n",
       "        text-align: right;\n",
       "    }\n",
       "</style>\n",
       "<table border=\"1\" class=\"dataframe\">\n",
       "  <thead>\n",
       "    <tr style=\"text-align: right;\">\n",
       "      <th></th>\n",
       "      <th>price</th>\n",
       "      <th>vehicle_type</th>\n",
       "      <th>registration_year</th>\n",
       "      <th>gearbox</th>\n",
       "      <th>power</th>\n",
       "      <th>model</th>\n",
       "      <th>kilometer</th>\n",
       "      <th>fuel_type</th>\n",
       "      <th>brand</th>\n",
       "      <th>repaired</th>\n",
       "    </tr>\n",
       "  </thead>\n",
       "  <tbody>\n",
       "    <tr>\n",
       "      <th>0</th>\n",
       "      <td>18300</td>\n",
       "      <td>coupe</td>\n",
       "      <td>2011</td>\n",
       "      <td>manual</td>\n",
       "      <td>190</td>\n",
       "      <td>other</td>\n",
       "      <td>125000</td>\n",
       "      <td>petrol</td>\n",
       "      <td>audi</td>\n",
       "      <td>yes</td>\n",
       "    </tr>\n",
       "    <tr>\n",
       "      <th>1</th>\n",
       "      <td>9800</td>\n",
       "      <td>suv</td>\n",
       "      <td>2004</td>\n",
       "      <td>auto</td>\n",
       "      <td>163</td>\n",
       "      <td>grand</td>\n",
       "      <td>125000</td>\n",
       "      <td>petrol</td>\n",
       "      <td>jeep</td>\n",
       "      <td>unknow</td>\n",
       "    </tr>\n",
       "    <tr>\n",
       "      <th>2</th>\n",
       "      <td>1500</td>\n",
       "      <td>small</td>\n",
       "      <td>2001</td>\n",
       "      <td>manual</td>\n",
       "      <td>75</td>\n",
       "      <td>golf</td>\n",
       "      <td>150000</td>\n",
       "      <td>petrol</td>\n",
       "      <td>volkswagen</td>\n",
       "      <td>no</td>\n",
       "    </tr>\n",
       "    <tr>\n",
       "      <th>3</th>\n",
       "      <td>3600</td>\n",
       "      <td>small</td>\n",
       "      <td>2008</td>\n",
       "      <td>manual</td>\n",
       "      <td>69</td>\n",
       "      <td>fabia</td>\n",
       "      <td>90000</td>\n",
       "      <td>petrol</td>\n",
       "      <td>skoda</td>\n",
       "      <td>no</td>\n",
       "    </tr>\n",
       "    <tr>\n",
       "      <th>4</th>\n",
       "      <td>650</td>\n",
       "      <td>sedan</td>\n",
       "      <td>1995</td>\n",
       "      <td>manual</td>\n",
       "      <td>102</td>\n",
       "      <td>3er</td>\n",
       "      <td>150000</td>\n",
       "      <td>petrol</td>\n",
       "      <td>bmw</td>\n",
       "      <td>yes</td>\n",
       "    </tr>\n",
       "    <tr>\n",
       "      <th>...</th>\n",
       "      <td>...</td>\n",
       "      <td>...</td>\n",
       "      <td>...</td>\n",
       "      <td>...</td>\n",
       "      <td>...</td>\n",
       "      <td>...</td>\n",
       "      <td>...</td>\n",
       "      <td>...</td>\n",
       "      <td>...</td>\n",
       "      <td>...</td>\n",
       "    </tr>\n",
       "    <tr>\n",
       "      <th>247783</th>\n",
       "      <td>5250</td>\n",
       "      <td>other</td>\n",
       "      <td>2016</td>\n",
       "      <td>auto</td>\n",
       "      <td>150</td>\n",
       "      <td>159</td>\n",
       "      <td>150000</td>\n",
       "      <td>other</td>\n",
       "      <td>alfa_romeo</td>\n",
       "      <td>no</td>\n",
       "    </tr>\n",
       "    <tr>\n",
       "      <th>247784</th>\n",
       "      <td>3200</td>\n",
       "      <td>sedan</td>\n",
       "      <td>2004</td>\n",
       "      <td>manual</td>\n",
       "      <td>225</td>\n",
       "      <td>leon</td>\n",
       "      <td>150000</td>\n",
       "      <td>petrol</td>\n",
       "      <td>seat</td>\n",
       "      <td>yes</td>\n",
       "    </tr>\n",
       "    <tr>\n",
       "      <th>247785</th>\n",
       "      <td>1199</td>\n",
       "      <td>convertible</td>\n",
       "      <td>2000</td>\n",
       "      <td>auto</td>\n",
       "      <td>101</td>\n",
       "      <td>fortwo</td>\n",
       "      <td>125000</td>\n",
       "      <td>petrol</td>\n",
       "      <td>smart</td>\n",
       "      <td>no</td>\n",
       "    </tr>\n",
       "    <tr>\n",
       "      <th>247786</th>\n",
       "      <td>9200</td>\n",
       "      <td>bus</td>\n",
       "      <td>1996</td>\n",
       "      <td>manual</td>\n",
       "      <td>102</td>\n",
       "      <td>transporter</td>\n",
       "      <td>150000</td>\n",
       "      <td>petrol</td>\n",
       "      <td>volkswagen</td>\n",
       "      <td>no</td>\n",
       "    </tr>\n",
       "    <tr>\n",
       "      <th>247787</th>\n",
       "      <td>3400</td>\n",
       "      <td>wagon</td>\n",
       "      <td>2002</td>\n",
       "      <td>manual</td>\n",
       "      <td>100</td>\n",
       "      <td>golf</td>\n",
       "      <td>150000</td>\n",
       "      <td>petrol</td>\n",
       "      <td>volkswagen</td>\n",
       "      <td>unknow</td>\n",
       "    </tr>\n",
       "  </tbody>\n",
       "</table>\n",
       "<p>247788 rows × 10 columns</p>\n",
       "</div>"
      ],
      "text/plain": [
       "        price vehicle_type  registration_year gearbox  power        model  \\\n",
       "0       18300        coupe               2011  manual    190        other   \n",
       "1        9800          suv               2004    auto    163        grand   \n",
       "2        1500        small               2001  manual     75         golf   \n",
       "3        3600        small               2008  manual     69        fabia   \n",
       "4         650        sedan               1995  manual    102          3er   \n",
       "...       ...          ...                ...     ...    ...          ...   \n",
       "247783   5250        other               2016    auto    150          159   \n",
       "247784   3200        sedan               2004  manual    225         leon   \n",
       "247785   1199  convertible               2000    auto    101       fortwo   \n",
       "247786   9200          bus               1996  manual    102  transporter   \n",
       "247787   3400        wagon               2002  manual    100         golf   \n",
       "\n",
       "        kilometer fuel_type       brand repaired  \n",
       "0          125000    petrol        audi      yes  \n",
       "1          125000    petrol        jeep   unknow  \n",
       "2          150000    petrol  volkswagen       no  \n",
       "3           90000    petrol       skoda       no  \n",
       "4          150000    petrol         bmw      yes  \n",
       "...           ...       ...         ...      ...  \n",
       "247783     150000     other  alfa_romeo       no  \n",
       "247784     150000    petrol        seat      yes  \n",
       "247785     125000    petrol       smart       no  \n",
       "247786     150000    petrol  volkswagen       no  \n",
       "247787     150000    petrol  volkswagen   unknow  \n",
       "\n",
       "[247788 rows x 10 columns]"
      ]
     },
     "execution_count": 25,
     "metadata": {},
     "output_type": "execute_result"
    }
   ],
   "source": [
    "optimize_memory_usage(auto)"
   ]
  },
  {
   "cell_type": "markdown",
   "metadata": {},
   "source": [
    "### Подготовка выборок для обучения моделей"
   ]
  },
  {
   "cell_type": "code",
   "execution_count": 26,
   "metadata": {},
   "outputs": [
    {
     "name": "stdout",
     "output_type": "stream",
     "text": [
      "   vehicle_type_convertible  vehicle_type_coupe  vehicle_type_other  \\\n",
      "0                       0.0                 0.0                 0.0   \n",
      "1                       0.0                 0.0                 0.0   \n",
      "2                       0.0                 0.0                 0.0   \n",
      "3                       0.0                 0.0                 0.0   \n",
      "4                       0.0                 1.0                 0.0   \n",
      "\n",
      "   vehicle_type_sedan  vehicle_type_small  vehicle_type_suv  \\\n",
      "0                 0.0                 1.0               0.0   \n",
      "1                 0.0                 0.0               0.0   \n",
      "2                 1.0                 0.0               0.0   \n",
      "3                 0.0                 0.0               1.0   \n",
      "4                 0.0                 0.0               0.0   \n",
      "\n",
      "   vehicle_type_wagon  gearbox_manual  gearbox_unknow  model_145  ...  \\\n",
      "0                 0.0             1.0             0.0        0.0  ...   \n",
      "1                 0.0             1.0             0.0        0.0  ...   \n",
      "2                 0.0             1.0             0.0        0.0  ...   \n",
      "3                 0.0             1.0             0.0        0.0  ...   \n",
      "4                 0.0             1.0             0.0        0.0  ...   \n",
      "\n",
      "   brand_smart  brand_sonstige_autos  brand_subaru  brand_suzuki  \\\n",
      "0          0.0                   0.0           0.0           0.0   \n",
      "1          0.0                   0.0           0.0           0.0   \n",
      "2          0.0                   0.0           0.0           0.0   \n",
      "3          0.0                   0.0           0.0           0.0   \n",
      "4          0.0                   0.0           0.0           0.0   \n",
      "\n",
      "   brand_toyota  brand_trabant  brand_volkswagen  brand_volvo  \\\n",
      "0           0.0            0.0               1.0          0.0   \n",
      "1           0.0            0.0               1.0          0.0   \n",
      "2           0.0            0.0               0.0          0.0   \n",
      "3           0.0            0.0               0.0          0.0   \n",
      "4           0.0            0.0               0.0          0.0   \n",
      "\n",
      "   repaired_unknow  repaired_yes  \n",
      "0              1.0           0.0  \n",
      "1              0.0           0.0  \n",
      "2              0.0           0.0  \n",
      "3              1.0           0.0  \n",
      "4              0.0           0.0  \n",
      "\n",
      "[5 rows x 298 columns]\n"
     ]
    }
   ],
   "source": [
    "from sklearn.preprocessing import OneHotEncoder\n",
    "# разделяем выборки\n",
    "RANDOM_STATE = 12345\n",
    "TEST_SIZE = 0.25\n",
    "X = auto.drop(['price'], axis = 1)\n",
    "y = auto['price']\n",
    "X_train, X_test, y_train, y_test = train_test_split(X,\n",
    "                                                   y,\n",
    "                                                   test_size = TEST_SIZE,\n",
    "                                                   random_state = RANDOM_STATE)\n",
    "# Определяем категориальные и числовые признаки\n",
    "categorical_features = ['vehicle_type', 'gearbox', 'model', 'fuel_type', 'brand', 'repaired']\n",
    "numerical_features = ['registration_year', 'power', 'kilometer']\n",
    "\n",
    "# Применяем One-Hot Encoding к категориальным признакам в обучающей выборке\n",
    "ohe = OneHotEncoder(drop='first', sparse=False)\n",
    "X_train_encoded = ohe.fit_transform(X_train[categorical_features])\n",
    "X_test_encoded = ohe.transform(X_test[categorical_features])\n",
    "\n",
    "# Создаем DataFrame для закодированных признаков\n",
    "X_train_encoded = pd.DataFrame(X_train_encoded, columns=ohe.get_feature_names(categorical_features))\n",
    "X_test_encoded = pd.DataFrame(X_test_encoded, columns=ohe.get_feature_names(categorical_features))\n",
    "\n",
    "\n",
    "print(X_train_encoded.head())\n",
    "\n"
   ]
  },
  {
   "cell_type": "code",
   "execution_count": 27,
   "metadata": {},
   "outputs": [],
   "source": [
    "# масштабируем признаки\n",
    "scaler = StandardScaler()\n",
    "scaler.fit(X_train_encoded)  \n",
    "X_train_scaled = scaler.transform(X_train_encoded)\n",
    "X_test_scaled = scaler.transform(X_test_encoded)     \n",
    "\n",
    "X_train_scaled = pd.DataFrame(X_train_scaled, columns=X_train_encoded.columns)\n",
    "X_test_scaled = pd.DataFrame(X_test_scaled, columns=X_test_encoded.columns)\n"
   ]
  },
  {
   "cell_type": "markdown",
   "metadata": {},
   "source": [
    "<div class=\"alert alert-success\">\n",
    "<font size=\"5\"><b>Комментарий ревьюераV2</b></font>\n",
    "\n",
    "\n",
    "\n",
    "Успех 👍:\n",
    "\n",
    "\n",
    "\n",
    "Старый добрый StandardScaler и OneHotEncoder\n",
    "\n",
    "\n",
    " <div class=\"alert alert-warning\">\n",
    " \n",
    "Совет:\n",
    "\n",
    "\n",
    "- .fit_transform на train датасете, .transform на test. Вроде все верно, но после ты подаешь данные  в GridSearchCV или cross_val_score и он внутри себя разбивая его на тренировочный и валидационный датасет, получается подглядывание в будущее (утечка данных). Решение в использовании pipeline \n",
    "    \n",
    "    \n",
    "Ведь когда   мы используем вручную прописанный цикл для поиска гиперпарамтеров, и разбиваем на три датасета, то мы же делаем так (пусть тут будет предобработка тольбко  StandardScaler):\n",
    "    \n",
    "\n",
    "\n",
    "    scaler = StandardScaler()\n",
    "    scaler.fit(train_feat[numeric])\n",
    "\n",
    "\n",
    "    feat_train[numeric] = scaler.transform(feat_train[numeric])\n",
    "    feat_test[numeric] = scaler.transform(feat_test[numeric])\n",
    "    feat_valid[numeric] = scaler.transform(feat_valid[numeric])\n",
    "    \n",
    "    \n",
    "    \n",
    "То есть мы делаем   .fit на train, а на valid и test делаем   .transform, то есть когда мы обучаем наш StandardScaler,  мы используем только тренировочный датасет, а затем \"распростроняем\" выученное шкалирование на test/valid.  Нет подглядывания:   Мы не используем информацию из тестового и валидационного датасета, для того чтобы обучить StandardScaler(). В этом и смысл моделирования - мы как будто бы знаем только train, а тестового для нас как бы не существует.  Если мы при шкалировании начинаем использовать информацию из теста мы поступаем нечестно. \n",
    "\n",
    "    \n",
    "    \n",
    "А когда используем GridSearch\n",
    "    \n",
    "    \n",
    "Вот твой код (условно)    \n",
    "    \n",
    "    scaler = StandardScaler()\n",
    "    scaler.fit(train_feat)\n",
    "    feat_train = scaler.transform(feat_train)    \n",
    "    \n",
    "    \n",
    "    parameters = {'kernel':('linear', 'rbf'), 'C':[1, 10]}\n",
    "    svc = svm.SVC()\n",
    "    clf = GridSearchCV(svc, parameters)\n",
    "    clf.fit(feat_train, target)\n",
    "    \n",
    "    \n",
    "    \n",
    "Обрати внимание - ты подал  feat_train, из  которого   GridSearchCV сам создаст valid и train и построит циклы. И вот тут оказывается что валидационный датасет у нас с подглядыванием, потому что на всем feat_train был сделан fit.  Вот в чём заключается подглядывание.  И раз GS делает валидационные внутри себя, спрашивается как добраться до нее и избежать подглядывания в будущее? Казалось бы никак, но нет! Pipeline! ) \n",
    "    \n",
    "    \n",
    "  \n",
    "    \n",
    "И вот как надо сделать pipeline чтобы не было утечки данных при шкалировании.  Как видишь кода немного \n",
    "    \n",
    "    pipe = Pipeline([\n",
    "            ('scale', StandardScaler(random_state = 42)),\n",
    "            ('clf', SVC(kernel = 'linear', C = 1))])\n",
    "\n",
    "    parameters = {'kernel':('linear', 'rbf'), 'C':[1, 10]}\n",
    "\n",
    "    clf = GridSearchCV(pipe, parameters)\n",
    "    clf.fit(feat_train, target)\n",
    "    \n",
    "    \n",
    "И теперь    feat_train будет разбит на train и valid, но .fit будет на train, а на valid будет .transform. Такй вот хитрый pipeline - он суёт свои ручки внутрь GS и делай так чтобы не было утечки данных.\n",
    "    \n",
    "    \n",
    "    \n",
    "    \n",
    "    \n",
    "\n",
    "\n",
    "И вы тоже самое что я писал о GridSearchCV, касается cross_val_score, который ты использовал ниже\n"
   ]
  },
  {
   "cell_type": "markdown",
   "metadata": {},
   "source": [
    "## Обучение моделей"
   ]
  },
  {
   "cell_type": "markdown",
   "metadata": {},
   "source": [
    "### Модель линейной регрессии"
   ]
  },
  {
   "cell_type": "code",
   "execution_count": 28,
   "metadata": {},
   "outputs": [
    {
     "name": "stdout",
     "output_type": "stream",
     "text": [
      "RMSE с использованием кросс-валидации: 4379.22344402072\n"
     ]
    }
   ],
   "source": [
    "# Обучим модель линейной регрессии\n",
    "model = LinearRegression()\n",
    "model.fit(X_train_scaled, y_train)\n",
    "\n",
    "# Получаем предсказания на валидационной выборке\n",
    "predictions_test = model.predict(X_test_scaled)\n",
    "\n",
    "# Также можно использовать кросс-валидацию для оценки модели\n",
    "cv_scores = cross_val_score(model, X_train_scaled, y_train, scoring='neg_mean_squared_error', cv=5)\n",
    "rmse_cv = (-cv_scores) ** 0.5\n",
    "print(f'RMSE с использованием кросс-валидации: {rmse_cv.mean()}')\n"
   ]
  },
  {
   "cell_type": "markdown",
   "metadata": {},
   "source": [
    "<div class=\"alert alert-danger\">\n",
    "<font size=\"5\"><b>Комментарий ревьюераV2</b></font>\n",
    "\n",
    "\n",
    "\n",
    "Ошибка:\n",
    "\n",
    "\n",
    "Вот это стоило убрать    \n",
    "    \n",
    "    # Находим RMSE на валидационной выборке\n",
    "    rmse_lr = mean_squared_error(y_test, predictions_test) ** 0.5\n",
    "    print(f'RMSE на валидационной выборке: {rmse_lr}') \n",
    "    \n",
    "    \n",
    "Во-первых это не Метрика на валидации.  Это Метрика на тестовой,  которые мы смотрим только один раз, для лучшей модели, в самом конце\n",
    "    \n",
    "    \n",
    "Импорты стоит собирать вместе, а не разбрасывать по всему проекту   \n",
    "    \n",
    "    \n",
    "И   интересно почему у тебя такая плохая Метрика, тут обычно получают что-то около 2200    "
   ]
  },
  {
   "cell_type": "markdown",
   "metadata": {},
   "source": [
    "<div class=\"alert alert-info\">\n",
    "Убрал. Да, я и сам удивился такой плохой метрике\n",
    "</div>"
   ]
  },
  {
   "cell_type": "markdown",
   "metadata": {},
   "source": [
    "<div class=\"alert alert-danger\">\n",
    "<font size=\"5\"><b>Комментарий ревьюера</b></font>\n",
    "\n",
    "\n",
    "\n",
    "Ошибка ❌:\n",
    "\n",
    "\n",
    "\n",
    "Тут у тебя нарушена логика использования выборок.  Тренировочную выборку мы используем для обучения модели, а метрику смотрим по валидационной (  Можно создать её вручную, но лучше использовать cross_val_score)\n"
   ]
  },
  {
   "cell_type": "markdown",
   "metadata": {},
   "source": [
    "<div class=\"alert alert-info\">\n",
    "Доработал\n",
    "</div>"
   ]
  },
  {
   "cell_type": "markdown",
   "metadata": {},
   "source": [
    "<div class=\"alert alert-warning\">\n",
    "<font size=\"5\"><b>Комментарий ревьюераV3</b></font>\n",
    "\n",
    "\n",
    "\n",
    "Совет 🤔:\n",
    "\n",
    "\n",
    "Я бы ещё заметил что шкалирование стоило проводить не для всех признаков, а только для количественных.  Хотя вряд ли это могло ухудшить так метрику"
   ]
  },
  {
   "cell_type": "markdown",
   "metadata": {},
   "source": [
    "### Модель дерева решений"
   ]
  },
  {
   "cell_type": "markdown",
   "metadata": {},
   "source": [
    " \n",
    "\n",
    "\n",
    "<div class=\"alert alert-danger\">\n",
    "<font size=\"5\"><b>Комментарий ревьюера</b></font>\n",
    "\n",
    "\n",
    "\n",
    "Ошибка ❌:\n",
    "\n",
    "\n",
    "- По поводу использования Scaler и OHE и OrdinalEncoder: fit мы не делаем на всей выборки. fit всегда делаем на тренировочной выборке. И это легко объяснить, ведь по логике моделирования мы владеем информацией только из тренировочной выборки. Поэтому \"обучаемся\" (fit_transform/fit) на тренировочной, а  затем \"распространяем\" обученный scaler/encoder/итд на test/valid/реальные данные на которых делает прогноз \n",
    "    \n",
    "    \n",
    "- OE применяем К категориальным признакам. Разве    power итд это категориальные признаки? "
   ]
  },
  {
   "cell_type": "code",
   "execution_count": 29,
   "metadata": {
    "scrolled": false
   },
   "outputs": [],
   "source": [
    "X_oe = auto.drop(['price'], axis=1)\n",
    "y_oe = auto['price']\n",
    "\n",
    "# Разделяем данные на тренировочную и тестовую выборки\n",
    "X_train_oe, X_test_oe, y_train_oe, y_test_oe = train_test_split(\n",
    "    X_oe,\n",
    "    y_oe,\n",
    "    test_size=TEST_SIZE,\n",
    "    random_state=RANDOM_STATE\n",
    ")\n",
    "\n",
    "# Определяем категориальные признаки\n",
    "categorical_features = ['vehicle_type', 'gearbox', 'model', 'fuel_type', 'brand', 'repaired']\n",
    "\n",
    "\n"
   ]
  },
  {
   "cell_type": "code",
   "execution_count": 30,
   "metadata": {
    "scrolled": true
   },
   "outputs": [
    {
     "name": "stdout",
     "output_type": "stream",
     "text": [
      "Лучшие гиперпараметры: {'model__max_depth': 9}\n",
      "Лучший RMSE на валидации: 2075.917696511765\n",
      "Время обучения: 23.87956190109253 секунд\n"
     ]
    },
    {
     "data": {
      "text/plain": [
       "\"predictions_test = best_model.predict(X_test_oe)\\ntest_rmse = mean_squared_error(y_test_oe, predictions_test) ** 0.5\\nprint(f'Test RMSE: {test_rmse}')\""
      ]
     },
     "execution_count": 30,
     "metadata": {},
     "output_type": "execute_result"
    }
   ],
   "source": [
    "\n",
    "\n",
    "# Создаем пайплайн\n",
    "pipeline = Pipeline(steps=[\n",
    "    ('encoder', OrdinalEncoder(handle_unknown='use_encoded_value', unknown_value=-1)),  \n",
    "    ('model', DecisionTreeRegressor(random_state=RANDOM_STATE))  # Модель дерева решений\n",
    "])\n",
    "\n",
    "# Определяем параметры для GridSearchCV\n",
    "param_grid = {\n",
    "    'model__max_depth': range(1, 10)  # Параметры для подбора\n",
    "}\n",
    "\n",
    "# Создаем GridSearchCV\n",
    "grid_search = GridSearchCV(pipeline, param_grid, cv=5, scoring='neg_root_mean_squared_error')\n",
    "\n",
    "\n",
    "# Время обучения\n",
    "start_time = time.time()\n",
    "# Обучаем модель\n",
    "grid_search.fit(X_train_oe, y_train_oe)\n",
    "end_time = time.time()\n",
    "\n",
    "\n",
    "# Получаем лучшие параметры и RMSE\n",
    "best_model = grid_search.best_estimator_\n",
    "best_rmse = -grid_search.best_score_\n",
    "print(f'Лучшие гиперпараметры: {grid_search.best_params_}')\n",
    "print(f'Лучший RMSE на валидации: {best_rmse}')\n",
    "\n",
    "# Выводим время обучения\n",
    "print(f\"Время обучения: {end_time - start_time} секунд\")\n",
    "\n",
    "# Предсказания на тестовой выборке\n",
    "'''predictions_test = best_model.predict(X_test_oe)\n",
    "test_rmse = mean_squared_error(y_test_oe, predictions_test) ** 0.5\n",
    "print(f'Test RMSE: {test_rmse}')'''"
   ]
  },
  {
   "cell_type": "markdown",
   "metadata": {},
   "source": [
    "<div class=\"alert alert-success\">\n",
    "<font size=\"5\"><b>Комментарий ревьюераV2</b></font>\n",
    "\n",
    "\n",
    "\n",
    "Успех 👍:\n",
    "\n",
    "\n",
    "\n",
    "👍Pipeline, здорово что   ускорил расчёты за счёт OE, и Метрика получилась вполне приличной\n",
    " \n",
    "    \n",
    "best_score_     \n",
    "    \n",
    "<div class=\"alert alert-warning\">\n",
    "\n",
    "\n",
    "Совет 🤔:\n",
    "\n",
    "\n",
    "    \n",
    "    \n",
    "    # Время обучения\n",
    "    start_time = time.time()\n",
    "    # Обучаем модель\n",
    "    grid_search.fit(X_train_oe, y_train_oe)\n",
    "    end_time = time.time()\n",
    "\n",
    " \n",
    "Получается ты замерил   время когда модель обучается на разных гиперпараметрах. Во-первых размах переборов у разных моделей может быть разной,  и получается что модель может обучаться дольше просто потому что ты делаешь переборы глубже. Во-вторых в продакшн модель   мы будем использовать уже модель с найдеными лучшими гиперпараметрами, поэтому время за которое модель обучается с перебором нас мало интересует. Так что получается не совсем корректно \n",
    "Так что лучше бы ты достал время как сделал это ниже, из GS"
   ]
  },
  {
   "cell_type": "markdown",
   "metadata": {},
   "source": [
    "<div class=\"alert alert-danger\">\n",
    "<font size=\"5\"><b>Комментарий ревьюера</b></font>\n",
    "\n",
    "\n",
    "\n",
    "Ошибка ❌:\n",
    "\n",
    "\n",
    "\n",
    "Лучший гиперпараметры подбираем по метрике на валидации.  И непонятно почему ты используешь ручной цикл, ведь вы проходи GridSearhCV + pipeline. Первый инструмент позволяет автоматизировать поиск гиперпараметров, а второй позволяет избежать утечки данных\n"
   ]
  },
  {
   "cell_type": "markdown",
   "metadata": {},
   "source": [
    "<div class=\"alert alert-info\">\n",
    "Исправил\n",
    "</div>"
   ]
  },
  {
   "cell_type": "markdown",
   "metadata": {},
   "source": [
    "*При увеличении глубины rmse падает, но когда в игру вступят наши тестовые данные, мы получим очень плохую точность. Поэтому предлагаю выбрать в качестве глубины дерева значение 7*"
   ]
  },
  {
   "cell_type": "markdown",
   "metadata": {},
   "source": [
    "### Модель случайного леса"
   ]
  },
  {
   "cell_type": "code",
   "execution_count": 31,
   "metadata": {},
   "outputs": [
    {
     "data": {
      "text/plain": [
       "\"arr = [100, 500]\\nfor n in arr:\\n    model = RandomForestRegressor(random_state = RANDOM_STATE, n_estimators = n, max_depth = 7)\\n    model.fit(X_train, y_train)\\n    predictions_oe_2 = model.predict(X_train)\\n    rmse_rfr = mean_squared_error(y_train, predictions_oe_2) ** 0.5\\n    print(f'rmse_rfr = {rmse_rfr} c n_estimators = {n}')\""
      ]
     },
     "execution_count": 31,
     "metadata": {},
     "output_type": "execute_result"
    }
   ],
   "source": [
    "# обучим модель случайного леса, перебирая n_estimators через цикл\n",
    "'''arr = [100, 500]\n",
    "for n in arr:\n",
    "    model = RandomForestRegressor(random_state = RANDOM_STATE, n_estimators = n, max_depth = 7)\n",
    "    model.fit(X_train, y_train)\n",
    "    predictions_oe_2 = model.predict(X_train)\n",
    "    rmse_rfr = mean_squared_error(y_train, predictions_oe_2) ** 0.5\n",
    "    print(f'rmse_rfr = {rmse_rfr} c n_estimators = {n}')'''"
   ]
  },
  {
   "cell_type": "markdown",
   "metadata": {},
   "source": [
    "*Модель случайного леса учится дольше 5 минут, так еще и имеет rmse = 2164. Такая модель нам не годится, но я оставлю ее в комментариях, чтобы показать, что ее я тоже учитывал при решении*"
   ]
  },
  {
   "cell_type": "markdown",
   "metadata": {},
   "source": [
    "### Модель CatBoost"
   ]
  },
  {
   "cell_type": "code",
   "execution_count": 32,
   "metadata": {},
   "outputs": [
    {
     "name": "stdout",
     "output_type": "stream",
     "text": [
      "Learning rate set to 0.246076\n",
      "0:\tlearn: 4291.2449615\ttotal: 97.9ms\tremaining: 29.3s\n",
      "10:\tlearn: 3086.2879238\ttotal: 385ms\tremaining: 10.1s\n",
      "20:\tlearn: 2722.6872513\ttotal: 635ms\tremaining: 8.43s\n",
      "30:\tlearn: 2521.7000430\ttotal: 877ms\tremaining: 7.61s\n",
      "40:\tlearn: 2412.1574095\ttotal: 1.12s\tremaining: 7.07s\n",
      "50:\tlearn: 2349.2143244\ttotal: 1.38s\tremaining: 6.75s\n",
      "60:\tlearn: 2311.1860103\ttotal: 1.64s\tremaining: 6.41s\n",
      "70:\tlearn: 2286.4614808\ttotal: 1.88s\tremaining: 6.07s\n",
      "80:\tlearn: 2269.1804449\ttotal: 2.14s\tremaining: 5.78s\n",
      "90:\tlearn: 2256.7871716\ttotal: 2.4s\tremaining: 5.51s\n",
      "100:\tlearn: 2247.1182342\ttotal: 2.64s\tremaining: 5.2s\n",
      "110:\tlearn: 2239.2086949\ttotal: 2.88s\tremaining: 4.91s\n",
      "120:\tlearn: 2233.1813165\ttotal: 3.13s\tremaining: 4.63s\n",
      "130:\tlearn: 2228.1321651\ttotal: 3.4s\tremaining: 4.38s\n",
      "140:\tlearn: 2223.8343037\ttotal: 3.63s\tremaining: 4.09s\n",
      "150:\tlearn: 2220.0893826\ttotal: 3.87s\tremaining: 3.81s\n",
      "160:\tlearn: 2216.9410035\ttotal: 4.11s\tremaining: 3.55s\n",
      "170:\tlearn: 2214.2093976\ttotal: 4.37s\tremaining: 3.29s\n",
      "180:\tlearn: 2211.5293196\ttotal: 4.61s\tremaining: 3.03s\n",
      "190:\tlearn: 2209.2137049\ttotal: 4.86s\tremaining: 2.77s\n",
      "200:\tlearn: 2207.3816382\ttotal: 5.13s\tremaining: 2.53s\n",
      "210:\tlearn: 2205.4954548\ttotal: 5.37s\tremaining: 2.27s\n",
      "220:\tlearn: 2203.6476532\ttotal: 5.61s\tremaining: 2s\n",
      "230:\tlearn: 2201.9462759\ttotal: 5.83s\tremaining: 1.74s\n",
      "240:\tlearn: 2200.4692263\ttotal: 6.07s\tremaining: 1.49s\n",
      "250:\tlearn: 2199.1949468\ttotal: 6.32s\tremaining: 1.23s\n",
      "260:\tlearn: 2197.8039373\ttotal: 6.57s\tremaining: 982ms\n",
      "270:\tlearn: 2196.7503745\ttotal: 6.82s\tremaining: 730ms\n",
      "280:\tlearn: 2195.5385156\ttotal: 7.08s\tremaining: 479ms\n",
      "290:\tlearn: 2194.2531322\ttotal: 7.32s\tremaining: 226ms\n",
      "299:\tlearn: 2193.2125797\ttotal: 7.54s\tremaining: 0us\n",
      "Время обучения для depth=1: 8.559064626693726 секунд\n",
      "Время предсказания для depth=1: 0.05218791961669922 секунд\n",
      "RMSE для depth=1 на валидационной выборке: 2198.05308123782\n",
      "Learning rate set to 0.246076\n",
      "0:\tlearn: 4078.9271304\ttotal: 115ms\tremaining: 34.5s\n",
      "10:\tlearn: 2330.9733587\ttotal: 1.83s\tremaining: 48.1s\n",
      "20:\tlearn: 2084.7185973\ttotal: 2.69s\tremaining: 35.7s\n",
      "30:\tlearn: 1989.9187526\ttotal: 3.52s\tremaining: 30.6s\n",
      "40:\tlearn: 1937.2101295\ttotal: 4.38s\tremaining: 27.7s\n",
      "50:\tlearn: 1900.2140175\ttotal: 5.23s\tremaining: 25.5s\n",
      "60:\tlearn: 1874.2874195\ttotal: 6.07s\tremaining: 23.8s\n",
      "70:\tlearn: 1856.9063649\ttotal: 6.99s\tremaining: 22.5s\n",
      "80:\tlearn: 1844.7903786\ttotal: 7.88s\tremaining: 21.3s\n",
      "90:\tlearn: 1831.1211121\ttotal: 8.81s\tremaining: 20.2s\n",
      "100:\tlearn: 1818.2685872\ttotal: 9.66s\tremaining: 19s\n",
      "110:\tlearn: 1809.8889719\ttotal: 10.5s\tremaining: 17.9s\n",
      "120:\tlearn: 1800.4913268\ttotal: 11.4s\tremaining: 16.9s\n",
      "130:\tlearn: 1794.2337416\ttotal: 12.3s\tremaining: 15.8s\n",
      "140:\tlearn: 1785.7734252\ttotal: 13.1s\tremaining: 14.8s\n",
      "150:\tlearn: 1780.0204318\ttotal: 13.9s\tremaining: 13.7s\n",
      "160:\tlearn: 1776.2143389\ttotal: 14.7s\tremaining: 12.7s\n",
      "170:\tlearn: 1769.9766221\ttotal: 15.5s\tremaining: 11.7s\n",
      "180:\tlearn: 1763.8428742\ttotal: 16.3s\tremaining: 10.7s\n",
      "190:\tlearn: 1758.8957021\ttotal: 17.1s\tremaining: 9.75s\n",
      "200:\tlearn: 1755.9376168\ttotal: 18s\tremaining: 8.84s\n",
      "210:\tlearn: 1751.9493561\ttotal: 18.8s\tremaining: 7.91s\n",
      "220:\tlearn: 1748.2064374\ttotal: 19.5s\tremaining: 6.98s\n",
      "230:\tlearn: 1745.6308713\ttotal: 20.3s\tremaining: 6.05s\n",
      "240:\tlearn: 1743.0028411\ttotal: 21.2s\tremaining: 5.18s\n",
      "250:\tlearn: 1740.1994370\ttotal: 22.1s\tremaining: 4.32s\n",
      "260:\tlearn: 1736.3723691\ttotal: 22.9s\tremaining: 3.42s\n",
      "270:\tlearn: 1733.3425213\ttotal: 23.8s\tremaining: 2.54s\n",
      "280:\tlearn: 1730.7921244\ttotal: 24.6s\tremaining: 1.66s\n",
      "290:\tlearn: 1728.3526101\ttotal: 25.6s\tremaining: 791ms\n",
      "299:\tlearn: 1725.4359778\ttotal: 26.3s\tremaining: 0us\n",
      "Время обучения для depth=3: 27.341880083084106 секунд\n",
      "Время предсказания для depth=3: 0.07973694801330566 секунд\n",
      "RMSE для depth=3 на валидационной выборке: 1741.159581612139\n",
      "Learning rate set to 0.246076\n",
      "0:\tlearn: 3986.5642880\ttotal: 247ms\tremaining: 1m 13s\n",
      "10:\tlearn: 2086.4381102\ttotal: 1.93s\tremaining: 50.7s\n",
      "20:\tlearn: 1919.8514316\ttotal: 3.23s\tremaining: 42.9s\n",
      "30:\tlearn: 1857.7174932\ttotal: 4.71s\tremaining: 40.9s\n",
      "40:\tlearn: 1823.0697981\ttotal: 6.1s\tremaining: 38.5s\n",
      "50:\tlearn: 1797.0332651\ttotal: 7.63s\tremaining: 37.2s\n",
      "60:\tlearn: 1776.2450965\ttotal: 9.12s\tremaining: 35.7s\n",
      "70:\tlearn: 1758.4985167\ttotal: 10.6s\tremaining: 34s\n",
      "80:\tlearn: 1743.4438317\ttotal: 12.1s\tremaining: 32.6s\n",
      "90:\tlearn: 1730.7905690\ttotal: 13.5s\tremaining: 31.1s\n",
      "100:\tlearn: 1719.2369941\ttotal: 15s\tremaining: 29.6s\n",
      "110:\tlearn: 1709.6358105\ttotal: 16.3s\tremaining: 27.8s\n",
      "120:\tlearn: 1702.3459112\ttotal: 17.7s\tremaining: 26.2s\n",
      "130:\tlearn: 1696.6015277\ttotal: 19.1s\tremaining: 24.7s\n",
      "140:\tlearn: 1690.8016458\ttotal: 20.7s\tremaining: 23.3s\n",
      "150:\tlearn: 1685.8671437\ttotal: 22.2s\tremaining: 21.9s\n",
      "160:\tlearn: 1679.3627830\ttotal: 23.6s\tremaining: 20.3s\n",
      "170:\tlearn: 1674.7358324\ttotal: 25s\tremaining: 18.9s\n",
      "180:\tlearn: 1669.9710793\ttotal: 26.6s\tremaining: 17.5s\n",
      "190:\tlearn: 1663.4040228\ttotal: 28s\tremaining: 16s\n",
      "200:\tlearn: 1659.9495000\ttotal: 29.5s\tremaining: 14.5s\n",
      "210:\tlearn: 1655.7047752\ttotal: 31s\tremaining: 13.1s\n",
      "220:\tlearn: 1651.3306520\ttotal: 32.4s\tremaining: 11.6s\n",
      "230:\tlearn: 1648.0896366\ttotal: 33.9s\tremaining: 10.1s\n",
      "240:\tlearn: 1645.4165147\ttotal: 35.3s\tremaining: 8.65s\n",
      "250:\tlearn: 1640.8946655\ttotal: 36.7s\tremaining: 7.16s\n",
      "260:\tlearn: 1637.2601721\ttotal: 38.1s\tremaining: 5.7s\n",
      "270:\tlearn: 1634.3012796\ttotal: 39.7s\tremaining: 4.24s\n",
      "280:\tlearn: 1630.9178543\ttotal: 41.3s\tremaining: 2.79s\n",
      "290:\tlearn: 1627.9387897\ttotal: 42.8s\tremaining: 1.32s\n",
      "299:\tlearn: 1625.4398654\ttotal: 44.3s\tremaining: 0us\n",
      "Время обучения для depth=5: 45.47325921058655 секунд\n",
      "Время предсказания для depth=5: 0.11824965476989746 секунд\n",
      "RMSE для depth=5 на валидационной выборке: 1675.0242402511674\n",
      "Learning rate set to 0.246076\n",
      "0:\tlearn: 3928.6526754\ttotal: 313ms\tremaining: 1m 33s\n",
      "10:\tlearn: 1983.4100585\ttotal: 2.71s\tremaining: 1m 11s\n",
      "20:\tlearn: 1841.7468249\ttotal: 4.84s\tremaining: 1m 4s\n",
      "30:\tlearn: 1785.7905779\ttotal: 7.09s\tremaining: 1m 1s\n",
      "40:\tlearn: 1750.4247535\ttotal: 9.01s\tremaining: 56.9s\n",
      "50:\tlearn: 1720.8569023\ttotal: 11s\tremaining: 53.9s\n",
      "60:\tlearn: 1700.0870467\ttotal: 13.3s\tremaining: 52s\n",
      "70:\tlearn: 1683.0294995\ttotal: 15.4s\tremaining: 49.7s\n",
      "80:\tlearn: 1669.0248211\ttotal: 17.6s\tremaining: 47.5s\n",
      "90:\tlearn: 1656.9543157\ttotal: 19.8s\tremaining: 45.4s\n",
      "100:\tlearn: 1646.6114703\ttotal: 22.1s\tremaining: 43.5s\n",
      "110:\tlearn: 1636.1064374\ttotal: 24.3s\tremaining: 41.4s\n",
      "120:\tlearn: 1626.6713197\ttotal: 26.5s\tremaining: 39.2s\n",
      "130:\tlearn: 1620.3622846\ttotal: 28.6s\tremaining: 36.9s\n",
      "140:\tlearn: 1611.8776791\ttotal: 30.9s\tremaining: 34.9s\n",
      "150:\tlearn: 1604.6990102\ttotal: 33.2s\tremaining: 32.7s\n",
      "160:\tlearn: 1599.0913168\ttotal: 35.3s\tremaining: 30.5s\n",
      "170:\tlearn: 1594.2217325\ttotal: 37.5s\tremaining: 28.3s\n",
      "180:\tlearn: 1588.6568348\ttotal: 39.6s\tremaining: 26s\n",
      "190:\tlearn: 1582.8704817\ttotal: 41.6s\tremaining: 23.7s\n",
      "200:\tlearn: 1579.5663891\ttotal: 43.7s\tremaining: 21.5s\n",
      "210:\tlearn: 1574.5243628\ttotal: 45.9s\tremaining: 19.4s\n",
      "220:\tlearn: 1570.5658703\ttotal: 48.2s\tremaining: 17.2s\n",
      "230:\tlearn: 1565.7485254\ttotal: 50.4s\tremaining: 15.1s\n",
      "240:\tlearn: 1562.7312075\ttotal: 52.6s\tremaining: 12.9s\n",
      "250:\tlearn: 1557.9928462\ttotal: 54.8s\tremaining: 10.7s\n",
      "260:\tlearn: 1555.4158963\ttotal: 56.8s\tremaining: 8.48s\n",
      "270:\tlearn: 1550.7571167\ttotal: 59s\tremaining: 6.32s\n",
      "280:\tlearn: 1546.9397983\ttotal: 1m 1s\tremaining: 4.15s\n",
      "290:\tlearn: 1544.2228044\ttotal: 1m 3s\tremaining: 1.97s\n",
      "299:\tlearn: 1541.6444529\ttotal: 1m 5s\tremaining: 0us\n",
      "Время обучения для depth=7: 67.22163510322571 секунд\n",
      "Время предсказания для depth=7: 0.21260476112365723 секунд\n",
      "RMSE для depth=7 на валидационной выборке: 1643.5545405177104\n",
      "Learning rate set to 0.246076\n",
      "0:\tlearn: 3890.3902868\ttotal: 368ms\tremaining: 1m 49s\n",
      "10:\tlearn: 1908.0259332\ttotal: 3.83s\tremaining: 1m 40s\n",
      "20:\tlearn: 1771.8814731\ttotal: 6.69s\tremaining: 1m 28s\n",
      "30:\tlearn: 1715.4956743\ttotal: 9.62s\tremaining: 1m 23s\n",
      "40:\tlearn: 1682.6365692\ttotal: 12.5s\tremaining: 1m 19s\n",
      "50:\tlearn: 1656.0646653\ttotal: 15.5s\tremaining: 1m 15s\n",
      "60:\tlearn: 1634.2570939\ttotal: 18.6s\tremaining: 1m 12s\n",
      "70:\tlearn: 1614.8064939\ttotal: 21.6s\tremaining: 1m 9s\n",
      "80:\tlearn: 1600.1355477\ttotal: 24.4s\tremaining: 1m 6s\n",
      "90:\tlearn: 1589.5109192\ttotal: 27.5s\tremaining: 1m 3s\n",
      "100:\tlearn: 1578.3959721\ttotal: 30.7s\tremaining: 1m\n",
      "110:\tlearn: 1566.4241306\ttotal: 33.9s\tremaining: 57.7s\n",
      "120:\tlearn: 1555.3613357\ttotal: 37s\tremaining: 54.7s\n",
      "130:\tlearn: 1544.9628890\ttotal: 40.1s\tremaining: 51.8s\n",
      "140:\tlearn: 1536.4301878\ttotal: 43.2s\tremaining: 48.7s\n",
      "150:\tlearn: 1528.1191318\ttotal: 46.3s\tremaining: 45.7s\n",
      "160:\tlearn: 1521.0260451\ttotal: 49.4s\tremaining: 42.6s\n",
      "170:\tlearn: 1512.9212531\ttotal: 52.5s\tremaining: 39.6s\n",
      "180:\tlearn: 1506.2065344\ttotal: 55.5s\tremaining: 36.5s\n",
      "190:\tlearn: 1500.0001777\ttotal: 58.7s\tremaining: 33.5s\n",
      "200:\tlearn: 1496.1848103\ttotal: 1m 1s\tremaining: 30.2s\n",
      "210:\tlearn: 1489.6289016\ttotal: 1m 4s\tremaining: 27.1s\n",
      "220:\tlearn: 1484.1495407\ttotal: 1m 7s\tremaining: 24.2s\n",
      "230:\tlearn: 1477.1028298\ttotal: 1m 10s\tremaining: 21.1s\n",
      "240:\tlearn: 1471.7125149\ttotal: 1m 13s\tremaining: 18s\n",
      "250:\tlearn: 1466.9015468\ttotal: 1m 16s\tremaining: 15s\n",
      "260:\tlearn: 1462.2239296\ttotal: 1m 19s\tremaining: 11.9s\n",
      "270:\tlearn: 1458.1731559\ttotal: 1m 22s\tremaining: 8.86s\n",
      "280:\tlearn: 1452.9810724\ttotal: 1m 26s\tremaining: 5.82s\n",
      "290:\tlearn: 1450.5024114\ttotal: 1m 29s\tremaining: 2.76s\n",
      "299:\tlearn: 1447.8152876\ttotal: 1m 32s\tremaining: 0us\n",
      "Время обучения для depth=9: 93.5895767211914 секунд\n",
      "Время предсказания для depth=9: 0.23523688316345215 секунд\n",
      "RMSE для depth=9 на валидационной выборке: 1626.4135851548863\n",
      "Learning rate set to 0.246076\n",
      "0:\tlearn: 4078.9271304\ttotal: 105ms\tremaining: 31.5s\n",
      "10:\tlearn: 2330.9733587\ttotal: 991ms\tremaining: 26s\n",
      "20:\tlearn: 2084.7185973\ttotal: 1.79s\tremaining: 23.8s\n",
      "30:\tlearn: 1989.9187526\ttotal: 2.64s\tremaining: 22.9s\n",
      "40:\tlearn: 1937.2101295\ttotal: 3.46s\tremaining: 21.9s\n",
      "50:\tlearn: 1900.2140175\ttotal: 4.34s\tremaining: 21.2s\n",
      "60:\tlearn: 1874.2874195\ttotal: 5.18s\tremaining: 20.3s\n",
      "70:\tlearn: 1856.9063649\ttotal: 6.03s\tremaining: 19.4s\n",
      "80:\tlearn: 1844.7903786\ttotal: 6.88s\tremaining: 18.6s\n",
      "90:\tlearn: 1831.1211121\ttotal: 7.83s\tremaining: 18s\n",
      "100:\tlearn: 1818.2685872\ttotal: 8.63s\tremaining: 17s\n",
      "110:\tlearn: 1809.8889719\ttotal: 9.46s\tremaining: 16.1s\n",
      "120:\tlearn: 1800.4913268\ttotal: 10.3s\tremaining: 15.3s\n",
      "130:\tlearn: 1794.2337416\ttotal: 11.2s\tremaining: 14.4s\n",
      "140:\tlearn: 1785.7734252\ttotal: 12s\tremaining: 13.6s\n",
      "150:\tlearn: 1780.0204318\ttotal: 12.7s\tremaining: 12.6s\n",
      "160:\tlearn: 1776.2143389\ttotal: 13.6s\tremaining: 11.7s\n",
      "170:\tlearn: 1769.9766221\ttotal: 14.4s\tremaining: 10.8s\n",
      "180:\tlearn: 1763.8428742\ttotal: 15.2s\tremaining: 9.98s\n",
      "190:\tlearn: 1758.8957021\ttotal: 15.9s\tremaining: 9.09s\n",
      "200:\tlearn: 1755.9376168\ttotal: 16.7s\tremaining: 8.22s\n",
      "210:\tlearn: 1751.9493561\ttotal: 17.5s\tremaining: 7.38s\n",
      "220:\tlearn: 1748.2064374\ttotal: 18.2s\tremaining: 6.51s\n",
      "230:\tlearn: 1745.6308713\ttotal: 18.9s\tremaining: 5.64s\n",
      "240:\tlearn: 1743.0028411\ttotal: 19.7s\tremaining: 4.81s\n",
      "250:\tlearn: 1740.1994370\ttotal: 20.5s\tremaining: 4.01s\n",
      "260:\tlearn: 1736.3723691\ttotal: 21.3s\tremaining: 3.19s\n",
      "270:\tlearn: 1733.3425213\ttotal: 22.2s\tremaining: 2.37s\n",
      "280:\tlearn: 1730.7921244\ttotal: 23s\tremaining: 1.56s\n",
      "290:\tlearn: 1728.3526101\ttotal: 23.9s\tremaining: 740ms\n",
      "299:\tlearn: 1725.4359778\ttotal: 24.7s\tremaining: 0us\n",
      "RMSE для depth=3 на тестовой выборке: 1727.9477886110817\n"
     ]
    }
   ],
   "source": [
    "# Разделяем данные на тренировочную и временную выборки\n",
    "features_train, features_temp, target_train, target_temp = train_test_split(\n",
    "    auto.drop('price', axis=1), auto.price, test_size=0.3, random_state=RANDOM_STATE\n",
    ")\n",
    "\n",
    "# Теперь делим временную выборку на валидационную и тестовую\n",
    "features_valid, features_test, target_valid, target_test = train_test_split(\n",
    "    features_temp, target_temp, test_size=0.5, random_state=RANDOM_STATE\n",
    ")\n",
    "\n",
    "# Определяем категориальные признаки\n",
    "categorical_features = ['vehicle_type', 'gearbox', 'model', 'fuel_type', 'brand', 'repaired']\n",
    "\n",
    "# Перебор значений глубины дерева\n",
    "for j in range(1, 10, 2):\n",
    "    model_cbr = CatBoostRegressor(loss_function='RMSE', iterations=300, depth=j,\n",
    "                                   cat_features=categorical_features, verbose=10)\n",
    "\n",
    "    # Время обучения\n",
    "    start_time = time.time()\n",
    "    # Обучаем модель\n",
    "    model_cbr.fit(features_train, target_train)\n",
    "    end_time = time.time()\n",
    "\n",
    "    print(f\"Время обучения для depth={j}: {end_time - start_time} секунд\")\n",
    "\n",
    "    # Время предсказания на валидационной выборке\n",
    "    start_time = time.time()\n",
    "    predictions_valid = model_cbr.predict(features_valid)\n",
    "    end_time = time.time()\n",
    "    \n",
    "    # Выводим время предсказания\n",
    "    print(f\"Время предсказания для depth={j}: {end_time - start_time} секунд\")\n",
    "\n",
    "    # Вычисляем RMSE для валидационной выборки\n",
    "    rmse_cbr = mean_squared_error(target_valid, predictions_valid) ** 0.5\n",
    "    print(f'RMSE для depth={j} на валидационной выборке: {rmse_cbr}')\n",
    "\n",
    "# Дополнительно можно оценить модель на тестовой выборке после завершения всех итераций\n",
    "# Например, для лучшего значения depth:\n",
    "best_depth = 3  \n",
    "model_cbr_best = CatBoostRegressor(loss_function='RMSE', iterations=300, depth=best_depth,\n",
    "                                    cat_features=categorical_features, verbose=10)\n",
    "\n",
    "model_cbr_best.fit(features_train, target_train)\n",
    "predictions_test = model_cbr_best.predict(features_test)\n",
    "rmse_test = mean_squared_error(target_test, predictions_test) ** 0.5\n",
    "\n",
    "print(f'RMSE для depth={best_depth} на тестовой выборке: {rmse_test}')"
   ]
  },
  {
   "cell_type": "markdown",
   "metadata": {},
   "source": [
    "<div class=\"alert alert-info\">\n",
    "Прошу прощения, случайно удалил комментарий. Ты вроде бы в нем говорил, что данные стоит разбивать на 3 выборки. Код исправил\n",
    "</div>"
   ]
  },
  {
   "cell_type": "markdown",
   "metadata": {},
   "source": [
    "\n",
    "<div class=\"alert alert-warning\">\n",
    "<font size=\"5\"><b>Комментарий ревьюераV3</b></font>\n",
    "\n",
    "\n",
    "\n",
    "Совет 🤔:\n",
    "\n",
    "\n",
    " \n",
    "\n",
    "Но проще и лучше было использовать GS, кроме того Вот это не нужно \n",
    "    \n",
    "    \n",
    "    model_cbr_best.fit(features_train, target_train)\n",
    "    predictions_test = model_cbr_best.predict(features_test)\n",
    "    rmse_test = mean_squared_error(target_test, predictions_test) ** 0.5\n",
    "\n",
    "    print(f'RMSE для depth={best_depth} на тестовой выборке: {rmse_test}')\n",
    "    \n",
    "    \n",
    "Надо было посмотреть лучшую метрику на   features_valid, и этим пока ограничится  "
   ]
  },
  {
   "cell_type": "markdown",
   "metadata": {},
   "source": [
    "<div class=\"alert alert-danger\">\n",
    "<font size=\"5\"><b>Комментарий ревьюера</b></font>\n",
    "\n",
    "\n",
    "\n",
    "Ошибка ❌:\n",
    "\n",
    "\n",
    " \n",
    "    \n",
    "- CatBoost:  используем аргумент `cat_features` ([Пример](https://forecastegy.com/posts/catboost-categorical-features-python/)), чтобы указать, какие признаки являются категориальными. Тут можно посмотреть где то с 25 минуты о особенностях [работы с категориальными признаками в catboost](https://www.youtube.com/watch?v=UYDwhuyWYSo&t=1578s&ab_channel=ComputerScienceCenter)\n",
    "    \n",
    "    \n",
    "- Почему у тебя сплит внутри цикла?    В чём смысл?   "
   ]
  },
  {
   "cell_type": "markdown",
   "metadata": {},
   "source": [
    "<div class=\"alert alert-info\">\n",
    "использовал cat_features, а так же вынес сплит из цикла\n",
    "</div>"
   ]
  },
  {
   "cell_type": "markdown",
   "metadata": {},
   "source": [
    "<div class=\"alert alert-success\">\n",
    "<font size=\"5\"><b>Комментарий ревьюераV2</b></font>\n",
    "\n",
    "\n",
    "\n",
    "Успех 👍:\n",
    "\n",
    "\n",
    "\n",
    "Правильно.  Кстати тут тоже можно было использовать GridSearchCV. И код выглядел   бы солидней,  кроме того там была бы кросс валидация, а также как писал выше мы бы легко вытащили информацию о времени. И не было бы ошибки из-за того что ты не сделал три выборки\n",
    "\n",
    "\n",
    " "
   ]
  },
  {
   "cell_type": "markdown",
   "metadata": {},
   "source": [
    "### Модель LightGBM"
   ]
  },
  {
   "cell_type": "code",
   "execution_count": 34,
   "metadata": {},
   "outputs": [],
   "source": [
    "# разделим\n",
    "target = auto['price']\n",
    "features = auto.drop('price', axis=1)\n",
    "\n",
    "# переведем категориальные признаки в тип category, который требуется для LightGBM\n",
    "for t in features.columns:\n",
    "    col_type = features[t].dtype\n",
    "    if col_type == 'object':\n",
    "        features[t] = features[t].astype('category')\n",
    "\n",
    "#разделим выборки на обучающую и тестовую\n",
    "features_train, features_test, target_train, target_test = train_test_split(features,\n",
    "                                                                            target,\n",
    "                                                                            test_size=TEST_SIZE,\n",
    "                                                                            random_state=RANDOM_STATE) "
   ]
  },
  {
   "cell_type": "markdown",
   "metadata": {},
   "source": [
    "<div class=\"alert alert-success\">\n",
    "<font size=\"5\"><b>Комментарий ревьюера </b></font>\n",
    "\n",
    "\n",
    "\n",
    "Успех 👍:\n",
    "\n",
    "\n",
    "\n",
    "👍 .astype('category')\n",
    "\n",
    "Здорово Что использовал внутренний кодировщик lightgbm\n",
    "\n",
    "Правильно что для линейной модели использовал кодипровщик типа OHE, а для дерева решений OE.  Можешь объяснить почему для линейной модели нельзя использовать OE?"
   ]
  },
  {
   "cell_type": "code",
   "execution_count": 35,
   "metadata": {},
   "outputs": [],
   "source": [
    "model = lgb.LGBMRegressor(random_state=RANDOM_STATE)\n"
   ]
  },
  {
   "cell_type": "code",
   "execution_count": 36,
   "metadata": {},
   "outputs": [],
   "source": [
    "param_grid = {\n",
    "    'n_estimators': [100],  # Уменьшено для быстрого тестирования\n",
    "    'num_leaves': [60, 120]  # Уменьшено для быстрого тестирования\n",
    "}\n"
   ]
  },
  {
   "cell_type": "code",
   "execution_count": 41,
   "metadata": {},
   "outputs": [
    {
     "name": "stdout",
     "output_type": "stream",
     "text": [
      "Fitting 3 folds for each of 2 candidates, totalling 6 fits\n",
      "[CV 1/3] END ................n_estimators=100, num_leaves=60; total time=  10.9s\n",
      "[CV 2/3] END ................n_estimators=100, num_leaves=60; total time=  12.6s\n",
      "[CV 3/3] END ................n_estimators=100, num_leaves=60; total time=  11.3s\n",
      "[CV 1/3] END ...............n_estimators=100, num_leaves=120; total time=  17.9s\n",
      "[CV 2/3] END ...............n_estimators=100, num_leaves=120; total time=  17.6s\n",
      "[CV 3/3] END ...............n_estimators=100, num_leaves=120; total time=  17.8s\n",
      "Лучшие параметры: {'n_estimators': 100, 'num_leaves': 120}\n",
      "Лучший (RMSE) на валидации: 1605.0482598244969\n",
      "Среднее время обучения: 16.70407708485921\n",
      "Среднее время предсказания: 1.0659530957539876\n",
      "Время обучения: 106.20063948631287 секунд\n",
      "RMSE на валидационной выборке: 1597.9734182732277\n"
     ]
    }
   ],
   "source": [
    "tuning_model = GridSearchCV(\n",
    "    estimator=model,\n",
    "    param_grid=param_grid,\n",
    "    scoring='neg_root_mean_squared_error',\n",
    "    cv=3,\n",
    "    verbose=3,\n",
    "    n_jobs=-1,\n",
    "    refit=True  # Убедитесь, что refit включен\n",
    ")\n",
    "\n",
    "# Обучение модели\n",
    "start_time = time.time()  # Начало отсчета времени\n",
    "tuning_model.fit(features_train, target_train)\n",
    "end_time = time.time()  # Конец отсчета времени\n",
    "\n",
    "# Выводим лучшие параметры и оценку\n",
    "print(\"Лучшие параметры:\", tuning_model.best_params_)\n",
    "print(\"Лучший (RMSE) на валидации:\", -tuning_model.best_score_)\n",
    "print(\"Среднее время обучения:\", tuning_model.cv_results_['mean_fit_time'][tuning_model.best_index_])\n",
    "print(\"Среднее время предсказания:\", tuning_model.cv_results_['mean_score_time'][tuning_model.best_index_])\n",
    "print(f\"Время обучения: {end_time - start_time} секунд\")\n",
    "\n",
    "\n",
    "predictions_val = tuning_model.predict(features_test)  \n",
    "rmse_val = mean_squared_error(target_test, predictions_val) ** 0.5  \n",
    "print(\"RMSE на валидационной выборке:\", rmse_val)\n"
   ]
  },
  {
   "cell_type": "markdown",
   "metadata": {},
   "source": [
    "<div class=\"alert alert-danger\">\n",
    "<font size=\"5\"><b>Комментарий ревьюераV2</b></font>\n",
    "\n",
    "\n",
    "\n",
    "Ошибка ❌:\n",
    "\n",
    "\n",
    "\n",
    "А вот тут используешь\n",
    "\n",
    "    \n",
    "    print(\"Среднее время обучения:\", tuning_model.cv_results_['mean_fit_time'][tuning_model.best_index_])\n",
    "    print(\"Среднее время предсказания:\", tuning_model.cv_results_['mean_score_time'][tuning_model.best_index_])\n",
    "    \n",
    "    \n",
    "При этом выше ты это почему-то не делаешь.  Но при этом для дерево решений ты используешь .best_score_, а тут почему-то используешь   тренировочную выборку чтобы посчитать метрику. На тренировочный выборку мы используем только для обучения модели, метрика на ней совершенно не интересует, ведь она может быть высокой в результате переобучения    "
   ]
  },
  {
   "cell_type": "markdown",
   "metadata": {},
   "source": [
    "<div class=\"alert alert-info\">\n",
    "Подправил\n",
    "</div>"
   ]
  },
  {
   "cell_type": "markdown",
   "metadata": {},
   "source": [
    "\n",
    "<div class=\"alert alert-warning\">\n",
    "<font size=\"5\"><b>Комментарий ревьюераV3</b></font>\n",
    "\n",
    "\n",
    "\n",
    "Совет 🤔:\n",
    "\n",
    "\n",
    " \n",
    "Вот это стоило убрать\n",
    "\n",
    "\n",
    "    # Оценка модели на тестовой выборке (или валидационной)\n",
    "    predictions_val = tuning_model.predict(features_test)  # Предполагается, что у вас есть валидационная выборка\n",
    "    rmse_val = mean_squared_error(target_test, predictions_val) ** 0.5  # Предполагается, что у вас есть целевая переменная для валидационной выборки\n",
    "    print(\"RMSE на валидационной выборке:\", rmse_val)\n",
    "    \n",
    "    \n",
    ".best_score_ Вывел, больше нам пока ничего не нужно    "
   ]
  },
  {
   "cell_type": "markdown",
   "metadata": {},
   "source": [
    "<div class=\"alert alert-warning\">\n",
    "<font size=\"5\"><b>Комментарий ревьюера</b></font>\n",
    "\n",
    "\n",
    "\n",
    "Совет 🤔:\n",
    "\n",
    "\n",
    "- Обучение модели вполне может занять 10-15 минут. Попробуй сначала обучить модель с минимальным перебором. Кстати тут я вижу что ты используешь GridSearchCV,  Хорошо бы его использовать и для моделей выше.  А для дерева решения Неплохо бы использовать его в связке pipeline (Потому что там есть предобработка данных - OE, без pipeline   будет утечка данных)\n",
    "    \n",
    " \n",
    "\n",
    "- Кроме того GridSearchCV/RandomiseSearch уже собрал информация о времени обучения. Чтобы получить информацию достаточно заглянуть в   .cv_results_,  найти там строчку с лучшей моделью, и посмотреть у ней время обучения (mean_fit_time) и время предсказания (mean_score_time). Либо можно посмотреть атрибут refit_time_ в RandomizedSearchCV/GridSearchCV он указывает время, затраченное на повторную подгонку (refit) модели с использованием лучших параметров, найденных в процессе поиска. Только надо проконтролировать   параметр refit=True. Вот ещё один аргумент за использование этого инструмента\n",
    " "
   ]
  },
  {
   "cell_type": "markdown",
   "metadata": {},
   "source": [
    "## Анализ моделей"
   ]
  },
  {
   "cell_type": "markdown",
   "metadata": {},
   "source": [
    "### Модель линейной регрессии"
   ]
  },
  {
   "cell_type": "markdown",
   "metadata": {},
   "source": [
    "<div class=\"alert alert-danger\">\n",
    "<font size=\"5\"><b>Комментарий ревьюераV2</b></font>\n",
    "\n",
    "\n",
    "\n",
    "Ошибка ❌:\n",
    "\n",
    "\n",
    "\n",
    "\n",
    "Давай-ка уберём это, ведь выше ты строил линейную регрессию уже.  И там ты правильно использовал cross_val_score, а тут неправильно используешь train (. Кроме того непонятно почему ты используешь X_train_scaled для обучения модели)"
   ]
  },
  {
   "cell_type": "markdown",
   "metadata": {},
   "source": [
    "<div class=\"alert alert-info\">\n",
    "Убрал\n",
    "</div>"
   ]
  },
  {
   "cell_type": "markdown",
   "metadata": {},
   "source": [
    "### Модель дерева решений"
   ]
  },
  {
   "cell_type": "markdown",
   "metadata": {},
   "source": [
    "<div class=\"alert alert-info\">\n",
    "В обучении модели сразу нашел и время\n",
    "</div>"
   ]
  },
  {
   "cell_type": "markdown",
   "metadata": {},
   "source": [
    "<div class=\"alert alert-success\">\n",
    "<font size=\"5\"><b>Комментарий ревьюера</b></font>\n",
    "\n",
    "Успех:\n",
    "\n",
    "    \n",
    "\n",
    "Время замерено, это может быть важным критерием при выборе модели, особенно в продакшн\n",
    "    \n",
    "  \n",
    "\n",
    " \n",
    "\n",
    "<div class=\"alert alert-warning\">\n",
    "\n",
    "\n",
    "Совет 🤔:\n",
    "\n",
    "\n",
    "\n",
    "- Ты использовал магическую функцию %%time, а затем вручную записывал время чтобы сделать выбор лучшей.  Можно было использовать библиотеку time, и время работы модели записать в переменную, и тогда не нужно было этого ручного заполнения\n",
    "\n",
    "\n",
    "\n",
    "\tfrom time import time\n",
    "\n",
    "\tstart = time()\n",
    "\n",
    "\t.... твой код\n",
    "\t\n",
    "\tend = time()\n",
    "\t\n",
    "\tlin_reg_time = (end-start)/60 \n",
    "\t \n",
    "    \n",
    "    \n",
    "А выше написал как можно технично вытащить время если использовать     GridSearchCV"
   ]
  },
  {
   "cell_type": "markdown",
   "metadata": {},
   "source": [
    "### Модель случайного леса"
   ]
  },
  {
   "cell_type": "markdown",
   "metadata": {},
   "source": [
    "*Рассматривать ее смысла нет из-за слишком большого времени обучения*"
   ]
  },
  {
   "cell_type": "markdown",
   "metadata": {},
   "source": [
    "### Модель CatBoost"
   ]
  },
  {
   "cell_type": "markdown",
   "metadata": {},
   "source": [
    "<div class=\"alert alert-info\">\n",
    "В обучении модели сразу нашел и время\n",
    "</div>"
   ]
  },
  {
   "cell_type": "markdown",
   "metadata": {},
   "source": [
    "### Модель LightGBM\n"
   ]
  },
  {
   "cell_type": "markdown",
   "metadata": {},
   "source": [
    "\n",
    "\n",
    "\n",
    "<div class=\"alert alert-warning\">\n",
    "<font size=\"5\"><b>Комментарий ревьюераV2</b></font>\n",
    "    \n",
    "    \n",
    "Совет:\n",
    "\n",
    "\n",
    "\n",
    "    \n",
    "\n",
    "\n",
    "Не надо воспринимать  GS как способ получить .best_params_, чтобы подставить их в модель и обучить на них. GS это сделал уже и модельку положил тут: .best_estimator_\n",
    "    \n",
    "  \n",
    "А время о обучения у тебя уже есть "
   ]
  },
  {
   "cell_type": "code",
   "execution_count": 43,
   "metadata": {},
   "outputs": [
    {
     "name": "stdout",
     "output_type": "stream",
     "text": [
      "CPU times: user 1min 22s, sys: 488 ms, total: 1min 23s\n",
      "Wall time: 1min 24s\n"
     ]
    }
   ],
   "source": [
    "%%time\n",
    "model = lgb.LGBMRegressor(random_state=RANDOM_STATE,\n",
    "                          n_estimators=500,\n",
    "                          num_leaves=120)\n",
    "model.fit(features_train, target_train)\n",
    "predictions_train_5 = model.predict(features_train)"
   ]
  },
  {
   "cell_type": "code",
   "execution_count": 44,
   "metadata": {},
   "outputs": [
    {
     "name": "stdout",
     "output_type": "stream",
     "text": [
      "1577.39880036606\n"
     ]
    }
   ],
   "source": [
    "predictions_test_5 = model.predict(features_test)\n",
    "rmse = mean_squared_error(target_test, predictions_test_5)**0.5\n",
    "print(rmse)"
   ]
  },
  {
   "cell_type": "markdown",
   "metadata": {},
   "source": [
    " \n",
    "\n",
    "<div class=\"alert alert-danger\">\n",
    "<font size=\"5\"><b>Комментарий ревьюера</b></font>\n",
    "\n",
    "Ошибка:\n",
    "\n",
    "Тестовый выборку используем для тестирования только лучшие модели     \n",
    "    \n",
    "Почему только лучшая?! Это делается для того, чтобы мы даже незначительным образом не \"подгонялись\" под тестовую выборку. Ведь на train модели обучаются, по валидиации подгоняются гиперпараметры. Эти данные модели \"знают\". А test (out-of-sample) это уже моделирование прогноза на реальных данных и ситуации когда у нас есть уже лучшая модель (в рельности у нас же не может быть несоклько прогнозов, что то в любом случаи надо выбирать). Вот поэтому такая двухуровневая проверка на подгонку. Кроме того использование мноих моделей с разными гиперпараметрами это тоже подгонка, поэтому выбирая одну и тестируя только ее, мы тем самым боремся с подгонкой через использование многих-многих моделей, когда результат хорош не потому что мы данные почистили хорошо, моделировали правильно итд итп, а потому что из многих моделей хоть какая то случайно \"сыграет\". \n"
   ]
  },
  {
   "cell_type": "markdown",
   "metadata": {},
   "source": [
    "<div class=\"alert alert-info\">\n",
    "Убрал лишнее\n",
    "</div>"
   ]
  },
  {
   "cell_type": "markdown",
   "metadata": {},
   "source": [
    "<div class=\"alert alert-success\">\n",
    "<font size=\"5\"><b>Комментарий ревьюераV2</b></font>\n",
    "\n",
    "\n",
    "\n",
    "Успех 👍:\n",
    "\n",
    "\n",
    "\n",
    "Теперь логика моделирования не нарушена\n",
    " \n",
    "<div class=\"alert alert-warning\">\n",
    " \n",
    "\n",
    "Совет: \n",
    "\n",
    "\n",
    "   \n",
    " \n",
    "\n",
    "Можно оценить важность признаков, это можно сделать с помощью [.feature_importance](https://inria.github.io/scikit-learn-mooc/python_scripts/dev_features_importance.html), [Permutation Importance](https://scikit-learn.org/stable/modules/permutation_importance.html), shap\n",
    "    \n",
    "    \n",
    "    \n",
    "Полезно чтобы модель не выглядела чёрным ящиком   "
   ]
  },
  {
   "cell_type": "markdown",
   "metadata": {},
   "source": [
    "## Чек-лист проверки"
   ]
  },
  {
   "cell_type": "markdown",
   "metadata": {},
   "source": [
    "Поставьте 'x' в выполненных пунктах. Далее нажмите Shift+Enter."
   ]
  },
  {
   "cell_type": "markdown",
   "metadata": {},
   "source": [
    "- [x]  Jupyter Notebook открыт\n",
    "- [x]  Весь код выполняется без ошибок\n",
    "- [x]  Ячейки с кодом расположены в порядке исполнения\n",
    "- [x]  Выполнена загрузка и подготовка данных\n",
    "- [x]  Выполнено обучение моделей\n",
    "- [x]  Есть анализ скорости работы и качества моделей"
   ]
  },
  {
   "cell_type": "markdown",
   "metadata": {},
   "source": [
    "**Вывод:**\n",
    "\n",
    "*Целью данного проекта было: **построить модель, которая будет определять рыночную стоимость автомобиля**.*\n",
    "\n",
    "*Были построены 4 модели с такими характеристиками:*\n",
    "- модель линейной регрессии\n",
    "    - Время обучения = 13 секунд\n",
    "    - Время предсказания = 125 миллисекунд\n",
    "    - Качество предсказания(rmse) = 3744\n",
    "- модель дерева решений\n",
    "    - Время обучения = 22 секунды\n",
    "    - Время предсказания = 15.7 миллисекунд\n",
    "    - Качество предсказания(rmse) = 2076\n",
    "- модель CatBoost\n",
    "    - Время обучения = 98 секунд\n",
    "    - Время предсказания = 0.35 секунд\n",
    "    - Качество предсказания(rmse) = 1621\n",
    "- модель LightGBM\n",
    "    - Время обучения = 106 секунд\n",
    "    - Время предсказания = 1 минута 24 секунды\n",
    "    - Качество предсказания(rmse на тренировочной выборке) = 1598\n",
    "    - Качество предсказания(rmse на тестовой выборке) = 1577"
   ]
  },
  {
   "cell_type": "markdown",
   "metadata": {},
   "source": [
    "**Лучшая модель - LightGBM со временем обучения 14 секунд, временем предсказания 1 минута 8 секунд и качеством предсказания (rmse) 1577, ее я и буду советовать**"
   ]
  },
  {
   "cell_type": "markdown",
   "metadata": {},
   "source": [
    " \n",
    "<div class=\"alert alert-info\">\n",
    "<font size=\"5\"><b>Комментарий ревьюера</b></font>\n",
    "\n",
    "    \n",
    "    \n",
    " Спасибо тебе Вячеслав за проделанную работу, к сожалению, сейчас я не могу принять твой проект, поэтому мы с тобой еще пообщаемся )\n",
    "\n",
    "\n",
    "\n",
    "Я оставил небольшие советы и вопросики (если есть время и желание можешь воспользоваться/ответить)\n",
    "    \n",
    " \n",
    "\n",
    "- чтобы не было утечки данных, хорошо бы использовать pipeline и такой удобный инструмент ColumnsTransformer Инструмент для перебора гиперпараметров GridSearchCV (optuna)\n",
    "    \n",
    "\n",
    "- можно поработать над лучшим представлением графиков (seaborn)    \n",
    "\n",
    " \n",
    "\n",
    "- линейная регрессия как таковая не содержит гиперпараметров для перебора, но вместо неё можешь использовать Ridge, там есть что поперебирать\n",
    "\n",
    "\n",
    "- информация о времени можно вытащить техничнее, если использовать GridSearchCV\n",
    "\n",
    "\n",
    " \n",
    "\n",
    "\n",
    "Обязательное к исправлению:\n",
    "\n",
    " \n",
    "- стоит обратить внимание что верхняя граница — 2016 год - год выгрузки базы\n",
    " \n",
    " \n",
    "    \n",
    "    \n",
    "- раз ты  используешь линейную модель стоит сделать проверку на мультиколлинеарность. А если использовать phik,  ты можешь найти два категориальных признака тесно связанные между собой.  Вот и вариант ускорить расчёты, убрав один из   \n",
    "    \n",
    "    \n",
    "    \n",
    "- обращаем внимание какие признаки у нас категориальные, а какие количественные.  Подход к ним различный.  На категориальных используем OE/OHE/ Собственной кодировщик,  количественные приводим к одному масштабу ( Для линейных моделей, Для модели в основе которых лежат деревья решений - это не обязательно)\n",
    "    \n",
    "    \n",
    "    \n",
    "- get_dummies возможен, но есть инструменты получше - OHE (используется один в один как  Scaler). Советую использовать его  \n",
    "    \n",
    "    \n",
    "    \n",
    "- на train делаем .fit, на test .transform. Это правило для всех инструментов: OHE, OE, Scaler... Иначе утечка данных\n",
    "    \n",
    "     \n",
    "    \n",
    " \n",
    "    \n",
    "    \n",
    "\n",
    "- на test датасете тестируем только лучшую модель (нарушена логика использования датасетов при моделировании). А тренировочный выборку используем только для обучения моделей.  Для выбора лучшей модели для финального тестирования,  используем метрику на валидации\n",
    "\n",
    "    \n",
    " \n",
    "\t\n",
    "- для catboost (Как и для lighgbm) не стоит использовать OneHotEncoder/get_dummies/OrdinalEncoder, не забываем использовать встренные инструменты работы с категориальными признаками (они считаются более интеллектуальными, по крайней мере  разработчики так утверждают)  \n",
    " \n",
    "    \n",
    "Жду исправлений, для принятия проекта. Если какие то вопросы, то сразу спрашивай ) \n",
    "\n",
    " "
   ]
  },
  {
   "cell_type": "markdown",
   "metadata": {},
   "source": [
    "\n",
    "<div class=\"alert alert-info\">\n",
    "<font size=\"5\"><b>Комментарий ревьюераV2</b></font>\n",
    "\n",
    "Спасибо за работу!    \n",
    "\n",
    "     \n",
    "\n",
    "Что осталось из красного:\n",
    "\n",
    "  \n",
    "    \n",
    "- Не разбрасываем импорт и по всему проекту, собираем их в одно место\n",
    "    \n",
    "    \n",
    "- В случае перебора в ручном цикле нам нужно сразу создать три выборки (На тренировочной обучаем, на валидации смотрим метрику на разных гиперпараметрах.  А тестовую оставляем на финальное тестирование)\n",
    "    \n",
    "    \n",
    "    \n",
    "- Метрику на валидации в случае использования GS, смотрим с помощью .best_score_    "
   ]
  },
  {
   "cell_type": "markdown",
   "metadata": {},
   "source": [
    "<div class=\"alert alert-info\">\n",
    "Спасибо за проверку проекта и отличные советы. Сейчас из-за дедлайнов не всеми успеваю воспользоваться, но далее обязательно придержусь их!\n",
    "</div>"
   ]
  },
  {
   "cell_type": "markdown",
   "metadata": {},
   "source": [
    "\n",
    "<div class=\"alert alert-info\">\n",
    "<font size=\"5\"><b>Комментарий ревьюераV3</b></font>\n",
    "\n",
    "Спасибо за работу!  Всё-таки Есть момент с тем что ты используешь тестовый выборку рано, но раз у тебя дедлайн, не буду душнилой и приму проект )  \n",
    "\n",
    " \n",
    "  \n",
    "Отличная работа Вячеслав. Желаю успехов в дальнейшей учебе!\n",
    " "
   ]
  },
  {
   "cell_type": "code",
   "execution_count": null,
   "metadata": {},
   "outputs": [],
   "source": []
  }
 ],
 "metadata": {
  "ExecuteTimeLog": [
   {
    "duration": 5,
    "start_time": "2024-11-10T11:56:44.015Z"
   },
   {
    "duration": 1719,
    "start_time": "2024-11-10T11:58:30.427Z"
   },
   {
    "duration": 2961,
    "start_time": "2024-11-10T11:59:15.281Z"
   },
   {
    "duration": 27,
    "start_time": "2024-11-10T11:59:34.132Z"
   },
   {
    "duration": 15,
    "start_time": "2024-11-10T12:00:42.662Z"
   },
   {
    "duration": 162,
    "start_time": "2024-11-10T12:03:14.080Z"
   },
   {
    "duration": 295,
    "start_time": "2024-11-10T12:08:46.845Z"
   },
   {
    "duration": 192,
    "start_time": "2024-11-10T12:08:56.176Z"
   },
   {
    "duration": 178,
    "start_time": "2024-11-10T12:09:28.016Z"
   },
   {
    "duration": 164,
    "start_time": "2024-11-10T12:09:59.790Z"
   },
   {
    "duration": 162,
    "start_time": "2024-11-10T12:10:02.961Z"
   },
   {
    "duration": 87,
    "start_time": "2024-11-10T12:26:11.728Z"
   },
   {
    "duration": 79,
    "start_time": "2024-11-10T12:28:23.747Z"
   },
   {
    "duration": 75,
    "start_time": "2024-11-10T12:28:54.069Z"
   },
   {
    "duration": 33,
    "start_time": "2024-11-10T12:29:15.041Z"
   },
   {
    "duration": 1014,
    "start_time": "2024-11-10T12:50:05.870Z"
   },
   {
    "duration": 15,
    "start_time": "2024-11-10T12:50:21.588Z"
   },
   {
    "duration": 14,
    "start_time": "2024-11-10T12:51:34.772Z"
   },
   {
    "duration": 14,
    "start_time": "2024-11-10T12:52:01.010Z"
   },
   {
    "duration": 14,
    "start_time": "2024-11-10T12:52:38.780Z"
   },
   {
    "duration": 14,
    "start_time": "2024-11-10T12:55:16.649Z"
   },
   {
    "duration": 36,
    "start_time": "2024-11-10T12:55:45.098Z"
   },
   {
    "duration": 14,
    "start_time": "2024-11-10T12:56:01.054Z"
   },
   {
    "duration": 1501,
    "start_time": "2024-11-10T12:56:11.399Z"
   },
   {
    "duration": 953,
    "start_time": "2024-11-10T12:56:12.902Z"
   },
   {
    "duration": 192,
    "start_time": "2024-11-10T12:56:13.856Z"
   },
   {
    "duration": 74,
    "start_time": "2024-11-10T12:56:14.050Z"
   },
   {
    "duration": 60,
    "start_time": "2024-11-10T12:56:14.127Z"
   },
   {
    "duration": 130,
    "start_time": "2024-11-10T12:56:28.266Z"
   },
   {
    "duration": 1991,
    "start_time": "2024-11-10T12:56:36.651Z"
   },
   {
    "duration": 927,
    "start_time": "2024-11-10T12:56:38.645Z"
   },
   {
    "duration": 206,
    "start_time": "2024-11-10T12:56:39.573Z"
   },
   {
    "duration": 84,
    "start_time": "2024-11-10T12:56:39.781Z"
   },
   {
    "duration": 46,
    "start_time": "2024-11-10T12:56:39.867Z"
   },
   {
    "duration": 133,
    "start_time": "2024-11-10T12:56:47.363Z"
   },
   {
    "duration": 1493,
    "start_time": "2024-11-10T12:57:19.070Z"
   },
   {
    "duration": 946,
    "start_time": "2024-11-10T12:57:20.565Z"
   },
   {
    "duration": 190,
    "start_time": "2024-11-10T12:57:21.512Z"
   },
   {
    "duration": 78,
    "start_time": "2024-11-10T12:57:21.704Z"
   },
   {
    "duration": 51,
    "start_time": "2024-11-10T12:57:21.784Z"
   },
   {
    "duration": 31,
    "start_time": "2024-11-10T12:59:08.460Z"
   },
   {
    "duration": 8,
    "start_time": "2024-11-10T13:00:00.564Z"
   },
   {
    "duration": 10,
    "start_time": "2024-11-10T13:00:05.798Z"
   },
   {
    "duration": 124,
    "start_time": "2024-11-10T13:02:39.712Z"
   },
   {
    "duration": 140,
    "start_time": "2024-11-10T13:15:53.422Z"
   },
   {
    "duration": 11,
    "start_time": "2024-11-10T13:16:03.224Z"
   },
   {
    "duration": 131,
    "start_time": "2024-11-10T13:16:58.515Z"
   },
   {
    "duration": 77,
    "start_time": "2024-11-10T13:17:04.794Z"
   },
   {
    "duration": 136,
    "start_time": "2024-11-10T13:17:07.691Z"
   },
   {
    "duration": 138,
    "start_time": "2024-11-10T13:17:30.624Z"
   },
   {
    "duration": 115,
    "start_time": "2024-11-10T13:17:35.256Z"
   },
   {
    "duration": 142,
    "start_time": "2024-11-10T13:21:31.887Z"
   },
   {
    "duration": 145,
    "start_time": "2024-11-10T13:22:12.696Z"
   },
   {
    "duration": 194,
    "start_time": "2024-11-10T13:25:28.916Z"
   },
   {
    "duration": 185,
    "start_time": "2024-11-10T13:26:27.454Z"
   },
   {
    "duration": 388,
    "start_time": "2024-11-10T13:30:13.608Z"
   },
   {
    "duration": 37,
    "start_time": "2024-11-10T13:38:17.747Z"
   },
   {
    "duration": 41,
    "start_time": "2024-11-10T13:38:53.160Z"
   },
   {
    "duration": 12,
    "start_time": "2024-11-10T13:40:58.625Z"
   },
   {
    "duration": 28,
    "start_time": "2024-11-10T13:41:24.276Z"
   },
   {
    "duration": 9,
    "start_time": "2024-11-10T13:41:34.053Z"
   },
   {
    "duration": 11,
    "start_time": "2024-11-10T13:41:57.434Z"
   },
   {
    "duration": 60,
    "start_time": "2024-11-10T13:49:16.801Z"
   },
   {
    "duration": 150,
    "start_time": "2024-11-10T13:50:22.912Z"
   },
   {
    "duration": 3,
    "start_time": "2024-11-10T13:59:01.522Z"
   },
   {
    "duration": 18,
    "start_time": "2024-11-10T14:00:08.628Z"
   },
   {
    "duration": 3,
    "start_time": "2024-11-10T14:00:14.772Z"
   },
   {
    "duration": 54,
    "start_time": "2024-11-10T14:06:40.343Z"
   },
   {
    "duration": 15,
    "start_time": "2024-11-10T14:08:42.648Z"
   },
   {
    "duration": 52,
    "start_time": "2024-11-10T14:11:35.460Z"
   },
   {
    "duration": 1932,
    "start_time": "2024-11-10T14:13:44.974Z"
   },
   {
    "duration": 1864,
    "start_time": "2024-11-10T14:14:19.513Z"
   },
   {
    "duration": 2104,
    "start_time": "2024-11-10T14:15:18.181Z"
   },
   {
    "duration": 1953,
    "start_time": "2024-11-10T14:16:07.429Z"
   },
   {
    "duration": 1910,
    "start_time": "2024-11-10T14:16:32.058Z"
   },
   {
    "duration": 37,
    "start_time": "2024-11-10T14:22:22.473Z"
   },
   {
    "duration": 6,
    "start_time": "2024-11-10T14:26:16.445Z"
   },
   {
    "duration": 5,
    "start_time": "2024-11-10T14:26:20.726Z"
   },
   {
    "duration": 7,
    "start_time": "2024-11-10T14:26:28.583Z"
   },
   {
    "duration": 14,
    "start_time": "2024-11-10T14:26:33.546Z"
   },
   {
    "duration": 7,
    "start_time": "2024-11-10T14:26:37.940Z"
   },
   {
    "duration": 1527,
    "start_time": "2024-11-10T14:37:19.286Z"
   },
   {
    "duration": 874,
    "start_time": "2024-11-10T14:37:20.814Z"
   },
   {
    "duration": 201,
    "start_time": "2024-11-10T14:37:21.690Z"
   },
   {
    "duration": 79,
    "start_time": "2024-11-10T14:37:21.894Z"
   },
   {
    "duration": 57,
    "start_time": "2024-11-10T14:37:21.975Z"
   },
   {
    "duration": 54,
    "start_time": "2024-11-10T14:37:22.034Z"
   },
   {
    "duration": 13,
    "start_time": "2024-11-10T14:37:22.090Z"
   },
   {
    "duration": 109,
    "start_time": "2024-11-10T14:37:22.105Z"
   },
   {
    "duration": 158,
    "start_time": "2024-11-10T14:37:22.216Z"
   },
   {
    "duration": 203,
    "start_time": "2024-11-10T14:37:22.376Z"
   },
   {
    "duration": 326,
    "start_time": "2024-11-10T14:37:22.581Z"
   },
   {
    "duration": 103,
    "start_time": "2024-11-10T14:37:22.908Z"
   },
   {
    "duration": 58,
    "start_time": "2024-11-10T14:37:23.013Z"
   },
   {
    "duration": 158,
    "start_time": "2024-11-10T14:37:23.075Z"
   },
   {
    "duration": 3,
    "start_time": "2024-11-10T14:37:23.235Z"
   },
   {
    "duration": 1946,
    "start_time": "2024-11-10T14:37:23.240Z"
   },
   {
    "duration": 26,
    "start_time": "2024-11-10T14:37:25.187Z"
   },
   {
    "duration": 5,
    "start_time": "2024-11-10T14:37:25.215Z"
   },
   {
    "duration": 125,
    "start_time": "2024-11-10T14:37:25.221Z"
   },
   {
    "duration": 21,
    "start_time": "2024-11-10T14:44:21.397Z"
   },
   {
    "duration": 31,
    "start_time": "2024-11-10T14:45:04.515Z"
   },
   {
    "duration": 21,
    "start_time": "2024-11-10T14:45:13.224Z"
   },
   {
    "duration": 24,
    "start_time": "2024-11-10T14:45:27.618Z"
   },
   {
    "duration": 21,
    "start_time": "2024-11-10T14:45:41.339Z"
   },
   {
    "duration": 131,
    "start_time": "2024-11-10T14:51:21.966Z"
   },
   {
    "duration": 10,
    "start_time": "2024-11-10T14:51:26.628Z"
   },
   {
    "duration": 10,
    "start_time": "2024-11-10T14:51:30.446Z"
   },
   {
    "duration": 13,
    "start_time": "2024-11-10T14:51:38.553Z"
   },
   {
    "duration": 23,
    "start_time": "2024-11-10T14:57:14.167Z"
   },
   {
    "duration": 13,
    "start_time": "2024-11-10T14:57:16.122Z"
   },
   {
    "duration": 25,
    "start_time": "2024-11-10T14:57:21.484Z"
   },
   {
    "duration": 45,
    "start_time": "2024-11-10T20:57:04.508Z"
   },
   {
    "duration": 1553,
    "start_time": "2024-11-10T20:57:11.152Z"
   },
   {
    "duration": 2894,
    "start_time": "2024-11-10T20:57:12.707Z"
   },
   {
    "duration": 135,
    "start_time": "2024-11-10T20:57:15.603Z"
   },
   {
    "duration": 68,
    "start_time": "2024-11-10T20:57:15.739Z"
   },
   {
    "duration": 50,
    "start_time": "2024-11-10T20:57:15.809Z"
   },
   {
    "duration": 112,
    "start_time": "2024-11-10T20:57:15.860Z"
   },
   {
    "duration": 9,
    "start_time": "2024-11-10T20:57:15.973Z"
   },
   {
    "duration": 102,
    "start_time": "2024-11-10T20:57:15.984Z"
   },
   {
    "duration": 133,
    "start_time": "2024-11-10T20:57:16.087Z"
   },
   {
    "duration": 148,
    "start_time": "2024-11-10T20:57:16.222Z"
   },
   {
    "duration": 281,
    "start_time": "2024-11-10T20:57:16.372Z"
   },
   {
    "duration": 87,
    "start_time": "2024-11-10T20:57:16.655Z"
   },
   {
    "duration": 34,
    "start_time": "2024-11-10T20:57:16.744Z"
   },
   {
    "duration": 128,
    "start_time": "2024-11-10T20:57:16.781Z"
   },
   {
    "duration": 3,
    "start_time": "2024-11-10T20:57:16.911Z"
   },
   {
    "duration": 1770,
    "start_time": "2024-11-10T20:57:16.915Z"
   },
   {
    "duration": 32,
    "start_time": "2024-11-10T20:57:18.687Z"
   },
   {
    "duration": 7,
    "start_time": "2024-11-10T20:57:18.721Z"
   },
   {
    "duration": 36,
    "start_time": "2024-11-10T20:57:18.729Z"
   },
   {
    "duration": 41,
    "start_time": "2024-11-10T20:57:18.767Z"
   },
   {
    "duration": 14,
    "start_time": "2024-11-10T20:57:18.810Z"
   },
   {
    "duration": 399,
    "start_time": "2024-11-10T20:57:18.826Z"
   },
   {
    "duration": 403,
    "start_time": "2024-11-10T21:00:15.967Z"
   },
   {
    "duration": 409,
    "start_time": "2024-11-10T21:00:29.265Z"
   },
   {
    "duration": 267,
    "start_time": "2024-11-10T21:18:59.412Z"
   },
   {
    "duration": 2,
    "start_time": "2024-11-10T21:19:21.351Z"
   },
   {
    "duration": 4,
    "start_time": "2024-11-10T21:19:49.231Z"
   },
   {
    "duration": 2,
    "start_time": "2024-11-10T21:20:06.198Z"
   },
   {
    "duration": 11903,
    "start_time": "2024-11-10T21:23:23.333Z"
   },
   {
    "duration": 4900,
    "start_time": "2024-11-10T21:24:06.240Z"
   },
   {
    "duration": 19395,
    "start_time": "2024-11-10T21:29:51.514Z"
   },
   {
    "duration": 18962,
    "start_time": "2024-11-10T21:30:35.446Z"
   },
   {
    "duration": 17207,
    "start_time": "2024-11-10T21:31:31.808Z"
   },
   {
    "duration": 99,
    "start_time": "2024-11-10T21:43:56.109Z"
   },
   {
    "duration": 74,
    "start_time": "2024-11-10T21:44:46.184Z"
   },
   {
    "duration": 430,
    "start_time": "2024-11-10T21:45:31.626Z"
   },
   {
    "duration": 436,
    "start_time": "2024-11-10T21:46:35.109Z"
   },
   {
    "duration": 66,
    "start_time": "2024-11-10T21:50:38.295Z"
   },
   {
    "duration": 1345,
    "start_time": "2024-11-10T21:56:05.398Z"
   },
   {
    "duration": 742,
    "start_time": "2024-11-10T21:56:06.745Z"
   },
   {
    "duration": 129,
    "start_time": "2024-11-10T21:56:07.488Z"
   },
   {
    "duration": 60,
    "start_time": "2024-11-10T21:56:07.618Z"
   },
   {
    "duration": 58,
    "start_time": "2024-11-10T21:56:07.680Z"
   },
   {
    "duration": 33,
    "start_time": "2024-11-10T21:56:07.739Z"
   },
   {
    "duration": 12,
    "start_time": "2024-11-10T21:56:07.774Z"
   },
   {
    "duration": 86,
    "start_time": "2024-11-10T21:56:07.788Z"
   },
   {
    "duration": 104,
    "start_time": "2024-11-10T21:56:07.876Z"
   },
   {
    "duration": 144,
    "start_time": "2024-11-10T21:56:07.981Z"
   },
   {
    "duration": 275,
    "start_time": "2024-11-10T21:56:08.127Z"
   },
   {
    "duration": 83,
    "start_time": "2024-11-10T21:56:08.406Z"
   },
   {
    "duration": 40,
    "start_time": "2024-11-10T21:56:08.490Z"
   },
   {
    "duration": 131,
    "start_time": "2024-11-10T21:56:08.533Z"
   },
   {
    "duration": 3,
    "start_time": "2024-11-10T21:56:08.666Z"
   },
   {
    "duration": 1708,
    "start_time": "2024-11-10T21:56:08.671Z"
   },
   {
    "duration": 39,
    "start_time": "2024-11-10T21:56:10.381Z"
   },
   {
    "duration": 5,
    "start_time": "2024-11-10T21:56:10.421Z"
   },
   {
    "duration": 25,
    "start_time": "2024-11-10T21:56:10.428Z"
   },
   {
    "duration": 21,
    "start_time": "2024-11-10T21:56:10.455Z"
   },
   {
    "duration": 33,
    "start_time": "2024-11-10T21:56:10.477Z"
   },
   {
    "duration": 384,
    "start_time": "2024-11-10T21:56:10.512Z"
   },
   {
    "duration": 277,
    "start_time": "2024-11-10T21:56:10.898Z"
   },
   {
    "duration": 14738,
    "start_time": "2024-11-10T21:56:11.176Z"
   },
   {
    "duration": 18573,
    "start_time": "2024-11-10T21:56:25.915Z"
   },
   {
    "duration": 0,
    "start_time": "2024-11-10T21:56:44.490Z"
   },
   {
    "duration": 0,
    "start_time": "2024-11-10T21:56:44.491Z"
   },
   {
    "duration": 0,
    "start_time": "2024-11-10T21:56:44.492Z"
   },
   {
    "duration": 16243,
    "start_time": "2024-11-10T21:56:58.076Z"
   },
   {
    "duration": 513,
    "start_time": "2024-11-10T21:58:09.217Z"
   },
   {
    "duration": 44,
    "start_time": "2024-11-10T21:58:09.765Z"
   },
   {
    "duration": 9,
    "start_time": "2024-11-10T22:02:56.258Z"
   },
   {
    "duration": 9,
    "start_time": "2024-11-10T22:03:10.613Z"
   },
   {
    "duration": 49,
    "start_time": "2024-11-10T22:03:15.729Z"
   },
   {
    "duration": 1348,
    "start_time": "2024-11-10T22:08:44.670Z"
   },
   {
    "duration": 710,
    "start_time": "2024-11-10T22:08:46.020Z"
   },
   {
    "duration": 130,
    "start_time": "2024-11-10T22:08:46.731Z"
   },
   {
    "duration": 64,
    "start_time": "2024-11-10T22:08:46.862Z"
   },
   {
    "duration": 47,
    "start_time": "2024-11-10T22:08:46.928Z"
   },
   {
    "duration": 40,
    "start_time": "2024-11-10T22:08:46.977Z"
   },
   {
    "duration": 8,
    "start_time": "2024-11-10T22:08:47.018Z"
   },
   {
    "duration": 73,
    "start_time": "2024-11-10T22:08:47.027Z"
   },
   {
    "duration": 120,
    "start_time": "2024-11-10T22:08:47.102Z"
   },
   {
    "duration": 143,
    "start_time": "2024-11-10T22:08:47.223Z"
   },
   {
    "duration": 272,
    "start_time": "2024-11-10T22:08:47.367Z"
   },
   {
    "duration": 99,
    "start_time": "2024-11-10T22:08:47.641Z"
   },
   {
    "duration": 33,
    "start_time": "2024-11-10T22:08:47.742Z"
   },
   {
    "duration": 115,
    "start_time": "2024-11-10T22:08:47.778Z"
   },
   {
    "duration": 3,
    "start_time": "2024-11-10T22:08:47.894Z"
   },
   {
    "duration": 1682,
    "start_time": "2024-11-10T22:08:47.907Z"
   },
   {
    "duration": 27,
    "start_time": "2024-11-10T22:08:49.591Z"
   },
   {
    "duration": 4,
    "start_time": "2024-11-10T22:08:49.619Z"
   },
   {
    "duration": 50,
    "start_time": "2024-11-10T22:08:49.625Z"
   },
   {
    "duration": 21,
    "start_time": "2024-11-10T22:08:49.677Z"
   },
   {
    "duration": 10,
    "start_time": "2024-11-10T22:08:49.699Z"
   },
   {
    "duration": 378,
    "start_time": "2024-11-10T22:08:49.710Z"
   },
   {
    "duration": 152,
    "start_time": "2024-11-10T22:08:50.089Z"
   },
   {
    "duration": 273,
    "start_time": "2024-11-10T22:08:50.242Z"
   },
   {
    "duration": 14400,
    "start_time": "2024-11-10T22:08:50.516Z"
   },
   {
    "duration": 14696,
    "start_time": "2024-11-10T22:09:04.917Z"
   },
   {
    "duration": 553,
    "start_time": "2024-11-10T22:09:19.617Z"
   },
   {
    "duration": 48,
    "start_time": "2024-11-10T22:09:20.171Z"
   },
   {
    "duration": 148,
    "start_time": "2024-11-10T22:09:20.221Z"
   },
   {
    "duration": 46,
    "start_time": "2024-11-10T22:11:39.677Z"
   },
   {
    "duration": 43,
    "start_time": "2024-11-10T22:11:40.201Z"
   },
   {
    "duration": 86558,
    "start_time": "2024-11-10T22:14:44.084Z"
   },
   {
    "duration": 1609,
    "start_time": "2024-11-11T07:19:04.621Z"
   },
   {
    "duration": 2885,
    "start_time": "2024-11-11T07:19:06.232Z"
   },
   {
    "duration": 185,
    "start_time": "2024-11-11T07:19:09.119Z"
   },
   {
    "duration": 69,
    "start_time": "2024-11-11T07:19:09.306Z"
   },
   {
    "duration": 66,
    "start_time": "2024-11-11T07:19:09.377Z"
   },
   {
    "duration": 32,
    "start_time": "2024-11-11T07:19:09.445Z"
   },
   {
    "duration": 29,
    "start_time": "2024-11-11T07:19:09.479Z"
   },
   {
    "duration": 117,
    "start_time": "2024-11-11T07:19:09.510Z"
   },
   {
    "duration": 134,
    "start_time": "2024-11-11T07:19:09.629Z"
   },
   {
    "duration": 175,
    "start_time": "2024-11-11T07:19:09.767Z"
   },
   {
    "duration": 336,
    "start_time": "2024-11-11T07:19:09.944Z"
   },
   {
    "duration": 100,
    "start_time": "2024-11-11T07:19:10.282Z"
   },
   {
    "duration": 41,
    "start_time": "2024-11-11T07:19:10.400Z"
   },
   {
    "duration": 164,
    "start_time": "2024-11-11T07:19:10.443Z"
   },
   {
    "duration": 3,
    "start_time": "2024-11-11T07:19:10.609Z"
   },
   {
    "duration": 1952,
    "start_time": "2024-11-11T07:19:10.614Z"
   },
   {
    "duration": 36,
    "start_time": "2024-11-11T07:19:12.568Z"
   },
   {
    "duration": 6,
    "start_time": "2024-11-11T07:19:12.606Z"
   },
   {
    "duration": 26,
    "start_time": "2024-11-11T07:19:12.613Z"
   },
   {
    "duration": 24,
    "start_time": "2024-11-11T07:19:12.641Z"
   },
   {
    "duration": 43,
    "start_time": "2024-11-11T07:19:12.667Z"
   },
   {
    "duration": 496,
    "start_time": "2024-11-11T07:19:12.712Z"
   },
   {
    "duration": 155,
    "start_time": "2024-11-11T07:19:13.210Z"
   },
   {
    "duration": 508,
    "start_time": "2024-11-11T07:19:13.366Z"
   },
   {
    "duration": 0,
    "start_time": "2024-11-11T07:19:13.877Z"
   },
   {
    "duration": 0,
    "start_time": "2024-11-11T07:19:13.879Z"
   },
   {
    "duration": 0,
    "start_time": "2024-11-11T07:19:13.880Z"
   },
   {
    "duration": 0,
    "start_time": "2024-11-11T07:19:13.881Z"
   },
   {
    "duration": 310,
    "start_time": "2024-11-11T07:20:07.774Z"
   },
   {
    "duration": 17565,
    "start_time": "2024-11-11T07:20:10.477Z"
   },
   {
    "duration": 17260,
    "start_time": "2024-11-11T07:20:28.044Z"
   },
   {
    "duration": 140,
    "start_time": "2024-11-11T07:20:45.307Z"
   },
   {
    "duration": 19305,
    "start_time": "2024-11-11T07:20:45.449Z"
   },
   {
    "duration": 17058,
    "start_time": "2024-11-11T07:24:31.930Z"
   },
   {
    "duration": 76,
    "start_time": "2024-11-11T07:38:16.241Z"
   },
   {
    "duration": 13,
    "start_time": "2024-11-11T07:38:23.990Z"
   },
   {
    "duration": 1473,
    "start_time": "2024-11-11T07:59:10.119Z"
   },
   {
    "duration": 890,
    "start_time": "2024-11-11T07:59:11.594Z"
   },
   {
    "duration": 173,
    "start_time": "2024-11-11T07:59:12.485Z"
   },
   {
    "duration": 81,
    "start_time": "2024-11-11T07:59:12.660Z"
   },
   {
    "duration": 60,
    "start_time": "2024-11-11T07:59:12.742Z"
   },
   {
    "duration": 43,
    "start_time": "2024-11-11T07:59:12.804Z"
   },
   {
    "duration": 34,
    "start_time": "2024-11-11T07:59:12.849Z"
   },
   {
    "duration": 96,
    "start_time": "2024-11-11T07:59:12.885Z"
   },
   {
    "duration": 130,
    "start_time": "2024-11-11T07:59:12.983Z"
   },
   {
    "duration": 168,
    "start_time": "2024-11-11T07:59:13.114Z"
   },
   {
    "duration": 336,
    "start_time": "2024-11-11T07:59:13.283Z"
   },
   {
    "duration": 112,
    "start_time": "2024-11-11T07:59:13.621Z"
   },
   {
    "duration": 45,
    "start_time": "2024-11-11T07:59:13.735Z"
   },
   {
    "duration": 148,
    "start_time": "2024-11-11T07:59:13.800Z"
   },
   {
    "duration": 4,
    "start_time": "2024-11-11T07:59:13.950Z"
   },
   {
    "duration": 1882,
    "start_time": "2024-11-11T07:59:13.955Z"
   },
   {
    "duration": 26,
    "start_time": "2024-11-11T07:59:15.839Z"
   },
   {
    "duration": 21,
    "start_time": "2024-11-11T07:59:15.866Z"
   },
   {
    "duration": 38,
    "start_time": "2024-11-11T07:59:15.889Z"
   },
   {
    "duration": 22,
    "start_time": "2024-11-11T07:59:15.929Z"
   },
   {
    "duration": 12,
    "start_time": "2024-11-11T07:59:15.952Z"
   },
   {
    "duration": 531,
    "start_time": "2024-11-11T07:59:15.965Z"
   },
   {
    "duration": 158,
    "start_time": "2024-11-11T07:59:16.499Z"
   },
   {
    "duration": 390,
    "start_time": "2024-11-11T07:59:16.659Z"
   },
   {
    "duration": 17763,
    "start_time": "2024-11-11T07:59:17.051Z"
   },
   {
    "duration": 17191,
    "start_time": "2024-11-11T07:59:34.816Z"
   },
   {
    "duration": 143,
    "start_time": "2024-11-11T07:59:52.009Z"
   },
   {
    "duration": 17041,
    "start_time": "2024-11-11T07:59:52.153Z"
   },
   {
    "duration": 178,
    "start_time": "2024-11-11T08:00:09.199Z"
   },
   {
    "duration": 76,
    "start_time": "2024-11-11T08:00:42.522Z"
   },
   {
    "duration": 1547,
    "start_time": "2024-11-11T08:00:52.211Z"
   },
   {
    "duration": 1657,
    "start_time": "2024-11-11T08:04:59.066Z"
   },
   {
    "duration": 896,
    "start_time": "2024-11-11T08:05:00.725Z"
   },
   {
    "duration": 172,
    "start_time": "2024-11-11T08:05:01.622Z"
   },
   {
    "duration": 73,
    "start_time": "2024-11-11T08:05:01.796Z"
   },
   {
    "duration": 69,
    "start_time": "2024-11-11T08:05:01.871Z"
   },
   {
    "duration": 50,
    "start_time": "2024-11-11T08:05:01.942Z"
   },
   {
    "duration": 56,
    "start_time": "2024-11-11T08:05:01.994Z"
   },
   {
    "duration": 148,
    "start_time": "2024-11-11T08:05:02.052Z"
   },
   {
    "duration": 172,
    "start_time": "2024-11-11T08:05:02.202Z"
   },
   {
    "duration": 186,
    "start_time": "2024-11-11T08:05:02.375Z"
   },
   {
    "duration": 362,
    "start_time": "2024-11-11T08:05:02.563Z"
   },
   {
    "duration": 105,
    "start_time": "2024-11-11T08:05:02.927Z"
   },
   {
    "duration": 48,
    "start_time": "2024-11-11T08:05:03.034Z"
   },
   {
    "duration": 157,
    "start_time": "2024-11-11T08:05:03.101Z"
   },
   {
    "duration": 4,
    "start_time": "2024-11-11T08:05:03.260Z"
   },
   {
    "duration": 1937,
    "start_time": "2024-11-11T08:05:03.266Z"
   },
   {
    "duration": 27,
    "start_time": "2024-11-11T08:05:05.205Z"
   },
   {
    "duration": 5,
    "start_time": "2024-11-11T08:05:05.233Z"
   },
   {
    "duration": 37,
    "start_time": "2024-11-11T08:05:05.239Z"
   },
   {
    "duration": 40,
    "start_time": "2024-11-11T08:05:05.277Z"
   },
   {
    "duration": 13,
    "start_time": "2024-11-11T08:05:05.318Z"
   },
   {
    "duration": 556,
    "start_time": "2024-11-11T08:05:05.333Z"
   },
   {
    "duration": 175,
    "start_time": "2024-11-11T08:05:05.890Z"
   },
   {
    "duration": 378,
    "start_time": "2024-11-11T08:05:06.067Z"
   },
   {
    "duration": 17713,
    "start_time": "2024-11-11T08:05:06.447Z"
   },
   {
    "duration": 16641,
    "start_time": "2024-11-11T08:05:24.162Z"
   },
   {
    "duration": 141,
    "start_time": "2024-11-11T08:05:40.805Z"
   },
   {
    "duration": 17348,
    "start_time": "2024-11-11T08:05:40.948Z"
   },
   {
    "duration": 2958,
    "start_time": "2024-11-11T08:05:58.300Z"
   },
   {
    "duration": 2257,
    "start_time": "2024-11-11T08:06:32.942Z"
   },
   {
    "duration": 1703,
    "start_time": "2024-11-11T08:07:20.271Z"
   },
   {
    "duration": 11539,
    "start_time": "2024-11-11T08:07:32.349Z"
   },
   {
    "duration": 61438,
    "start_time": "2024-11-11T08:12:20.361Z"
   },
   {
    "duration": 2883,
    "start_time": "2024-11-11T08:19:45.647Z"
   },
   {
    "duration": 61849,
    "start_time": "2024-11-11T08:20:30.663Z"
   },
   {
    "duration": 63525,
    "start_time": "2024-11-11T08:23:40.837Z"
   },
   {
    "duration": 2412,
    "start_time": "2024-11-11T08:26:34.913Z"
   },
   {
    "duration": 1472,
    "start_time": "2024-11-11T08:36:24.342Z"
   },
   {
    "duration": 918,
    "start_time": "2024-11-11T08:36:25.816Z"
   },
   {
    "duration": 163,
    "start_time": "2024-11-11T08:36:26.736Z"
   },
   {
    "duration": 66,
    "start_time": "2024-11-11T08:36:26.901Z"
   },
   {
    "duration": 65,
    "start_time": "2024-11-11T08:36:26.969Z"
   },
   {
    "duration": 26,
    "start_time": "2024-11-11T08:36:27.036Z"
   },
   {
    "duration": 10,
    "start_time": "2024-11-11T08:36:27.063Z"
   },
   {
    "duration": 103,
    "start_time": "2024-11-11T08:36:27.074Z"
   },
   {
    "duration": 142,
    "start_time": "2024-11-11T08:36:27.178Z"
   },
   {
    "duration": 179,
    "start_time": "2024-11-11T08:36:27.322Z"
   },
   {
    "duration": 332,
    "start_time": "2024-11-11T08:36:27.502Z"
   },
   {
    "duration": 104,
    "start_time": "2024-11-11T08:36:27.836Z"
   },
   {
    "duration": 40,
    "start_time": "2024-11-11T08:36:27.942Z"
   },
   {
    "duration": 153,
    "start_time": "2024-11-11T08:36:27.999Z"
   },
   {
    "duration": 4,
    "start_time": "2024-11-11T08:36:28.153Z"
   },
   {
    "duration": 1899,
    "start_time": "2024-11-11T08:36:28.159Z"
   },
   {
    "duration": 27,
    "start_time": "2024-11-11T08:36:30.060Z"
   },
   {
    "duration": 11,
    "start_time": "2024-11-11T08:36:30.099Z"
   },
   {
    "duration": 32,
    "start_time": "2024-11-11T08:36:30.112Z"
   },
   {
    "duration": 24,
    "start_time": "2024-11-11T08:36:30.146Z"
   },
   {
    "duration": 36,
    "start_time": "2024-11-11T08:36:30.172Z"
   },
   {
    "duration": 579,
    "start_time": "2024-11-11T08:36:30.209Z"
   },
   {
    "duration": 167,
    "start_time": "2024-11-11T08:36:30.790Z"
   },
   {
    "duration": 384,
    "start_time": "2024-11-11T08:36:30.958Z"
   },
   {
    "duration": 17650,
    "start_time": "2024-11-11T08:36:31.344Z"
   },
   {
    "duration": 17406,
    "start_time": "2024-11-11T08:36:48.995Z"
   },
   {
    "duration": 142,
    "start_time": "2024-11-11T08:37:06.403Z"
   },
   {
    "duration": 17554,
    "start_time": "2024-11-11T08:37:06.547Z"
   },
   {
    "duration": 1494,
    "start_time": "2024-11-11T08:50:44.166Z"
   },
   {
    "duration": 916,
    "start_time": "2024-11-11T08:50:45.661Z"
   },
   {
    "duration": 172,
    "start_time": "2024-11-11T08:50:46.579Z"
   },
   {
    "duration": 84,
    "start_time": "2024-11-11T08:50:46.754Z"
   },
   {
    "duration": 60,
    "start_time": "2024-11-11T08:50:46.840Z"
   },
   {
    "duration": 51,
    "start_time": "2024-11-11T08:50:46.902Z"
   },
   {
    "duration": 83,
    "start_time": "2024-11-11T08:50:46.954Z"
   },
   {
    "duration": 120,
    "start_time": "2024-11-11T08:50:47.039Z"
   },
   {
    "duration": 147,
    "start_time": "2024-11-11T08:50:47.161Z"
   },
   {
    "duration": 171,
    "start_time": "2024-11-11T08:50:47.310Z"
   },
   {
    "duration": 323,
    "start_time": "2024-11-11T08:50:47.483Z"
   },
   {
    "duration": 103,
    "start_time": "2024-11-11T08:50:47.808Z"
   },
   {
    "duration": 42,
    "start_time": "2024-11-11T08:50:47.913Z"
   },
   {
    "duration": 159,
    "start_time": "2024-11-11T08:50:47.957Z"
   },
   {
    "duration": 3,
    "start_time": "2024-11-11T08:50:48.118Z"
   },
   {
    "duration": 1926,
    "start_time": "2024-11-11T08:50:48.122Z"
   },
   {
    "duration": 27,
    "start_time": "2024-11-11T08:50:50.050Z"
   },
   {
    "duration": 4,
    "start_time": "2024-11-11T08:50:50.079Z"
   },
   {
    "duration": 25,
    "start_time": "2024-11-11T08:50:50.100Z"
   },
   {
    "duration": 22,
    "start_time": "2024-11-11T08:50:50.127Z"
   },
   {
    "duration": 11,
    "start_time": "2024-11-11T08:50:50.151Z"
   },
   {
    "duration": 551,
    "start_time": "2024-11-11T08:50:50.164Z"
   },
   {
    "duration": 159,
    "start_time": "2024-11-11T08:50:50.717Z"
   },
   {
    "duration": 378,
    "start_time": "2024-11-11T08:50:50.878Z"
   },
   {
    "duration": 17140,
    "start_time": "2024-11-11T08:50:51.258Z"
   },
   {
    "duration": 17901,
    "start_time": "2024-11-11T08:51:08.399Z"
   },
   {
    "duration": 141,
    "start_time": "2024-11-11T08:51:26.302Z"
   },
   {
    "duration": 17096,
    "start_time": "2024-11-11T08:51:26.446Z"
   },
   {
    "duration": 4,
    "start_time": "2024-11-11T08:51:43.544Z"
   },
   {
    "duration": 60793,
    "start_time": "2024-11-11T08:51:43.549Z"
   },
   {
    "duration": 16563,
    "start_time": "2024-11-11T08:52:44.344Z"
   },
   {
    "duration": 193,
    "start_time": "2024-11-11T08:53:00.909Z"
   },
   {
    "duration": 2620,
    "start_time": "2024-11-11T08:53:01.104Z"
   },
   {
    "duration": 177,
    "start_time": "2024-11-11T08:53:03.725Z"
   },
   {
    "duration": 310,
    "start_time": "2024-11-11T08:56:24.065Z"
   },
   {
    "duration": 168,
    "start_time": "2024-11-11T08:57:06.176Z"
   },
   {
    "duration": 151,
    "start_time": "2024-11-11T08:58:50.546Z"
   },
   {
    "duration": 1459,
    "start_time": "2024-11-11T08:59:05.069Z"
   },
   {
    "duration": 891,
    "start_time": "2024-11-11T08:59:06.530Z"
   },
   {
    "duration": 178,
    "start_time": "2024-11-11T08:59:07.422Z"
   },
   {
    "duration": 72,
    "start_time": "2024-11-11T08:59:07.602Z"
   },
   {
    "duration": 69,
    "start_time": "2024-11-11T08:59:07.676Z"
   },
   {
    "duration": 62,
    "start_time": "2024-11-11T08:59:07.747Z"
   },
   {
    "duration": 31,
    "start_time": "2024-11-11T08:59:07.810Z"
   },
   {
    "duration": 100,
    "start_time": "2024-11-11T08:59:07.843Z"
   },
   {
    "duration": 132,
    "start_time": "2024-11-11T08:59:07.945Z"
   },
   {
    "duration": 170,
    "start_time": "2024-11-11T08:59:08.079Z"
   },
   {
    "duration": 329,
    "start_time": "2024-11-11T08:59:08.250Z"
   },
   {
    "duration": 133,
    "start_time": "2024-11-11T08:59:08.581Z"
   },
   {
    "duration": 39,
    "start_time": "2024-11-11T08:59:08.716Z"
   },
   {
    "duration": 161,
    "start_time": "2024-11-11T08:59:08.758Z"
   },
   {
    "duration": 3,
    "start_time": "2024-11-11T08:59:08.920Z"
   },
   {
    "duration": 1970,
    "start_time": "2024-11-11T08:59:08.925Z"
   },
   {
    "duration": 28,
    "start_time": "2024-11-11T08:59:10.897Z"
   },
   {
    "duration": 5,
    "start_time": "2024-11-11T08:59:10.926Z"
   },
   {
    "duration": 32,
    "start_time": "2024-11-11T08:59:10.932Z"
   },
   {
    "duration": 48,
    "start_time": "2024-11-11T08:59:10.966Z"
   },
   {
    "duration": 18,
    "start_time": "2024-11-11T08:59:11.016Z"
   },
   {
    "duration": 549,
    "start_time": "2024-11-11T08:59:11.037Z"
   },
   {
    "duration": 161,
    "start_time": "2024-11-11T08:59:11.588Z"
   },
   {
    "duration": 378,
    "start_time": "2024-11-11T08:59:11.751Z"
   },
   {
    "duration": 17319,
    "start_time": "2024-11-11T08:59:12.131Z"
   },
   {
    "duration": 16556,
    "start_time": "2024-11-11T08:59:29.451Z"
   },
   {
    "duration": 146,
    "start_time": "2024-11-11T08:59:46.012Z"
   },
   {
    "duration": 190,
    "start_time": "2024-11-11T08:59:46.159Z"
   },
   {
    "duration": 0,
    "start_time": "2024-11-11T08:59:46.351Z"
   },
   {
    "duration": 0,
    "start_time": "2024-11-11T08:59:46.352Z"
   },
   {
    "duration": 0,
    "start_time": "2024-11-11T08:59:46.354Z"
   },
   {
    "duration": 0,
    "start_time": "2024-11-11T08:59:46.354Z"
   },
   {
    "duration": 0,
    "start_time": "2024-11-11T08:59:46.355Z"
   },
   {
    "duration": 0,
    "start_time": "2024-11-11T08:59:46.357Z"
   },
   {
    "duration": 1487,
    "start_time": "2024-11-11T09:09:59.265Z"
   },
   {
    "duration": 889,
    "start_time": "2024-11-11T09:10:00.754Z"
   },
   {
    "duration": 179,
    "start_time": "2024-11-11T09:10:01.644Z"
   },
   {
    "duration": 81,
    "start_time": "2024-11-11T09:10:01.825Z"
   },
   {
    "duration": 54,
    "start_time": "2024-11-11T09:10:01.908Z"
   },
   {
    "duration": 48,
    "start_time": "2024-11-11T09:10:01.964Z"
   },
   {
    "duration": 59,
    "start_time": "2024-11-11T09:10:02.014Z"
   },
   {
    "duration": 111,
    "start_time": "2024-11-11T09:10:02.075Z"
   },
   {
    "duration": 178,
    "start_time": "2024-11-11T09:10:02.188Z"
   },
   {
    "duration": 170,
    "start_time": "2024-11-11T09:10:02.368Z"
   },
   {
    "duration": 327,
    "start_time": "2024-11-11T09:10:02.540Z"
   },
   {
    "duration": 100,
    "start_time": "2024-11-11T09:10:02.869Z"
   },
   {
    "duration": 52,
    "start_time": "2024-11-11T09:10:02.971Z"
   },
   {
    "duration": 173,
    "start_time": "2024-11-11T09:10:03.026Z"
   },
   {
    "duration": 4,
    "start_time": "2024-11-11T09:10:03.201Z"
   },
   {
    "duration": 1944,
    "start_time": "2024-11-11T09:10:03.206Z"
   },
   {
    "duration": 26,
    "start_time": "2024-11-11T09:10:05.152Z"
   },
   {
    "duration": 48,
    "start_time": "2024-11-11T09:10:05.180Z"
   },
   {
    "duration": 62,
    "start_time": "2024-11-11T09:10:05.230Z"
   },
   {
    "duration": 23,
    "start_time": "2024-11-11T09:10:05.294Z"
   },
   {
    "duration": 16,
    "start_time": "2024-11-11T09:10:05.319Z"
   },
   {
    "duration": 571,
    "start_time": "2024-11-11T09:10:05.336Z"
   },
   {
    "duration": 163,
    "start_time": "2024-11-11T09:10:05.909Z"
   },
   {
    "duration": 387,
    "start_time": "2024-11-11T09:10:06.074Z"
   },
   {
    "duration": 17686,
    "start_time": "2024-11-11T09:10:06.462Z"
   },
   {
    "duration": 17752,
    "start_time": "2024-11-11T09:10:24.149Z"
   },
   {
    "duration": 238,
    "start_time": "2024-11-11T09:10:41.904Z"
   },
   {
    "duration": 0,
    "start_time": "2024-11-11T09:10:42.143Z"
   },
   {
    "duration": 0,
    "start_time": "2024-11-11T09:10:42.144Z"
   },
   {
    "duration": 0,
    "start_time": "2024-11-11T09:10:42.145Z"
   },
   {
    "duration": 0,
    "start_time": "2024-11-11T09:10:42.147Z"
   },
   {
    "duration": 0,
    "start_time": "2024-11-11T09:10:42.148Z"
   },
   {
    "duration": 0,
    "start_time": "2024-11-11T09:10:42.149Z"
   },
   {
    "duration": 0,
    "start_time": "2024-11-11T09:10:42.150Z"
   },
   {
    "duration": 0,
    "start_time": "2024-11-11T09:10:42.151Z"
   },
   {
    "duration": 1187,
    "start_time": "2024-11-11T09:11:04.110Z"
   },
   {
    "duration": 42,
    "start_time": "2024-11-11T09:11:06.524Z"
   },
   {
    "duration": 1880,
    "start_time": "2024-11-11T09:11:07.653Z"
   },
   {
    "duration": 6,
    "start_time": "2024-11-11T09:11:16.278Z"
   },
   {
    "duration": 2337,
    "start_time": "2024-11-11T09:11:19.782Z"
   },
   {
    "duration": 68,
    "start_time": "2024-11-11T09:11:59.776Z"
   },
   {
    "duration": 80,
    "start_time": "2024-11-11T09:12:12.049Z"
   },
   {
    "duration": 8291,
    "start_time": "2024-11-11T09:12:22.481Z"
   },
   {
    "duration": 18005,
    "start_time": "2024-11-11T09:12:41.111Z"
   },
   {
    "duration": 407,
    "start_time": "2024-11-11T09:12:59.118Z"
   },
   {
    "duration": 2420,
    "start_time": "2024-11-11T09:13:47.698Z"
   },
   {
    "duration": 177,
    "start_time": "2024-11-11T09:13:50.120Z"
   },
   {
    "duration": 155,
    "start_time": "2024-11-11T09:13:56.615Z"
   },
   {
    "duration": 2427,
    "start_time": "2024-11-11T09:14:02.692Z"
   },
   {
    "duration": 165,
    "start_time": "2024-11-11T09:14:05.120Z"
   },
   {
    "duration": 309,
    "start_time": "2024-11-11T09:15:10.184Z"
   },
   {
    "duration": 26,
    "start_time": "2024-11-11T09:15:10.918Z"
   },
   {
    "duration": 76,
    "start_time": "2024-11-11T09:22:59.435Z"
   },
   {
    "duration": 8238,
    "start_time": "2024-11-11T09:24:01.831Z"
   },
   {
    "duration": 8085,
    "start_time": "2024-11-11T09:24:41.649Z"
   },
   {
    "duration": 113,
    "start_time": "2024-11-11T09:25:06.693Z"
   },
   {
    "duration": 8398,
    "start_time": "2024-11-11T09:27:02.248Z"
   },
   {
    "duration": 104,
    "start_time": "2024-11-11T09:27:10.648Z"
   },
   {
    "duration": 8431,
    "start_time": "2024-11-11T09:28:23.751Z"
   },
   {
    "duration": 2017,
    "start_time": "2024-11-11T09:28:54.155Z"
   },
   {
    "duration": 8601,
    "start_time": "2024-11-11T09:29:20.229Z"
   },
   {
    "duration": 8359,
    "start_time": "2024-11-11T09:31:40.115Z"
   },
   {
    "duration": 109,
    "start_time": "2024-11-11T09:32:21.845Z"
   },
   {
    "duration": 9081,
    "start_time": "2024-11-11T09:34:09.870Z"
   },
   {
    "duration": 106,
    "start_time": "2024-11-11T09:34:18.953Z"
   },
   {
    "duration": 10037,
    "start_time": "2024-11-11T09:35:00.584Z"
   },
   {
    "duration": 105,
    "start_time": "2024-11-11T09:35:10.623Z"
   },
   {
    "duration": 80902,
    "start_time": "2024-11-11T09:36:23.362Z"
   },
   {
    "duration": 39794,
    "start_time": "2024-11-11T09:37:47.124Z"
   },
   {
    "duration": 15802,
    "start_time": "2024-11-11T09:39:30.171Z"
   },
   {
    "duration": 300,
    "start_time": "2024-11-11T09:39:45.975Z"
   },
   {
    "duration": 74,
    "start_time": "2024-11-11T09:48:18.196Z"
   },
   {
    "duration": 35,
    "start_time": "2024-11-11T09:50:24.777Z"
   },
   {
    "duration": 7421,
    "start_time": "2024-11-11T09:51:24.915Z"
   },
   {
    "duration": 12,
    "start_time": "2024-11-11T09:52:28.225Z"
   },
   {
    "duration": 3,
    "start_time": "2024-11-11T09:52:33.823Z"
   },
   {
    "duration": 1517,
    "start_time": "2024-11-11T10:25:30.350Z"
   },
   {
    "duration": 955,
    "start_time": "2024-11-11T10:25:31.869Z"
   },
   {
    "duration": 186,
    "start_time": "2024-11-11T10:25:32.826Z"
   },
   {
    "duration": 73,
    "start_time": "2024-11-11T10:25:33.014Z"
   },
   {
    "duration": 77,
    "start_time": "2024-11-11T10:25:33.090Z"
   },
   {
    "duration": 40,
    "start_time": "2024-11-11T10:25:33.169Z"
   },
   {
    "duration": 52,
    "start_time": "2024-11-11T10:25:33.210Z"
   },
   {
    "duration": 100,
    "start_time": "2024-11-11T10:25:33.264Z"
   },
   {
    "duration": 148,
    "start_time": "2024-11-11T10:25:33.366Z"
   },
   {
    "duration": 170,
    "start_time": "2024-11-11T10:25:33.516Z"
   },
   {
    "duration": 366,
    "start_time": "2024-11-11T10:25:33.687Z"
   },
   {
    "duration": 114,
    "start_time": "2024-11-11T10:25:34.055Z"
   },
   {
    "duration": 82,
    "start_time": "2024-11-11T10:25:34.171Z"
   },
   {
    "duration": 181,
    "start_time": "2024-11-11T10:25:34.257Z"
   },
   {
    "duration": 3,
    "start_time": "2024-11-11T10:25:34.440Z"
   },
   {
    "duration": 1975,
    "start_time": "2024-11-11T10:25:34.444Z"
   },
   {
    "duration": 28,
    "start_time": "2024-11-11T10:25:36.421Z"
   },
   {
    "duration": 5,
    "start_time": "2024-11-11T10:25:36.450Z"
   },
   {
    "duration": 52,
    "start_time": "2024-11-11T10:25:36.456Z"
   },
   {
    "duration": 24,
    "start_time": "2024-11-11T10:25:36.510Z"
   },
   {
    "duration": 12,
    "start_time": "2024-11-11T10:25:36.535Z"
   },
   {
    "duration": 611,
    "start_time": "2024-11-11T10:25:36.549Z"
   },
   {
    "duration": 174,
    "start_time": "2024-11-11T10:25:37.162Z"
   },
   {
    "duration": 423,
    "start_time": "2024-11-11T10:25:37.339Z"
   },
   {
    "duration": 18312,
    "start_time": "2024-11-11T10:25:37.764Z"
   },
   {
    "duration": 25924,
    "start_time": "2024-11-11T10:25:56.078Z"
   },
   {
    "duration": 1408,
    "start_time": "2024-11-11T10:26:22.004Z"
   },
   {
    "duration": 42,
    "start_time": "2024-11-11T10:26:23.414Z"
   },
   {
    "duration": 1995,
    "start_time": "2024-11-11T10:26:23.458Z"
   },
   {
    "duration": 4,
    "start_time": "2024-11-11T10:26:25.455Z"
   },
   {
    "duration": 43621,
    "start_time": "2024-11-11T10:26:25.461Z"
   },
   {
    "duration": 2987,
    "start_time": "2024-11-11T10:27:09.084Z"
   },
   {
    "duration": 48,
    "start_time": "2024-11-11T10:27:12.073Z"
   },
   {
    "duration": 62082,
    "start_time": "2024-11-11T10:27:12.123Z"
   },
   {
    "duration": 3,
    "start_time": "2024-11-11T10:28:14.214Z"
   },
   {
    "duration": 1472,
    "start_time": "2024-11-11T10:33:44.545Z"
   },
   {
    "duration": 925,
    "start_time": "2024-11-11T10:33:46.019Z"
   },
   {
    "duration": 192,
    "start_time": "2024-11-11T10:33:46.946Z"
   },
   {
    "duration": 85,
    "start_time": "2024-11-11T10:33:47.141Z"
   },
   {
    "duration": 55,
    "start_time": "2024-11-11T10:33:47.229Z"
   },
   {
    "duration": 62,
    "start_time": "2024-11-11T10:33:47.286Z"
   },
   {
    "duration": 39,
    "start_time": "2024-11-11T10:33:47.350Z"
   },
   {
    "duration": 114,
    "start_time": "2024-11-11T10:33:47.391Z"
   },
   {
    "duration": 158,
    "start_time": "2024-11-11T10:33:47.507Z"
   },
   {
    "duration": 179,
    "start_time": "2024-11-11T10:33:47.667Z"
   },
   {
    "duration": 338,
    "start_time": "2024-11-11T10:33:47.848Z"
   },
   {
    "duration": 115,
    "start_time": "2024-11-11T10:33:48.188Z"
   },
   {
    "duration": 39,
    "start_time": "2024-11-11T10:33:48.313Z"
   },
   {
    "duration": 170,
    "start_time": "2024-11-11T10:33:48.355Z"
   },
   {
    "duration": 3,
    "start_time": "2024-11-11T10:33:48.526Z"
   },
   {
    "duration": 1928,
    "start_time": "2024-11-11T10:33:48.531Z"
   },
   {
    "duration": 28,
    "start_time": "2024-11-11T10:33:50.460Z"
   },
   {
    "duration": 11,
    "start_time": "2024-11-11T10:33:50.504Z"
   },
   {
    "duration": 32,
    "start_time": "2024-11-11T10:33:50.517Z"
   },
   {
    "duration": 24,
    "start_time": "2024-11-11T10:33:50.551Z"
   },
   {
    "duration": 34,
    "start_time": "2024-11-11T10:33:50.577Z"
   },
   {
    "duration": 534,
    "start_time": "2024-11-11T10:33:50.617Z"
   },
   {
    "duration": 169,
    "start_time": "2024-11-11T10:33:51.153Z"
   },
   {
    "duration": 371,
    "start_time": "2024-11-11T10:33:51.324Z"
   },
   {
    "duration": 18212,
    "start_time": "2024-11-11T10:33:51.697Z"
   },
   {
    "duration": 26485,
    "start_time": "2024-11-11T10:34:09.916Z"
   },
   {
    "duration": 1366,
    "start_time": "2024-11-11T10:34:36.403Z"
   },
   {
    "duration": 48,
    "start_time": "2024-11-11T10:34:37.771Z"
   },
   {
    "duration": 1982,
    "start_time": "2024-11-11T10:34:37.821Z"
   },
   {
    "duration": 4,
    "start_time": "2024-11-11T10:34:39.813Z"
   },
   {
    "duration": 42778,
    "start_time": "2024-11-11T10:34:39.819Z"
   },
   {
    "duration": 2597,
    "start_time": "2024-11-11T10:35:22.599Z"
   },
   {
    "duration": 45,
    "start_time": "2024-11-11T10:35:25.198Z"
   },
   {
    "duration": 54478,
    "start_time": "2024-11-11T10:35:25.244Z"
   },
   {
    "duration": 5,
    "start_time": "2024-11-11T10:36:19.805Z"
   },
   {
    "duration": 1513,
    "start_time": "2024-11-11T10:50:31.035Z"
   },
   {
    "duration": 974,
    "start_time": "2024-11-11T10:50:32.550Z"
   },
   {
    "duration": 195,
    "start_time": "2024-11-11T10:50:33.526Z"
   },
   {
    "duration": 89,
    "start_time": "2024-11-11T10:50:33.723Z"
   },
   {
    "duration": 57,
    "start_time": "2024-11-11T10:50:33.814Z"
   },
   {
    "duration": 51,
    "start_time": "2024-11-11T10:50:33.873Z"
   },
   {
    "duration": 23,
    "start_time": "2024-11-11T10:50:33.926Z"
   },
   {
    "duration": 111,
    "start_time": "2024-11-11T10:50:33.951Z"
   },
   {
    "duration": 155,
    "start_time": "2024-11-11T10:50:34.064Z"
   },
   {
    "duration": 206,
    "start_time": "2024-11-11T10:50:34.223Z"
   },
   {
    "duration": 356,
    "start_time": "2024-11-11T10:50:34.431Z"
   },
   {
    "duration": 112,
    "start_time": "2024-11-11T10:50:34.789Z"
   },
   {
    "duration": 46,
    "start_time": "2024-11-11T10:50:34.904Z"
   },
   {
    "duration": 184,
    "start_time": "2024-11-11T10:50:34.952Z"
   },
   {
    "duration": 4,
    "start_time": "2024-11-11T10:50:35.138Z"
   },
   {
    "duration": 2004,
    "start_time": "2024-11-11T10:50:35.144Z"
   },
   {
    "duration": 28,
    "start_time": "2024-11-11T10:50:37.150Z"
   },
   {
    "duration": 34,
    "start_time": "2024-11-11T10:50:37.180Z"
   },
   {
    "duration": 41,
    "start_time": "2024-11-11T10:50:37.216Z"
   },
   {
    "duration": 86,
    "start_time": "2024-11-11T10:50:37.258Z"
   },
   {
    "duration": 12,
    "start_time": "2024-11-11T10:50:37.346Z"
   },
   {
    "duration": 601,
    "start_time": "2024-11-11T10:50:37.360Z"
   },
   {
    "duration": 196,
    "start_time": "2024-11-11T10:50:37.963Z"
   },
   {
    "duration": 433,
    "start_time": "2024-11-11T10:50:38.161Z"
   },
   {
    "duration": 18743,
    "start_time": "2024-11-11T10:50:38.596Z"
   },
   {
    "duration": 27267,
    "start_time": "2024-11-11T10:50:57.341Z"
   },
   {
    "duration": 1427,
    "start_time": "2024-11-11T10:51:24.615Z"
   },
   {
    "duration": 41,
    "start_time": "2024-11-11T10:51:26.046Z"
   },
   {
    "duration": 1899,
    "start_time": "2024-11-11T10:51:26.089Z"
   },
   {
    "duration": 4,
    "start_time": "2024-11-11T10:51:27.990Z"
   },
   {
    "duration": 42837,
    "start_time": "2024-11-11T10:51:28.002Z"
   },
   {
    "duration": 2533,
    "start_time": "2024-11-11T10:52:10.841Z"
   },
   {
    "duration": 46,
    "start_time": "2024-11-11T10:52:13.376Z"
   },
   {
    "duration": 91806,
    "start_time": "2024-11-11T10:52:13.424Z"
   },
   {
    "duration": 4,
    "start_time": "2024-11-11T10:53:45.232Z"
   },
   {
    "duration": 197046,
    "start_time": "2024-11-11T10:53:45.237Z"
   },
   {
    "duration": 0,
    "start_time": "2024-11-11T10:57:02.285Z"
   },
   {
    "duration": 0,
    "start_time": "2024-11-11T10:57:02.286Z"
   },
   {
    "duration": 0,
    "start_time": "2024-11-11T10:57:02.287Z"
   },
   {
    "duration": 0,
    "start_time": "2024-11-11T10:57:02.289Z"
   },
   {
    "duration": 0,
    "start_time": "2024-11-11T10:57:02.290Z"
   },
   {
    "duration": 0,
    "start_time": "2024-11-11T10:57:02.292Z"
   },
   {
    "duration": 0,
    "start_time": "2024-11-11T10:57:02.293Z"
   },
   {
    "duration": 0,
    "start_time": "2024-11-11T10:57:02.294Z"
   },
   {
    "duration": 0,
    "start_time": "2024-11-11T10:57:02.295Z"
   },
   {
    "duration": 0,
    "start_time": "2024-11-11T10:57:02.299Z"
   },
   {
    "duration": 0,
    "start_time": "2024-11-11T10:57:02.300Z"
   },
   {
    "duration": 0,
    "start_time": "2024-11-11T10:57:02.300Z"
   },
   {
    "duration": 1517,
    "start_time": "2024-11-11T11:14:46.929Z"
   },
   {
    "duration": 934,
    "start_time": "2024-11-11T11:14:48.447Z"
   },
   {
    "duration": 177,
    "start_time": "2024-11-11T11:14:49.382Z"
   },
   {
    "duration": 80,
    "start_time": "2024-11-11T11:14:49.561Z"
   },
   {
    "duration": 64,
    "start_time": "2024-11-11T11:14:49.643Z"
   },
   {
    "duration": 29,
    "start_time": "2024-11-11T11:14:49.708Z"
   },
   {
    "duration": 11,
    "start_time": "2024-11-11T11:14:49.739Z"
   },
   {
    "duration": 126,
    "start_time": "2024-11-11T11:14:49.752Z"
   },
   {
    "duration": 160,
    "start_time": "2024-11-11T11:14:49.880Z"
   },
   {
    "duration": 183,
    "start_time": "2024-11-11T11:14:50.042Z"
   },
   {
    "duration": 351,
    "start_time": "2024-11-11T11:14:50.227Z"
   },
   {
    "duration": 100,
    "start_time": "2024-11-11T11:14:50.579Z"
   },
   {
    "duration": 53,
    "start_time": "2024-11-11T11:14:50.681Z"
   },
   {
    "duration": 170,
    "start_time": "2024-11-11T11:14:50.738Z"
   },
   {
    "duration": 4,
    "start_time": "2024-11-11T11:14:50.910Z"
   },
   {
    "duration": 2150,
    "start_time": "2024-11-11T11:14:50.916Z"
   },
   {
    "duration": 35,
    "start_time": "2024-11-11T11:14:53.067Z"
   },
   {
    "duration": 5,
    "start_time": "2024-11-11T11:14:53.104Z"
   },
   {
    "duration": 44,
    "start_time": "2024-11-11T11:14:53.110Z"
   },
   {
    "duration": 25,
    "start_time": "2024-11-11T11:14:53.156Z"
   },
   {
    "duration": 13,
    "start_time": "2024-11-11T11:14:53.182Z"
   },
   {
    "duration": 562,
    "start_time": "2024-11-11T11:14:53.200Z"
   },
   {
    "duration": 167,
    "start_time": "2024-11-11T11:14:53.764Z"
   },
   {
    "duration": 383,
    "start_time": "2024-11-11T11:14:53.933Z"
   },
   {
    "duration": 17819,
    "start_time": "2024-11-11T11:14:54.318Z"
   },
   {
    "duration": 22062,
    "start_time": "2024-11-11T11:15:12.139Z"
   },
   {
    "duration": 1351,
    "start_time": "2024-11-11T11:15:34.202Z"
   },
   {
    "duration": 48,
    "start_time": "2024-11-11T11:15:35.555Z"
   },
   {
    "duration": 1932,
    "start_time": "2024-11-11T11:15:35.605Z"
   },
   {
    "duration": 5,
    "start_time": "2024-11-11T11:15:37.539Z"
   },
   {
    "duration": 41499,
    "start_time": "2024-11-11T11:15:37.545Z"
   },
   {
    "duration": 2505,
    "start_time": "2024-11-11T11:16:19.046Z"
   },
   {
    "duration": 42,
    "start_time": "2024-11-11T11:16:21.553Z"
   },
   {
    "duration": 1456,
    "start_time": "2024-11-11T11:21:46.769Z"
   },
   {
    "duration": 975,
    "start_time": "2024-11-11T11:21:48.227Z"
   },
   {
    "duration": 168,
    "start_time": "2024-11-11T11:21:49.203Z"
   },
   {
    "duration": 77,
    "start_time": "2024-11-11T11:21:49.373Z"
   },
   {
    "duration": 59,
    "start_time": "2024-11-11T11:21:49.452Z"
   },
   {
    "duration": 27,
    "start_time": "2024-11-11T11:21:49.513Z"
   },
   {
    "duration": 12,
    "start_time": "2024-11-11T11:21:49.541Z"
   },
   {
    "duration": 116,
    "start_time": "2024-11-11T11:21:49.555Z"
   },
   {
    "duration": 133,
    "start_time": "2024-11-11T11:21:49.673Z"
   },
   {
    "duration": 183,
    "start_time": "2024-11-11T11:21:49.808Z"
   },
   {
    "duration": 344,
    "start_time": "2024-11-11T11:21:49.993Z"
   },
   {
    "duration": 104,
    "start_time": "2024-11-11T11:21:50.340Z"
   },
   {
    "duration": 40,
    "start_time": "2024-11-11T11:21:50.446Z"
   },
   {
    "duration": 152,
    "start_time": "2024-11-11T11:21:50.501Z"
   },
   {
    "duration": 3,
    "start_time": "2024-11-11T11:21:50.655Z"
   },
   {
    "duration": 1961,
    "start_time": "2024-11-11T11:21:50.659Z"
   },
   {
    "duration": 28,
    "start_time": "2024-11-11T11:21:52.622Z"
   },
   {
    "duration": 6,
    "start_time": "2024-11-11T11:21:52.651Z"
   },
   {
    "duration": 47,
    "start_time": "2024-11-11T11:21:52.658Z"
   },
   {
    "duration": 24,
    "start_time": "2024-11-11T11:21:52.706Z"
   },
   {
    "duration": 12,
    "start_time": "2024-11-11T11:21:52.732Z"
   },
   {
    "duration": 605,
    "start_time": "2024-11-11T11:21:52.745Z"
   },
   {
    "duration": 164,
    "start_time": "2024-11-11T11:21:53.352Z"
   },
   {
    "duration": 381,
    "start_time": "2024-11-11T11:21:53.518Z"
   },
   {
    "duration": 17923,
    "start_time": "2024-11-11T11:21:53.902Z"
   },
   {
    "duration": 22574,
    "start_time": "2024-11-11T11:22:11.827Z"
   },
   {
    "duration": 1316,
    "start_time": "2024-11-11T11:22:34.403Z"
   },
   {
    "duration": 44,
    "start_time": "2024-11-11T11:22:35.721Z"
   },
   {
    "duration": 1958,
    "start_time": "2024-11-11T11:22:35.767Z"
   },
   {
    "duration": 4,
    "start_time": "2024-11-11T11:22:37.727Z"
   },
   {
    "duration": 42539,
    "start_time": "2024-11-11T11:22:37.733Z"
   },
   {
    "duration": 2488,
    "start_time": "2024-11-11T11:23:20.274Z"
   },
   {
    "duration": 42,
    "start_time": "2024-11-11T11:23:22.765Z"
   },
   {
    "duration": 1564,
    "start_time": "2024-11-11T11:27:08.073Z"
   },
   {
    "duration": 952,
    "start_time": "2024-11-11T11:27:09.639Z"
   },
   {
    "duration": 183,
    "start_time": "2024-11-11T11:27:10.592Z"
   },
   {
    "duration": 85,
    "start_time": "2024-11-11T11:27:10.778Z"
   },
   {
    "duration": 66,
    "start_time": "2024-11-11T11:27:10.865Z"
   },
   {
    "duration": 93,
    "start_time": "2024-11-11T11:27:10.933Z"
   },
   {
    "duration": 22,
    "start_time": "2024-11-11T11:27:11.028Z"
   },
   {
    "duration": 95,
    "start_time": "2024-11-11T11:27:11.052Z"
   },
   {
    "duration": 136,
    "start_time": "2024-11-11T11:27:11.149Z"
   },
   {
    "duration": 181,
    "start_time": "2024-11-11T11:27:11.299Z"
   },
   {
    "duration": 370,
    "start_time": "2024-11-11T11:27:11.482Z"
   },
   {
    "duration": 108,
    "start_time": "2024-11-11T11:27:11.854Z"
   },
   {
    "duration": 52,
    "start_time": "2024-11-11T11:27:11.964Z"
   },
   {
    "duration": 167,
    "start_time": "2024-11-11T11:27:12.018Z"
   },
   {
    "duration": 3,
    "start_time": "2024-11-11T11:27:12.188Z"
   },
   {
    "duration": 2038,
    "start_time": "2024-11-11T11:27:12.200Z"
   },
   {
    "duration": 27,
    "start_time": "2024-11-11T11:27:14.241Z"
   },
   {
    "duration": 5,
    "start_time": "2024-11-11T11:27:14.270Z"
   },
   {
    "duration": 53,
    "start_time": "2024-11-11T11:27:14.276Z"
   },
   {
    "duration": 30,
    "start_time": "2024-11-11T11:27:14.331Z"
   },
   {
    "duration": 13,
    "start_time": "2024-11-11T11:27:14.363Z"
   },
   {
    "duration": 598,
    "start_time": "2024-11-11T11:27:14.377Z"
   },
   {
    "duration": 160,
    "start_time": "2024-11-11T11:27:14.976Z"
   },
   {
    "duration": 388,
    "start_time": "2024-11-11T11:27:15.139Z"
   },
   {
    "duration": 17836,
    "start_time": "2024-11-11T11:27:15.529Z"
   },
   {
    "duration": 22335,
    "start_time": "2024-11-11T11:27:33.367Z"
   },
   {
    "duration": 1346,
    "start_time": "2024-11-11T11:27:55.704Z"
   },
   {
    "duration": 52,
    "start_time": "2024-11-11T11:27:57.053Z"
   },
   {
    "duration": 1913,
    "start_time": "2024-11-11T11:27:57.106Z"
   },
   {
    "duration": 5,
    "start_time": "2024-11-11T11:27:59.022Z"
   },
   {
    "duration": 41696,
    "start_time": "2024-11-11T11:27:59.030Z"
   },
   {
    "duration": 2515,
    "start_time": "2024-11-11T11:28:40.728Z"
   },
   {
    "duration": 42,
    "start_time": "2024-11-11T11:28:43.245Z"
   },
   {
    "duration": 4,
    "start_time": "2024-11-11T11:28:43.289Z"
   },
   {
    "duration": 3,
    "start_time": "2024-11-11T11:28:43.295Z"
   },
   {
    "duration": 20,
    "start_time": "2024-11-11T11:28:43.300Z"
   },
   {
    "duration": 9,
    "start_time": "2024-11-11T11:28:43.321Z"
   },
   {
    "duration": 0,
    "start_time": "2024-11-11T11:28:43.332Z"
   },
   {
    "duration": 0,
    "start_time": "2024-11-11T11:28:43.333Z"
   },
   {
    "duration": 0,
    "start_time": "2024-11-11T11:28:43.334Z"
   },
   {
    "duration": 0,
    "start_time": "2024-11-11T11:28:43.335Z"
   },
   {
    "duration": 0,
    "start_time": "2024-11-11T11:28:43.337Z"
   },
   {
    "duration": 0,
    "start_time": "2024-11-11T11:28:43.338Z"
   },
   {
    "duration": 0,
    "start_time": "2024-11-11T11:28:43.339Z"
   },
   {
    "duration": 0,
    "start_time": "2024-11-11T11:28:43.340Z"
   },
   {
    "duration": 0,
    "start_time": "2024-11-11T11:28:43.341Z"
   },
   {
    "duration": 0,
    "start_time": "2024-11-11T11:28:43.343Z"
   },
   {
    "duration": 0,
    "start_time": "2024-11-11T11:28:43.344Z"
   },
   {
    "duration": 4,
    "start_time": "2024-11-11T11:30:01.509Z"
   },
   {
    "duration": 372,
    "start_time": "2024-11-11T11:31:42.962Z"
   },
   {
    "duration": 299,
    "start_time": "2024-11-11T11:32:01.186Z"
   },
   {
    "duration": 4,
    "start_time": "2024-11-11T11:32:04.809Z"
   },
   {
    "duration": 24,
    "start_time": "2024-11-11T11:32:07.372Z"
   },
   {
    "duration": 14,
    "start_time": "2024-11-11T11:32:08.571Z"
   },
   {
    "duration": 4,
    "start_time": "2024-11-11T11:32:12.749Z"
   },
   {
    "duration": 30,
    "start_time": "2024-11-11T11:32:14.306Z"
   },
   {
    "duration": 13,
    "start_time": "2024-11-11T11:32:14.837Z"
   },
   {
    "duration": 4,
    "start_time": "2024-11-11T11:32:20.957Z"
   },
   {
    "duration": 23,
    "start_time": "2024-11-11T11:32:23.754Z"
   },
   {
    "duration": 14,
    "start_time": "2024-11-11T11:32:24.114Z"
   },
   {
    "duration": 269,
    "start_time": "2024-11-11T11:33:31.663Z"
   },
   {
    "duration": 4,
    "start_time": "2024-11-11T11:35:52.378Z"
   },
   {
    "duration": 24,
    "start_time": "2024-11-11T11:35:53.841Z"
   },
   {
    "duration": 12,
    "start_time": "2024-11-11T11:35:55.670Z"
   },
   {
    "duration": 1764,
    "start_time": "2024-11-11T14:12:50.648Z"
   },
   {
    "duration": 3090,
    "start_time": "2024-11-11T14:12:52.414Z"
   },
   {
    "duration": 179,
    "start_time": "2024-11-11T14:12:55.505Z"
   },
   {
    "duration": 74,
    "start_time": "2024-11-11T14:12:55.686Z"
   },
   {
    "duration": 50,
    "start_time": "2024-11-11T14:12:55.762Z"
   },
   {
    "duration": 44,
    "start_time": "2024-11-11T14:12:55.813Z"
   },
   {
    "duration": 9,
    "start_time": "2024-11-11T14:12:55.859Z"
   },
   {
    "duration": 107,
    "start_time": "2024-11-11T14:12:55.870Z"
   },
   {
    "duration": 138,
    "start_time": "2024-11-11T14:12:55.979Z"
   },
   {
    "duration": 173,
    "start_time": "2024-11-11T14:12:56.119Z"
   },
   {
    "duration": 328,
    "start_time": "2024-11-11T14:12:56.294Z"
   },
   {
    "duration": 105,
    "start_time": "2024-11-11T14:12:56.624Z"
   },
   {
    "duration": 52,
    "start_time": "2024-11-11T14:12:56.731Z"
   },
   {
    "duration": 174,
    "start_time": "2024-11-11T14:12:56.785Z"
   },
   {
    "duration": 3,
    "start_time": "2024-11-11T14:12:56.961Z"
   },
   {
    "duration": 2006,
    "start_time": "2024-11-11T14:12:56.965Z"
   },
   {
    "duration": 27,
    "start_time": "2024-11-11T14:12:58.972Z"
   },
   {
    "duration": 31,
    "start_time": "2024-11-11T14:12:59.000Z"
   },
   {
    "duration": 31,
    "start_time": "2024-11-11T14:12:59.033Z"
   },
   {
    "duration": 23,
    "start_time": "2024-11-11T14:12:59.066Z"
   },
   {
    "duration": 13,
    "start_time": "2024-11-11T14:12:59.091Z"
   },
   {
    "duration": 499,
    "start_time": "2024-11-11T14:12:59.105Z"
   },
   {
    "duration": 159,
    "start_time": "2024-11-11T14:12:59.605Z"
   },
   {
    "duration": 394,
    "start_time": "2024-11-11T14:12:59.766Z"
   },
   {
    "duration": 18540,
    "start_time": "2024-11-11T14:13:00.162Z"
   },
   {
    "duration": 20548,
    "start_time": "2024-11-11T14:13:18.703Z"
   },
   {
    "duration": 1831,
    "start_time": "2024-11-11T14:13:39.343Z"
   },
   {
    "duration": 43,
    "start_time": "2024-11-11T14:13:41.178Z"
   },
   {
    "duration": 1918,
    "start_time": "2024-11-11T14:13:41.223Z"
   },
   {
    "duration": 4,
    "start_time": "2024-11-11T14:13:43.143Z"
   },
   {
    "duration": 42572,
    "start_time": "2024-11-11T14:13:43.149Z"
   },
   {
    "duration": 2917,
    "start_time": "2024-11-11T14:14:25.722Z"
   },
   {
    "duration": 41,
    "start_time": "2024-11-11T14:14:28.641Z"
   },
   {
    "duration": 4,
    "start_time": "2024-11-11T14:14:28.684Z"
   },
   {
    "duration": 13,
    "start_time": "2024-11-11T14:14:28.689Z"
   },
   {
    "duration": 3,
    "start_time": "2024-11-11T14:14:28.704Z"
   },
   {
    "duration": 4,
    "start_time": "2024-11-11T14:14:28.709Z"
   },
   {
    "duration": 0,
    "start_time": "2024-11-11T14:14:28.714Z"
   },
   {
    "duration": 0,
    "start_time": "2024-11-11T14:14:28.715Z"
   },
   {
    "duration": 0,
    "start_time": "2024-11-11T14:14:28.716Z"
   },
   {
    "duration": 0,
    "start_time": "2024-11-11T14:14:28.717Z"
   },
   {
    "duration": 0,
    "start_time": "2024-11-11T14:14:28.718Z"
   },
   {
    "duration": 0,
    "start_time": "2024-11-11T14:14:28.719Z"
   },
   {
    "duration": 0,
    "start_time": "2024-11-11T14:14:28.721Z"
   },
   {
    "duration": 0,
    "start_time": "2024-11-11T14:14:28.742Z"
   },
   {
    "duration": 0,
    "start_time": "2024-11-11T14:14:28.744Z"
   },
   {
    "duration": 0,
    "start_time": "2024-11-11T14:14:28.745Z"
   },
   {
    "duration": 0,
    "start_time": "2024-11-11T14:14:28.746Z"
   },
   {
    "duration": 19475,
    "start_time": "2024-11-11T14:15:22.171Z"
   },
   {
    "duration": 129,
    "start_time": "2024-11-11T14:15:58.118Z"
   },
   {
    "duration": 275,
    "start_time": "2024-11-11T14:16:00.069Z"
   },
   {
    "duration": 5,
    "start_time": "2024-11-11T14:16:03.774Z"
   },
   {
    "duration": 294,
    "start_time": "2024-11-11T14:16:33.170Z"
   },
   {
    "duration": 20,
    "start_time": "2024-11-11T14:16:44.220Z"
   },
   {
    "duration": 18,
    "start_time": "2024-11-11T14:16:45.652Z"
   },
   {
    "duration": 5,
    "start_time": "2024-11-11T14:16:56.347Z"
   },
   {
    "duration": 16868,
    "start_time": "2024-11-11T14:17:05.359Z"
   },
   {
    "duration": 213,
    "start_time": "2024-11-11T14:17:22.229Z"
   },
   {
    "duration": 78,
    "start_time": "2024-11-11T14:17:22.444Z"
   },
   {
    "duration": 70677,
    "start_time": "2024-11-11T14:17:46.374Z"
   },
   {
    "duration": 64214,
    "start_time": "2024-11-11T14:18:57.053Z"
   },
   {
    "duration": 3899,
    "start_time": "2024-11-11T14:20:01.269Z"
   },
   {
    "duration": 156,
    "start_time": "2024-11-11T14:55:42.767Z"
   },
   {
    "duration": 1609,
    "start_time": "2024-11-11T14:58:37.131Z"
   },
   {
    "duration": 1127,
    "start_time": "2024-11-11T14:58:38.742Z"
   },
   {
    "duration": 218,
    "start_time": "2024-11-11T14:58:39.871Z"
   },
   {
    "duration": 81,
    "start_time": "2024-11-11T14:58:40.091Z"
   },
   {
    "duration": 54,
    "start_time": "2024-11-11T14:58:40.174Z"
   },
   {
    "duration": 43,
    "start_time": "2024-11-11T14:58:40.230Z"
   },
   {
    "duration": 24,
    "start_time": "2024-11-11T14:58:40.275Z"
   },
   {
    "duration": 126,
    "start_time": "2024-11-11T14:58:40.301Z"
   },
   {
    "duration": 137,
    "start_time": "2024-11-11T14:58:40.429Z"
   },
   {
    "duration": 190,
    "start_time": "2024-11-11T14:58:40.568Z"
   },
   {
    "duration": 406,
    "start_time": "2024-11-11T14:58:40.760Z"
   },
   {
    "duration": 128,
    "start_time": "2024-11-11T14:58:41.168Z"
   },
   {
    "duration": 49,
    "start_time": "2024-11-11T14:58:41.297Z"
   },
   {
    "duration": 227,
    "start_time": "2024-11-11T14:58:41.348Z"
   },
   {
    "duration": 3,
    "start_time": "2024-11-11T14:58:41.576Z"
   },
   {
    "duration": 2098,
    "start_time": "2024-11-11T14:58:41.581Z"
   },
   {
    "duration": 26,
    "start_time": "2024-11-11T14:58:43.681Z"
   },
   {
    "duration": 48,
    "start_time": "2024-11-11T14:58:43.709Z"
   },
   {
    "duration": 31,
    "start_time": "2024-11-11T14:58:43.759Z"
   },
   {
    "duration": 25,
    "start_time": "2024-11-11T14:58:43.792Z"
   },
   {
    "duration": 13,
    "start_time": "2024-11-11T14:58:43.818Z"
   },
   {
    "duration": 504,
    "start_time": "2024-11-11T14:58:43.832Z"
   },
   {
    "duration": 184,
    "start_time": "2024-11-11T14:58:44.338Z"
   },
   {
    "duration": 399,
    "start_time": "2024-11-11T14:58:44.524Z"
   },
   {
    "duration": 20080,
    "start_time": "2024-11-11T14:58:44.924Z"
   },
   {
    "duration": 34545,
    "start_time": "2024-11-11T14:59:05.006Z"
   },
   {
    "duration": 1545,
    "start_time": "2024-11-11T14:59:39.556Z"
   },
   {
    "duration": 51,
    "start_time": "2024-11-11T14:59:41.105Z"
   },
   {
    "duration": 2028,
    "start_time": "2024-11-11T14:59:41.158Z"
   },
   {
    "duration": 4,
    "start_time": "2024-11-11T14:59:43.188Z"
   },
   {
    "duration": 45715,
    "start_time": "2024-11-11T14:59:43.194Z"
   },
   {
    "duration": 2778,
    "start_time": "2024-11-11T15:00:28.911Z"
   },
   {
    "duration": 46,
    "start_time": "2024-11-11T15:00:31.691Z"
   },
   {
    "duration": 23,
    "start_time": "2024-11-11T15:00:31.738Z"
   },
   {
    "duration": 38,
    "start_time": "2024-11-11T15:00:31.762Z"
   },
   {
    "duration": 8,
    "start_time": "2024-11-11T15:00:31.802Z"
   },
   {
    "duration": 31349,
    "start_time": "2024-11-11T15:00:31.812Z"
   },
   {
    "duration": 284,
    "start_time": "2024-11-11T15:01:03.163Z"
   },
   {
    "duration": 302,
    "start_time": "2024-11-11T15:01:03.449Z"
   },
   {
    "duration": 434,
    "start_time": "2024-11-11T15:01:03.756Z"
   },
   {
    "duration": 20,
    "start_time": "2024-11-11T15:01:04.192Z"
   },
   {
    "duration": 32,
    "start_time": "2024-11-11T15:01:04.217Z"
   },
   {
    "duration": 18331,
    "start_time": "2024-11-11T15:01:04.258Z"
   },
   {
    "duration": 228,
    "start_time": "2024-11-11T15:01:22.591Z"
   },
   {
    "duration": 93,
    "start_time": "2024-11-11T15:01:22.821Z"
   },
   {
    "duration": 1584,
    "start_time": "2024-11-11T15:11:20.135Z"
   },
   {
    "duration": 996,
    "start_time": "2024-11-11T15:11:21.721Z"
   },
   {
    "duration": 211,
    "start_time": "2024-11-11T15:11:22.719Z"
   },
   {
    "duration": 81,
    "start_time": "2024-11-11T15:11:22.932Z"
   },
   {
    "duration": 74,
    "start_time": "2024-11-11T15:11:23.016Z"
   },
   {
    "duration": 30,
    "start_time": "2024-11-11T15:11:23.092Z"
   },
   {
    "duration": 15,
    "start_time": "2024-11-11T15:11:23.146Z"
   },
   {
    "duration": 172,
    "start_time": "2024-11-11T15:11:23.164Z"
   },
   {
    "duration": 136,
    "start_time": "2024-11-11T15:11:23.338Z"
   },
   {
    "duration": 190,
    "start_time": "2024-11-11T15:11:23.476Z"
   },
   {
    "duration": 361,
    "start_time": "2024-11-11T15:11:23.667Z"
   },
   {
    "duration": 121,
    "start_time": "2024-11-11T15:11:24.029Z"
   },
   {
    "duration": 46,
    "start_time": "2024-11-11T15:11:24.152Z"
   },
   {
    "duration": 193,
    "start_time": "2024-11-11T15:11:24.203Z"
   },
   {
    "duration": 4,
    "start_time": "2024-11-11T15:11:24.398Z"
   },
   {
    "duration": 2074,
    "start_time": "2024-11-11T15:11:24.404Z"
   },
   {
    "duration": 29,
    "start_time": "2024-11-11T15:11:26.481Z"
   },
   {
    "duration": 5,
    "start_time": "2024-11-11T15:11:26.511Z"
   },
   {
    "duration": 78,
    "start_time": "2024-11-11T15:11:26.518Z"
   },
   {
    "duration": 24,
    "start_time": "2024-11-11T15:11:26.598Z"
   },
   {
    "duration": 13,
    "start_time": "2024-11-11T15:11:26.624Z"
   },
   {
    "duration": 497,
    "start_time": "2024-11-11T15:11:26.639Z"
   },
   {
    "duration": 181,
    "start_time": "2024-11-11T15:11:27.137Z"
   },
   {
    "duration": 386,
    "start_time": "2024-11-11T15:11:27.319Z"
   },
   {
    "duration": 19678,
    "start_time": "2024-11-11T15:11:27.707Z"
   },
   {
    "duration": 30770,
    "start_time": "2024-11-11T15:11:47.387Z"
   },
   {
    "duration": 1444,
    "start_time": "2024-11-11T15:12:18.161Z"
   },
   {
    "duration": 52,
    "start_time": "2024-11-11T15:12:19.606Z"
   },
   {
    "duration": 2099,
    "start_time": "2024-11-11T15:12:19.660Z"
   },
   {
    "duration": 6,
    "start_time": "2024-11-11T15:12:21.761Z"
   },
   {
    "duration": 45099,
    "start_time": "2024-11-11T15:12:21.769Z"
   },
   {
    "duration": 2697,
    "start_time": "2024-11-11T15:13:06.870Z"
   },
   {
    "duration": 67,
    "start_time": "2024-11-11T15:13:09.570Z"
   },
   {
    "duration": 29,
    "start_time": "2024-11-11T15:13:09.639Z"
   },
   {
    "duration": 23,
    "start_time": "2024-11-11T15:13:09.670Z"
   },
   {
    "duration": 73,
    "start_time": "2024-11-11T15:13:09.695Z"
   },
   {
    "duration": 39390,
    "start_time": "2024-11-11T15:13:09.770Z"
   },
   {
    "duration": 284,
    "start_time": "2024-11-11T15:13:49.165Z"
   },
   {
    "duration": 425,
    "start_time": "2024-11-11T15:13:49.452Z"
   },
   {
    "duration": 23,
    "start_time": "2024-11-11T15:13:49.880Z"
   },
   {
    "duration": 19478,
    "start_time": "2024-11-11T15:13:49.909Z"
   },
   {
    "duration": 234,
    "start_time": "2024-11-11T15:14:09.389Z"
   },
   {
    "duration": 89,
    "start_time": "2024-11-11T15:14:09.625Z"
   },
   {
    "duration": 1626,
    "start_time": "2024-11-12T04:47:17.187Z"
   },
   {
    "duration": 3095,
    "start_time": "2024-11-12T04:47:21.663Z"
   },
   {
    "duration": 93,
    "start_time": "2024-11-12T04:47:28.013Z"
   },
   {
    "duration": 108,
    "start_time": "2024-11-12T04:49:58.073Z"
   },
   {
    "duration": 47,
    "start_time": "2024-11-12T04:50:06.746Z"
   },
   {
    "duration": 42,
    "start_time": "2024-11-12T04:51:36.641Z"
   },
   {
    "duration": 37,
    "start_time": "2024-11-12T04:51:52.444Z"
   },
   {
    "duration": 4,
    "start_time": "2024-11-12T04:52:12.503Z"
   },
   {
    "duration": 934,
    "start_time": "2024-11-12T04:52:16.382Z"
   },
   {
    "duration": 88,
    "start_time": "2024-11-12T04:52:18.008Z"
   },
   {
    "duration": 30,
    "start_time": "2024-11-12T04:52:26.114Z"
   },
   {
    "duration": 41,
    "start_time": "2024-11-12T04:53:05.000Z"
   },
   {
    "duration": 33,
    "start_time": "2024-11-12T05:09:45.101Z"
   },
   {
    "duration": 30,
    "start_time": "2024-11-12T05:09:47.242Z"
   },
   {
    "duration": 11,
    "start_time": "2024-11-12T05:09:48.304Z"
   },
   {
    "duration": 69,
    "start_time": "2024-11-12T05:09:50.063Z"
   },
   {
    "duration": 128,
    "start_time": "2024-11-12T05:09:52.570Z"
   },
   {
    "duration": 146,
    "start_time": "2024-11-12T05:09:53.969Z"
   },
   {
    "duration": 287,
    "start_time": "2024-11-12T05:09:54.880Z"
   },
   {
    "duration": 104,
    "start_time": "2024-11-12T05:09:55.775Z"
   },
   {
    "duration": 33,
    "start_time": "2024-11-12T05:09:56.641Z"
   },
   {
    "duration": 123,
    "start_time": "2024-11-12T05:09:58.393Z"
   },
   {
    "duration": 4,
    "start_time": "2024-11-12T05:09:59.175Z"
   },
   {
    "duration": 1975,
    "start_time": "2024-11-12T05:10:00.774Z"
   },
   {
    "duration": 26,
    "start_time": "2024-11-12T05:10:04.775Z"
   },
   {
    "duration": 5,
    "start_time": "2024-11-12T05:10:06.169Z"
   },
   {
    "duration": 24,
    "start_time": "2024-11-12T05:10:07.254Z"
   },
   {
    "duration": 21,
    "start_time": "2024-11-12T05:10:10.687Z"
   },
   {
    "duration": 11,
    "start_time": "2024-11-12T05:10:18.494Z"
   },
   {
    "duration": 143,
    "start_time": "2024-11-12T05:10:24.137Z"
   },
   {
    "duration": 10,
    "start_time": "2024-11-12T05:10:29.761Z"
   },
   {
    "duration": 432,
    "start_time": "2024-11-12T05:10:55.095Z"
   },
   {
    "duration": 66,
    "start_time": "2024-11-12T05:11:04.043Z"
   },
   {
    "duration": 408,
    "start_time": "2024-11-12T05:11:36.324Z"
   },
   {
    "duration": 1472,
    "start_time": "2024-11-12T05:14:08.099Z"
   },
   {
    "duration": 1525,
    "start_time": "2024-11-12T05:14:18.273Z"
   },
   {
    "duration": 1391,
    "start_time": "2024-11-12T05:14:49.437Z"
   },
   {
    "duration": 429,
    "start_time": "2024-11-12T05:15:03.141Z"
   },
   {
    "duration": 1518,
    "start_time": "2024-11-12T05:15:23.387Z"
   },
   {
    "duration": 410,
    "start_time": "2024-11-12T05:15:35.511Z"
   },
   {
    "duration": 7,
    "start_time": "2024-11-12T05:17:19.083Z"
   },
   {
    "duration": 28,
    "start_time": "2024-11-12T05:17:59.006Z"
   },
   {
    "duration": 9,
    "start_time": "2024-11-12T05:25:35.724Z"
   },
   {
    "duration": 7,
    "start_time": "2024-11-12T05:26:04.194Z"
   },
   {
    "duration": 8,
    "start_time": "2024-11-12T05:27:00.722Z"
   },
   {
    "duration": 1285,
    "start_time": "2024-11-12T05:28:29.551Z"
   },
   {
    "duration": 906,
    "start_time": "2024-11-12T05:28:30.838Z"
   },
   {
    "duration": 92,
    "start_time": "2024-11-12T05:28:31.745Z"
   },
   {
    "duration": 38,
    "start_time": "2024-11-12T05:28:31.839Z"
   },
   {
    "duration": 37,
    "start_time": "2024-11-12T05:28:31.879Z"
   },
   {
    "duration": 27,
    "start_time": "2024-11-12T05:28:31.917Z"
   },
   {
    "duration": 10,
    "start_time": "2024-11-12T05:28:31.946Z"
   },
   {
    "duration": 83,
    "start_time": "2024-11-12T05:28:31.957Z"
   },
   {
    "duration": 103,
    "start_time": "2024-11-12T05:28:32.041Z"
   },
   {
    "duration": 142,
    "start_time": "2024-11-12T05:28:32.146Z"
   },
   {
    "duration": 287,
    "start_time": "2024-11-12T05:28:32.289Z"
   },
   {
    "duration": 101,
    "start_time": "2024-11-12T05:28:32.578Z"
   },
   {
    "duration": 42,
    "start_time": "2024-11-12T05:28:32.681Z"
   },
   {
    "duration": 110,
    "start_time": "2024-11-12T05:28:32.724Z"
   },
   {
    "duration": 3,
    "start_time": "2024-11-12T05:28:32.836Z"
   },
   {
    "duration": 1650,
    "start_time": "2024-11-12T05:28:32.840Z"
   },
   {
    "duration": 32,
    "start_time": "2024-11-12T05:28:34.491Z"
   },
   {
    "duration": 4,
    "start_time": "2024-11-12T05:28:34.524Z"
   },
   {
    "duration": 43,
    "start_time": "2024-11-12T05:28:34.529Z"
   },
   {
    "duration": 19,
    "start_time": "2024-11-12T05:28:34.573Z"
   },
   {
    "duration": 35,
    "start_time": "2024-11-12T05:28:34.594Z"
   },
   {
    "duration": 139,
    "start_time": "2024-11-12T05:28:34.630Z"
   },
   {
    "duration": 5938,
    "start_time": "2024-11-12T05:28:34.770Z"
   },
   {
    "duration": 7,
    "start_time": "2024-11-12T05:28:40.709Z"
   },
   {
    "duration": 38,
    "start_time": "2024-11-12T05:28:40.717Z"
   },
   {
    "duration": 383,
    "start_time": "2024-11-12T05:28:40.757Z"
   },
   {
    "duration": 173,
    "start_time": "2024-11-12T05:28:41.141Z"
   },
   {
    "duration": 0,
    "start_time": "2024-11-12T05:28:41.318Z"
   },
   {
    "duration": 0,
    "start_time": "2024-11-12T05:28:41.319Z"
   },
   {
    "duration": 0,
    "start_time": "2024-11-12T05:28:41.320Z"
   },
   {
    "duration": 0,
    "start_time": "2024-11-12T05:28:41.321Z"
   },
   {
    "duration": 0,
    "start_time": "2024-11-12T05:28:41.322Z"
   },
   {
    "duration": 0,
    "start_time": "2024-11-12T05:28:41.323Z"
   },
   {
    "duration": 0,
    "start_time": "2024-11-12T05:28:41.324Z"
   },
   {
    "duration": 0,
    "start_time": "2024-11-12T05:28:41.324Z"
   },
   {
    "duration": 0,
    "start_time": "2024-11-12T05:28:41.325Z"
   },
   {
    "duration": 0,
    "start_time": "2024-11-12T05:28:41.326Z"
   },
   {
    "duration": 0,
    "start_time": "2024-11-12T05:28:41.327Z"
   },
   {
    "duration": 1,
    "start_time": "2024-11-12T05:28:41.327Z"
   },
   {
    "duration": 0,
    "start_time": "2024-11-12T05:28:41.329Z"
   },
   {
    "duration": 0,
    "start_time": "2024-11-12T05:28:41.329Z"
   },
   {
    "duration": 0,
    "start_time": "2024-11-12T05:28:41.330Z"
   },
   {
    "duration": 0,
    "start_time": "2024-11-12T05:28:41.331Z"
   },
   {
    "duration": 0,
    "start_time": "2024-11-12T05:28:41.332Z"
   },
   {
    "duration": 0,
    "start_time": "2024-11-12T05:28:41.333Z"
   },
   {
    "duration": 0,
    "start_time": "2024-11-12T05:28:41.334Z"
   },
   {
    "duration": 0,
    "start_time": "2024-11-12T05:28:41.335Z"
   },
   {
    "duration": 0,
    "start_time": "2024-11-12T05:28:41.336Z"
   },
   {
    "duration": 1564,
    "start_time": "2024-11-12T05:36:10.286Z"
   },
   {
    "duration": 477,
    "start_time": "2024-11-12T05:38:28.274Z"
   },
   {
    "duration": 1542,
    "start_time": "2024-11-12T05:38:31.896Z"
   },
   {
    "duration": 45,
    "start_time": "2024-11-12T05:42:24.005Z"
   },
   {
    "duration": 9,
    "start_time": "2024-11-12T05:42:57.746Z"
   },
   {
    "duration": 18172,
    "start_time": "2024-11-12T05:48:22.774Z"
   },
   {
    "duration": 15941,
    "start_time": "2024-11-12T05:50:54.198Z"
   },
   {
    "duration": 8,
    "start_time": "2024-11-12T05:53:46.042Z"
   },
   {
    "duration": 3,
    "start_time": "2024-11-12T05:54:00.301Z"
   },
   {
    "duration": 15849,
    "start_time": "2024-11-12T05:54:02.283Z"
   },
   {
    "duration": 15836,
    "start_time": "2024-11-12T05:56:04.510Z"
   },
   {
    "duration": 154,
    "start_time": "2024-11-12T05:58:48.280Z"
   },
   {
    "duration": 118,
    "start_time": "2024-11-12T06:00:41.805Z"
   },
   {
    "duration": 37,
    "start_time": "2024-11-12T06:00:51.520Z"
   },
   {
    "duration": 115,
    "start_time": "2024-11-12T06:01:08.365Z"
   },
   {
    "duration": 164,
    "start_time": "2024-11-12T06:01:12.298Z"
   },
   {
    "duration": 37,
    "start_time": "2024-11-12T06:01:19.783Z"
   },
   {
    "duration": 37,
    "start_time": "2024-11-12T06:02:05.388Z"
   },
   {
    "duration": 496,
    "start_time": "2024-11-12T06:02:44.812Z"
   },
   {
    "duration": 50,
    "start_time": "2024-11-12T06:03:13.596Z"
   },
   {
    "duration": 1070,
    "start_time": "2024-11-12T06:03:39.032Z"
   },
   {
    "duration": 53,
    "start_time": "2024-11-12T06:03:52.757Z"
   },
   {
    "duration": 95,
    "start_time": "2024-11-12T06:04:01.939Z"
   },
   {
    "duration": 134,
    "start_time": "2024-11-12T06:05:20.033Z"
   },
   {
    "duration": 201,
    "start_time": "2024-11-12T06:05:53.782Z"
   },
   {
    "duration": 1397,
    "start_time": "2024-11-12T06:06:15.805Z"
   },
   {
    "duration": 956,
    "start_time": "2024-11-12T06:06:17.203Z"
   },
   {
    "duration": 122,
    "start_time": "2024-11-12T06:06:18.161Z"
   },
   {
    "duration": 54,
    "start_time": "2024-11-12T06:06:18.286Z"
   },
   {
    "duration": 36,
    "start_time": "2024-11-12T06:06:18.341Z"
   },
   {
    "duration": 67,
    "start_time": "2024-11-12T06:06:18.379Z"
   },
   {
    "duration": 38,
    "start_time": "2024-11-12T06:06:18.448Z"
   },
   {
    "duration": 88,
    "start_time": "2024-11-12T06:06:18.488Z"
   },
   {
    "duration": 190,
    "start_time": "2024-11-12T06:06:18.577Z"
   },
   {
    "duration": 142,
    "start_time": "2024-11-12T06:06:18.769Z"
   },
   {
    "duration": 296,
    "start_time": "2024-11-12T06:06:18.913Z"
   },
   {
    "duration": 107,
    "start_time": "2024-11-12T06:06:19.210Z"
   },
   {
    "duration": 172,
    "start_time": "2024-11-12T06:06:19.318Z"
   },
   {
    "duration": 185,
    "start_time": "2024-11-12T06:06:19.492Z"
   },
   {
    "duration": 113,
    "start_time": "2024-11-12T06:06:19.678Z"
   },
   {
    "duration": 0,
    "start_time": "2024-11-12T06:06:19.793Z"
   },
   {
    "duration": 0,
    "start_time": "2024-11-12T06:06:19.794Z"
   },
   {
    "duration": 0,
    "start_time": "2024-11-12T06:06:19.795Z"
   },
   {
    "duration": 0,
    "start_time": "2024-11-12T06:06:19.796Z"
   },
   {
    "duration": 1,
    "start_time": "2024-11-12T06:06:19.806Z"
   },
   {
    "duration": 0,
    "start_time": "2024-11-12T06:06:19.808Z"
   },
   {
    "duration": 0,
    "start_time": "2024-11-12T06:06:19.809Z"
   },
   {
    "duration": 0,
    "start_time": "2024-11-12T06:06:19.810Z"
   },
   {
    "duration": 0,
    "start_time": "2024-11-12T06:06:19.811Z"
   },
   {
    "duration": 0,
    "start_time": "2024-11-12T06:06:19.813Z"
   },
   {
    "duration": 0,
    "start_time": "2024-11-12T06:06:19.814Z"
   },
   {
    "duration": 0,
    "start_time": "2024-11-12T06:06:19.815Z"
   },
   {
    "duration": 0,
    "start_time": "2024-11-12T06:06:19.817Z"
   },
   {
    "duration": 0,
    "start_time": "2024-11-12T06:06:19.819Z"
   },
   {
    "duration": 0,
    "start_time": "2024-11-12T06:06:19.820Z"
   },
   {
    "duration": 0,
    "start_time": "2024-11-12T06:06:19.821Z"
   },
   {
    "duration": 0,
    "start_time": "2024-11-12T06:06:19.822Z"
   },
   {
    "duration": 0,
    "start_time": "2024-11-12T06:06:19.823Z"
   },
   {
    "duration": 0,
    "start_time": "2024-11-12T06:06:19.824Z"
   },
   {
    "duration": 0,
    "start_time": "2024-11-12T06:06:19.825Z"
   },
   {
    "duration": 0,
    "start_time": "2024-11-12T06:06:19.826Z"
   },
   {
    "duration": 0,
    "start_time": "2024-11-12T06:06:19.826Z"
   },
   {
    "duration": 0,
    "start_time": "2024-11-12T06:06:19.827Z"
   },
   {
    "duration": 1,
    "start_time": "2024-11-12T06:06:19.828Z"
   },
   {
    "duration": 0,
    "start_time": "2024-11-12T06:06:19.829Z"
   },
   {
    "duration": 0,
    "start_time": "2024-11-12T06:06:19.830Z"
   },
   {
    "duration": 0,
    "start_time": "2024-11-12T06:06:19.831Z"
   },
   {
    "duration": 0,
    "start_time": "2024-11-12T06:06:19.832Z"
   },
   {
    "duration": 0,
    "start_time": "2024-11-12T06:06:19.833Z"
   },
   {
    "duration": 0,
    "start_time": "2024-11-12T06:06:19.834Z"
   },
   {
    "duration": 0,
    "start_time": "2024-11-12T06:06:19.835Z"
   },
   {
    "duration": 0,
    "start_time": "2024-11-12T06:06:19.836Z"
   },
   {
    "duration": 0,
    "start_time": "2024-11-12T06:06:19.837Z"
   },
   {
    "duration": 0,
    "start_time": "2024-11-12T06:06:19.837Z"
   },
   {
    "duration": 8,
    "start_time": "2024-11-12T06:07:18.876Z"
   },
   {
    "duration": 8,
    "start_time": "2024-11-12T06:07:23.412Z"
   },
   {
    "duration": 8,
    "start_time": "2024-11-12T06:07:29.810Z"
   },
   {
    "duration": 8,
    "start_time": "2024-11-12T06:08:10.358Z"
   },
   {
    "duration": 7,
    "start_time": "2024-11-12T06:08:13.847Z"
   },
   {
    "duration": 1363,
    "start_time": "2024-11-12T06:08:45.582Z"
   },
   {
    "duration": 906,
    "start_time": "2024-11-12T06:08:46.948Z"
   },
   {
    "duration": 102,
    "start_time": "2024-11-12T06:08:47.856Z"
   },
   {
    "duration": 47,
    "start_time": "2024-11-12T06:08:47.960Z"
   },
   {
    "duration": 35,
    "start_time": "2024-11-12T06:08:48.009Z"
   },
   {
    "duration": 54,
    "start_time": "2024-11-12T06:08:48.045Z"
   },
   {
    "duration": 84,
    "start_time": "2024-11-12T06:08:48.101Z"
   },
   {
    "duration": 78,
    "start_time": "2024-11-12T06:08:48.186Z"
   },
   {
    "duration": 145,
    "start_time": "2024-11-12T06:08:48.266Z"
   },
   {
    "duration": 147,
    "start_time": "2024-11-12T06:08:48.413Z"
   },
   {
    "duration": 304,
    "start_time": "2024-11-12T06:08:48.562Z"
   },
   {
    "duration": 88,
    "start_time": "2024-11-12T06:08:48.867Z"
   },
   {
    "duration": 54,
    "start_time": "2024-11-12T06:08:48.956Z"
   },
   {
    "duration": 117,
    "start_time": "2024-11-12T06:08:49.011Z"
   },
   {
    "duration": 3,
    "start_time": "2024-11-12T06:08:49.129Z"
   },
   {
    "duration": 1667,
    "start_time": "2024-11-12T06:08:49.133Z"
   },
   {
    "duration": 28,
    "start_time": "2024-11-12T06:08:50.802Z"
   },
   {
    "duration": 6,
    "start_time": "2024-11-12T06:08:50.832Z"
   },
   {
    "duration": 36,
    "start_time": "2024-11-12T06:08:50.839Z"
   },
   {
    "duration": 36,
    "start_time": "2024-11-12T06:08:50.876Z"
   },
   {
    "duration": 11,
    "start_time": "2024-11-12T06:08:50.913Z"
   },
   {
    "duration": 144,
    "start_time": "2024-11-12T06:08:50.926Z"
   },
   {
    "duration": 6071,
    "start_time": "2024-11-12T06:08:51.071Z"
   },
   {
    "duration": 8,
    "start_time": "2024-11-12T06:08:57.143Z"
   },
   {
    "duration": 54,
    "start_time": "2024-11-12T06:08:57.152Z"
   },
   {
    "duration": 600,
    "start_time": "2024-11-12T06:08:57.207Z"
   },
   {
    "duration": 1538,
    "start_time": "2024-11-12T06:08:57.808Z"
   },
   {
    "duration": 111,
    "start_time": "2024-11-12T06:08:59.349Z"
   },
   {
    "duration": 0,
    "start_time": "2024-11-12T06:08:59.462Z"
   },
   {
    "duration": 0,
    "start_time": "2024-11-12T06:08:59.462Z"
   },
   {
    "duration": 0,
    "start_time": "2024-11-12T06:08:59.463Z"
   },
   {
    "duration": 0,
    "start_time": "2024-11-12T06:08:59.464Z"
   },
   {
    "duration": 0,
    "start_time": "2024-11-12T06:08:59.465Z"
   },
   {
    "duration": 0,
    "start_time": "2024-11-12T06:08:59.466Z"
   },
   {
    "duration": 0,
    "start_time": "2024-11-12T06:08:59.467Z"
   },
   {
    "duration": 0,
    "start_time": "2024-11-12T06:08:59.468Z"
   },
   {
    "duration": 0,
    "start_time": "2024-11-12T06:08:59.469Z"
   },
   {
    "duration": 0,
    "start_time": "2024-11-12T06:08:59.470Z"
   },
   {
    "duration": 0,
    "start_time": "2024-11-12T06:08:59.470Z"
   },
   {
    "duration": 0,
    "start_time": "2024-11-12T06:08:59.471Z"
   },
   {
    "duration": 0,
    "start_time": "2024-11-12T06:08:59.472Z"
   },
   {
    "duration": 0,
    "start_time": "2024-11-12T06:08:59.473Z"
   },
   {
    "duration": 0,
    "start_time": "2024-11-12T06:08:59.474Z"
   },
   {
    "duration": 1,
    "start_time": "2024-11-12T06:08:59.476Z"
   },
   {
    "duration": 0,
    "start_time": "2024-11-12T06:08:59.477Z"
   },
   {
    "duration": 0,
    "start_time": "2024-11-12T06:08:59.507Z"
   },
   {
    "duration": 0,
    "start_time": "2024-11-12T06:08:59.508Z"
   },
   {
    "duration": 0,
    "start_time": "2024-11-12T06:08:59.509Z"
   },
   {
    "duration": 0,
    "start_time": "2024-11-12T06:08:59.510Z"
   },
   {
    "duration": 13443,
    "start_time": "2024-11-12T06:09:18.993Z"
   },
   {
    "duration": 51,
    "start_time": "2024-11-12T06:10:18.919Z"
   },
   {
    "duration": 1499,
    "start_time": "2024-11-12T06:15:47.642Z"
   },
   {
    "duration": 1326,
    "start_time": "2024-11-12T06:16:35.604Z"
   },
   {
    "duration": 906,
    "start_time": "2024-11-12T06:16:36.932Z"
   },
   {
    "duration": 104,
    "start_time": "2024-11-12T06:16:37.839Z"
   },
   {
    "duration": 42,
    "start_time": "2024-11-12T06:16:37.944Z"
   },
   {
    "duration": 40,
    "start_time": "2024-11-12T06:16:37.987Z"
   },
   {
    "duration": 31,
    "start_time": "2024-11-12T06:16:38.029Z"
   },
   {
    "duration": 24,
    "start_time": "2024-11-12T06:16:38.061Z"
   },
   {
    "duration": 73,
    "start_time": "2024-11-12T06:16:38.086Z"
   },
   {
    "duration": 120,
    "start_time": "2024-11-12T06:16:38.161Z"
   },
   {
    "duration": 137,
    "start_time": "2024-11-12T06:16:38.283Z"
   },
   {
    "duration": 300,
    "start_time": "2024-11-12T06:16:38.422Z"
   },
   {
    "duration": 97,
    "start_time": "2024-11-12T06:16:38.724Z"
   },
   {
    "duration": 37,
    "start_time": "2024-11-12T06:16:38.823Z"
   },
   {
    "duration": 122,
    "start_time": "2024-11-12T06:16:38.861Z"
   },
   {
    "duration": 3,
    "start_time": "2024-11-12T06:16:38.984Z"
   },
   {
    "duration": 1768,
    "start_time": "2024-11-12T06:16:38.988Z"
   },
   {
    "duration": 25,
    "start_time": "2024-11-12T06:16:40.758Z"
   },
   {
    "duration": 4,
    "start_time": "2024-11-12T06:16:40.784Z"
   },
   {
    "duration": 26,
    "start_time": "2024-11-12T06:16:40.807Z"
   },
   {
    "duration": 21,
    "start_time": "2024-11-12T06:16:40.834Z"
   },
   {
    "duration": 11,
    "start_time": "2024-11-12T06:16:40.856Z"
   },
   {
    "duration": 155,
    "start_time": "2024-11-12T06:16:40.868Z"
   },
   {
    "duration": 6174,
    "start_time": "2024-11-12T06:16:41.024Z"
   },
   {
    "duration": 9,
    "start_time": "2024-11-12T06:16:47.199Z"
   },
   {
    "duration": 34,
    "start_time": "2024-11-12T06:16:47.210Z"
   },
   {
    "duration": 505,
    "start_time": "2024-11-12T06:16:47.245Z"
   },
   {
    "duration": 1662,
    "start_time": "2024-11-12T06:16:47.752Z"
   },
   {
    "duration": 0,
    "start_time": "2024-11-12T06:16:49.416Z"
   },
   {
    "duration": 0,
    "start_time": "2024-11-12T06:16:49.417Z"
   },
   {
    "duration": 0,
    "start_time": "2024-11-12T06:16:49.418Z"
   },
   {
    "duration": 0,
    "start_time": "2024-11-12T06:16:49.419Z"
   },
   {
    "duration": 0,
    "start_time": "2024-11-12T06:16:49.420Z"
   },
   {
    "duration": 0,
    "start_time": "2024-11-12T06:16:49.421Z"
   },
   {
    "duration": 0,
    "start_time": "2024-11-12T06:16:49.422Z"
   },
   {
    "duration": 0,
    "start_time": "2024-11-12T06:16:49.423Z"
   },
   {
    "duration": 0,
    "start_time": "2024-11-12T06:16:49.424Z"
   },
   {
    "duration": 0,
    "start_time": "2024-11-12T06:16:49.425Z"
   },
   {
    "duration": 0,
    "start_time": "2024-11-12T06:16:49.426Z"
   },
   {
    "duration": 0,
    "start_time": "2024-11-12T06:16:49.427Z"
   },
   {
    "duration": 0,
    "start_time": "2024-11-12T06:16:49.428Z"
   },
   {
    "duration": 0,
    "start_time": "2024-11-12T06:16:49.428Z"
   },
   {
    "duration": 0,
    "start_time": "2024-11-12T06:16:49.429Z"
   },
   {
    "duration": 0,
    "start_time": "2024-11-12T06:16:49.430Z"
   },
   {
    "duration": 0,
    "start_time": "2024-11-12T06:16:49.431Z"
   },
   {
    "duration": 0,
    "start_time": "2024-11-12T06:16:49.432Z"
   },
   {
    "duration": 0,
    "start_time": "2024-11-12T06:16:49.433Z"
   },
   {
    "duration": 0,
    "start_time": "2024-11-12T06:16:49.434Z"
   },
   {
    "duration": 0,
    "start_time": "2024-11-12T06:16:49.435Z"
   },
   {
    "duration": 1480,
    "start_time": "2024-11-12T06:17:36.115Z"
   },
   {
    "duration": 1050,
    "start_time": "2024-11-12T06:21:12.009Z"
   },
   {
    "duration": 990,
    "start_time": "2024-11-12T06:21:33.520Z"
   },
   {
    "duration": 79,
    "start_time": "2024-11-12T06:21:41.830Z"
   },
   {
    "duration": 72,
    "start_time": "2024-11-12T06:22:31.166Z"
   },
   {
    "duration": 46,
    "start_time": "2024-11-12T06:22:40.109Z"
   },
   {
    "duration": 84,
    "start_time": "2024-11-12T06:23:14.110Z"
   },
   {
    "duration": 1360,
    "start_time": "2024-11-12T06:23:20.481Z"
   },
   {
    "duration": 897,
    "start_time": "2024-11-12T06:23:21.843Z"
   },
   {
    "duration": 99,
    "start_time": "2024-11-12T06:23:22.742Z"
   },
   {
    "duration": 42,
    "start_time": "2024-11-12T06:23:22.843Z"
   },
   {
    "duration": 47,
    "start_time": "2024-11-12T06:23:22.886Z"
   },
   {
    "duration": 30,
    "start_time": "2024-11-12T06:23:22.934Z"
   },
   {
    "duration": 9,
    "start_time": "2024-11-12T06:23:22.966Z"
   },
   {
    "duration": 80,
    "start_time": "2024-11-12T06:23:22.976Z"
   },
   {
    "duration": 108,
    "start_time": "2024-11-12T06:23:23.058Z"
   },
   {
    "duration": 140,
    "start_time": "2024-11-12T06:23:23.168Z"
   },
   {
    "duration": 277,
    "start_time": "2024-11-12T06:23:23.309Z"
   },
   {
    "duration": 81,
    "start_time": "2024-11-12T06:23:23.587Z"
   },
   {
    "duration": 40,
    "start_time": "2024-11-12T06:23:23.669Z"
   },
   {
    "duration": 111,
    "start_time": "2024-11-12T06:23:23.711Z"
   },
   {
    "duration": 3,
    "start_time": "2024-11-12T06:23:23.823Z"
   },
   {
    "duration": 1649,
    "start_time": "2024-11-12T06:23:23.827Z"
   },
   {
    "duration": 30,
    "start_time": "2024-11-12T06:23:25.477Z"
   },
   {
    "duration": 5,
    "start_time": "2024-11-12T06:23:25.508Z"
   },
   {
    "duration": 28,
    "start_time": "2024-11-12T06:23:25.514Z"
   },
   {
    "duration": 20,
    "start_time": "2024-11-12T06:23:25.543Z"
   },
   {
    "duration": 10,
    "start_time": "2024-11-12T06:23:25.564Z"
   },
   {
    "duration": 150,
    "start_time": "2024-11-12T06:23:25.576Z"
   },
   {
    "duration": 5977,
    "start_time": "2024-11-12T06:23:25.727Z"
   },
   {
    "duration": 7,
    "start_time": "2024-11-12T06:23:31.707Z"
   },
   {
    "duration": 51,
    "start_time": "2024-11-12T06:23:31.715Z"
   },
   {
    "duration": 469,
    "start_time": "2024-11-12T06:23:31.768Z"
   },
   {
    "duration": 1646,
    "start_time": "2024-11-12T06:23:32.239Z"
   },
   {
    "duration": 0,
    "start_time": "2024-11-12T06:23:33.887Z"
   },
   {
    "duration": 0,
    "start_time": "2024-11-12T06:23:33.888Z"
   },
   {
    "duration": 0,
    "start_time": "2024-11-12T06:23:33.889Z"
   },
   {
    "duration": 0,
    "start_time": "2024-11-12T06:23:33.890Z"
   },
   {
    "duration": 0,
    "start_time": "2024-11-12T06:23:33.891Z"
   },
   {
    "duration": 0,
    "start_time": "2024-11-12T06:23:33.891Z"
   },
   {
    "duration": 0,
    "start_time": "2024-11-12T06:23:33.893Z"
   },
   {
    "duration": 0,
    "start_time": "2024-11-12T06:23:33.893Z"
   },
   {
    "duration": 0,
    "start_time": "2024-11-12T06:23:33.906Z"
   },
   {
    "duration": 0,
    "start_time": "2024-11-12T06:23:33.908Z"
   },
   {
    "duration": 0,
    "start_time": "2024-11-12T06:23:33.908Z"
   },
   {
    "duration": 0,
    "start_time": "2024-11-12T06:23:33.909Z"
   },
   {
    "duration": 0,
    "start_time": "2024-11-12T06:23:33.910Z"
   },
   {
    "duration": 0,
    "start_time": "2024-11-12T06:23:33.911Z"
   },
   {
    "duration": 0,
    "start_time": "2024-11-12T06:23:33.912Z"
   },
   {
    "duration": 0,
    "start_time": "2024-11-12T06:23:33.913Z"
   },
   {
    "duration": 0,
    "start_time": "2024-11-12T06:23:33.913Z"
   },
   {
    "duration": 0,
    "start_time": "2024-11-12T06:23:33.914Z"
   },
   {
    "duration": 0,
    "start_time": "2024-11-12T06:23:33.915Z"
   },
   {
    "duration": 0,
    "start_time": "2024-11-12T06:23:33.916Z"
   },
   {
    "duration": 0,
    "start_time": "2024-11-12T06:23:33.917Z"
   },
   {
    "duration": 1441,
    "start_time": "2024-11-12T06:24:43.047Z"
   },
   {
    "duration": 13437,
    "start_time": "2024-11-12T06:24:46.006Z"
   },
   {
    "duration": 9,
    "start_time": "2024-11-12T06:25:35.983Z"
   },
   {
    "duration": 1475,
    "start_time": "2024-11-12T06:27:59.229Z"
   },
   {
    "duration": 305,
    "start_time": "2024-11-12T06:28:05.669Z"
   },
   {
    "duration": 13218,
    "start_time": "2024-11-12T06:28:20.829Z"
   },
   {
    "duration": 152,
    "start_time": "2024-11-12T06:29:29.245Z"
   },
   {
    "duration": 82,
    "start_time": "2024-11-12T06:33:02.411Z"
   },
   {
    "duration": 22,
    "start_time": "2024-11-12T06:33:38.979Z"
   },
   {
    "duration": 5,
    "start_time": "2024-11-12T06:34:23.587Z"
   },
   {
    "duration": 5,
    "start_time": "2024-11-12T06:35:07.590Z"
   },
   {
    "duration": 12,
    "start_time": "2024-11-12T06:35:51.428Z"
   },
   {
    "duration": 63,
    "start_time": "2024-11-12T06:37:29.983Z"
   },
   {
    "duration": 16715,
    "start_time": "2024-11-12T06:37:33.507Z"
   },
   {
    "duration": 1432,
    "start_time": "2024-11-12T06:42:59.168Z"
   },
   {
    "duration": 992,
    "start_time": "2024-11-12T06:43:00.602Z"
   },
   {
    "duration": 94,
    "start_time": "2024-11-12T06:43:01.596Z"
   },
   {
    "duration": 51,
    "start_time": "2024-11-12T06:43:01.692Z"
   },
   {
    "duration": 36,
    "start_time": "2024-11-12T06:43:01.744Z"
   },
   {
    "duration": 82,
    "start_time": "2024-11-12T06:43:01.781Z"
   },
   {
    "duration": 45,
    "start_time": "2024-11-12T06:43:01.865Z"
   },
   {
    "duration": 140,
    "start_time": "2024-11-12T06:43:01.911Z"
   },
   {
    "duration": 141,
    "start_time": "2024-11-12T06:43:02.053Z"
   },
   {
    "duration": 147,
    "start_time": "2024-11-12T06:43:02.196Z"
   },
   {
    "duration": 311,
    "start_time": "2024-11-12T06:43:02.345Z"
   },
   {
    "duration": 132,
    "start_time": "2024-11-12T06:43:02.657Z"
   },
   {
    "duration": 41,
    "start_time": "2024-11-12T06:43:02.791Z"
   },
   {
    "duration": 132,
    "start_time": "2024-11-12T06:43:02.833Z"
   },
   {
    "duration": 3,
    "start_time": "2024-11-12T06:43:02.967Z"
   },
   {
    "duration": 1776,
    "start_time": "2024-11-12T06:43:02.971Z"
   },
   {
    "duration": 25,
    "start_time": "2024-11-12T06:43:04.748Z"
   },
   {
    "duration": 23,
    "start_time": "2024-11-12T06:43:04.775Z"
   },
   {
    "duration": 133,
    "start_time": "2024-11-12T06:43:04.799Z"
   },
   {
    "duration": 30,
    "start_time": "2024-11-12T06:43:04.934Z"
   },
   {
    "duration": 10,
    "start_time": "2024-11-12T06:43:04.966Z"
   },
   {
    "duration": 175,
    "start_time": "2024-11-12T06:43:04.977Z"
   },
   {
    "duration": 6242,
    "start_time": "2024-11-12T06:43:05.154Z"
   },
   {
    "duration": 10,
    "start_time": "2024-11-12T06:43:11.398Z"
   },
   {
    "duration": 229,
    "start_time": "2024-11-12T06:43:11.409Z"
   },
   {
    "duration": 491,
    "start_time": "2024-11-12T06:43:11.639Z"
   },
   {
    "duration": 1538,
    "start_time": "2024-11-12T06:43:12.131Z"
   },
   {
    "duration": 18735,
    "start_time": "2024-11-12T06:43:13.673Z"
   },
   {
    "duration": 0,
    "start_time": "2024-11-12T06:43:32.409Z"
   },
   {
    "duration": 0,
    "start_time": "2024-11-12T06:43:32.410Z"
   },
   {
    "duration": 0,
    "start_time": "2024-11-12T06:43:32.411Z"
   },
   {
    "duration": 0,
    "start_time": "2024-11-12T06:43:32.412Z"
   },
   {
    "duration": 0,
    "start_time": "2024-11-12T06:43:32.413Z"
   },
   {
    "duration": 0,
    "start_time": "2024-11-12T06:43:32.414Z"
   },
   {
    "duration": 0,
    "start_time": "2024-11-12T06:43:32.415Z"
   },
   {
    "duration": 0,
    "start_time": "2024-11-12T06:43:32.416Z"
   },
   {
    "duration": 0,
    "start_time": "2024-11-12T06:43:32.416Z"
   },
   {
    "duration": 0,
    "start_time": "2024-11-12T06:43:32.418Z"
   },
   {
    "duration": 0,
    "start_time": "2024-11-12T06:43:32.419Z"
   },
   {
    "duration": 0,
    "start_time": "2024-11-12T06:43:32.420Z"
   },
   {
    "duration": 0,
    "start_time": "2024-11-12T06:43:32.420Z"
   },
   {
    "duration": 0,
    "start_time": "2024-11-12T06:43:32.421Z"
   },
   {
    "duration": 0,
    "start_time": "2024-11-12T06:43:32.422Z"
   },
   {
    "duration": 0,
    "start_time": "2024-11-12T06:43:32.424Z"
   },
   {
    "duration": 0,
    "start_time": "2024-11-12T06:43:32.425Z"
   },
   {
    "duration": 0,
    "start_time": "2024-11-12T06:43:32.426Z"
   },
   {
    "duration": 0,
    "start_time": "2024-11-12T06:43:32.427Z"
   },
   {
    "duration": 0,
    "start_time": "2024-11-12T06:43:32.427Z"
   },
   {
    "duration": 24,
    "start_time": "2024-11-12T06:44:11.602Z"
   },
   {
    "duration": 1382,
    "start_time": "2024-11-12T06:45:29.378Z"
   },
   {
    "duration": 1007,
    "start_time": "2024-11-12T06:45:30.762Z"
   },
   {
    "duration": 110,
    "start_time": "2024-11-12T06:45:31.771Z"
   },
   {
    "duration": 49,
    "start_time": "2024-11-12T06:45:31.882Z"
   },
   {
    "duration": 34,
    "start_time": "2024-11-12T06:45:31.932Z"
   },
   {
    "duration": 76,
    "start_time": "2024-11-12T06:45:31.968Z"
   },
   {
    "duration": 14,
    "start_time": "2024-11-12T06:45:32.045Z"
   },
   {
    "duration": 95,
    "start_time": "2024-11-12T06:45:32.060Z"
   },
   {
    "duration": 128,
    "start_time": "2024-11-12T06:45:32.157Z"
   },
   {
    "duration": 146,
    "start_time": "2024-11-12T06:45:32.288Z"
   },
   {
    "duration": 327,
    "start_time": "2024-11-12T06:45:32.436Z"
   },
   {
    "duration": 175,
    "start_time": "2024-11-12T06:45:32.764Z"
   },
   {
    "duration": 33,
    "start_time": "2024-11-12T06:45:32.940Z"
   },
   {
    "duration": 71,
    "start_time": "2024-11-12T06:45:32.974Z"
   },
   {
    "duration": 3,
    "start_time": "2024-11-12T06:45:33.046Z"
   },
   {
    "duration": 1778,
    "start_time": "2024-11-12T06:45:33.051Z"
   },
   {
    "duration": 27,
    "start_time": "2024-11-12T06:45:34.830Z"
   },
   {
    "duration": 26,
    "start_time": "2024-11-12T06:45:34.859Z"
   },
   {
    "duration": 48,
    "start_time": "2024-11-12T06:45:34.887Z"
   },
   {
    "duration": 22,
    "start_time": "2024-11-12T06:45:34.937Z"
   },
   {
    "duration": 20,
    "start_time": "2024-11-12T06:45:34.960Z"
   },
   {
    "duration": 176,
    "start_time": "2024-11-12T06:45:34.982Z"
   },
   {
    "duration": 6143,
    "start_time": "2024-11-12T06:45:35.160Z"
   },
   {
    "duration": 14,
    "start_time": "2024-11-12T06:45:41.307Z"
   },
   {
    "duration": 109,
    "start_time": "2024-11-12T06:45:41.322Z"
   },
   {
    "duration": 586,
    "start_time": "2024-11-12T06:45:41.432Z"
   },
   {
    "duration": 1581,
    "start_time": "2024-11-12T06:45:42.019Z"
   },
   {
    "duration": 26,
    "start_time": "2024-11-12T06:45:43.606Z"
   },
   {
    "duration": 15800,
    "start_time": "2024-11-12T06:45:43.634Z"
   },
   {
    "duration": 0,
    "start_time": "2024-11-12T06:45:59.435Z"
   },
   {
    "duration": 0,
    "start_time": "2024-11-12T06:45:59.437Z"
   },
   {
    "duration": 0,
    "start_time": "2024-11-12T06:45:59.438Z"
   },
   {
    "duration": 0,
    "start_time": "2024-11-12T06:45:59.439Z"
   },
   {
    "duration": 0,
    "start_time": "2024-11-12T06:45:59.440Z"
   },
   {
    "duration": 0,
    "start_time": "2024-11-12T06:45:59.441Z"
   },
   {
    "duration": 0,
    "start_time": "2024-11-12T06:45:59.442Z"
   },
   {
    "duration": 0,
    "start_time": "2024-11-12T06:45:59.443Z"
   },
   {
    "duration": 0,
    "start_time": "2024-11-12T06:45:59.444Z"
   },
   {
    "duration": 0,
    "start_time": "2024-11-12T06:45:59.446Z"
   },
   {
    "duration": 0,
    "start_time": "2024-11-12T06:45:59.447Z"
   },
   {
    "duration": 0,
    "start_time": "2024-11-12T06:45:59.448Z"
   },
   {
    "duration": 0,
    "start_time": "2024-11-12T06:45:59.449Z"
   },
   {
    "duration": 0,
    "start_time": "2024-11-12T06:45:59.450Z"
   },
   {
    "duration": 0,
    "start_time": "2024-11-12T06:45:59.451Z"
   },
   {
    "duration": 0,
    "start_time": "2024-11-12T06:45:59.452Z"
   },
   {
    "duration": 0,
    "start_time": "2024-11-12T06:45:59.453Z"
   },
   {
    "duration": 0,
    "start_time": "2024-11-12T06:45:59.454Z"
   },
   {
    "duration": 0,
    "start_time": "2024-11-12T06:45:59.455Z"
   },
   {
    "duration": 0,
    "start_time": "2024-11-12T06:45:59.457Z"
   },
   {
    "duration": 78855,
    "start_time": "2024-11-12T06:47:32.263Z"
   },
   {
    "duration": 53,
    "start_time": "2024-11-12T07:02:02.392Z"
   },
   {
    "duration": 1049,
    "start_time": "2024-11-12T07:02:22.180Z"
   },
   {
    "duration": 1064,
    "start_time": "2024-11-12T07:02:43.597Z"
   },
   {
    "duration": 1279,
    "start_time": "2024-11-12T07:02:59.561Z"
   },
   {
    "duration": 67797,
    "start_time": "2024-11-12T07:03:02.711Z"
   },
   {
    "duration": 1362,
    "start_time": "2024-11-12T07:38:31.203Z"
   },
   {
    "duration": 957,
    "start_time": "2024-11-12T07:38:32.566Z"
   },
   {
    "duration": 113,
    "start_time": "2024-11-12T07:38:33.525Z"
   },
   {
    "duration": 49,
    "start_time": "2024-11-12T07:38:33.639Z"
   },
   {
    "duration": 52,
    "start_time": "2024-11-12T07:38:33.690Z"
   },
   {
    "duration": 32,
    "start_time": "2024-11-12T07:38:33.744Z"
   },
   {
    "duration": 21,
    "start_time": "2024-11-12T07:38:33.778Z"
   },
   {
    "duration": 77,
    "start_time": "2024-11-12T07:38:33.801Z"
   },
   {
    "duration": 124,
    "start_time": "2024-11-12T07:38:33.880Z"
   },
   {
    "duration": 146,
    "start_time": "2024-11-12T07:38:34.008Z"
   },
   {
    "duration": 306,
    "start_time": "2024-11-12T07:38:34.156Z"
   },
   {
    "duration": 143,
    "start_time": "2024-11-12T07:38:34.464Z"
   },
   {
    "duration": 34,
    "start_time": "2024-11-12T07:38:34.608Z"
   },
   {
    "duration": 72,
    "start_time": "2024-11-12T07:38:34.644Z"
   },
   {
    "duration": 3,
    "start_time": "2024-11-12T07:38:34.718Z"
   },
   {
    "duration": 1762,
    "start_time": "2024-11-12T07:38:34.723Z"
   },
   {
    "duration": 36,
    "start_time": "2024-11-12T07:38:36.487Z"
   },
   {
    "duration": 6,
    "start_time": "2024-11-12T07:38:36.524Z"
   },
   {
    "duration": 40,
    "start_time": "2024-11-12T07:38:36.532Z"
   },
   {
    "duration": 29,
    "start_time": "2024-11-12T07:38:36.574Z"
   },
   {
    "duration": 12,
    "start_time": "2024-11-12T07:38:36.607Z"
   },
   {
    "duration": 161,
    "start_time": "2024-11-12T07:38:36.620Z"
   },
   {
    "duration": 6367,
    "start_time": "2024-11-12T07:38:36.783Z"
   },
   {
    "duration": 7,
    "start_time": "2024-11-12T07:38:43.151Z"
   },
   {
    "duration": 68,
    "start_time": "2024-11-12T07:38:43.160Z"
   },
   {
    "duration": 1081,
    "start_time": "2024-11-12T07:38:43.230Z"
   },
   {
    "duration": 1277,
    "start_time": "2024-11-12T07:38:44.313Z"
   },
   {
    "duration": 67823,
    "start_time": "2024-11-12T07:38:45.594Z"
   },
   {
    "duration": 732,
    "start_time": "2024-11-12T07:39:53.420Z"
   },
   {
    "duration": 1892,
    "start_time": "2024-11-12T07:39:54.153Z"
   },
   {
    "duration": 3,
    "start_time": "2024-11-12T07:39:56.047Z"
   },
   {
    "duration": 2701,
    "start_time": "2024-11-12T07:39:56.051Z"
   },
   {
    "duration": 0,
    "start_time": "2024-11-12T07:39:58.754Z"
   },
   {
    "duration": 0,
    "start_time": "2024-11-12T07:39:58.755Z"
   },
   {
    "duration": 0,
    "start_time": "2024-11-12T07:39:58.757Z"
   },
   {
    "duration": 0,
    "start_time": "2024-11-12T07:39:58.758Z"
   },
   {
    "duration": 0,
    "start_time": "2024-11-12T07:39:58.760Z"
   },
   {
    "duration": 0,
    "start_time": "2024-11-12T07:39:58.761Z"
   },
   {
    "duration": 0,
    "start_time": "2024-11-12T07:39:58.762Z"
   },
   {
    "duration": 0,
    "start_time": "2024-11-12T07:39:58.763Z"
   },
   {
    "duration": 0,
    "start_time": "2024-11-12T07:39:58.765Z"
   },
   {
    "duration": 0,
    "start_time": "2024-11-12T07:39:58.766Z"
   },
   {
    "duration": 0,
    "start_time": "2024-11-12T07:39:58.767Z"
   },
   {
    "duration": 0,
    "start_time": "2024-11-12T07:39:58.769Z"
   },
   {
    "duration": 0,
    "start_time": "2024-11-12T07:39:58.770Z"
   },
   {
    "duration": 0,
    "start_time": "2024-11-12T07:39:58.772Z"
   },
   {
    "duration": 0,
    "start_time": "2024-11-12T07:39:58.773Z"
   },
   {
    "duration": 10,
    "start_time": "2024-11-12T07:44:21.728Z"
   },
   {
    "duration": 14318,
    "start_time": "2024-11-12T07:44:47.235Z"
   },
   {
    "duration": 44,
    "start_time": "2024-11-12T07:50:50.036Z"
   },
   {
    "duration": 19556,
    "start_time": "2024-11-12T07:50:51.143Z"
   },
   {
    "duration": 20652,
    "start_time": "2024-11-12T07:57:18.386Z"
   },
   {
    "duration": 2801,
    "start_time": "2024-11-12T07:59:01.892Z"
   },
   {
    "duration": 1377,
    "start_time": "2024-11-12T08:11:59.179Z"
   },
   {
    "duration": 951,
    "start_time": "2024-11-12T08:12:00.557Z"
   },
   {
    "duration": 103,
    "start_time": "2024-11-12T08:12:01.510Z"
   },
   {
    "duration": 41,
    "start_time": "2024-11-12T08:12:01.615Z"
   },
   {
    "duration": 60,
    "start_time": "2024-11-12T08:12:01.659Z"
   },
   {
    "duration": 56,
    "start_time": "2024-11-12T08:12:01.721Z"
   },
   {
    "duration": 135,
    "start_time": "2024-11-12T08:12:01.778Z"
   },
   {
    "duration": 112,
    "start_time": "2024-11-12T08:12:01.914Z"
   },
   {
    "duration": 113,
    "start_time": "2024-11-12T08:12:02.027Z"
   },
   {
    "duration": 131,
    "start_time": "2024-11-12T08:12:02.141Z"
   },
   {
    "duration": 290,
    "start_time": "2024-11-12T08:12:02.273Z"
   },
   {
    "duration": 159,
    "start_time": "2024-11-12T08:12:02.565Z"
   },
   {
    "duration": 32,
    "start_time": "2024-11-12T08:12:02.726Z"
   },
   {
    "duration": 143,
    "start_time": "2024-11-12T08:12:02.762Z"
   },
   {
    "duration": 7,
    "start_time": "2024-11-12T08:12:02.907Z"
   },
   {
    "duration": 1756,
    "start_time": "2024-11-12T08:12:02.916Z"
   },
   {
    "duration": 36,
    "start_time": "2024-11-12T08:12:04.674Z"
   },
   {
    "duration": 5,
    "start_time": "2024-11-12T08:12:04.712Z"
   },
   {
    "duration": 35,
    "start_time": "2024-11-12T08:12:04.719Z"
   },
   {
    "duration": 40,
    "start_time": "2024-11-12T08:12:04.756Z"
   },
   {
    "duration": 20,
    "start_time": "2024-11-12T08:12:04.797Z"
   },
   {
    "duration": 183,
    "start_time": "2024-11-12T08:12:04.819Z"
   },
   {
    "duration": 6131,
    "start_time": "2024-11-12T08:12:05.004Z"
   },
   {
    "duration": 7,
    "start_time": "2024-11-12T08:12:11.137Z"
   },
   {
    "duration": 34,
    "start_time": "2024-11-12T08:12:11.145Z"
   },
   {
    "duration": 1070,
    "start_time": "2024-11-12T08:12:11.180Z"
   },
   {
    "duration": 1290,
    "start_time": "2024-11-12T08:12:12.251Z"
   },
   {
    "duration": 66282,
    "start_time": "2024-11-12T08:12:13.542Z"
   },
   {
    "duration": 203,
    "start_time": "2024-11-12T08:13:19.826Z"
   },
   {
    "duration": 21097,
    "start_time": "2024-11-12T08:13:20.031Z"
   },
   {
    "duration": 3,
    "start_time": "2024-11-12T08:13:41.129Z"
   },
   {
    "duration": 260895,
    "start_time": "2024-11-12T08:13:41.134Z"
   },
   {
    "duration": 2644,
    "start_time": "2024-11-12T08:18:02.031Z"
   },
   {
    "duration": 151,
    "start_time": "2024-11-12T08:18:04.677Z"
   },
   {
    "duration": 3,
    "start_time": "2024-11-12T08:18:04.830Z"
   },
   {
    "duration": 15,
    "start_time": "2024-11-12T08:18:04.834Z"
   },
   {
    "duration": 42,
    "start_time": "2024-11-12T08:18:04.851Z"
   },
   {
    "duration": 164,
    "start_time": "2024-11-12T08:18:04.894Z"
   },
   {
    "duration": 0,
    "start_time": "2024-11-12T08:18:05.059Z"
   },
   {
    "duration": 0,
    "start_time": "2024-11-12T08:18:05.060Z"
   },
   {
    "duration": 0,
    "start_time": "2024-11-12T08:18:05.061Z"
   },
   {
    "duration": 0,
    "start_time": "2024-11-12T08:18:05.062Z"
   },
   {
    "duration": 0,
    "start_time": "2024-11-12T08:18:05.063Z"
   },
   {
    "duration": 0,
    "start_time": "2024-11-12T08:18:05.064Z"
   },
   {
    "duration": 0,
    "start_time": "2024-11-12T08:18:05.065Z"
   },
   {
    "duration": 0,
    "start_time": "2024-11-12T08:18:05.066Z"
   },
   {
    "duration": 0,
    "start_time": "2024-11-12T08:18:05.067Z"
   },
   {
    "duration": 2733,
    "start_time": "2024-11-12T08:29:02.605Z"
   },
   {
    "duration": 148,
    "start_time": "2024-11-12T08:29:05.341Z"
   },
   {
    "duration": 3,
    "start_time": "2024-11-12T08:29:06.702Z"
   },
   {
    "duration": 3,
    "start_time": "2024-11-12T08:29:07.408Z"
   },
   {
    "duration": 89614,
    "start_time": "2024-11-12T08:29:07.993Z"
   },
   {
    "duration": 13687,
    "start_time": "2024-11-12T08:33:17.425Z"
   },
   {
    "duration": 200,
    "start_time": "2024-11-12T08:33:31.115Z"
   },
   {
    "duration": 84,
    "start_time": "2024-11-12T08:33:56.224Z"
   },
   {
    "duration": 44,
    "start_time": "2024-11-12T08:34:05.723Z"
   },
   {
    "duration": 1424,
    "start_time": "2024-11-12T08:46:36.912Z"
   },
   {
    "duration": 915,
    "start_time": "2024-11-12T08:46:38.338Z"
   },
   {
    "duration": 118,
    "start_time": "2024-11-12T08:46:39.254Z"
   },
   {
    "duration": 48,
    "start_time": "2024-11-12T08:46:39.374Z"
   },
   {
    "duration": 36,
    "start_time": "2024-11-12T08:46:39.424Z"
   },
   {
    "duration": 49,
    "start_time": "2024-11-12T08:46:39.461Z"
   },
   {
    "duration": 41,
    "start_time": "2024-11-12T08:46:39.511Z"
   },
   {
    "duration": 80,
    "start_time": "2024-11-12T08:46:39.553Z"
   },
   {
    "duration": 114,
    "start_time": "2024-11-12T08:46:39.635Z"
   },
   {
    "duration": 136,
    "start_time": "2024-11-12T08:46:39.750Z"
   },
   {
    "duration": 296,
    "start_time": "2024-11-12T08:46:39.888Z"
   },
   {
    "duration": 138,
    "start_time": "2024-11-12T08:46:40.186Z"
   },
   {
    "duration": 32,
    "start_time": "2024-11-12T08:46:40.326Z"
   },
   {
    "duration": 64,
    "start_time": "2024-11-12T08:46:40.361Z"
   },
   {
    "duration": 2,
    "start_time": "2024-11-12T08:46:40.427Z"
   },
   {
    "duration": 1745,
    "start_time": "2024-11-12T08:46:40.430Z"
   },
   {
    "duration": 34,
    "start_time": "2024-11-12T08:46:42.177Z"
   },
   {
    "duration": 5,
    "start_time": "2024-11-12T08:46:42.212Z"
   },
   {
    "duration": 42,
    "start_time": "2024-11-12T08:46:42.218Z"
   },
   {
    "duration": 21,
    "start_time": "2024-11-12T08:46:42.262Z"
   },
   {
    "duration": 38,
    "start_time": "2024-11-12T08:46:42.284Z"
   },
   {
    "duration": 162,
    "start_time": "2024-11-12T08:46:42.324Z"
   },
   {
    "duration": 6162,
    "start_time": "2024-11-12T08:46:42.488Z"
   },
   {
    "duration": 8,
    "start_time": "2024-11-12T08:46:48.651Z"
   },
   {
    "duration": 79,
    "start_time": "2024-11-12T08:46:48.660Z"
   },
   {
    "duration": 1063,
    "start_time": "2024-11-12T08:46:48.740Z"
   },
   {
    "duration": 1267,
    "start_time": "2024-11-12T08:46:49.804Z"
   },
   {
    "duration": 68443,
    "start_time": "2024-11-12T08:46:51.072Z"
   },
   {
    "duration": 208,
    "start_time": "2024-11-12T08:47:59.516Z"
   },
   {
    "duration": 122,
    "start_time": "2024-11-12T08:47:59.729Z"
   },
   {
    "duration": 0,
    "start_time": "2024-11-12T08:47:59.852Z"
   },
   {
    "duration": 0,
    "start_time": "2024-11-12T08:47:59.853Z"
   },
   {
    "duration": 0,
    "start_time": "2024-11-12T08:47:59.854Z"
   },
   {
    "duration": 0,
    "start_time": "2024-11-12T08:47:59.855Z"
   },
   {
    "duration": 0,
    "start_time": "2024-11-12T08:47:59.856Z"
   },
   {
    "duration": 0,
    "start_time": "2024-11-12T08:47:59.857Z"
   },
   {
    "duration": 0,
    "start_time": "2024-11-12T08:47:59.859Z"
   },
   {
    "duration": 0,
    "start_time": "2024-11-12T08:47:59.860Z"
   },
   {
    "duration": 0,
    "start_time": "2024-11-12T08:47:59.861Z"
   },
   {
    "duration": 0,
    "start_time": "2024-11-12T08:47:59.862Z"
   },
   {
    "duration": 0,
    "start_time": "2024-11-12T08:47:59.863Z"
   },
   {
    "duration": 0,
    "start_time": "2024-11-12T08:47:59.865Z"
   },
   {
    "duration": 0,
    "start_time": "2024-11-12T08:47:59.866Z"
   },
   {
    "duration": 0,
    "start_time": "2024-11-12T08:47:59.867Z"
   },
   {
    "duration": 0,
    "start_time": "2024-11-12T08:47:59.868Z"
   },
   {
    "duration": 0,
    "start_time": "2024-11-12T08:47:59.869Z"
   },
   {
    "duration": 1,
    "start_time": "2024-11-12T08:47:59.870Z"
   },
   {
    "duration": 21437,
    "start_time": "2024-11-12T08:48:15.820Z"
   },
   {
    "duration": 21277,
    "start_time": "2024-11-12T08:49:00.440Z"
   },
   {
    "duration": 4,
    "start_time": "2024-11-12T08:49:59.611Z"
   },
   {
    "duration": 259203,
    "start_time": "2024-11-12T08:50:03.000Z"
   },
   {
    "duration": 2644,
    "start_time": "2024-11-12T08:54:22.206Z"
   },
   {
    "duration": 144,
    "start_time": "2024-11-12T08:54:24.852Z"
   },
   {
    "duration": 4,
    "start_time": "2024-11-12T08:54:24.998Z"
   },
   {
    "duration": 15,
    "start_time": "2024-11-12T08:54:25.004Z"
   },
   {
    "duration": 91116,
    "start_time": "2024-11-12T08:54:25.020Z"
   },
   {
    "duration": 12976,
    "start_time": "2024-11-12T08:55:56.138Z"
   },
   {
    "duration": 293,
    "start_time": "2024-11-12T08:56:09.115Z"
   },
   {
    "duration": 211,
    "start_time": "2024-11-12T08:56:09.410Z"
   },
   {
    "duration": 1283,
    "start_time": "2024-11-12T08:56:49.314Z"
   },
   {
    "duration": 0,
    "start_time": "2024-11-12T08:56:50.598Z"
   },
   {
    "duration": 0,
    "start_time": "2024-11-12T08:56:50.599Z"
   },
   {
    "duration": 86,
    "start_time": "2024-11-12T08:57:49.939Z"
   },
   {
    "duration": 13290,
    "start_time": "2024-11-12T08:58:34.524Z"
   },
   {
    "duration": 64522,
    "start_time": "2024-11-12T08:58:47.816Z"
   },
   {
    "duration": 3870,
    "start_time": "2024-11-12T08:59:52.339Z"
   },
   {
    "duration": 1373,
    "start_time": "2024-11-12T09:02:25.871Z"
   },
   {
    "duration": 938,
    "start_time": "2024-11-12T09:02:27.246Z"
   },
   {
    "duration": 114,
    "start_time": "2024-11-12T09:02:28.186Z"
   },
   {
    "duration": 42,
    "start_time": "2024-11-12T09:02:28.306Z"
   },
   {
    "duration": 40,
    "start_time": "2024-11-12T09:02:28.351Z"
   },
   {
    "duration": 59,
    "start_time": "2024-11-12T09:02:28.392Z"
   },
   {
    "duration": 8,
    "start_time": "2024-11-12T09:02:28.453Z"
   },
   {
    "duration": 79,
    "start_time": "2024-11-12T09:02:28.462Z"
   },
   {
    "duration": 119,
    "start_time": "2024-11-12T09:02:28.542Z"
   },
   {
    "duration": 146,
    "start_time": "2024-11-12T09:02:28.662Z"
   },
   {
    "duration": 296,
    "start_time": "2024-11-12T09:02:28.809Z"
   },
   {
    "duration": 141,
    "start_time": "2024-11-12T09:02:29.106Z"
   },
   {
    "duration": 35,
    "start_time": "2024-11-12T09:02:29.248Z"
   },
   {
    "duration": 66,
    "start_time": "2024-11-12T09:02:29.286Z"
   },
   {
    "duration": 2,
    "start_time": "2024-11-12T09:02:29.354Z"
   },
   {
    "duration": 1729,
    "start_time": "2024-11-12T09:02:29.358Z"
   },
   {
    "duration": 30,
    "start_time": "2024-11-12T09:02:31.089Z"
   },
   {
    "duration": 4,
    "start_time": "2024-11-12T09:02:31.120Z"
   },
   {
    "duration": 40,
    "start_time": "2024-11-12T09:02:31.125Z"
   },
   {
    "duration": 50,
    "start_time": "2024-11-12T09:02:31.166Z"
   },
   {
    "duration": 11,
    "start_time": "2024-11-12T09:02:31.218Z"
   },
   {
    "duration": 158,
    "start_time": "2024-11-12T09:02:31.231Z"
   },
   {
    "duration": 6654,
    "start_time": "2024-11-12T09:02:31.391Z"
   },
   {
    "duration": 7,
    "start_time": "2024-11-12T09:02:38.047Z"
   },
   {
    "duration": 93,
    "start_time": "2024-11-12T09:02:38.055Z"
   },
   {
    "duration": 1090,
    "start_time": "2024-11-12T09:02:38.149Z"
   },
   {
    "duration": 1274,
    "start_time": "2024-11-12T09:02:39.241Z"
   },
   {
    "duration": 68997,
    "start_time": "2024-11-12T09:02:40.517Z"
   },
   {
    "duration": 127,
    "start_time": "2024-11-12T09:03:49.519Z"
   },
   {
    "duration": 21891,
    "start_time": "2024-11-12T09:03:49.647Z"
   },
   {
    "duration": 4,
    "start_time": "2024-11-12T09:04:11.539Z"
   },
   {
    "duration": 257903,
    "start_time": "2024-11-12T09:04:11.544Z"
   },
   {
    "duration": 2552,
    "start_time": "2024-11-12T09:08:29.448Z"
   },
   {
    "duration": 147,
    "start_time": "2024-11-12T09:08:32.003Z"
   },
   {
    "duration": 2,
    "start_time": "2024-11-12T09:08:32.152Z"
   },
   {
    "duration": 22,
    "start_time": "2024-11-12T09:08:32.156Z"
   },
   {
    "duration": 94328,
    "start_time": "2024-11-12T09:08:32.180Z"
   },
   {
    "duration": 12803,
    "start_time": "2024-11-12T09:10:06.510Z"
   },
   {
    "duration": 199,
    "start_time": "2024-11-12T09:10:19.317Z"
   },
   {
    "duration": 14099,
    "start_time": "2024-11-12T09:10:19.517Z"
   },
   {
    "duration": 68711,
    "start_time": "2024-11-12T09:10:33.710Z"
   },
   {
    "duration": 3896,
    "start_time": "2024-11-12T09:11:42.422Z"
   },
   {
    "duration": 87,
    "start_time": "2024-11-12T09:11:46.321Z"
   },
   {
    "duration": 254384,
    "start_time": "2024-11-12T09:12:24.784Z"
   },
   {
    "duration": 1316,
    "start_time": "2024-11-12T09:18:41.727Z"
   },
   {
    "duration": 922,
    "start_time": "2024-11-12T09:18:43.045Z"
   },
   {
    "duration": 96,
    "start_time": "2024-11-12T09:18:43.968Z"
   },
   {
    "duration": 43,
    "start_time": "2024-11-12T09:18:44.065Z"
   },
   {
    "duration": 100,
    "start_time": "2024-11-12T09:18:44.110Z"
   },
   {
    "duration": 25,
    "start_time": "2024-11-12T09:18:44.212Z"
   },
   {
    "duration": 12,
    "start_time": "2024-11-12T09:18:44.239Z"
   },
   {
    "duration": 75,
    "start_time": "2024-11-12T09:18:44.252Z"
   },
   {
    "duration": 134,
    "start_time": "2024-11-12T09:18:44.328Z"
   },
   {
    "duration": 134,
    "start_time": "2024-11-12T09:18:44.463Z"
   },
   {
    "duration": 271,
    "start_time": "2024-11-12T09:18:44.599Z"
   },
   {
    "duration": 122,
    "start_time": "2024-11-12T09:18:44.871Z"
   },
   {
    "duration": 41,
    "start_time": "2024-11-12T09:18:44.995Z"
   },
   {
    "duration": 58,
    "start_time": "2024-11-12T09:18:45.038Z"
   },
   {
    "duration": 9,
    "start_time": "2024-11-12T09:18:45.098Z"
   },
   {
    "duration": 1663,
    "start_time": "2024-11-12T09:18:45.108Z"
   },
   {
    "duration": 23,
    "start_time": "2024-11-12T09:18:46.772Z"
   },
   {
    "duration": 73,
    "start_time": "2024-11-12T09:18:46.797Z"
   },
   {
    "duration": 49,
    "start_time": "2024-11-12T09:18:46.872Z"
   },
   {
    "duration": 49,
    "start_time": "2024-11-12T09:18:46.923Z"
   },
   {
    "duration": 10,
    "start_time": "2024-11-12T09:18:46.973Z"
   },
   {
    "duration": 128,
    "start_time": "2024-11-12T09:18:46.985Z"
   },
   {
    "duration": 5994,
    "start_time": "2024-11-12T09:18:47.115Z"
   },
   {
    "duration": 7,
    "start_time": "2024-11-12T09:18:53.111Z"
   },
   {
    "duration": 41,
    "start_time": "2024-11-12T09:18:53.120Z"
   },
   {
    "duration": 1065,
    "start_time": "2024-11-12T09:18:53.162Z"
   },
   {
    "duration": 1254,
    "start_time": "2024-11-12T09:18:54.228Z"
   },
   {
    "duration": 67734,
    "start_time": "2024-11-12T09:18:55.483Z"
   },
   {
    "duration": 122,
    "start_time": "2024-11-12T09:20:03.306Z"
   },
   {
    "duration": 21073,
    "start_time": "2024-11-12T09:20:03.429Z"
   },
   {
    "duration": 4,
    "start_time": "2024-11-12T09:20:24.507Z"
   },
   {
    "duration": 258698,
    "start_time": "2024-11-12T09:20:24.513Z"
   },
   {
    "duration": 2635,
    "start_time": "2024-11-12T09:24:43.213Z"
   },
   {
    "duration": 145,
    "start_time": "2024-11-12T09:24:45.850Z"
   },
   {
    "duration": 2,
    "start_time": "2024-11-12T09:24:45.997Z"
   },
   {
    "duration": 3,
    "start_time": "2024-11-12T09:24:46.006Z"
   },
   {
    "duration": 96710,
    "start_time": "2024-11-12T09:24:46.010Z"
   },
   {
    "duration": 12792,
    "start_time": "2024-11-12T09:26:22.723Z"
   },
   {
    "duration": 291,
    "start_time": "2024-11-12T09:26:35.517Z"
   },
   {
    "duration": 13607,
    "start_time": "2024-11-12T09:26:35.809Z"
   },
   {
    "duration": 74819,
    "start_time": "2024-11-12T09:26:49.510Z"
   },
   {
    "duration": 3894,
    "start_time": "2024-11-12T09:28:04.331Z"
   },
   {
    "duration": 1781,
    "start_time": "2024-11-12T13:38:09.733Z"
   },
   {
    "duration": 3171,
    "start_time": "2024-11-12T13:38:11.516Z"
   },
   {
    "duration": 134,
    "start_time": "2024-11-12T13:38:14.688Z"
   },
   {
    "duration": 59,
    "start_time": "2024-11-12T13:38:14.823Z"
   },
   {
    "duration": 37,
    "start_time": "2024-11-12T13:38:14.884Z"
   },
   {
    "duration": 45,
    "start_time": "2024-11-12T13:38:14.923Z"
   },
   {
    "duration": 11,
    "start_time": "2024-11-12T13:38:14.970Z"
   },
   {
    "duration": 108,
    "start_time": "2024-11-12T13:38:14.983Z"
   },
   {
    "duration": 160,
    "start_time": "2024-11-12T13:38:15.092Z"
   },
   {
    "duration": 182,
    "start_time": "2024-11-12T13:38:15.254Z"
   },
   {
    "duration": 383,
    "start_time": "2024-11-12T13:38:15.438Z"
   },
   {
    "duration": 165,
    "start_time": "2024-11-12T13:38:15.822Z"
   },
   {
    "duration": 44,
    "start_time": "2024-11-12T13:38:15.988Z"
   },
   {
    "duration": 95,
    "start_time": "2024-11-12T13:38:16.037Z"
   },
   {
    "duration": 4,
    "start_time": "2024-11-12T13:38:16.133Z"
   },
   {
    "duration": 2061,
    "start_time": "2024-11-12T13:38:16.139Z"
   },
   {
    "duration": 32,
    "start_time": "2024-11-12T13:38:18.202Z"
   },
   {
    "duration": 7,
    "start_time": "2024-11-12T13:38:18.236Z"
   },
   {
    "duration": 27,
    "start_time": "2024-11-12T13:38:18.268Z"
   },
   {
    "duration": 24,
    "start_time": "2024-11-12T13:38:18.297Z"
   },
   {
    "duration": 13,
    "start_time": "2024-11-12T13:38:18.323Z"
   },
   {
    "duration": 148,
    "start_time": "2024-11-12T13:38:18.365Z"
   },
   {
    "duration": 7979,
    "start_time": "2024-11-12T13:38:18.515Z"
   },
   {
    "duration": 8,
    "start_time": "2024-11-12T13:38:26.496Z"
   },
   {
    "duration": 40,
    "start_time": "2024-11-12T13:38:26.506Z"
   },
   {
    "duration": 1394,
    "start_time": "2024-11-12T13:38:26.548Z"
   },
   {
    "duration": 1457,
    "start_time": "2024-11-12T13:38:27.944Z"
   },
   {
    "duration": 79472,
    "start_time": "2024-11-12T13:38:29.403Z"
   },
   {
    "duration": 56,
    "start_time": "2024-11-12T13:39:48.967Z"
   },
   {
    "duration": 24058,
    "start_time": "2024-11-12T13:39:49.066Z"
   },
   {
    "duration": 4,
    "start_time": "2024-11-12T13:40:13.125Z"
   },
   {
    "duration": 1527,
    "start_time": "2024-11-12T13:47:29.183Z"
   },
   {
    "duration": 1119,
    "start_time": "2024-11-12T13:47:30.713Z"
   },
   {
    "duration": 169,
    "start_time": "2024-11-12T13:47:31.834Z"
   },
   {
    "duration": 60,
    "start_time": "2024-11-12T13:47:32.005Z"
   },
   {
    "duration": 30,
    "start_time": "2024-11-12T13:47:32.068Z"
   },
   {
    "duration": 30,
    "start_time": "2024-11-12T13:47:32.100Z"
   },
   {
    "duration": 11,
    "start_time": "2024-11-12T13:47:32.132Z"
   },
   {
    "duration": 103,
    "start_time": "2024-11-12T13:47:32.165Z"
   },
   {
    "duration": 138,
    "start_time": "2024-11-12T13:47:32.270Z"
   },
   {
    "duration": 173,
    "start_time": "2024-11-12T13:47:32.410Z"
   },
   {
    "duration": 337,
    "start_time": "2024-11-12T13:47:32.584Z"
   },
   {
    "duration": 165,
    "start_time": "2024-11-12T13:47:32.923Z"
   },
   {
    "duration": 45,
    "start_time": "2024-11-12T13:47:33.090Z"
   },
   {
    "duration": 91,
    "start_time": "2024-11-12T13:47:33.139Z"
   },
   {
    "duration": 4,
    "start_time": "2024-11-12T13:47:33.232Z"
   },
   {
    "duration": 1961,
    "start_time": "2024-11-12T13:47:33.238Z"
   },
   {
    "duration": 26,
    "start_time": "2024-11-12T13:47:35.201Z"
   },
   {
    "duration": 17,
    "start_time": "2024-11-12T13:47:35.229Z"
   },
   {
    "duration": 33,
    "start_time": "2024-11-12T13:47:35.248Z"
   },
   {
    "duration": 22,
    "start_time": "2024-11-12T13:47:35.283Z"
   },
   {
    "duration": 32,
    "start_time": "2024-11-12T13:47:35.307Z"
   },
   {
    "duration": 158,
    "start_time": "2024-11-12T13:47:35.341Z"
   },
   {
    "duration": 6807,
    "start_time": "2024-11-12T13:47:35.501Z"
   },
   {
    "duration": 8,
    "start_time": "2024-11-12T13:47:42.310Z"
   },
   {
    "duration": 40,
    "start_time": "2024-11-12T13:47:42.320Z"
   },
   {
    "duration": 1342,
    "start_time": "2024-11-12T13:47:42.364Z"
   },
   {
    "duration": 1461,
    "start_time": "2024-11-12T13:47:43.707Z"
   },
   {
    "duration": 85598,
    "start_time": "2024-11-12T13:47:45.170Z"
   },
   {
    "duration": 141,
    "start_time": "2024-11-12T13:49:10.771Z"
   },
   {
    "duration": 23889,
    "start_time": "2024-11-12T13:49:10.914Z"
   },
   {
    "duration": 3,
    "start_time": "2024-11-12T13:49:34.805Z"
   },
   {
    "duration": 268719,
    "start_time": "2024-11-12T13:49:34.810Z"
   },
   {
    "duration": 3072,
    "start_time": "2024-11-12T13:54:03.530Z"
   },
   {
    "duration": 383,
    "start_time": "2024-11-12T13:54:06.604Z"
   },
   {
    "duration": 2,
    "start_time": "2024-11-12T13:54:06.989Z"
   },
   {
    "duration": 8,
    "start_time": "2024-11-12T13:54:06.993Z"
   },
   {
    "duration": 102974,
    "start_time": "2024-11-12T13:54:07.003Z"
   },
   {
    "duration": 0,
    "start_time": "2024-11-12T13:55:49.979Z"
   },
   {
    "duration": 0,
    "start_time": "2024-11-12T13:55:49.981Z"
   },
   {
    "duration": 0,
    "start_time": "2024-11-12T13:55:49.982Z"
   },
   {
    "duration": 0,
    "start_time": "2024-11-12T13:55:49.984Z"
   },
   {
    "duration": 117932,
    "start_time": "2024-11-12T14:03:50.159Z"
   },
   {
    "duration": 107298,
    "start_time": "2024-11-12T14:08:44.680Z"
   },
   {
    "duration": 108573,
    "start_time": "2024-11-12T14:11:41.605Z"
   },
   {
    "duration": 107221,
    "start_time": "2024-11-12T14:14:15.364Z"
   },
   {
    "duration": 82,
    "start_time": "2024-11-12T14:18:48.563Z"
   },
   {
    "duration": 84094,
    "start_time": "2024-11-12T14:19:02.792Z"
   },
   {
    "duration": 5377,
    "start_time": "2024-11-12T14:20:26.888Z"
   }
  ],
  "kernelspec": {
   "display_name": "Python 3 (ipykernel)",
   "language": "python",
   "name": "python3"
  },
  "language_info": {
   "codemirror_mode": {
    "name": "ipython",
    "version": 3
   },
   "file_extension": ".py",
   "mimetype": "text/x-python",
   "name": "python",
   "nbconvert_exporter": "python",
   "pygments_lexer": "ipython3",
   "version": "3.9.5"
  },
  "toc": {
   "base_numbering": 1,
   "nav_menu": {},
   "number_sections": true,
   "sideBar": true,
   "skip_h1_title": true,
   "title_cell": "Содержание",
   "title_sidebar": "Содержание",
   "toc_cell": true,
   "toc_position": {
    "height": "calc(100% - 180px)",
    "left": "10px",
    "top": "150px",
    "width": "288px"
   },
   "toc_section_display": true,
   "toc_window_display": true
  }
 },
 "nbformat": 4,
 "nbformat_minor": 2
}
